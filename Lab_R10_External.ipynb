{
  "nbformat": 4,
  "nbformat_minor": 0,
  "metadata": {
    "kernelspec": {
      "display_name": "Python 3",
      "language": "python",
      "name": "python3"
    },
    "language_info": {
      "codemirror_mode": {
        "name": "ipython",
        "version": 3
      },
      "file_extension": ".py",
      "mimetype": "text/x-python",
      "name": "python",
      "nbconvert_exporter": "python",
      "pygments_lexer": "ipython3",
      "version": "3.6.9"
    },
    "colab": {
      "name": "R10-Lab-siamese-nn-Recognize icebergs and ships-Questions_Abdul.ipynb",
      "provenance": []
    }
  },
  "cells": [
    {
      "cell_type": "markdown",
      "metadata": {
        "_cell_guid": "608e43e3-8699-4299-9d18-9e9a6a3dd9bf",
        "_uuid": "434ffd54c774edd4e8b851ab0a4b6675425e46da",
        "id": "klZPlsjeXkAy",
        "colab_type": "text"
      },
      "source": [
        "# Siamese Neural Networks\n",
        "Recognize images of icebergs from images of ships. \n",
        "These images were taken from space with a Sentinel-4 satellite. The goal was to create the most accurate neural network to differentiate them. However, neural networks usually only work well with A LOT of data, and I constrained you guys to 1000 examples to train on. That seems like a lot, but a CONVENTIONAL neural network needs more data. However, we are going to make a special kind of neural network: *Siamese Network*. This special network is used for face recognition and few-shot learning(learning from few examples). Let's get started by importing the usual liraries:"
      ]
    },
    {
      "cell_type": "markdown",
      "metadata": {
        "_cell_guid": "b1076dfc-b9ad-4769-8c92-a6c4dae69d19",
        "_uuid": "8f2839f25d086af736a60e9eeb907d3b93b6e0e5",
        "id": "SiKEOexlXkA5",
        "colab_type": "text"
      },
      "source": [
        "# from keras.layers import Input, Conv2D, Lambda, merge, Dense, Flatten,MaxPooling2D,Activation, Dropout\n",
        "from keras.models import Model, Sequential\n",
        "from keras.regularizers import l2\n",
        "from keras import backend as K\n",
        "from keras.optimizers import Adam\n",
        "from skimage.io import imshow\n",
        "import matplotlib.pyplot as plt\n",
        "import numpy as np\n",
        "import pandas as pd\n",
        "import random"
      ]
    },
    {
      "cell_type": "code",
      "metadata": {
        "id": "mRysXSKaXkA7",
        "colab_type": "code",
        "colab": {}
      },
      "source": [
        "from keras.layers import Input, Conv2D, Lambda, merge, Dense, Flatten,MaxPooling2D,Activation, Dropout\n",
        "from keras.models import Model, Sequential\n",
        "from keras.regularizers import l2\n",
        "from keras import backend as K\n",
        "from keras.optimizers import Adam\n",
        "from skimage.io import imshow\n",
        "import matplotlib.pyplot as plt\n",
        "import numpy as np\n",
        "import pandas as pd\n",
        "import random"
      ],
      "execution_count": 0,
      "outputs": []
    },
    {
      "cell_type": "code",
      "metadata": {
        "id": "hOPd3VaPX3-H",
        "colab_type": "code",
        "colab": {
          "base_uri": "https://localhost:8080/",
          "height": 34
        },
        "outputId": "1423f896-d685-47f3-f0b4-c9423d53bd2c"
      },
      "source": [
        "from google.colab import drive\n",
        "drive.mount('/gdrive')"
      ],
      "execution_count": 21,
      "outputs": [
        {
          "output_type": "stream",
          "text": [
            "Drive already mounted at /gdrive; to attempt to forcibly remount, call drive.mount(\"/gdrive\", force_remount=True).\n"
          ],
          "name": "stdout"
        }
      ]
    },
    {
      "cell_type": "markdown",
      "metadata": {
        "_cell_guid": "adbffb0a-1784-4595-b3f2-2ea930abc31f",
        "_uuid": "b9200b733a896e4b6f261122fe9134c00955cc91",
        "id": "G2T3jmU_XkBG",
        "colab_type": "text"
      },
      "source": [
        "## Load the Data\n"
      ]
    },
    {
      "cell_type": "code",
      "metadata": {
        "id": "8FbgRV7kXkBI",
        "colab_type": "code",
        "colab": {
          "base_uri": "https://localhost:8080/",
          "height": 34
        },
        "outputId": "7981d245-c445-481d-b3da-582b743dce28"
      },
      "source": [
        "import os\n",
        "os.chdir(\"/gdrive/My Drive/AIML/10thResidency/Externallab\")\n",
        "!pwd"
      ],
      "execution_count": 22,
      "outputs": [
        {
          "output_type": "stream",
          "text": [
            "/gdrive/My Drive/AIML/10thResidency/Externallab\n"
          ],
          "name": "stdout"
        }
      ]
    },
    {
      "cell_type": "code",
      "metadata": {
        "_cell_guid": "79c7e3d0-c299-4dcb-8224-4455121ee9b0",
        "_uuid": "d629ff2d2480ee46fbb7e2d37f6b5fab8052498a",
        "id": "PwEDX1B-XkBP",
        "colab_type": "code",
        "colab": {
          "base_uri": "https://localhost:8080/",
          "height": 34
        },
        "outputId": "14323fae-17a3-44dc-bd98-644f44776e8d"
      },
      "source": [
        "npz = np.load('input_data.npz')\n",
        "X_train = npz['X_train']\n",
        "Y_train = npz['Y_train']\n",
        "del npz\n",
        "print ('We have {} examples to work with'.format(Y_train.shape[0]-1000))"
      ],
      "execution_count": 23,
      "outputs": [
        {
          "output_type": "stream",
          "text": [
            "We have 3113 examples to work with\n"
          ],
          "name": "stdout"
        }
      ]
    },
    {
      "cell_type": "markdown",
      "metadata": {
        "_cell_guid": "ed28bc84-1a8a-472f-98ae-9553fe6d1097",
        "_uuid": "b2e2306b8b16ae7f4f9b63249d1f2ff6e29559d3",
        "id": "ebY7JwROXkBV",
        "colab_type": "text"
      },
      "source": [
        "## Check the data\n",
        "\n",
        "Load some of the images to observe how your data look like."
      ]
    },
    {
      "cell_type": "code",
      "metadata": {
        "id": "tTo3EQ24XkBX",
        "colab_type": "code",
        "colab": {
          "base_uri": "https://localhost:8080/",
          "height": 314
        },
        "outputId": "2378cdc3-5d55-4fbc-9b3b-45a1d7303402"
      },
      "source": [
        "ix = 100 #0-4112\n",
        "imshow(np.squeeze(X_train[ix,:,:,2]))#Looking at the combined channel\n",
        "plt.show()\n",
        "labels = ['Ship','Iceberg']  #0 is no iceberg(ship) and 1 is iceberg\n",
        "print ('This is:',labels[int(Y_train[ix])])"
      ],
      "execution_count": 24,
      "outputs": [
        {
          "output_type": "display_data",
          "data": {
            "image/png": "[encoded data removed]",
            "text/plain": [
              "<Figure size 432x288 with 2 Axes>"
            ]
          },
          "metadata": {
            "tags": []
          }
        },
        {
          "output_type": "stream",
          "text": [
            "This is: Ship\n"
          ],
          "name": "stdout"
        }
      ]
    },
    {
      "cell_type": "markdown",
      "metadata": {
        "id": "QwHkOwtMXkBe",
        "colab_type": "text"
      },
      "source": [
        "# Creating the structure of Siamese Network"
      ]
    },
    {
      "cell_type": "markdown",
      "metadata": {
        "id": "UJKfPaz9XkBg",
        "colab_type": "raw"
      },
      "source": [
        "You just need to break it into some steps:\n",
        "1. 2 Inputs for each images\n",
        "2. Creating a network which both images will go through individually\n",
        "3. Couple the network to each input\n",
        "4. Calculate the L1 distance between them. Just (x1,y1)-(x2,y2)\n",
        "5. 1 Added layer that will say 1 if they are the same and 0 if they are different"
      ]
    },
    {
      "cell_type": "markdown",
      "metadata": {
        "id": "rx7EJ8K_XkBi",
        "colab_type": "text"
      },
      "source": [
        "# Create two Inputs for each image - left_input and right_input\n",
        "Hint - use Input Function in Keras and keep the shape to be 75,75,3"
      ]
    },
    {
      "cell_type": "code",
      "metadata": {
        "id": "sHoWf2VLXkBj",
        "colab_type": "code",
        "colab": {}
      },
      "source": [
        "# We have 2 inputs, 1 for each picture\n",
        "left_input = Input((75,75,3))\n",
        "right_input = Input((75,75,3))"
      ],
      "execution_count": 0,
      "outputs": []
    },
    {
      "cell_type": "markdown",
      "metadata": {
        "id": "ArB6zLrgXkBp",
        "colab_type": "text"
      },
      "source": [
        "# Create a base Network in which both images will go through individually.\n",
        "\n",
        "Hint - Use Sequential Model in Keras with convolution layers, Maxpooling Layers, Flatten Layer and Denser Layer with appropriate activation functions.\n",
        "Name the network as base_network"
      ]
    },
    {
      "cell_type": "code",
      "metadata": {
        "id": "cNBGt9AvXkBr",
        "colab_type": "code",
        "colab": {}
      },
      "source": [
        "# We will use 2 instances of 1 network for this task\n",
        "base_network = Sequential([\n",
        "    Conv2D(5,3, input_shape=(75,75,3)),\n",
        "    Activation('relu'),\n",
        "    MaxPooling2D(),\n",
        "    Conv2D(5,3),\n",
        "    Activation('relu'),\n",
        "    MaxPooling2D(),\n",
        "    Conv2D(7,2),\n",
        "    Activation('relu'),\n",
        "    MaxPooling2D(),\n",
        "    Conv2D(7,2),\n",
        "    Activation('relu'),\n",
        "    Flatten(),\n",
        "    Dense(18),\n",
        "    Activation('sigmoid')\n",
        "])"
      ],
      "execution_count": 0,
      "outputs": []
    },
    {
      "cell_type": "code",
      "metadata": {
        "id": "T2PGi9U1XkBx",
        "colab_type": "code",
        "colab": {}
      },
      "source": [
        ""
      ],
      "execution_count": 0,
      "outputs": []
    },
    {
      "cell_type": "markdown",
      "metadata": {
        "id": "z_twJ2k2XkB3",
        "colab_type": "text"
      },
      "source": [
        "# Process the left and right inputs to the same Base Network(base_network)"
      ]
    },
    {
      "cell_type": "code",
      "metadata": {
        "id": "up4uy_VyXkB4",
        "colab_type": "code",
        "colab": {}
      },
      "source": [
        "# Connect both left and right input to the same network\n",
        "# Remember, they have the same weights\n",
        "processed_a = base_network(left_input)\n",
        "processed_b = base_network(right_input)"
      ],
      "execution_count": 0,
      "outputs": []
    },
    {
      "cell_type": "code",
      "metadata": {
        "id": "f15L74M2XkB-",
        "colab_type": "code",
        "colab": {}
      },
      "source": [
        ""
      ],
      "execution_count": 0,
      "outputs": []
    },
    {
      "cell_type": "markdown",
      "metadata": {
        "id": "yUX-BrHUXkCD",
        "colab_type": "text"
      },
      "source": [
        "# Get the L1 Distance layer between the 2 processed encodings (processed_a and processed_b)\n",
        "Hint - You can use Lambda function for this."
      ]
    },
    {
      "cell_type": "code",
      "metadata": {
        "id": "5B09OJqdXkCF",
        "colab_type": "code",
        "colab": {}
      },
      "source": [
        "# Getting the L1 Distance between the 2 encodings\n",
        "L1_layer = Lambda(lambda tensor:K.abs(tensor[0] - tensor[1]))\n",
        "\n",
        "\n",
        "# Add the distance function to the network\n",
        "L1_distance = L1_layer([processed_a, processed_b])"
      ],
      "execution_count": 0,
      "outputs": []
    },
    {
      "cell_type": "code",
      "metadata": {
        "id": "EN3ANyCQXkCL",
        "colab_type": "code",
        "colab": {}
      },
      "source": [
        ""
      ],
      "execution_count": 0,
      "outputs": []
    },
    {
      "cell_type": "markdown",
      "metadata": {
        "id": "O7qw7B1vXkCQ",
        "colab_type": "text"
      },
      "source": [
        "# Add the prediction layer in the end and create the Siamese Network using Model function."
      ]
    },
    {
      "cell_type": "code",
      "metadata": {
        "id": "ST0fB4h6XkCS",
        "colab_type": "code",
        "colab": {}
      },
      "source": [
        "prediction = Dense(1,activation='sigmoid')(L1_distance)\n",
        "siamese_net = Model(inputs=[left_input,right_input],outputs=prediction)"
      ],
      "execution_count": 0,
      "outputs": []
    },
    {
      "cell_type": "markdown",
      "metadata": {
        "id": "n2ZBWuFSXkCX",
        "colab_type": "text"
      },
      "source": [
        "# Define the Optimizer Adam and Compile the Siamese Model."
      ]
    },
    {
      "cell_type": "code",
      "metadata": {
        "id": "YKRsIO2mXkCZ",
        "colab_type": "code",
        "colab": {}
      },
      "source": [
        "optimizer = Adam(0.001, decay=2.5e-4)\n",
        "\n",
        "siamese_net.compile(loss=\"binary_crossentropy\",optimizer=optimizer,metrics=['accuracy'])"
      ],
      "execution_count": 0,
      "outputs": []
    },
    {
      "cell_type": "markdown",
      "metadata": {
        "_cell_guid": "dbba8e74-6b9c-4c84-96ed-55137265280b",
        "_uuid": "28e3843cae1a192bb14eb04cc1fe1705ef69f405",
        "id": "l4PtwjIxXkCf",
        "colab_type": "text"
      },
      "source": [
        "# Show the Summary of your Siamese Network"
      ]
    },
    {
      "cell_type": "code",
      "metadata": {
        "id": "pjz9Ul-mXkCh",
        "colab_type": "code",
        "colab": {
          "base_uri": "https://localhost:8080/",
          "height": 357
        },
        "outputId": "9dda84c0-0c87-49b9-d98e-742c4a0db5cf"
      },
      "source": [
        "siamese_net.summary()"
      ],
      "execution_count": 31,
      "outputs": [
        {
          "output_type": "stream",
          "text": [
            "Model: \"model_2\"\n",
            "__________________________________________________________________________________________________\n",
            "Layer (type)                    Output Shape         Param #     Connected to                     \n",
            "==================================================================================================\n",
            "input_3 (InputLayer)            (None, 75, 75, 3)    0                                            \n",
            "__________________________________________________________________________________________________\n",
            "input_4 (InputLayer)            (None, 75, 75, 3)    0                                            \n",
            "__________________________________________________________________________________________________\n",
            "sequential_2 (Sequential)       (None, 18)           6912        input_3[0][0]                    \n",
            "                                                                 input_4[0][0]                    \n",
            "__________________________________________________________________________________________________\n",
            "lambda_2 (Lambda)               (None, 18)           0           sequential_2[1][0]               \n",
            "                                                                 sequential_2[2][0]               \n",
            "__________________________________________________________________________________________________\n",
            "dense_4 (Dense)                 (None, 1)            19          lambda_2[0][0]                   \n",
            "==================================================================================================\n",
            "Total params: 6,931\n",
            "Trainable params: 6,931\n",
            "Non-trainable params: 0\n",
            "__________________________________________________________________________________________________\n"
          ],
          "name": "stdout"
        }
      ]
    },
    {
      "cell_type": "markdown",
      "metadata": {
        "id": "GnF6Di5CXkCp",
        "colab_type": "text"
      },
      "source": [
        "# Creating the Pair of Images to train on"
      ]
    },
    {
      "cell_type": "markdown",
      "metadata": {
        "_cell_guid": "7080234f-01f4-4df1-88a7-459746335c50",
        "_uuid": "4553890c8130dc76076252a09290497a4afc27e6",
        "id": "93ieGIiIXkCr",
        "colab_type": "text"
      },
      "source": [
        "It's not time to train though. We still have to create pairs of images to train on. There will be Positive(the same class) or Negative(different classes) for outputs. Let's construct this dataset. It is recommended that there are equal amounts positive and negative."
      ]
    },
    {
      "cell_type": "code",
      "metadata": {
        "_cell_guid": "32cb30db-144d-4f93-af05-6cb9a697c084",
        "_uuid": "09a3e9d488acd34e99912c5f01474029e77637f5",
        "id": "qQaqeK_eXkCt",
        "colab_type": "code",
        "colab": {}
      },
      "source": [
        "# First let's separate the dataset from 1 matrix to a list of matricies\n",
        "image_list = np.split(X_train[:1000],1000)\n",
        "label_list = np.split(Y_train[:1000],1000)\n",
        "\n",
        "left_input = []\n",
        "right_input = []\n",
        "targets = []\n",
        "\n",
        "#Number of pairs per image\n",
        "pairs = 5\n",
        "#Let's create the new dataset to train on\n",
        "for i in range(len(label_list)):\n",
        "    for _ in range(pairs):\n",
        "        compare_to = i\n",
        "        while compare_to == i: #Make sure it's not comparing to itself\n",
        "            compare_to = random.randint(0,999)\n",
        "        left_input.append(image_list[i])\n",
        "        right_input.append(image_list[compare_to])\n",
        "        if label_list[i] == label_list[compare_to]:# They are the same\n",
        "            targets.append(1.)\n",
        "        else:# Not the same\n",
        "            targets.append(0.)\n",
        "            \n",
        "left_input = np.squeeze(np.array(left_input))\n",
        "right_input = np.squeeze(np.array(right_input))\n",
        "targets = np.squeeze(np.array(targets))\n",
        "\n",
        "iceimage = X_train[101]\n",
        "test_left = []\n",
        "test_right = []\n",
        "test_targets = []\n",
        "\n",
        "for i in range(Y_train.shape[0]-1000):\n",
        "    test_left.append(iceimage)\n",
        "    test_right.append(X_train[i+1000])\n",
        "    test_targets.append(Y_train[i+1000])\n",
        "\n",
        "test_left = np.squeeze(np.array(test_left))\n",
        "test_right = np.squeeze(np.array(test_right))\n",
        "test_targets = np.squeeze(np.array(test_targets))"
      ],
      "execution_count": 0,
      "outputs": []
    },
    {
      "cell_type": "markdown",
      "metadata": {
        "id": "o1DlJ3f3XkCz",
        "colab_type": "text"
      },
      "source": [
        "Now we have a lot more examples.\n",
        "Now we have pairs x 1000 examples to train the network on. \n",
        "Each side will have an input of an image and the output will be one if they are the same and zero if not."
      ]
    },
    {
      "cell_type": "markdown",
      "metadata": {
        "id": "-laI97yDXkC2",
        "colab_type": "text"
      },
      "source": [
        "# Train the Siamese train on left and right input image pairs created and validate it by test pairs."
      ]
    },
    {
      "cell_type": "code",
      "metadata": {
        "id": "_c4x18YgXkC4",
        "colab_type": "code",
        "colab": {
          "base_uri": "https://localhost:8080/",
          "height": 391
        },
        "outputId": "07d7b31c-0a27-4d1a-ad48-f11d67f01925"
      },
      "source": [
        "siamese_net.fit([left_input,right_input], targets,\n",
        "          batch_size=16,\n",
        "          epochs=10,\n",
        "          verbose=1,\n",
        "          validation_data=([test_left,test_right],test_targets))"
      ],
      "execution_count": 33,
      "outputs": [
        {
          "output_type": "stream",
          "text": [
            "Train on 5000 samples, validate on 3113 samples\n",
            "Epoch 1/10\n",
            "5000/5000 [==============================] - 35s 7ms/step - loss: 0.6747 - acc: 0.5628 - val_loss: 0.6691 - val_acc: 0.5602\n",
            "Epoch 2/10\n",
            "5000/5000 [==============================] - 34s 7ms/step - loss: 0.5932 - acc: 0.7036 - val_loss: 0.5892 - val_acc: 0.7392\n",
            "Epoch 3/10\n",
            "5000/5000 [==============================] - 34s 7ms/step - loss: 0.5131 - acc: 0.7652 - val_loss: 0.4446 - val_acc: 0.8275\n",
            "Epoch 4/10\n",
            "5000/5000 [==============================] - 34s 7ms/step - loss: 0.4770 - acc: 0.7874 - val_loss: 0.4913 - val_acc: 0.8220\n",
            "Epoch 5/10\n",
            "5000/5000 [==============================] - 35s 7ms/step - loss: 0.4551 - acc: 0.7974 - val_loss: 0.4270 - val_acc: 0.8259\n",
            "Epoch 6/10\n",
            "5000/5000 [==============================] - 35s 7ms/step - loss: 0.4365 - acc: 0.8096 - val_loss: 0.4261 - val_acc: 0.8256\n",
            "Epoch 7/10\n",
            "5000/5000 [==============================] - 35s 7ms/step - loss: 0.4087 - acc: 0.8256 - val_loss: 0.4337 - val_acc: 0.8233\n",
            "Epoch 8/10\n",
            "5000/5000 [==============================] - 35s 7ms/step - loss: 0.3996 - acc: 0.8282 - val_loss: 0.4047 - val_acc: 0.8378\n",
            "Epoch 9/10\n",
            "5000/5000 [==============================] - 35s 7ms/step - loss: 0.3814 - acc: 0.8458 - val_loss: 0.4556 - val_acc: 0.8098\n",
            "Epoch 10/10\n",
            "5000/5000 [==============================] - 35s 7ms/step - loss: 0.3637 - acc: 0.8552 - val_loss: 0.4330 - val_acc: 0.8285\n"
          ],
          "name": "stdout"
        },
        {
          "output_type": "execute_result",
          "data": {
            "text/plain": [
              "<keras.callbacks.History at 0x7f6026064c18>"
            ]
          },
          "metadata": {
            "tags": []
          },
          "execution_count": 33
        }
      ]
    }
  ]
}