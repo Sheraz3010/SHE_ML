{
 "cells": [
  {
   "cell_type": "markdown",
   "metadata": {
    "colab_type": "text",
    "id": "X24H9WnyZcUG"
   },
   "source": [
    "# Featurization Model selection"
   ]
  },
  {
   "cell_type": "code",
   "execution_count": 0,
   "metadata": {
    "colab": {},
    "colab_type": "code",
    "id": "0gSZAJ8byvXn"
   },
   "outputs": [],
   "source": [
    "import pandas as pd\n",
    "import numpy as np\n",
    "import os\n",
    "import seaborn as sns\n",
    "import matplotlib.pyplot as plt\n",
    "\n",
    "from sklearn.utils import resample\n",
    "from sklearn.tree import DecisionTreeClassifier\n",
    "from sklearn.metrics import accuracy_score\n",
    "%matplotlib inline"
   ]
  },
  {
   "cell_type": "code",
   "execution_count": 2,
   "metadata": {
    "colab": {
     "base_uri": "https://localhost:8080/",
     "height": 34
    },
    "colab_type": "code",
    "executionInfo": {
     "elapsed": 2892,
     "status": "ok",
     "timestamp": 1563951356102,
     "user": {
      "displayName": "Abdul Sheraz",
      "photoUrl": "",
      "userId": "02569957655710563099"
     },
     "user_tz": -330
    },
    "id": "9rH5ws1baT74",
    "outputId": "9c57933b-fa61-4b12-9c39-65201ae7bc3e"
   },
   "outputs": [
    {
     "name": "stdout",
     "output_type": "stream",
     "text": [
      "Drive already mounted at /content/drive; to attempt to forcibly remount, call drive.mount(\"/content/drive\", force_remount=True).\n"
     ]
    }
   ],
   "source": [
    "from google.colab import drive\n",
    "drive.mount('/content/drive')\n"
   ]
  },
  {
   "cell_type": "markdown",
   "metadata": {
    "colab_type": "text",
    "id": "gKLxspjsZcUQ"
   },
   "source": [
    "# Q1 Import libraries and read the dataset."
   ]
  },
  {
   "cell_type": "code",
   "execution_count": 3,
   "metadata": {
    "colab": {
     "base_uri": "https://localhost:8080/",
     "height": 379
    },
    "colab_type": "code",
    "executionInfo": {
     "elapsed": 2856,
     "status": "ok",
     "timestamp": 1563951356107,
     "user": {
      "displayName": "Abdul Sheraz",
      "photoUrl": "",
      "userId": "02569957655710563099"
     },
     "user_tz": -330
    },
    "id": "xZgT2bKJy-lV",
    "outputId": "6f0e52fb-2811-474c-ed51-75120b334c7c"
   },
   "outputs": [
    {
     "data": {
      "text/html": [
       "<div>\n",
       "<style scoped>\n",
       "    .dataframe tbody tr th:only-of-type {\n",
       "        vertical-align: middle;\n",
       "    }\n",
       "\n",
       "    .dataframe tbody tr th {\n",
       "        vertical-align: top;\n",
       "    }\n",
       "\n",
       "    .dataframe thead th {\n",
       "        text-align: right;\n",
       "    }\n",
       "</style>\n",
       "<table border=\"1\" class=\"dataframe\">\n",
       "  <thead>\n",
       "    <tr style=\"text-align: right;\">\n",
       "      <th></th>\n",
       "      <th>id</th>\n",
       "      <th>date</th>\n",
       "      <th>price</th>\n",
       "      <th>bedrooms</th>\n",
       "      <th>bathrooms</th>\n",
       "      <th>sqft_living</th>\n",
       "      <th>sqft_lot</th>\n",
       "      <th>floors</th>\n",
       "      <th>waterfront</th>\n",
       "      <th>view</th>\n",
       "      <th>condition</th>\n",
       "      <th>grade</th>\n",
       "      <th>sqft_above</th>\n",
       "      <th>sqft_basement</th>\n",
       "      <th>yr_built</th>\n",
       "      <th>yr_renovated</th>\n",
       "      <th>zipcode</th>\n",
       "      <th>lat</th>\n",
       "      <th>long</th>\n",
       "      <th>sqft_living15</th>\n",
       "      <th>sqft_lot15</th>\n",
       "    </tr>\n",
       "  </thead>\n",
       "  <tbody>\n",
       "    <tr>\n",
       "      <th>0</th>\n",
       "      <td>7129300520</td>\n",
       "      <td>20141013T000000</td>\n",
       "      <td>221900.0</td>\n",
       "      <td>3</td>\n",
       "      <td>1.00</td>\n",
       "      <td>1180</td>\n",
       "      <td>5650</td>\n",
       "      <td>1.0</td>\n",
       "      <td>0</td>\n",
       "      <td>0</td>\n",
       "      <td>3</td>\n",
       "      <td>7</td>\n",
       "      <td>1180</td>\n",
       "      <td>0</td>\n",
       "      <td>1955</td>\n",
       "      <td>0</td>\n",
       "      <td>98178</td>\n",
       "      <td>47.5112</td>\n",
       "      <td>-122.257</td>\n",
       "      <td>1340</td>\n",
       "      <td>5650</td>\n",
       "    </tr>\n",
       "    <tr>\n",
       "      <th>1</th>\n",
       "      <td>6414100192</td>\n",
       "      <td>20141209T000000</td>\n",
       "      <td>538000.0</td>\n",
       "      <td>3</td>\n",
       "      <td>2.25</td>\n",
       "      <td>2570</td>\n",
       "      <td>7242</td>\n",
       "      <td>2.0</td>\n",
       "      <td>0</td>\n",
       "      <td>0</td>\n",
       "      <td>3</td>\n",
       "      <td>7</td>\n",
       "      <td>2170</td>\n",
       "      <td>400</td>\n",
       "      <td>1951</td>\n",
       "      <td>1991</td>\n",
       "      <td>98125</td>\n",
       "      <td>47.7210</td>\n",
       "      <td>-122.319</td>\n",
       "      <td>1690</td>\n",
       "      <td>7639</td>\n",
       "    </tr>\n",
       "    <tr>\n",
       "      <th>2</th>\n",
       "      <td>5631500400</td>\n",
       "      <td>20150225T000000</td>\n",
       "      <td>180000.0</td>\n",
       "      <td>2</td>\n",
       "      <td>1.00</td>\n",
       "      <td>770</td>\n",
       "      <td>10000</td>\n",
       "      <td>1.0</td>\n",
       "      <td>0</td>\n",
       "      <td>0</td>\n",
       "      <td>3</td>\n",
       "      <td>6</td>\n",
       "      <td>770</td>\n",
       "      <td>0</td>\n",
       "      <td>1933</td>\n",
       "      <td>0</td>\n",
       "      <td>98028</td>\n",
       "      <td>47.7379</td>\n",
       "      <td>-122.233</td>\n",
       "      <td>2720</td>\n",
       "      <td>8062</td>\n",
       "    </tr>\n",
       "    <tr>\n",
       "      <th>3</th>\n",
       "      <td>2487200875</td>\n",
       "      <td>20141209T000000</td>\n",
       "      <td>604000.0</td>\n",
       "      <td>4</td>\n",
       "      <td>3.00</td>\n",
       "      <td>1960</td>\n",
       "      <td>5000</td>\n",
       "      <td>1.0</td>\n",
       "      <td>0</td>\n",
       "      <td>0</td>\n",
       "      <td>5</td>\n",
       "      <td>7</td>\n",
       "      <td>1050</td>\n",
       "      <td>910</td>\n",
       "      <td>1965</td>\n",
       "      <td>0</td>\n",
       "      <td>98136</td>\n",
       "      <td>47.5208</td>\n",
       "      <td>-122.393</td>\n",
       "      <td>1360</td>\n",
       "      <td>5000</td>\n",
       "    </tr>\n",
       "    <tr>\n",
       "      <th>4</th>\n",
       "      <td>1954400510</td>\n",
       "      <td>20150218T000000</td>\n",
       "      <td>510000.0</td>\n",
       "      <td>3</td>\n",
       "      <td>2.00</td>\n",
       "      <td>1680</td>\n",
       "      <td>8080</td>\n",
       "      <td>1.0</td>\n",
       "      <td>0</td>\n",
       "      <td>0</td>\n",
       "      <td>3</td>\n",
       "      <td>8</td>\n",
       "      <td>1680</td>\n",
       "      <td>0</td>\n",
       "      <td>1987</td>\n",
       "      <td>0</td>\n",
       "      <td>98074</td>\n",
       "      <td>47.6168</td>\n",
       "      <td>-122.045</td>\n",
       "      <td>1800</td>\n",
       "      <td>7503</td>\n",
       "    </tr>\n",
       "    <tr>\n",
       "      <th>5</th>\n",
       "      <td>7237550310</td>\n",
       "      <td>20140512T000000</td>\n",
       "      <td>1230000.0</td>\n",
       "      <td>4</td>\n",
       "      <td>4.50</td>\n",
       "      <td>5420</td>\n",
       "      <td>101930</td>\n",
       "      <td>1.0</td>\n",
       "      <td>0</td>\n",
       "      <td>0</td>\n",
       "      <td>3</td>\n",
       "      <td>11</td>\n",
       "      <td>3890</td>\n",
       "      <td>1530</td>\n",
       "      <td>2001</td>\n",
       "      <td>0</td>\n",
       "      <td>98053</td>\n",
       "      <td>47.6561</td>\n",
       "      <td>-122.005</td>\n",
       "      <td>4760</td>\n",
       "      <td>101930</td>\n",
       "    </tr>\n",
       "    <tr>\n",
       "      <th>6</th>\n",
       "      <td>1321400060</td>\n",
       "      <td>20140627T000000</td>\n",
       "      <td>257500.0</td>\n",
       "      <td>3</td>\n",
       "      <td>2.25</td>\n",
       "      <td>1715</td>\n",
       "      <td>6819</td>\n",
       "      <td>2.0</td>\n",
       "      <td>0</td>\n",
       "      <td>0</td>\n",
       "      <td>3</td>\n",
       "      <td>7</td>\n",
       "      <td>1715</td>\n",
       "      <td>0</td>\n",
       "      <td>1995</td>\n",
       "      <td>0</td>\n",
       "      <td>98003</td>\n",
       "      <td>47.3097</td>\n",
       "      <td>-122.327</td>\n",
       "      <td>2238</td>\n",
       "      <td>6819</td>\n",
       "    </tr>\n",
       "    <tr>\n",
       "      <th>7</th>\n",
       "      <td>2008000270</td>\n",
       "      <td>20150115T000000</td>\n",
       "      <td>291850.0</td>\n",
       "      <td>3</td>\n",
       "      <td>1.50</td>\n",
       "      <td>1060</td>\n",
       "      <td>9711</td>\n",
       "      <td>1.0</td>\n",
       "      <td>0</td>\n",
       "      <td>0</td>\n",
       "      <td>3</td>\n",
       "      <td>7</td>\n",
       "      <td>1060</td>\n",
       "      <td>0</td>\n",
       "      <td>1963</td>\n",
       "      <td>0</td>\n",
       "      <td>98198</td>\n",
       "      <td>47.4095</td>\n",
       "      <td>-122.315</td>\n",
       "      <td>1650</td>\n",
       "      <td>9711</td>\n",
       "    </tr>\n",
       "    <tr>\n",
       "      <th>8</th>\n",
       "      <td>2414600126</td>\n",
       "      <td>20150415T000000</td>\n",
       "      <td>229500.0</td>\n",
       "      <td>3</td>\n",
       "      <td>1.00</td>\n",
       "      <td>1780</td>\n",
       "      <td>7470</td>\n",
       "      <td>1.0</td>\n",
       "      <td>0</td>\n",
       "      <td>0</td>\n",
       "      <td>3</td>\n",
       "      <td>7</td>\n",
       "      <td>1050</td>\n",
       "      <td>730</td>\n",
       "      <td>1960</td>\n",
       "      <td>0</td>\n",
       "      <td>98146</td>\n",
       "      <td>47.5123</td>\n",
       "      <td>-122.337</td>\n",
       "      <td>1780</td>\n",
       "      <td>8113</td>\n",
       "    </tr>\n",
       "    <tr>\n",
       "      <th>9</th>\n",
       "      <td>3793500160</td>\n",
       "      <td>20150312T000000</td>\n",
       "      <td>323000.0</td>\n",
       "      <td>3</td>\n",
       "      <td>2.50</td>\n",
       "      <td>1890</td>\n",
       "      <td>6560</td>\n",
       "      <td>2.0</td>\n",
       "      <td>0</td>\n",
       "      <td>0</td>\n",
       "      <td>3</td>\n",
       "      <td>7</td>\n",
       "      <td>1890</td>\n",
       "      <td>0</td>\n",
       "      <td>2003</td>\n",
       "      <td>0</td>\n",
       "      <td>98038</td>\n",
       "      <td>47.3684</td>\n",
       "      <td>-122.031</td>\n",
       "      <td>2390</td>\n",
       "      <td>7570</td>\n",
       "    </tr>\n",
       "  </tbody>\n",
       "</table>\n",
       "</div>"
      ],
      "text/plain": [
       "           id             date      price  ...     long  sqft_living15  sqft_lot15\n",
       "0  7129300520  20141013T000000   221900.0  ... -122.257           1340        5650\n",
       "1  6414100192  20141209T000000   538000.0  ... -122.319           1690        7639\n",
       "2  5631500400  20150225T000000   180000.0  ... -122.233           2720        8062\n",
       "3  2487200875  20141209T000000   604000.0  ... -122.393           1360        5000\n",
       "4  1954400510  20150218T000000   510000.0  ... -122.045           1800        7503\n",
       "5  7237550310  20140512T000000  1230000.0  ... -122.005           4760      101930\n",
       "6  1321400060  20140627T000000   257500.0  ... -122.327           2238        6819\n",
       "7  2008000270  20150115T000000   291850.0  ... -122.315           1650        9711\n",
       "8  2414600126  20150415T000000   229500.0  ... -122.337           1780        8113\n",
       "9  3793500160  20150312T000000   323000.0  ... -122.031           2390        7570\n",
       "\n",
       "[10 rows x 21 columns]"
      ]
     },
     "execution_count": 3,
     "metadata": {
      "tags": []
     },
     "output_type": "execute_result"
    }
   ],
   "source": [
    "# Reading the csv file.\n",
    "flat_df = pd.read_csv('/content/drive/My Drive/AIML/5thResidency/kc_house_data1.csv')\n",
    "flat_df.head(10)"
   ]
  },
  {
   "cell_type": "markdown",
   "metadata": {
    "colab_type": "text",
    "id": "DCDLi0sNZcUc"
   },
   "source": [
    "# Q2 Explore Data Analysis. Find out how one variable related to other and distributions of data."
   ]
  },
  {
   "cell_type": "code",
   "execution_count": 4,
   "metadata": {
    "colab": {
     "base_uri": "https://localhost:8080/",
     "height": 459
    },
    "colab_type": "code",
    "executionInfo": {
     "elapsed": 2800,
     "status": "ok",
     "timestamp": 1563951356109,
     "user": {
      "displayName": "Abdul Sheraz",
      "photoUrl": "",
      "userId": "02569957655710563099"
     },
     "user_tz": -330
    },
    "id": "dYJomuoHyvXr",
    "outputId": "89028dce-8535-4ca1-bdf1-7ba7d6e2aa52"
   },
   "outputs": [
    {
     "name": "stdout",
     "output_type": "stream",
     "text": [
      "<class 'pandas.core.frame.DataFrame'>\n",
      "RangeIndex: 999 entries, 0 to 998\n",
      "Data columns (total 21 columns):\n",
      "id               999 non-null int64\n",
      "date             999 non-null object\n",
      "price            999 non-null float64\n",
      "bedrooms         999 non-null int64\n",
      "bathrooms        999 non-null float64\n",
      "sqft_living      999 non-null int64\n",
      "sqft_lot         999 non-null int64\n",
      "floors           999 non-null float64\n",
      "waterfront       999 non-null int64\n",
      "view             999 non-null int64\n",
      "condition        999 non-null int64\n",
      "grade            999 non-null int64\n",
      "sqft_above       999 non-null int64\n",
      "sqft_basement    999 non-null int64\n",
      "yr_built         999 non-null int64\n",
      "yr_renovated     999 non-null int64\n",
      "zipcode          999 non-null int64\n",
      "lat              999 non-null float64\n",
      "long             999 non-null float64\n",
      "sqft_living15    999 non-null int64\n",
      "sqft_lot15       999 non-null int64\n",
      "dtypes: float64(5), int64(15), object(1)\n",
      "memory usage: 164.0+ KB\n"
     ]
    }
   ],
   "source": [
    "flat_df.info()"
   ]
  },
  {
   "cell_type": "code",
   "execution_count": 0,
   "metadata": {
    "colab": {},
    "colab_type": "code",
    "id": "-jfuo4AZyvXx"
   },
   "outputs": [],
   "source": [
    "# splitting data into training and test set for independent attributes\n",
    "from sklearn.model_selection import train_test_split\n",
    "from sklearn import metrics"
   ]
  },
  {
   "cell_type": "code",
   "execution_count": 0,
   "metadata": {
    "colab": {},
    "colab_type": "code",
    "id": "W3zOtsvRyvX0"
   },
   "outputs": [],
   "source": [
    "# drop the columns id, date, zipcode\n",
    "flat_df = flat_df.drop(['id','date','zipcode'],axis=1)\n"
   ]
  },
  {
   "cell_type": "code",
   "execution_count": 7,
   "metadata": {
    "colab": {
     "base_uri": "https://localhost:8080/",
     "height": 1000,
     "output_embedded_package_id": "1Z9_9vWAGTuEIo1UFyselV3L8K8FdZaIs"
    },
    "colab_type": "code",
    "executionInfo": {
     "elapsed": 57278,
     "status": "ok",
     "timestamp": 1563951410631,
     "user": {
      "displayName": "Abdul Sheraz",
      "photoUrl": "",
      "userId": "02569957655710563099"
     },
     "user_tz": -330
    },
    "id": "uMUbnLipyvX2",
    "outputId": "c18b056e-ed3f-4419-fa44-e18fde052c96"
   },
   "outputs": [
    {
     "data": {
      "text/plain": [
       "Output hidden; open in https://colab.research.google.com to view."
      ]
     },
     "metadata": {},
     "output_type": "display_data"
    }
   ],
   "source": [
    "#see the disctibution\n",
    "import seaborn as sns\n",
    "sns.pairplot(flat_df,diag_kind='kde')"
   ]
  },
  {
   "cell_type": "code",
   "execution_count": 0,
   "metadata": {
    "colab": {},
    "colab_type": "code",
    "id": "5eY1ZHdPyvX8"
   },
   "outputs": [],
   "source": [
    "# find the correlation between the independent variable(prices) to the other variables\n",
    "cor = flat_df.corr()\n",
    "cor_target = abs(cor[\"price\"])"
   ]
  },
  {
   "cell_type": "code",
   "execution_count": 9,
   "metadata": {
    "colab": {
     "base_uri": "https://localhost:8080/",
     "height": 659
    },
    "colab_type": "code",
    "executionInfo": {
     "elapsed": 57265,
     "status": "ok",
     "timestamp": 1563951410648,
     "user": {
      "displayName": "Abdul Sheraz",
      "photoUrl": "",
      "userId": "02569957655710563099"
     },
     "user_tz": -330
    },
    "id": "2R4e7_2xyvYA",
    "outputId": "b485db68-5859-44af-ecc6-82f10693c507"
   },
   "outputs": [
    {
     "data": {
      "image/png": "[encoded data removed]",
      "text/plain": [
       "<Figure size 864x720 with 2 Axes>"
      ]
     },
     "metadata": {
      "tags": []
     },
     "output_type": "display_data"
    }
   ],
   "source": [
    "plt.figure(figsize=(12,10))\n",
    "sns.heatmap(cor, annot=True, cmap=plt.cm.Reds)\n",
    "plt.show()"
   ]
  },
  {
   "cell_type": "markdown",
   "metadata": {
    "colab_type": "text",
    "id": "cLk-yUZgZcVG"
   },
   "source": [
    "# Q3 State your insights."
   ]
  },
  {
   "cell_type": "markdown",
   "metadata": {
    "colab_type": "text",
    "id": "fHjnMCicZcVH"
   },
   "source": [
    "### The diagonal of the above matirx shows the auto-correlation of the variables. It is always 1. We can observe that the correlation between price and grade is highest i.e. 0.67 and then between price and sqft_above i.e. 0.61. Also it indicates that most important fetaures are bedrooms, bathrooms, sqft_living, grade and yr_built to estimate the house price. "
   ]
  },
  {
   "cell_type": "markdown",
   "metadata": {
    "colab_type": "text",
    "id": "WXNgRN3XZcVI"
   },
   "source": [
    "# Q4. Build a linear regression model to predict the house prices"
   ]
  },
  {
   "cell_type": "code",
   "execution_count": 10,
   "metadata": {
    "colab": {
     "base_uri": "https://localhost:8080/",
     "height": 221
    },
    "colab_type": "code",
    "executionInfo": {
     "elapsed": 57232,
     "status": "ok",
     "timestamp": 1563951410651,
     "user": {
      "displayName": "Abdul Sheraz",
      "photoUrl": "",
      "userId": "02569957655710563099"
     },
     "user_tz": -330
    },
    "id": "9QBKePI7yvYF",
    "outputId": "372a1e7b-c8e1-4537-87e9-2a63355d2360"
   },
   "outputs": [
    {
     "data": {
      "text/plain": [
       "price            1.000000\n",
       "bedrooms         0.306886\n",
       "bathrooms        0.487360\n",
       "sqft_living      0.704948\n",
       "waterfront       0.317311\n",
       "view             0.445190\n",
       "grade            0.647845\n",
       "sqft_above       0.582805\n",
       "sqft_basement    0.367061\n",
       "lat              0.365141\n",
       "sqft_living15    0.645747\n",
       "Name: price, dtype: float64"
      ]
     },
     "execution_count": 10,
     "metadata": {
      "tags": []
     },
     "output_type": "execute_result"
    }
   ],
   "source": [
    "#Selecting highly correlated features\n",
    "relevant_features = cor_target[cor_target>0.3]\n",
    "relevant_features "
   ]
  },
  {
   "cell_type": "code",
   "execution_count": 0,
   "metadata": {
    "colab": {},
    "colab_type": "code",
    "id": "VlYCcMb_yvYI"
   },
   "outputs": [],
   "source": [
    "X =  flat_df[[\"bedrooms\",\"bathrooms\",\"sqft_living\",\"view\",\"grade\",\"sqft_above\",\"sqft_basement\",\"lat\",\"sqft_living15\"]]\n",
    "y =  flat_df[[\"price\"]]\n",
    "y= y.rename(columns={'price':'Class'})\n",
    "Xtrain, Xtest, ytrain, ytest = train_test_split(X, y, test_size=0.30, random_state=1)\n"
   ]
  },
  {
   "cell_type": "code",
   "execution_count": 12,
   "metadata": {
    "colab": {
     "base_uri": "https://localhost:8080/",
     "height": 34
    },
    "colab_type": "code",
    "executionInfo": {
     "elapsed": 57214,
     "status": "ok",
     "timestamp": 1563951410668,
     "user": {
      "displayName": "Abdul Sheraz",
      "photoUrl": "",
      "userId": "02569957655710563099"
     },
     "user_tz": -330
    },
    "id": "CGTmpknXyvYK",
    "outputId": "6ee1bcda-25f9-40f4-ddcc-c404a6c7ec20"
   },
   "outputs": [
    {
     "data": {
      "text/plain": [
       "LinearRegression(copy_X=True, fit_intercept=True, n_jobs=None, normalize=False)"
      ]
     },
     "execution_count": 12,
     "metadata": {
      "tags": []
     },
     "output_type": "execute_result"
    }
   ],
   "source": [
    "from sklearn.linear_model import LinearRegression\n",
    "model = LinearRegression()\n",
    "model.fit(Xtrain,ytrain)"
   ]
  },
  {
   "cell_type": "code",
   "execution_count": 13,
   "metadata": {
    "colab": {
     "base_uri": "https://localhost:8080/",
     "height": 51
    },
    "colab_type": "code",
    "executionInfo": {
     "elapsed": 57188,
     "status": "ok",
     "timestamp": 1563951410671,
     "user": {
      "displayName": "Abdul Sheraz",
      "photoUrl": "",
      "userId": "02569957655710563099"
     },
     "user_tz": -330
    },
    "id": "4ZrYHmATyvYp",
    "outputId": "7e242998-9f73-4223-dce3-ea04e7288208"
   },
   "outputs": [
    {
     "data": {
      "text/plain": [
       "Class    178433.297297\n",
       "dtype: float64"
      ]
     },
     "execution_count": 13,
     "metadata": {
      "tags": []
     },
     "output_type": "execute_result"
    }
   ],
   "source": [
    "y_pred=model.predict(Xtest)\n",
    "rmse=np.sqrt(np.mean((ytest-y_pred)**2))\n",
    "rmse"
   ]
  },
  {
   "cell_type": "code",
   "execution_count": 14,
   "metadata": {
    "colab": {
     "base_uri": "https://localhost:8080/",
     "height": 34
    },
    "colab_type": "code",
    "executionInfo": {
     "elapsed": 57168,
     "status": "ok",
     "timestamp": 1563951410675,
     "user": {
      "displayName": "Abdul Sheraz",
      "photoUrl": "",
      "userId": "02569957655710563099"
     },
     "user_tz": -330
    },
    "id": "Gq9gV4mWyvYs",
    "outputId": "45b67245-65e6-46fe-e419-f4248d955802"
   },
   "outputs": [
    {
     "data": {
      "text/plain": [
       "0.6705431619068615"
      ]
     },
     "execution_count": 14,
     "metadata": {
      "tags": []
     },
     "output_type": "execute_result"
    }
   ],
   "source": [
    "model.score(Xtest,ytest)"
   ]
  },
  {
   "cell_type": "markdown",
   "metadata": {
    "colab_type": "text",
    "id": "F6y1lztqZcVp"
   },
   "source": [
    "# Q5: Remove any unwanted columns or outliers, standardize variables in this pre-processing step"
   ]
  },
  {
   "cell_type": "markdown",
   "metadata": {
    "colab_type": "text",
    "id": "-59n7JhaZcVq"
   },
   "source": [
    "### The 'id','date' and 'zipcode' columns are already removed in the above step 8, since they are not adding any value for our house price prediction.\n"
   ]
  },
  {
   "cell_type": "markdown",
   "metadata": {
    "colab_type": "text",
    "id": "kJU2TLzPZcVr"
   },
   "source": [
    "# Q6 Use appropriate cross validations techniques to find out the best predictor parameters and best prediction."
   ]
  },
  {
   "cell_type": "code",
   "execution_count": 15,
   "metadata": {
    "colab": {
     "base_uri": "https://localhost:8080/",
     "height": 51
    },
    "colab_type": "code",
    "executionInfo": {
     "elapsed": 57150,
     "status": "ok",
     "timestamp": 1563951410678,
     "user": {
      "displayName": "Abdul Sheraz",
      "photoUrl": "",
      "userId": "02569957655710563099"
     },
     "user_tz": -330
    },
    "id": "EJcUunk8yvYv",
    "outputId": "d9fda34e-f3ac-4973-a14f-b7bfe7bd0877"
   },
   "outputs": [
    {
     "data": {
      "text/plain": [
       "Class    162952.493616\n",
       "dtype: float64"
      ]
     },
     "execution_count": 15,
     "metadata": {
      "tags": []
     },
     "output_type": "execute_result"
    }
   ],
   "source": [
    "#2. Considering all the features\n",
    "X =  flat_df.drop([\"price\"],axis=1)\n",
    "y['Class'] =  flat_df[[\"price\"]]\n",
    "Xtrain, Xtest, ytrain, ytest = train_test_split(X, y, test_size=0.30, random_state=1)\n",
    "model.fit(Xtrain,ytrain)\n",
    "y_pred=model.predict(Xtest)\n",
    "rmse=np.sqrt(np.mean((ytest-y_pred)**2))\n",
    "rmse"
   ]
  },
  {
   "cell_type": "code",
   "execution_count": 16,
   "metadata": {
    "colab": {
     "base_uri": "https://localhost:8080/",
     "height": 34
    },
    "colab_type": "code",
    "executionInfo": {
     "elapsed": 57133,
     "status": "ok",
     "timestamp": 1563951410683,
     "user": {
      "displayName": "Abdul Sheraz",
      "photoUrl": "",
      "userId": "02569957655710563099"
     },
     "user_tz": -330
    },
    "id": "J29Z1kpoyvYy",
    "outputId": "745769d6-98c7-4ecb-d8fd-591be119d0c8"
   },
   "outputs": [
    {
     "data": {
      "text/plain": [
       "0.725230359440465"
      ]
     },
     "execution_count": 16,
     "metadata": {
      "tags": []
     },
     "output_type": "execute_result"
    }
   ],
   "source": [
    "model.score(Xtest,ytest)"
   ]
  },
  {
   "cell_type": "code",
   "execution_count": 0,
   "metadata": {
    "colab": {},
    "colab_type": "code",
    "id": "B6uQXGCUyvY1"
   },
   "outputs": [],
   "source": [
    "from sklearn.preprocessing import PolynomialFeatures"
   ]
  },
  {
   "cell_type": "code",
   "execution_count": 18,
   "metadata": {
    "colab": {
     "base_uri": "https://localhost:8080/",
     "height": 119
    },
    "colab_type": "code",
    "executionInfo": {
     "elapsed": 57125,
     "status": "ok",
     "timestamp": 1563951410702,
     "user": {
      "displayName": "Abdul Sheraz",
      "photoUrl": "",
      "userId": "02569957655710563099"
     },
     "user_tz": -330
    },
    "id": "twY64FkryvY4",
    "outputId": "4fbe56f7-53bf-4d47-eef1-b407caa3ab36"
   },
   "outputs": [
    {
     "data": {
      "text/plain": [
       "DecisionTreeClassifier(class_weight=None, criterion='entropy', max_depth=None,\n",
       "                       max_features=None, max_leaf_nodes=None,\n",
       "                       min_impurity_decrease=0.0, min_impurity_split=None,\n",
       "                       min_samples_leaf=1, min_samples_split=2,\n",
       "                       min_weight_fraction_leaf=0.0, presort=False,\n",
       "                       random_state=None, splitter='best')"
      ]
     },
     "execution_count": 18,
     "metadata": {
      "tags": []
     },
     "output_type": "execute_result"
    }
   ],
   "source": [
    "#3. decisiontree classifier Model\n",
    "from sklearn.tree import DecisionTreeClassifier\n",
    "dt_model = DecisionTreeClassifier(criterion = 'entropy' )\n",
    "dt_model.fit(Xtrain, ytrain)"
   ]
  },
  {
   "cell_type": "code",
   "execution_count": 0,
   "metadata": {
    "colab": {},
    "colab_type": "code",
    "id": "NL-Y28LqyvY7"
   },
   "outputs": [],
   "source": [
    "y_predict=dt_model.predict(Xtest)"
   ]
  },
  {
   "cell_type": "code",
   "execution_count": 20,
   "metadata": {
    "colab": {
     "base_uri": "https://localhost:8080/",
     "height": 1000
    },
    "colab_type": "code",
    "executionInfo": {
     "elapsed": 57125,
     "status": "ok",
     "timestamp": 1563951410726,
     "user": {
      "displayName": "Abdul Sheraz",
      "photoUrl": "",
      "userId": "02569957655710563099"
     },
     "user_tz": -330
    },
    "id": "B32pbn3ByvY8",
    "outputId": "5cf3d09d-6d71-4aac-fca4-1f2615ecf66c"
   },
   "outputs": [
    {
     "name": "stdout",
     "output_type": "stream",
     "text": [
      "              precision    recall  f1-score   support\n",
      "\n",
      "    130000.0       0.00      0.00      0.00         1\n",
      "    165000.0       0.00      0.00      0.00         1\n",
      "    166600.0       0.00      0.00      0.00         1\n",
      "    166950.0       0.00      0.00      0.00         1\n",
      "    171800.0       0.00      0.00      0.00         0\n",
      "    178500.0       0.00      0.00      0.00         1\n",
      "    180000.0       0.00      0.00      0.00         2\n",
      "    186375.0       0.00      0.00      0.00         0\n",
      "    188500.0       0.00      0.00      0.00         1\n",
      "    190000.0       0.00      0.00      0.00         1\n",
      "    195000.0       0.00      0.00      0.00         0\n",
      "    196000.0       0.00      0.00      0.00         0\n",
      "    196500.0       0.00      0.00      0.00         1\n",
      "    199000.0       0.00      0.00      0.00         1\n",
      "    200000.0       0.00      0.00      0.00         1\n",
      "    201000.0       0.00      0.00      0.00         1\n",
      "    205000.0       0.00      0.00      0.00         1\n",
      "    205425.0       0.00      0.00      0.00         1\n",
      "    209000.0       0.00      0.00      0.00         0\n",
      "    210000.0       0.00      0.00      0.00         4\n",
      "    210490.0       0.00      0.00      0.00         0\n",
      "    213000.0       0.00      0.00      0.00         1\n",
      "    215000.0       0.00      0.00      0.00         1\n",
      "    220000.0       0.00      0.00      0.00         1\n",
      "    222000.0       0.00      0.00      0.00         1\n",
      "    223000.0       0.00      0.00      0.00         1\n",
      "    225000.0       0.00      0.00      0.00         0\n",
      "    226000.0       0.00      0.00      0.00         1\n",
      "    227950.0       0.00      0.00      0.00         0\n",
      "    228000.0       0.00      0.00      0.00         1\n",
      "    229500.0       0.00      0.00      0.00         1\n",
      "    230000.0       0.00      0.00      0.00         2\n",
      "    232000.0       0.00      0.00      0.00         1\n",
      "    232500.0       0.00      0.00      0.00         0\n",
      "    234000.0       0.00      0.00      0.00         0\n",
      "    235000.0       0.00      0.00      0.00         1\n",
      "    237000.0       0.00      0.00      0.00         1\n",
      "    239900.0       0.00      0.00      0.00         0\n",
      "    240000.0       0.00      0.00      0.00         0\n",
      "    242000.0       0.00      0.00      0.00         0\n",
      "    243500.0       0.00      0.00      0.00         1\n",
      "    245000.0       0.00      0.00      0.00         1\n",
      "    246500.0       0.00      0.00      0.00         0\n",
      "    249000.0       0.00      0.00      0.00         1\n",
      "    249900.0       0.00      0.00      0.00         1\n",
      "    250000.0       0.00      0.00      0.00         1\n",
      "    252000.0       0.00      0.00      0.00         1\n",
      "    252350.0       0.00      0.00      0.00         0\n",
      "    252700.0       0.00      0.00      0.00         1\n",
      "    253000.0       0.00      0.00      0.00         1\n",
      "    254000.0       0.00      0.00      0.00         0\n",
      "    255000.0       0.00      0.00      0.00         3\n",
      "    256883.0       0.00      0.00      0.00         1\n",
      "    257500.0       0.00      0.00      0.00         1\n",
      "    258000.0       0.00      0.00      0.00         1\n",
      "    260000.0       0.50      0.25      0.33         4\n",
      "    261000.0       0.00      0.00      0.00         0\n",
      "    264000.0       0.00      0.00      0.00         1\n",
      "    264950.0       0.00      0.00      0.00         0\n",
      "    265000.0       0.00      0.00      0.00         1\n",
      "    266000.0       0.00      0.00      0.00         1\n",
      "    267000.0       0.00      0.00      0.00         0\n",
      "    267500.0       0.00      0.00      0.00         0\n",
      "    268500.0       0.00      0.00      0.00         1\n",
      "    269000.0       0.00      0.00      0.00         1\n",
      "    270000.0       0.00      0.00      0.00         1\n",
      "    272000.0       0.00      0.00      0.00         0\n",
      "    272500.0       0.00      0.00      0.00         1\n",
      "    274250.0       0.00      0.00      0.00         0\n",
      "    274975.0       0.00      0.00      0.00         0\n",
      "    279000.0       0.00      0.00      0.00         1\n",
      "    280000.0       0.50      0.50      0.50         2\n",
      "    287500.0       0.00      0.00      0.00         1\n",
      "    288000.0       0.00      0.00      0.00         0\n",
      "    288349.0       0.00      0.00      0.00         0\n",
      "    288400.0       0.00      0.00      0.00         0\n",
      "    289000.0       0.00      0.00      0.00         1\n",
      "    289500.0       0.00      0.00      0.00         0\n",
      "    289950.0       0.00      0.00      0.00         1\n",
      "    290000.0       0.00      0.00      0.00         4\n",
      "    291000.0       0.00      0.00      0.00         1\n",
      "    291500.0       0.00      0.00      0.00         1\n",
      "    292500.0       0.00      0.00      0.00         1\n",
      "    295000.0       0.00      0.00      0.00         0\n",
      "    296000.0       0.00      0.00      0.00         1\n",
      "    297000.0       0.00      0.00      0.00         2\n",
      "    299000.0       0.00      0.00      0.00         0\n",
      "    299995.0       0.00      0.00      0.00         1\n",
      "    300000.0       0.00      0.00      0.00         1\n",
      "    301000.0       0.00      0.00      0.00         0\n",
      "    305000.0       0.00      0.00      0.00         1\n",
      "    306000.0       0.00      0.00      0.00         0\n",
      "    308000.0       0.33      1.00      0.50         1\n",
      "    310000.0       0.00      0.00      0.00         3\n",
      "    314950.0       0.00      0.00      0.00         0\n",
      "    315000.0       0.00      0.00      0.00         3\n",
      "    316500.0       0.00      0.00      0.00         1\n",
      "    317625.0       0.00      0.00      0.00         1\n",
      "    318888.0       0.00      0.00      0.00         0\n",
      "    320000.0       0.00      0.00      0.00         3\n",
      "    322500.0       0.00      0.00      0.00         2\n",
      "    323000.0       0.00      0.00      0.00         1\n",
      "    324000.0       0.00      0.00      0.00         0\n",
      "    325000.0       0.00      0.00      0.00         3\n",
      "    326100.0       0.00      0.00      0.00         1\n",
      "    327000.0       0.00      0.00      0.00         0\n",
      "    328500.0       0.00      0.00      0.00         1\n",
      "    330000.0       0.00      0.00      0.00         2\n",
      "    331000.0       0.00      0.00      0.00         1\n",
      "    331500.0       0.00      0.00      0.00         1\n",
      "    335000.0       0.00      0.00      0.00         1\n",
      "    337000.0       0.00      0.00      0.00         0\n",
      "    338000.0       0.00      0.00      0.00         0\n",
      "    338900.0       0.00      0.00      0.00         0\n",
      "    339000.0       0.00      0.00      0.00         1\n",
      "    340000.0       0.00      0.00      0.00         1\n",
      "    340500.0       0.00      0.00      0.00         0\n",
      "    341500.0       0.00      0.00      0.00         0\n",
      "    342000.0       0.00      0.00      0.00         1\n",
      "    342500.0       0.00      0.00      0.00         0\n",
      "    349000.0       0.00      0.00      0.00         1\n",
      "    349500.0       0.00      0.00      0.00         0\n",
      "    350000.0       0.00      0.00      0.00         2\n",
      "    352000.0       0.00      0.00      0.00         0\n",
      "    358000.0       0.00      0.00      0.00         1\n",
      "    359000.0       0.00      0.00      0.00         1\n",
      "    359500.0       0.00      0.00      0.00         1\n",
      "    360000.0       0.00      0.00      0.00         2\n",
      "    361000.0       0.00      0.00      0.00         1\n",
      "    364950.0       0.00      0.00      0.00         1\n",
      "    365000.0       0.00      0.00      0.00         2\n",
      "    365500.0       0.00      0.00      0.00         0\n",
      "    370000.0       0.00      0.00      0.00         0\n",
      "    374950.0       0.00      0.00      0.00         0\n",
      "    375000.0       0.00      0.00      0.00         1\n",
      "    378000.0       0.00      0.00      0.00         1\n",
      "    379000.0       0.00      0.00      0.00         1\n",
      "    380000.0       0.00      0.00      0.00         0\n",
      "    381156.0       0.00      0.00      0.00         1\n",
      "    382500.0       0.00      0.00      0.00         0\n",
      "    384000.0       0.00      0.00      0.00         0\n",
      "    385000.0       0.00      0.00      0.00         3\n",
      "    385200.0       0.00      0.00      0.00         1\n",
      "    387000.0       0.00      0.00      0.00         1\n",
      "    389000.0       0.00      0.00      0.00         1\n",
      "    390000.0       0.00      0.00      0.00         2\n",
      "    391500.0       0.00      0.00      0.00         1\n",
      "    395000.0       0.00      0.00      0.00         2\n",
      "    396000.0       0.00      0.00      0.00         0\n",
      "    397000.0       0.00      0.00      0.00         1\n",
      "    397500.0       0.00      0.00      0.00         1\n",
      "    399000.0       0.00      0.00      0.00         0\n",
      "    399950.0       0.00      0.00      0.00         0\n",
      "    400000.0       0.00      0.00      0.00         2\n",
      "    404000.0       0.00      0.00      0.00         1\n",
      "    405000.0       0.00      0.00      0.00         0\n",
      "    410000.0       0.00      0.00      0.00         1\n",
      "    414900.0       0.00      0.00      0.00         0\n",
      "    415000.0       0.00      0.00      0.00         2\n",
      "    416000.0       0.00      0.00      0.00         1\n",
      "    419000.0       0.00      0.00      0.00         1\n",
      "    419950.0       0.00      0.00      0.00         1\n",
      "    420000.0       0.00      0.00      0.00         1\n",
      "    422120.0       0.00      0.00      0.00         0\n",
      "    423000.0       0.00      0.00      0.00         0\n",
      "    425000.0       0.00      0.00      0.00         2\n",
      "    426700.0       0.00      0.00      0.00         1\n",
      "    427200.0       0.00      0.00      0.00         1\n",
      "    428750.0       0.00      0.00      0.00         1\n",
      "    429900.0       0.00      0.00      0.00         0\n",
      "    430000.0       0.00      0.00      0.00         1\n",
      "    431000.0       0.00      0.00      0.00         0\n",
      "    431650.0       0.00      0.00      0.00         0\n",
      "    435000.0       0.00      0.00      0.00         3\n",
      "    437500.0       0.00      0.00      0.00         1\n",
      "    440000.0       0.00      0.00      0.00         0\n",
      "    441000.0       0.00      0.00      0.00         0\n",
      "    442000.0       0.00      0.00      0.00         1\n",
      "    443500.0       0.00      0.00      0.00         1\n",
      "    445000.0       0.00      0.00      0.00         0\n",
      "    445838.0       0.00      0.00      0.00         0\n",
      "    450000.0       0.00      0.00      0.00         0\n",
      "    451000.0       0.00      0.00      0.00         2\n",
      "    452000.0       0.00      0.00      0.00         0\n",
      "    453246.0       0.00      0.00      0.00         1\n",
      "    455000.0       0.00      0.00      0.00         1\n",
      "    457500.0       0.00      0.00      0.00         1\n",
      "    459000.0       0.00      0.00      0.00         1\n",
      "    460000.0       0.00      0.00      0.00         1\n",
      "    460500.0       0.00      0.00      0.00         1\n",
      "    463000.0       0.00      0.00      0.00         0\n",
      "    465000.0       0.00      0.00      0.00         0\n",
      "    465250.0       0.00      0.00      0.00         1\n",
      "    465750.0       0.00      0.00      0.00         0\n",
      "    466000.0       0.00      0.00      0.00         0\n",
      "    467000.0       0.00      0.00      0.00         1\n",
      "    469000.0       0.00      0.00      0.00         1\n",
      "    469950.0       0.00      0.00      0.00         1\n",
      "    470000.0       0.00      0.00      0.00         2\n",
      "    475000.0       0.00      0.00      0.00         0\n",
      "    480000.0       0.00      0.00      0.00         3\n",
      "    484950.0       0.00      0.00      0.00         0\n",
      "    485000.0       0.00      0.00      0.00         2\n",
      "    490000.0       0.00      0.00      0.00         0\n",
      "    493000.0       0.00      0.00      0.00         0\n",
      "    495000.0       0.00      0.00      0.00         0\n",
      "    496500.0       0.00      0.00      0.00         1\n",
      "    497000.0       0.00      0.00      0.00         1\n",
      "    500000.0       0.00      0.00      0.00         1\n",
      "    507000.0       0.00      0.00      0.00         1\n",
      "    511000.0       0.00      0.00      0.00         0\n",
      "    512000.0       0.00      0.00      0.00         0\n",
      "    515000.0       0.00      0.00      0.00         1\n",
      "    520000.0       0.00      0.00      0.00         1\n",
      "    521000.0       0.00      0.00      0.00         1\n",
      "    524250.0       0.00      0.00      0.00         1\n",
      "    525000.0       0.00      0.00      0.00         1\n",
      "    527700.0       0.00      0.00      0.00         0\n",
      "    530000.0       0.00      0.00      0.00         1\n",
      "    533600.0       0.00      0.00      0.00         1\n",
      "    535000.0       0.00      0.00      0.00         1\n",
      "    535800.0       0.00      0.00      0.00         0\n",
      "    539900.0       0.00      0.00      0.00         0\n",
      "    545000.0       0.00      0.00      0.00         0\n",
      "    548000.0       0.00      0.00      0.00         1\n",
      "    550000.0       0.00      0.00      0.00         3\n",
      "    551000.0       0.00      0.00      0.00         1\n",
      "    555000.0       0.00      0.00      0.00         1\n",
      "    559900.0       0.00      0.00      0.00         0\n",
      "    560000.0       0.00      0.00      0.00         2\n",
      "    563500.0       0.00      0.00      0.00         0\n",
      "    565000.0       0.00      0.00      0.00         4\n",
      "    570000.0       0.00      0.00      0.00         2\n",
      "    576000.0       0.00      0.00      0.00         0\n",
      "    578000.0       0.00      0.00      0.00         1\n",
      "    585000.0       0.00      0.00      0.00         1\n",
      "    585188.0       0.00      0.00      0.00         1\n",
      "    589000.0       0.00      0.00      0.00         0\n",
      "    590000.0       0.00      0.00      0.00         1\n",
      "    592500.0       0.00      0.00      0.00         1\n",
      "    595000.0       0.00      0.00      0.00         3\n",
      "    597750.0       0.00      0.00      0.00         1\n",
      "    601000.0       0.00      0.00      0.00         1\n",
      "    604000.0       0.00      0.00      0.00         1\n",
      "    605000.0       0.00      0.00      0.00         0\n",
      "    609900.0       0.00      0.00      0.00         1\n",
      "    610750.0       0.00      0.00      0.00         1\n",
      "    615000.0       0.00      0.00      0.00         1\n",
      "    625000.0       0.00      0.00      0.00         0\n",
      "    628000.0       0.00      0.00      0.00         0\n",
      "    630000.0       0.00      0.00      0.00         0\n",
      "    636000.0       0.00      0.00      0.00         0\n",
      "    638700.0       0.00      0.00      0.00         0\n",
      "    645000.0       0.00      0.00      0.00         1\n",
      "    650000.0       0.00      0.00      0.00         5\n",
      "    653000.0       0.00      0.00      0.00         0\n",
      "    659000.0       0.00      0.00      0.00         0\n",
      "    660000.0       0.00      0.00      0.00         1\n",
      "    662500.0       0.00      0.00      0.00         1\n",
      "    664000.0       0.00      0.00      0.00         1\n",
      "    665000.0       0.00      0.00      0.00         1\n",
      "    669950.0       0.00      0.00      0.00         1\n",
      "    671500.0       0.00      0.00      0.00         1\n",
      "    673000.0       0.00      0.00      0.00         1\n",
      "    675000.0       0.00      0.00      0.00         1\n",
      "    680000.0       0.00      0.00      0.00         1\n",
      "    684000.0       0.00      0.00      0.00         1\n",
      "    685000.0       0.00      0.00      0.00         0\n",
      "    691100.0       0.00      0.00      0.00         1\n",
      "    695000.0       0.00      0.00      0.00         1\n",
      "    696000.0       0.00      0.00      0.00         1\n",
      "    700000.0       0.00      0.00      0.00         2\n",
      "    705000.0       0.00      0.00      0.00         2\n",
      "    715000.0       0.00      0.00      0.00         0\n",
      "    718000.0       0.00      0.00      0.00         1\n",
      "    720000.0       0.00      0.00      0.00         1\n",
      "    722500.0       0.00      0.00      0.00         0\n",
      "    725000.0       0.00      0.00      0.00         2\n",
      "    727500.0       0.00      0.00      0.00         1\n",
      "    729500.0       0.00      0.00      0.00         1\n",
      "    730000.0       0.00      0.00      0.00         1\n",
      "    737500.0       0.00      0.00      0.00         1\n",
      "    740000.0       0.00      0.00      0.00         1\n",
      "    740500.0       0.00      0.00      0.00         0\n",
      "    748000.0       0.00      0.00      0.00         1\n",
      "    749000.0       0.00      0.00      0.00         1\n",
      "    750000.0       0.00      0.00      0.00         1\n",
      "    752500.0       0.00      0.00      0.00         1\n",
      "    760000.0       0.00      0.00      0.00         1\n",
      "    765000.0       0.00      0.00      0.00         1\n",
      "    770000.0       0.00      0.00      0.00         0\n",
      "    775000.0       0.00      0.00      0.00         1\n",
      "    785000.0       0.00      0.00      0.00         3\n",
      "    790000.0       0.00      0.00      0.00         0\n",
      "    795000.0       0.00      0.00      0.00         2\n",
      "    799000.0       0.00      0.00      0.00         1\n",
      "    800000.0       0.00      0.00      0.00         2\n",
      "    811000.0       0.00      0.00      0.00         0\n",
      "    819900.0       0.00      0.00      0.00         1\n",
      "    822500.0       0.00      0.00      0.00         0\n",
      "    824000.0       0.00      0.00      0.00         1\n",
      "    825000.0       0.00      0.00      0.00         0\n",
      "    834000.0       0.00      0.00      0.00         0\n",
      "    835000.0       0.00      0.00      0.00         0\n",
      "    840000.0       0.00      0.00      0.00         1\n",
      "    843000.0       0.00      0.00      0.00         1\n",
      "    856600.0       0.00      0.00      0.00         0\n",
      "    859900.0       0.00      0.00      0.00         1\n",
      "    860000.0       0.00      0.00      0.00         0\n",
      "    863000.0       0.00      0.00      0.00         0\n",
      "    865000.0       0.00      0.00      0.00         1\n",
      "    880000.0       0.00      0.00      0.00         0\n",
      "    890000.0       0.00      0.00      0.00         0\n",
      "    900000.0       0.00      0.00      0.00         2\n",
      "    920000.0       0.00      0.00      0.00         0\n",
      "    927000.0       0.00      0.00      0.00         0\n",
      "    930000.0       0.00      0.00      0.00         2\n",
      "    940000.0       0.00      0.00      0.00         1\n",
      "    942500.0       0.00      0.00      0.00         1\n",
      "    950000.0       0.00      0.00      0.00         0\n",
      "    970000.0       0.00      0.00      0.00         0\n",
      "    971000.0       0.00      0.00      0.00         1\n",
      "    975000.0       0.00      0.00      0.00         0\n",
      "   1000000.0       0.00      0.00      0.00         0\n",
      "   1010000.0       0.00      0.00      0.00         1\n",
      "   1030000.0       0.00      0.00      0.00         2\n",
      "   1040000.0       0.00      0.00      0.00         0\n",
      "   1050000.0       0.00      0.00      0.00         0\n",
      "   1070000.0       0.00      0.00      0.00         2\n",
      "   1100000.0       0.00      0.00      0.00         4\n",
      "   1150000.0       0.00      0.00      0.00         2\n",
      "   1200000.0       0.00      0.00      0.00         1\n",
      "   1220000.0       0.00      0.00      0.00         1\n",
      "   1270000.0       0.00      0.00      0.00         1\n",
      "   1300000.0       0.00      0.00      0.00         0\n",
      "   1320000.0       0.00      0.00      0.00         1\n",
      "   1330000.0       0.00      0.00      0.00         1\n",
      "   1350000.0       0.00      0.00      0.00         1\n",
      "   1380000.0       0.00      0.00      0.00         0\n",
      "   1390000.0       0.00      0.00      0.00         1\n",
      "   1400000.0       0.00      0.00      0.00         1\n",
      "   1450000.0       0.00      0.00      0.00         2\n",
      "   1480000.0       0.00      0.00      0.00         1\n",
      "   1490000.0       0.00      0.00      0.00         1\n",
      "   1510000.0       0.00      0.00      0.00         1\n",
      "   1550000.0       0.00      0.00      0.00         0\n",
      "   1580000.0       0.00      0.00      0.00         0\n",
      "   1600000.0       0.00      0.00      0.00         1\n",
      "   2000000.0       0.00      0.00      0.00         0\n",
      "   2130000.0       0.00      0.00      0.00         0\n",
      "   2250000.0       0.33      1.00      0.50         1\n",
      "   2380000.0       0.00      0.00      0.00         0\n",
      "   3070000.0       0.00      0.00      0.00         0\n",
      "\n",
      "    accuracy                           0.01       300\n",
      "   macro avg       0.00      0.01      0.01       300\n",
      "weighted avg       0.01      0.01      0.01       300\n",
      "\n"
     ]
    },
    {
     "name": "stderr",
     "output_type": "stream",
     "text": [
      "/usr/local/lib/python3.6/dist-packages/sklearn/metrics/classification.py:1437: UndefinedMetricWarning: Precision and F-score are ill-defined and being set to 0.0 in labels with no predicted samples.\n",
      "  'precision', 'predicted', average, warn_for)\n",
      "/usr/local/lib/python3.6/dist-packages/sklearn/metrics/classification.py:1439: UndefinedMetricWarning: Recall and F-score are ill-defined and being set to 0.0 in labels with no true samples.\n",
      "  'recall', 'true', average, warn_for)\n"
     ]
    }
   ],
   "source": [
    "cr=metrics.classification_report(ytest,y_predict)\n",
    "print(cr)"
   ]
  },
  {
   "cell_type": "code",
   "execution_count": 0,
   "metadata": {
    "colab": {},
    "colab_type": "code",
    "id": "8vBJCjXQyvZA"
   },
   "outputs": [],
   "source": [
    "from sklearn.preprocessing import StandardScaler\n",
    "X_std = StandardScaler().fit_transform(X)"
   ]
  },
  {
   "cell_type": "code",
   "execution_count": 22,
   "metadata": {
    "colab": {
     "base_uri": "https://localhost:8080/",
     "height": 34
    },
    "colab_type": "code",
    "executionInfo": {
     "elapsed": 57115,
     "status": "ok",
     "timestamp": 1563951410738,
     "user": {
      "displayName": "Abdul Sheraz",
      "photoUrl": "",
      "userId": "02569957655710563099"
     },
     "user_tz": -330
    },
    "id": "ZhBsEvy4yvZD",
    "outputId": "4ce64f4e-ef07-4c47-b0d3-11e2188955b2"
   },
   "outputs": [
    {
     "data": {
      "text/plain": [
       "(999, 17)"
      ]
     },
     "execution_count": 22,
     "metadata": {
      "tags": []
     },
     "output_type": "execute_result"
    }
   ],
   "source": [
    "X_std.shape"
   ]
  },
  {
   "cell_type": "code",
   "execution_count": 0,
   "metadata": {
    "colab": {},
    "colab_type": "code",
    "id": "I89BHjslyvZI"
   },
   "outputs": [],
   "source": [
    "cov_matrix = np.cov(X_std.T)"
   ]
  },
  {
   "cell_type": "code",
   "execution_count": 24,
   "metadata": {
    "colab": {
     "base_uri": "https://localhost:8080/",
     "height": 34
    },
    "colab_type": "code",
    "executionInfo": {
     "elapsed": 57248,
     "status": "ok",
     "timestamp": 1563951410895,
     "user": {
      "displayName": "Abdul Sheraz",
      "photoUrl": "",
      "userId": "02569957655710563099"
     },
     "user_tz": -330
    },
    "id": "m28K5pwJyvZK",
    "outputId": "d66da1ce-53b8-4b5c-e4fb-482b56521221"
   },
   "outputs": [
    {
     "data": {
      "text/plain": [
       "(17, 17)"
      ]
     },
     "execution_count": 24,
     "metadata": {
      "tags": []
     },
     "output_type": "execute_result"
    }
   ],
   "source": [
    "cov_matrix.shape"
   ]
  },
  {
   "cell_type": "code",
   "execution_count": 25,
   "metadata": {
    "colab": {
     "base_uri": "https://localhost:8080/",
     "height": 346
    },
    "colab_type": "code",
    "executionInfo": {
     "elapsed": 77677,
     "status": "ok",
     "timestamp": 1563951431345,
     "user": {
      "displayName": "Abdul Sheraz",
      "photoUrl": "",
      "userId": "02569957655710563099"
     },
     "user_tz": -330
    },
    "id": "7zZcxdmoyvZN",
    "outputId": "12a03d03-ed1d-4c75-8d7a-d42b0f0b8099"
   },
   "outputs": [
    {
     "name": "stderr",
     "output_type": "stream",
     "text": [
      "/usr/local/lib/python3.6/dist-packages/matplotlib/tight_layout.py:211: UserWarning: Tight layout not applied. tight_layout cannot make axes height small enough to accommodate all axes decorations\n",
      "  warnings.warn('Tight layout not applied. '\n"
     ]
    },
    {
     "data": {
      "image/png": "[encoded data removed]",
      "text/plain": [
       "<Figure size 432x288 with 289 Axes>"
      ]
     },
     "metadata": {
      "tags": []
     },
     "output_type": "display_data"
    }
   ],
   "source": [
    "X_std_df = pd.DataFrame(X_std)\n",
    "axes = pd.plotting.scatter_matrix(X_std_df)\n",
    "plt.tight_layout()"
   ]
  },
  {
   "cell_type": "code",
   "execution_count": 0,
   "metadata": {
    "colab": {},
    "colab_type": "code",
    "id": "tCUeWetJyvZQ"
   },
   "outputs": [],
   "source": [
    "eig_vals, eig_vecs = np.linalg.eig(cov_matrix)"
   ]
  },
  {
   "cell_type": "code",
   "execution_count": 27,
   "metadata": {
    "colab": {
     "base_uri": "https://localhost:8080/",
     "height": 34
    },
    "colab_type": "code",
    "executionInfo": {
     "elapsed": 77661,
     "status": "ok",
     "timestamp": 1563951431355,
     "user": {
      "displayName": "Abdul Sheraz",
      "photoUrl": "",
      "userId": "02569957655710563099"
     },
     "user_tz": -330
    },
    "id": "mpgoJYVbyvZS",
    "outputId": "96e7fa88-20b4-4559-ec58-15cba239db36"
   },
   "outputs": [
    {
     "data": {
      "text/plain": [
       "(17,)"
      ]
     },
     "execution_count": 27,
     "metadata": {
      "tags": []
     },
     "output_type": "execute_result"
    }
   ],
   "source": [
    "eig_vals.shape"
   ]
  },
  {
   "cell_type": "code",
   "execution_count": 28,
   "metadata": {
    "colab": {
     "base_uri": "https://localhost:8080/",
     "height": 34
    },
    "colab_type": "code",
    "executionInfo": {
     "elapsed": 77642,
     "status": "ok",
     "timestamp": 1563951431357,
     "user": {
      "displayName": "Abdul Sheraz",
      "photoUrl": "",
      "userId": "02569957655710563099"
     },
     "user_tz": -330
    },
    "id": "qsumIS7DyvZU",
    "outputId": "6b69ac27-cd96-4f72-d50e-199eeeac0acb"
   },
   "outputs": [
    {
     "data": {
      "text/plain": [
       "(17, 17)"
      ]
     },
     "execution_count": 28,
     "metadata": {
      "tags": []
     },
     "output_type": "execute_result"
    }
   ],
   "source": [
    "eig_vecs.shape"
   ]
  },
  {
   "cell_type": "code",
   "execution_count": 29,
   "metadata": {
    "colab": {
     "base_uri": "https://localhost:8080/",
     "height": 1000
    },
    "colab_type": "code",
    "executionInfo": {
     "elapsed": 77621,
     "status": "ok",
     "timestamp": 1563951431358,
     "user": {
      "displayName": "Abdul Sheraz",
      "photoUrl": "",
      "userId": "02569957655710563099"
     },
     "user_tz": -330
    },
    "id": "kWOHgDq7yvZX",
    "outputId": "fac177ce-bab7-456a-c4c3-a667f5234779"
   },
   "outputs": [
    {
     "name": "stdout",
     "output_type": "stream",
     "text": [
      "Eigen Vectors \n",
      "%s [[-2.42494880e-01  1.34476068e-01 -1.14831955e-01  3.14717500e-01\n",
      "  -2.49142728e-01  2.41748663e-01  7.74341647e-02 -3.60258544e-01\n",
      "  -4.00308112e-01  3.97864755e-01 -3.48767006e-01  2.79154994e-01\n",
      "   1.44748277e-01  5.09807581e-02 -1.12965703e-01 -1.26853812e-02\n",
      "  -3.10480675e-16]\n",
      " [-3.60318788e-01  1.89528439e-02 -1.38159674e-01  7.45720420e-03\n",
      "  -7.32131958e-02  3.41492586e-02  1.01981504e-01 -1.47225272e-01\n",
      "  -7.34179100e-02 -4.10270121e-01 -7.89144283e-02  3.72902137e-02\n",
      "  -7.65136739e-01  6.19709328e-02 -4.80160892e-02 -1.97877801e-01\n",
      "   3.73357959e-16]\n",
      " [-3.99595910e-01  1.90591673e-01 -3.62160426e-02  8.84172090e-02\n",
      "  -4.32723207e-02  4.11290286e-03  1.02312742e-02  1.55902789e-02\n",
      "   4.64690312e-02  6.29670950e-02  1.39555454e-01 -2.68222713e-01\n",
      "   7.86784739e-02 -1.82993540e-01  4.02953393e-01  7.15859478e-02\n",
      "   6.98509324e-01]\n",
      " [-1.53134786e-01 -1.24068834e-01  6.11774011e-01  1.74179121e-01\n",
      "   1.12606068e-01 -2.50152085e-02 -1.44243914e-02 -1.99819027e-01\n",
      "   7.90674507e-02 -6.28664549e-02 -2.05344590e-02  3.88293194e-02\n",
      "  -3.90198847e-02 -6.19502932e-01 -3.12141844e-01  9.07582676e-02\n",
      "   5.25825064e-17]\n",
      " [-2.23809295e-01 -2.40452125e-01 -2.95142739e-01 -7.59535916e-02\n",
      "   2.92431942e-01  1.17159601e-01 -3.21837982e-01 -2.30103701e-01\n",
      "   6.15104215e-02 -2.53373552e-01 -3.79037561e-01 -4.33952974e-01\n",
      "   2.77695013e-01  5.43014081e-02 -2.39345301e-01  7.82821610e-02\n",
      "  -6.84773822e-16]\n",
      " [-4.86195136e-02  2.25270952e-01  1.61201445e-01 -6.14871226e-01\n",
      "   2.08029710e-01  1.32795586e-01 -5.77598402e-02 -1.23561998e-01\n",
      "  -6.28357866e-01 -2.85772776e-02  2.43568040e-01 -5.28774658e-02\n",
      "   4.03047159e-02 -3.84120280e-02 -4.81242159e-02  1.15860531e-02\n",
      "   1.15263839e-16]\n",
      " [-1.15639906e-01  3.74926203e-01  1.30289803e-01 -4.74173263e-01\n",
      "   1.12595441e-01 -3.92088619e-02  3.25062256e-02  1.02989719e-01\n",
      "   3.89247337e-01  2.01831969e-01 -5.80763193e-01  1.77803816e-01\n",
      "  -5.92283341e-02 -4.91939388e-02  7.67586564e-02 -7.34424021e-02\n",
      "   3.60219321e-16]\n",
      " [ 5.00113348e-02  2.95595063e-01  1.31147354e-01  1.02067113e-01\n",
      "  -3.79304158e-01  2.68695009e-01 -6.15186902e-01  2.94194098e-01\n",
      "  -5.68426108e-02 -3.84063987e-01 -8.54227667e-02  1.60640352e-01\n",
      "   6.71107003e-02 -2.65033771e-02  1.83797370e-02  1.09766421e-01\n",
      "  -1.47644043e-16]\n",
      " [-3.70864908e-01  6.26714085e-02 -1.27916676e-01 -3.45583212e-02\n",
      "   2.83209823e-02 -7.45187085e-02 -8.87824199e-02  9.65525294e-02\n",
      "   1.75333478e-01 -3.82007892e-02  3.33652959e-01  2.77932114e-01\n",
      "   3.27045796e-01 -7.92111913e-03 -2.98866820e-01 -6.32692640e-01\n",
      "   7.14925070e-16]\n",
      " [-3.91078586e-01 -6.64821524e-02 -6.86060579e-02  4.16636495e-02\n",
      "   9.54657858e-02  1.45685300e-01 -2.18987600e-01  6.41137487e-02\n",
      "   5.18765884e-02  2.50311625e-01  1.66134684e-01 -9.09490345e-02\n",
      "  -6.95381754e-02 -2.02582354e-01  4.66193603e-01  5.51718266e-02\n",
      "  -6.21543099e-01]\n",
      " [-1.01650583e-01  4.91912982e-01  4.89071220e-02  1.01129542e-01\n",
      "  -2.52544675e-01 -2.47228206e-01  4.03951133e-01 -8.16590775e-02\n",
      "   6.07705320e-04 -3.14675838e-01 -1.62956657e-02 -3.68902685e-01\n",
      "   2.76840926e-01 -5.38302200e-03 -2.33835308e-02  4.43035845e-02\n",
      "  -3.54639114e-01]\n",
      " [-2.33305788e-01 -3.68580563e-01 -9.50756987e-02 -2.76262949e-01\n",
      "  -1.99616158e-01 -1.64352854e-01  1.96120842e-01 -8.47888740e-02\n",
      "   4.89984586e-03 -3.42758677e-01 -2.46156471e-02  4.89138890e-01\n",
      "   2.66966772e-01 -5.41659715e-02  2.19397263e-01  3.63503084e-01\n",
      "  -2.85129684e-16]\n",
      " [ 2.88254750e-03  1.67091211e-01 -5.17310497e-02  2.41120708e-01\n",
      "   5.37330063e-01  5.37462748e-01  3.73645869e-01  2.44372616e-01\n",
      "   1.93624433e-02 -2.53829890e-01  1.80898380e-03  2.13217010e-01\n",
      "   1.03986832e-01  1.84078885e-03  3.96056196e-02  1.08089642e-01\n",
      "  -8.87624515e-17]\n",
      " [-3.88671837e-02  1.71336341e-01 -7.61875107e-02  2.89752703e-01\n",
      "   4.41372134e-01 -6.53190484e-01 -2.24850603e-01  1.37905454e-01\n",
      "  -3.20000659e-01 -6.08138928e-02 -1.56647462e-01  2.11158849e-01\n",
      "  -2.04766812e-02 -6.27512024e-03  9.65508663e-02  5.76470189e-02\n",
      "   3.75923114e-17]\n",
      " [-1.83494794e-01 -3.56268076e-01  1.61923678e-01 -2.24894984e-02\n",
      "  -1.52056597e-01 -4.42141953e-03  2.13340675e-01  6.57303326e-01\n",
      "  -3.47416265e-01  3.89632110e-02 -3.06186127e-01 -2.18336664e-01\n",
      "   5.03921507e-02 -4.03647377e-02 -3.78605906e-02 -2.06726530e-01\n",
      "   2.06921171e-16]\n",
      " [-3.76958072e-01  9.37113681e-02  2.95526954e-02 -1.96723871e-02\n",
      "  -6.52594348e-03 -6.32928409e-02 -1.28080263e-02  2.61625408e-01\n",
      "   1.15700076e-01  2.33873649e-01  2.14650366e-01 -9.16803910e-03\n",
      "  -1.26556700e-01  3.28321252e-01 -4.76472821e-01  5.56884134e-01\n",
      "  -1.55709967e-15]\n",
      " [-1.65459676e-01 -1.19022766e-01  6.13842196e-01  1.05738454e-01\n",
      "   1.11512141e-01  1.38893971e-02 -5.94845324e-02 -1.90981003e-01\n",
      "   4.76780840e-02 -8.51254893e-02 -2.22703348e-02 -5.61452503e-03\n",
      "   9.82590086e-02  6.44368871e-01  2.54179405e-01 -1.35327400e-01\n",
      "   2.26057129e-17]]\n",
      "\n",
      " Eigen Values \n",
      "%s [5.21524206e+00 2.12622644e+00 1.80886122e+00 1.25585980e+00\n",
      " 1.20786679e+00 9.95456829e-01 9.32741074e-01 6.72144509e-01\n",
      " 6.19262812e-01 5.64873574e-01 4.84808786e-01 3.32290783e-01\n",
      " 2.49057376e-01 1.56686072e-01 1.94227817e-01 2.01428129e-01\n",
      " 2.62009134e-16]\n"
     ]
    }
   ],
   "source": [
    "print('Eigen Vectors \\n%s', eig_vecs)\n",
    "print('\\n Eigen Values \\n%s', eig_vals)\n"
   ]
  },
  {
   "cell_type": "code",
   "execution_count": 0,
   "metadata": {
    "colab": {},
    "colab_type": "code",
    "id": "n5nKIfIgyvZZ"
   },
   "outputs": [],
   "source": [
    "\n",
    "eigen_pairs = [(np.abs(eig_vals[i]), eig_vecs[ :, i]) for i in range(len(eig_vals))]"
   ]
  },
  {
   "cell_type": "code",
   "execution_count": 31,
   "metadata": {
    "colab": {
     "base_uri": "https://localhost:8080/",
     "height": 85
    },
    "colab_type": "code",
    "executionInfo": {
     "elapsed": 77609,
     "status": "ok",
     "timestamp": 1563951431367,
     "user": {
      "displayName": "Abdul Sheraz",
      "photoUrl": "",
      "userId": "02569957655710563099"
     },
     "user_tz": -330
    },
    "id": "jBhcZzFgyvZb",
    "outputId": "445b9e91-3741-4c0d-c561-d83254483180"
   },
   "outputs": [
    {
     "name": "stdout",
     "output_type": "stream",
     "text": [
      "Cumulative Variance Explained [ 30.64718585  43.14188048  53.7715896   61.15160538  68.24959192\n",
      "  74.09935883  79.58057883  83.53041231  87.16948836  90.48894798\n",
      "  93.3379097   95.29060475  96.75418163  97.93786692  99.07923983\n",
      " 100.         100.        ]\n"
     ]
    }
   ],
   "source": [
    "tot = sum(eig_vals)\n",
    "var_exp = [( i /tot ) * 100 for i in sorted(eig_vals, reverse=True)]\n",
    "cum_var_exp = np.cumsum(var_exp)\n",
    "print(\"Cumulative Variance Explained\", cum_var_exp)"
   ]
  },
  {
   "cell_type": "code",
   "execution_count": 32,
   "metadata": {
    "colab": {
     "base_uri": "https://localhost:8080/",
     "height": 935
    },
    "colab_type": "code",
    "executionInfo": {
     "elapsed": 77591,
     "status": "ok",
     "timestamp": 1563951431369,
     "user": {
      "displayName": "Abdul Sheraz",
      "photoUrl": "",
      "userId": "02569957655710563099"
     },
     "user_tz": -330
    },
    "id": "1mYIDFjryvZe",
    "outputId": "7f1f5bc8-1ce8-4292-bad6-8963f065b459"
   },
   "outputs": [
    {
     "name": "stdout",
     "output_type": "stream",
     "text": [
      "[(5.215242056379598, array([-0.24249488, -0.36031879, -0.39959591, -0.15313479, -0.22380929,\n",
      "       -0.04861951, -0.11563991,  0.05001133, -0.37086491, -0.39107859,\n",
      "       -0.10165058, -0.23330579,  0.00288255, -0.03886718, -0.18349479,\n",
      "       -0.37695807, -0.16545968])), (2.126226442689091, array([ 0.13447607,  0.01895284,  0.19059167, -0.12406883, -0.24045212,\n",
      "        0.22527095,  0.3749262 ,  0.29559506,  0.06267141, -0.06648215,\n",
      "        0.49191298, -0.36858056,  0.16709121,  0.17133634, -0.35626808,\n",
      "        0.09371137, -0.11902277])), (1.808861222778521, array([-0.11483196, -0.13815967, -0.03621604,  0.61177401, -0.29514274,\n",
      "        0.16120144,  0.1302898 ,  0.13114735, -0.12791668, -0.06860606,\n",
      "        0.04890712, -0.0950757 , -0.05173105, -0.07618751,  0.16192368,\n",
      "        0.0295527 ,  0.6138422 ])), (1.2558597990598337, array([ 0.3147175 ,  0.0074572 ,  0.08841721,  0.17417912, -0.07595359,\n",
      "       -0.61487123, -0.47417326,  0.10206711, -0.03455832,  0.04166365,\n",
      "        0.10112954, -0.27626295,  0.24112071,  0.2897527 , -0.0224895 ,\n",
      "       -0.01967239,  0.10573845])), (1.2078667868187025, array([-0.24914273, -0.0732132 , -0.04327232,  0.11260607,  0.29243194,\n",
      "        0.20802971,  0.11259544, -0.37930416,  0.02832098,  0.09546579,\n",
      "       -0.25254468, -0.19961616,  0.53733006,  0.44137213, -0.1520566 ,\n",
      "       -0.00652594,  0.11151214])), (0.9954568290327921, array([ 0.24174866,  0.03414926,  0.0041129 , -0.02501521,  0.1171596 ,\n",
      "        0.13279559, -0.03920886,  0.26869501, -0.07451871,  0.1456853 ,\n",
      "       -0.24722821, -0.16435285,  0.53746275, -0.65319048, -0.00442142,\n",
      "       -0.06329284,  0.0138894 ])), (0.9327410742000282, array([ 0.07743416,  0.1019815 ,  0.01023127, -0.01442439, -0.32183798,\n",
      "       -0.05775984,  0.03250623, -0.6151869 , -0.08878242, -0.2189876 ,\n",
      "        0.40395113,  0.19612084,  0.37364587, -0.2248506 ,  0.21334068,\n",
      "       -0.01280803, -0.05948453])), (0.6721445091829806, array([-0.36025854, -0.14722527,  0.01559028, -0.19981903, -0.2301037 ,\n",
      "       -0.123562  ,  0.10298972,  0.2941941 ,  0.09655253,  0.06411375,\n",
      "       -0.08165908, -0.08478887,  0.24437262,  0.13790545,  0.65730333,\n",
      "        0.26162541, -0.190981  ])), (0.6192628116783402, array([-4.00308112e-01, -7.34179100e-02,  4.64690312e-02,  7.90674507e-02,\n",
      "        6.15104215e-02, -6.28357866e-01,  3.89247337e-01, -5.68426108e-02,\n",
      "        1.75333478e-01,  5.18765884e-02,  6.07705320e-04,  4.89984586e-03,\n",
      "        1.93624433e-02, -3.20000659e-01, -3.47416265e-01,  1.15700076e-01,\n",
      "        4.76780840e-02])), (0.564873573958322, array([ 0.39786476, -0.41027012,  0.06296709, -0.06286645, -0.25337355,\n",
      "       -0.02857728,  0.20183197, -0.38406399, -0.03820079,  0.25031163,\n",
      "       -0.31467584, -0.34275868, -0.25382989, -0.06081389,  0.03896321,\n",
      "        0.23387365, -0.08512549])), (0.48480878555285484, array([-0.34876701, -0.07891443,  0.13955545, -0.02053446, -0.37903756,\n",
      "        0.24356804, -0.58076319, -0.08542277,  0.33365296,  0.16613468,\n",
      "       -0.01629567, -0.02461565,  0.00180898, -0.15664746, -0.30618613,\n",
      "        0.21465037, -0.02227033])), (0.33229078257225036, array([ 0.27915499,  0.03729021, -0.26822271,  0.03882932, -0.43395297,\n",
      "       -0.05287747,  0.17780382,  0.16064035,  0.27793211, -0.09094903,\n",
      "       -0.36890269,  0.48913889,  0.21321701,  0.21115885, -0.21833666,\n",
      "       -0.00916804, -0.00561453])), (0.2490573758221488, array([ 0.14474828, -0.76513674,  0.07867847, -0.03901988,  0.27769501,\n",
      "        0.04030472, -0.05922833,  0.0671107 ,  0.3270458 , -0.06953818,\n",
      "        0.27684093,  0.26696677,  0.10398683, -0.02047668,  0.05039215,\n",
      "       -0.1265567 ,  0.09825901])), (0.20142812935350693, array([-0.01268538, -0.1978778 ,  0.07158595,  0.09075827,  0.07828216,\n",
      "        0.01158605, -0.0734424 ,  0.10976642, -0.63269264,  0.05517183,\n",
      "        0.04430358,  0.36350308,  0.10808964,  0.05764702, -0.20672653,\n",
      "        0.55688413, -0.1353274 ])), (0.19422781730577995, array([-0.1129657 , -0.04801609,  0.40295339, -0.31214184, -0.2393453 ,\n",
      "       -0.04812422,  0.07675866,  0.01837974, -0.29886682,  0.4661936 ,\n",
      "       -0.02338353,  0.21939726,  0.03960562,  0.09655087, -0.03786059,\n",
      "       -0.47647282,  0.2541794 ])), (0.15668607175154908, array([ 0.05098076,  0.06197093, -0.18299354, -0.61950293,  0.05430141,\n",
      "       -0.03841203, -0.04919394, -0.02650338, -0.00792112, -0.20258235,\n",
      "       -0.00538302, -0.05416597,  0.00184079, -0.00627512, -0.04036474,\n",
      "        0.32832125,  0.64436887])), (2.620091338938282e-16, array([-3.10480675e-16,  3.73357959e-16,  6.98509324e-01,  5.25825064e-17,\n",
      "       -6.84773822e-16,  1.15263839e-16,  3.60219321e-16, -1.47644043e-16,\n",
      "        7.14925070e-16, -6.21543099e-01, -3.54639114e-01, -2.85129684e-16,\n",
      "       -8.87624515e-17,  3.75923114e-17,  2.06921171e-16, -1.55709967e-15,\n",
      "        2.26057129e-17]))]\n"
     ]
    }
   ],
   "source": [
    "eigenvalues = eig_vals\n",
    "eigenvectors = eig_vecs\n",
    "eig_pairs = [(eigenvalues[index], eigenvectors[:,index]) for index in range(len(eigenvalues))]\n",
    "\n",
    "# Sort the (eigenvalue, eigenvector) pairs from highest to lowest with respect to eigenvalue\n",
    "eig_pairs.sort()\n",
    "\n",
    "eig_pairs.reverse()\n",
    "print(eig_pairs)\n",
    "\n",
    "# Extract the descending ordered eigenvalues and eigenvectors\n",
    "eigvalues_sorted = [eig_pairs[index][0] for index in range(len(eigenvalues))]\n",
    "eigvectors_sorted = [eig_pairs[index][1] for index in range(len(eigenvalues))]\n",
    "\n",
    "P_reduce = np.array(eigvectors_sorted[0:4])   # Reducing from 8 to 4 dimension space\n",
    "\n",
    "X_std_4D = np.dot(X,P_reduce.T)   # projecting original data into principal component dimensions\n",
    "\n",
    "Proj_data_df = pd.DataFrame(X_std_4D)  #\n"
   ]
  },
  {
   "cell_type": "code",
   "execution_count": 33,
   "metadata": {
    "colab": {
     "base_uri": "https://localhost:8080/",
     "height": 85
    },
    "colab_type": "code",
    "executionInfo": {
     "elapsed": 77563,
     "status": "ok",
     "timestamp": 1563951431370,
     "user": {
      "displayName": "Abdul Sheraz",
      "photoUrl": "",
      "userId": "02569957655710563099"
     },
     "user_tz": -330
    },
    "id": "apn6NDkTyvZg",
    "outputId": "593d4c2a-fa2e-48f3-d2d5-0522bca8998a"
   },
   "outputs": [
    {
     "data": {
      "text/plain": [
       "array([0.30647186, 0.4314188 , 0.5377159 , 0.61151605, 0.68249592,\n",
       "       0.74099359, 0.79580579, 0.83530412, 0.87169488, 0.90488948,\n",
       "       0.9333791 , 0.95290605, 0.96754182, 0.97937867, 0.9907924 ,\n",
       "       1.        , 1.        ])"
      ]
     },
     "execution_count": 33,
     "metadata": {
      "tags": []
     },
     "output_type": "execute_result"
    }
   ],
   "source": [
    "tot = sum(eig_vals)\n",
    "var_explained = [(i / tot) for i in sorted(eig_vals, reverse=True)]  # an array of variance explained by each \n",
    "# eigen vector... there will be 8 entries as there are 8 eigen vectors)\n",
    "cum_var_exp = np.cumsum(var_explained)  # an array of cumulative variance. There will be 8 entries with 8 th entry \n",
    "# cumulative reaching almost 100\n",
    "cum_var_exp"
   ]
  },
  {
   "cell_type": "code",
   "execution_count": 34,
   "metadata": {
    "colab": {
     "base_uri": "https://localhost:8080/",
     "height": 283
    },
    "colab_type": "code",
    "executionInfo": {
     "elapsed": 77541,
     "status": "ok",
     "timestamp": 1563951431372,
     "user": {
      "displayName": "Abdul Sheraz",
      "photoUrl": "",
      "userId": "02569957655710563099"
     },
     "user_tz": -330
    },
    "id": "9BXah0OoyvZj",
    "outputId": "a168c897-06fc-4e88-b69e-386600f26db7"
   },
   "outputs": [
    {
     "data": {
      "image/png": "[encoded data removed]",
      "text/plain": [
       "<Figure size 432x288 with 1 Axes>"
      ]
     },
     "metadata": {
      "tags": []
     },
     "output_type": "display_data"
    }
   ],
   "source": [
    "\n",
    "import matplotlib.pyplot as plt \n",
    "plt.bar(range(1,18), var_explained, alpha=0.5, align='center', label='individual explained variance')\n",
    "plt.step(range(1,18),cum_var_exp, where= 'mid', label='cumulative explained variance')\n",
    "plt.ylabel('Explained variance ratio')\n",
    "plt.xlabel('Principal components')\n",
    "plt.legend(loc = 'best')\n",
    "plt.show()"
   ]
  },
  {
   "cell_type": "code",
   "execution_count": 35,
   "metadata": {
    "colab": {
     "base_uri": "https://localhost:8080/",
     "height": 1000
    },
    "colab_type": "code",
    "executionInfo": {
     "elapsed": 77499,
     "status": "ok",
     "timestamp": 1563951431374,
     "user": {
      "displayName": "Abdul Sheraz",
      "photoUrl": "",
      "userId": "02569957655710563099"
     },
     "user_tz": -330
    },
    "id": "Xr2vX1-2yvZl",
    "outputId": "0580634a-0ef4-48eb-e118-b97b00926a8b"
   },
   "outputs": [
    {
     "data": {
      "text/html": [
       "<div>\n",
       "<style scoped>\n",
       "    .dataframe tbody tr th:only-of-type {\n",
       "        vertical-align: middle;\n",
       "    }\n",
       "\n",
       "    .dataframe tbody tr th {\n",
       "        vertical-align: top;\n",
       "    }\n",
       "\n",
       "    .dataframe thead th {\n",
       "        text-align: right;\n",
       "    }\n",
       "</style>\n",
       "<table border=\"1\" class=\"dataframe\">\n",
       "  <thead>\n",
       "    <tr style=\"text-align: right;\">\n",
       "      <th></th>\n",
       "      <th>bedrooms</th>\n",
       "      <th>bathrooms</th>\n",
       "      <th>sqft_living</th>\n",
       "      <th>sqft_lot</th>\n",
       "      <th>floors</th>\n",
       "      <th>waterfront</th>\n",
       "      <th>view</th>\n",
       "      <th>condition</th>\n",
       "      <th>grade</th>\n",
       "      <th>sqft_above</th>\n",
       "      <th>sqft_basement</th>\n",
       "      <th>yr_built</th>\n",
       "      <th>yr_renovated</th>\n",
       "      <th>lat</th>\n",
       "      <th>long</th>\n",
       "      <th>sqft_living15</th>\n",
       "      <th>sqft_lot15</th>\n",
       "    </tr>\n",
       "  </thead>\n",
       "  <tbody>\n",
       "    <tr>\n",
       "      <th>730</th>\n",
       "      <td>3</td>\n",
       "      <td>1.75</td>\n",
       "      <td>1970</td>\n",
       "      <td>7972</td>\n",
       "      <td>1.0</td>\n",
       "      <td>0</td>\n",
       "      <td>3</td>\n",
       "      <td>5</td>\n",
       "      <td>8</td>\n",
       "      <td>1370</td>\n",
       "      <td>600</td>\n",
       "      <td>1976</td>\n",
       "      <td>0</td>\n",
       "      <td>47.4908</td>\n",
       "      <td>-122.225</td>\n",
       "      <td>2460</td>\n",
       "      <td>9796</td>\n",
       "    </tr>\n",
       "    <tr>\n",
       "      <th>669</th>\n",
       "      <td>4</td>\n",
       "      <td>3.25</td>\n",
       "      <td>3160</td>\n",
       "      <td>5000</td>\n",
       "      <td>2.0</td>\n",
       "      <td>0</td>\n",
       "      <td>0</td>\n",
       "      <td>5</td>\n",
       "      <td>9</td>\n",
       "      <td>2360</td>\n",
       "      <td>800</td>\n",
       "      <td>1965</td>\n",
       "      <td>0</td>\n",
       "      <td>47.6597</td>\n",
       "      <td>-122.274</td>\n",
       "      <td>2220</td>\n",
       "      <td>4000</td>\n",
       "    </tr>\n",
       "    <tr>\n",
       "      <th>639</th>\n",
       "      <td>3</td>\n",
       "      <td>1.50</td>\n",
       "      <td>3000</td>\n",
       "      <td>5750</td>\n",
       "      <td>2.0</td>\n",
       "      <td>0</td>\n",
       "      <td>0</td>\n",
       "      <td>5</td>\n",
       "      <td>9</td>\n",
       "      <td>2000</td>\n",
       "      <td>1000</td>\n",
       "      <td>1924</td>\n",
       "      <td>0</td>\n",
       "      <td>47.5821</td>\n",
       "      <td>-122.390</td>\n",
       "      <td>1820</td>\n",
       "      <td>5750</td>\n",
       "    </tr>\n",
       "    <tr>\n",
       "      <th>803</th>\n",
       "      <td>5</td>\n",
       "      <td>2.50</td>\n",
       "      <td>2990</td>\n",
       "      <td>15085</td>\n",
       "      <td>2.0</td>\n",
       "      <td>0</td>\n",
       "      <td>0</td>\n",
       "      <td>3</td>\n",
       "      <td>9</td>\n",
       "      <td>2990</td>\n",
       "      <td>0</td>\n",
       "      <td>2007</td>\n",
       "      <td>0</td>\n",
       "      <td>47.7460</td>\n",
       "      <td>-122.218</td>\n",
       "      <td>3150</td>\n",
       "      <td>13076</td>\n",
       "    </tr>\n",
       "    <tr>\n",
       "      <th>736</th>\n",
       "      <td>3</td>\n",
       "      <td>1.00</td>\n",
       "      <td>1910</td>\n",
       "      <td>8167</td>\n",
       "      <td>1.0</td>\n",
       "      <td>0</td>\n",
       "      <td>0</td>\n",
       "      <td>4</td>\n",
       "      <td>8</td>\n",
       "      <td>1270</td>\n",
       "      <td>640</td>\n",
       "      <td>1951</td>\n",
       "      <td>0</td>\n",
       "      <td>47.7004</td>\n",
       "      <td>-122.368</td>\n",
       "      <td>1500</td>\n",
       "      <td>6816</td>\n",
       "    </tr>\n",
       "    <tr>\n",
       "      <th>329</th>\n",
       "      <td>3</td>\n",
       "      <td>2.25</td>\n",
       "      <td>2370</td>\n",
       "      <td>10289</td>\n",
       "      <td>1.0</td>\n",
       "      <td>0</td>\n",
       "      <td>0</td>\n",
       "      <td>4</td>\n",
       "      <td>9</td>\n",
       "      <td>1590</td>\n",
       "      <td>780</td>\n",
       "      <td>1977</td>\n",
       "      <td>0</td>\n",
       "      <td>47.5920</td>\n",
       "      <td>-122.166</td>\n",
       "      <td>2500</td>\n",
       "      <td>10004</td>\n",
       "    </tr>\n",
       "    <tr>\n",
       "      <th>844</th>\n",
       "      <td>4</td>\n",
       "      <td>3.50</td>\n",
       "      <td>2000</td>\n",
       "      <td>2309</td>\n",
       "      <td>3.0</td>\n",
       "      <td>0</td>\n",
       "      <td>0</td>\n",
       "      <td>3</td>\n",
       "      <td>8</td>\n",
       "      <td>2000</td>\n",
       "      <td>0</td>\n",
       "      <td>2008</td>\n",
       "      <td>0</td>\n",
       "      <td>47.7027</td>\n",
       "      <td>-122.361</td>\n",
       "      <td>1440</td>\n",
       "      <td>1548</td>\n",
       "    </tr>\n",
       "    <tr>\n",
       "      <th>134</th>\n",
       "      <td>4</td>\n",
       "      <td>3.50</td>\n",
       "      <td>2140</td>\n",
       "      <td>2278</td>\n",
       "      <td>3.0</td>\n",
       "      <td>0</td>\n",
       "      <td>0</td>\n",
       "      <td>3</td>\n",
       "      <td>9</td>\n",
       "      <td>2140</td>\n",
       "      <td>0</td>\n",
       "      <td>2005</td>\n",
       "      <td>0</td>\n",
       "      <td>47.6734</td>\n",
       "      <td>-122.380</td>\n",
       "      <td>1540</td>\n",
       "      <td>2285</td>\n",
       "    </tr>\n",
       "    <tr>\n",
       "      <th>688</th>\n",
       "      <td>3</td>\n",
       "      <td>1.00</td>\n",
       "      <td>1220</td>\n",
       "      <td>8329</td>\n",
       "      <td>1.0</td>\n",
       "      <td>0</td>\n",
       "      <td>0</td>\n",
       "      <td>3</td>\n",
       "      <td>6</td>\n",
       "      <td>1220</td>\n",
       "      <td>0</td>\n",
       "      <td>1946</td>\n",
       "      <td>0</td>\n",
       "      <td>47.6982</td>\n",
       "      <td>-122.298</td>\n",
       "      <td>1490</td>\n",
       "      <td>8322</td>\n",
       "    </tr>\n",
       "    <tr>\n",
       "      <th>763</th>\n",
       "      <td>4</td>\n",
       "      <td>2.75</td>\n",
       "      <td>2730</td>\n",
       "      <td>4683</td>\n",
       "      <td>2.0</td>\n",
       "      <td>0</td>\n",
       "      <td>0</td>\n",
       "      <td>3</td>\n",
       "      <td>7</td>\n",
       "      <td>2730</td>\n",
       "      <td>0</td>\n",
       "      <td>2005</td>\n",
       "      <td>0</td>\n",
       "      <td>47.3608</td>\n",
       "      <td>-122.043</td>\n",
       "      <td>2230</td>\n",
       "      <td>4924</td>\n",
       "    </tr>\n",
       "    <tr>\n",
       "      <th>783</th>\n",
       "      <td>4</td>\n",
       "      <td>1.00</td>\n",
       "      <td>2000</td>\n",
       "      <td>4800</td>\n",
       "      <td>2.0</td>\n",
       "      <td>0</td>\n",
       "      <td>0</td>\n",
       "      <td>4</td>\n",
       "      <td>7</td>\n",
       "      <td>2000</td>\n",
       "      <td>0</td>\n",
       "      <td>1911</td>\n",
       "      <td>0</td>\n",
       "      <td>47.6583</td>\n",
       "      <td>-122.351</td>\n",
       "      <td>1260</td>\n",
       "      <td>1452</td>\n",
       "    </tr>\n",
       "    <tr>\n",
       "      <th>57</th>\n",
       "      <td>3</td>\n",
       "      <td>2.50</td>\n",
       "      <td>2420</td>\n",
       "      <td>4750</td>\n",
       "      <td>2.0</td>\n",
       "      <td>0</td>\n",
       "      <td>0</td>\n",
       "      <td>3</td>\n",
       "      <td>8</td>\n",
       "      <td>2420</td>\n",
       "      <td>0</td>\n",
       "      <td>2003</td>\n",
       "      <td>0</td>\n",
       "      <td>47.3663</td>\n",
       "      <td>-122.122</td>\n",
       "      <td>2690</td>\n",
       "      <td>4750</td>\n",
       "    </tr>\n",
       "    <tr>\n",
       "      <th>824</th>\n",
       "      <td>3</td>\n",
       "      <td>1.00</td>\n",
       "      <td>1810</td>\n",
       "      <td>7200</td>\n",
       "      <td>1.0</td>\n",
       "      <td>0</td>\n",
       "      <td>0</td>\n",
       "      <td>4</td>\n",
       "      <td>7</td>\n",
       "      <td>1130</td>\n",
       "      <td>680</td>\n",
       "      <td>1954</td>\n",
       "      <td>0</td>\n",
       "      <td>47.7493</td>\n",
       "      <td>-122.351</td>\n",
       "      <td>1810</td>\n",
       "      <td>8100</td>\n",
       "    </tr>\n",
       "    <tr>\n",
       "      <th>745</th>\n",
       "      <td>4</td>\n",
       "      <td>2.50</td>\n",
       "      <td>2940</td>\n",
       "      <td>6000</td>\n",
       "      <td>2.0</td>\n",
       "      <td>0</td>\n",
       "      <td>0</td>\n",
       "      <td>3</td>\n",
       "      <td>8</td>\n",
       "      <td>2940</td>\n",
       "      <td>0</td>\n",
       "      <td>2000</td>\n",
       "      <td>0</td>\n",
       "      <td>47.7533</td>\n",
       "      <td>-122.198</td>\n",
       "      <td>2510</td>\n",
       "      <td>6600</td>\n",
       "    </tr>\n",
       "    <tr>\n",
       "      <th>895</th>\n",
       "      <td>5</td>\n",
       "      <td>2.50</td>\n",
       "      <td>1710</td>\n",
       "      <td>7700</td>\n",
       "      <td>1.5</td>\n",
       "      <td>0</td>\n",
       "      <td>0</td>\n",
       "      <td>3</td>\n",
       "      <td>7</td>\n",
       "      <td>1710</td>\n",
       "      <td>0</td>\n",
       "      <td>1962</td>\n",
       "      <td>0</td>\n",
       "      <td>47.5922</td>\n",
       "      <td>-122.146</td>\n",
       "      <td>1530</td>\n",
       "      <td>7700</td>\n",
       "    </tr>\n",
       "    <tr>\n",
       "      <th>785</th>\n",
       "      <td>5</td>\n",
       "      <td>1.75</td>\n",
       "      <td>1930</td>\n",
       "      <td>8040</td>\n",
       "      <td>1.0</td>\n",
       "      <td>0</td>\n",
       "      <td>0</td>\n",
       "      <td>4</td>\n",
       "      <td>8</td>\n",
       "      <td>1930</td>\n",
       "      <td>0</td>\n",
       "      <td>1966</td>\n",
       "      <td>0</td>\n",
       "      <td>47.3109</td>\n",
       "      <td>-122.376</td>\n",
       "      <td>2370</td>\n",
       "      <td>8000</td>\n",
       "    </tr>\n",
       "    <tr>\n",
       "      <th>291</th>\n",
       "      <td>4</td>\n",
       "      <td>1.75</td>\n",
       "      <td>2950</td>\n",
       "      <td>9025</td>\n",
       "      <td>1.0</td>\n",
       "      <td>0</td>\n",
       "      <td>2</td>\n",
       "      <td>4</td>\n",
       "      <td>8</td>\n",
       "      <td>1780</td>\n",
       "      <td>1170</td>\n",
       "      <td>1975</td>\n",
       "      <td>0</td>\n",
       "      <td>47.7128</td>\n",
       "      <td>-122.223</td>\n",
       "      <td>2120</td>\n",
       "      <td>9600</td>\n",
       "    </tr>\n",
       "    <tr>\n",
       "      <th>46</th>\n",
       "      <td>3</td>\n",
       "      <td>1.00</td>\n",
       "      <td>990</td>\n",
       "      <td>8528</td>\n",
       "      <td>1.0</td>\n",
       "      <td>0</td>\n",
       "      <td>0</td>\n",
       "      <td>3</td>\n",
       "      <td>6</td>\n",
       "      <td>990</td>\n",
       "      <td>0</td>\n",
       "      <td>1966</td>\n",
       "      <td>0</td>\n",
       "      <td>47.3066</td>\n",
       "      <td>-122.371</td>\n",
       "      <td>1228</td>\n",
       "      <td>8840</td>\n",
       "    </tr>\n",
       "    <tr>\n",
       "      <th>277</th>\n",
       "      <td>4</td>\n",
       "      <td>2.75</td>\n",
       "      <td>3820</td>\n",
       "      <td>26300</td>\n",
       "      <td>2.0</td>\n",
       "      <td>0</td>\n",
       "      <td>0</td>\n",
       "      <td>3</td>\n",
       "      <td>9</td>\n",
       "      <td>2850</td>\n",
       "      <td>970</td>\n",
       "      <td>2014</td>\n",
       "      <td>0</td>\n",
       "      <td>47.7618</td>\n",
       "      <td>-122.261</td>\n",
       "      <td>1860</td>\n",
       "      <td>12136</td>\n",
       "    </tr>\n",
       "    <tr>\n",
       "      <th>840</th>\n",
       "      <td>4</td>\n",
       "      <td>1.75</td>\n",
       "      <td>1660</td>\n",
       "      <td>10725</td>\n",
       "      <td>1.0</td>\n",
       "      <td>0</td>\n",
       "      <td>0</td>\n",
       "      <td>3</td>\n",
       "      <td>7</td>\n",
       "      <td>960</td>\n",
       "      <td>700</td>\n",
       "      <td>1956</td>\n",
       "      <td>0</td>\n",
       "      <td>47.5033</td>\n",
       "      <td>-122.300</td>\n",
       "      <td>1340</td>\n",
       "      <td>9023</td>\n",
       "    </tr>\n",
       "    <tr>\n",
       "      <th>970</th>\n",
       "      <td>3</td>\n",
       "      <td>1.75</td>\n",
       "      <td>1330</td>\n",
       "      <td>5000</td>\n",
       "      <td>2.0</td>\n",
       "      <td>0</td>\n",
       "      <td>0</td>\n",
       "      <td>4</td>\n",
       "      <td>7</td>\n",
       "      <td>1210</td>\n",
       "      <td>120</td>\n",
       "      <td>1909</td>\n",
       "      <td>0</td>\n",
       "      <td>47.5724</td>\n",
       "      <td>-122.384</td>\n",
       "      <td>1500</td>\n",
       "      <td>4000</td>\n",
       "    </tr>\n",
       "    <tr>\n",
       "      <th>224</th>\n",
       "      <td>3</td>\n",
       "      <td>2.25</td>\n",
       "      <td>2020</td>\n",
       "      <td>8379</td>\n",
       "      <td>2.0</td>\n",
       "      <td>0</td>\n",
       "      <td>0</td>\n",
       "      <td>3</td>\n",
       "      <td>7</td>\n",
       "      <td>2020</td>\n",
       "      <td>0</td>\n",
       "      <td>1994</td>\n",
       "      <td>0</td>\n",
       "      <td>47.3828</td>\n",
       "      <td>-122.023</td>\n",
       "      <td>2020</td>\n",
       "      <td>8031</td>\n",
       "    </tr>\n",
       "    <tr>\n",
       "      <th>530</th>\n",
       "      <td>3</td>\n",
       "      <td>2.50</td>\n",
       "      <td>1780</td>\n",
       "      <td>7848</td>\n",
       "      <td>1.0</td>\n",
       "      <td>0</td>\n",
       "      <td>0</td>\n",
       "      <td>3</td>\n",
       "      <td>7</td>\n",
       "      <td>1320</td>\n",
       "      <td>460</td>\n",
       "      <td>1978</td>\n",
       "      <td>0</td>\n",
       "      <td>47.3608</td>\n",
       "      <td>-122.056</td>\n",
       "      <td>1680</td>\n",
       "      <td>7848</td>\n",
       "    </tr>\n",
       "    <tr>\n",
       "      <th>280</th>\n",
       "      <td>4</td>\n",
       "      <td>1.75</td>\n",
       "      <td>2600</td>\n",
       "      <td>11325</td>\n",
       "      <td>1.0</td>\n",
       "      <td>0</td>\n",
       "      <td>0</td>\n",
       "      <td>4</td>\n",
       "      <td>7</td>\n",
       "      <td>1610</td>\n",
       "      <td>990</td>\n",
       "      <td>1969</td>\n",
       "      <td>0</td>\n",
       "      <td>47.3954</td>\n",
       "      <td>-122.206</td>\n",
       "      <td>1720</td>\n",
       "      <td>11088</td>\n",
       "    </tr>\n",
       "    <tr>\n",
       "      <th>0</th>\n",
       "      <td>3</td>\n",
       "      <td>1.00</td>\n",
       "      <td>1180</td>\n",
       "      <td>5650</td>\n",
       "      <td>1.0</td>\n",
       "      <td>0</td>\n",
       "      <td>0</td>\n",
       "      <td>3</td>\n",
       "      <td>7</td>\n",
       "      <td>1180</td>\n",
       "      <td>0</td>\n",
       "      <td>1955</td>\n",
       "      <td>0</td>\n",
       "      <td>47.5112</td>\n",
       "      <td>-122.257</td>\n",
       "      <td>1340</td>\n",
       "      <td>5650</td>\n",
       "    </tr>\n",
       "    <tr>\n",
       "      <th>913</th>\n",
       "      <td>4</td>\n",
       "      <td>1.75</td>\n",
       "      <td>2100</td>\n",
       "      <td>7135</td>\n",
       "      <td>1.0</td>\n",
       "      <td>0</td>\n",
       "      <td>0</td>\n",
       "      <td>4</td>\n",
       "      <td>7</td>\n",
       "      <td>1050</td>\n",
       "      <td>1050</td>\n",
       "      <td>1955</td>\n",
       "      <td>0</td>\n",
       "      <td>47.5353</td>\n",
       "      <td>-122.349</td>\n",
       "      <td>1730</td>\n",
       "      <td>4000</td>\n",
       "    </tr>\n",
       "    <tr>\n",
       "      <th>495</th>\n",
       "      <td>2</td>\n",
       "      <td>2.50</td>\n",
       "      <td>1230</td>\n",
       "      <td>1391</td>\n",
       "      <td>2.0</td>\n",
       "      <td>0</td>\n",
       "      <td>0</td>\n",
       "      <td>3</td>\n",
       "      <td>8</td>\n",
       "      <td>870</td>\n",
       "      <td>360</td>\n",
       "      <td>2004</td>\n",
       "      <td>0</td>\n",
       "      <td>47.6192</td>\n",
       "      <td>-122.301</td>\n",
       "      <td>1240</td>\n",
       "      <td>1350</td>\n",
       "    </tr>\n",
       "    <tr>\n",
       "      <th>66</th>\n",
       "      <td>4</td>\n",
       "      <td>2.50</td>\n",
       "      <td>2720</td>\n",
       "      <td>11049</td>\n",
       "      <td>2.0</td>\n",
       "      <td>0</td>\n",
       "      <td>0</td>\n",
       "      <td>3</td>\n",
       "      <td>10</td>\n",
       "      <td>2720</td>\n",
       "      <td>0</td>\n",
       "      <td>1989</td>\n",
       "      <td>0</td>\n",
       "      <td>47.5815</td>\n",
       "      <td>-122.192</td>\n",
       "      <td>2750</td>\n",
       "      <td>11049</td>\n",
       "    </tr>\n",
       "    <tr>\n",
       "      <th>403</th>\n",
       "      <td>3</td>\n",
       "      <td>2.50</td>\n",
       "      <td>1750</td>\n",
       "      <td>22357</td>\n",
       "      <td>2.0</td>\n",
       "      <td>0</td>\n",
       "      <td>0</td>\n",
       "      <td>3</td>\n",
       "      <td>8</td>\n",
       "      <td>1750</td>\n",
       "      <td>0</td>\n",
       "      <td>1994</td>\n",
       "      <td>0</td>\n",
       "      <td>47.4807</td>\n",
       "      <td>-121.779</td>\n",
       "      <td>2430</td>\n",
       "      <td>22357</td>\n",
       "    </tr>\n",
       "    <tr>\n",
       "      <th>563</th>\n",
       "      <td>4</td>\n",
       "      <td>2.50</td>\n",
       "      <td>4120</td>\n",
       "      <td>22370</td>\n",
       "      <td>2.0</td>\n",
       "      <td>0</td>\n",
       "      <td>0</td>\n",
       "      <td>3</td>\n",
       "      <td>10</td>\n",
       "      <td>4120</td>\n",
       "      <td>0</td>\n",
       "      <td>1997</td>\n",
       "      <td>0</td>\n",
       "      <td>47.6239</td>\n",
       "      <td>-122.023</td>\n",
       "      <td>3180</td>\n",
       "      <td>7257</td>\n",
       "    </tr>\n",
       "    <tr>\n",
       "      <th>...</th>\n",
       "      <td>...</td>\n",
       "      <td>...</td>\n",
       "      <td>...</td>\n",
       "      <td>...</td>\n",
       "      <td>...</td>\n",
       "      <td>...</td>\n",
       "      <td>...</td>\n",
       "      <td>...</td>\n",
       "      <td>...</td>\n",
       "      <td>...</td>\n",
       "      <td>...</td>\n",
       "      <td>...</td>\n",
       "      <td>...</td>\n",
       "      <td>...</td>\n",
       "      <td>...</td>\n",
       "      <td>...</td>\n",
       "      <td>...</td>\n",
       "    </tr>\n",
       "    <tr>\n",
       "      <th>398</th>\n",
       "      <td>3</td>\n",
       "      <td>2.50</td>\n",
       "      <td>2160</td>\n",
       "      <td>3000</td>\n",
       "      <td>1.5</td>\n",
       "      <td>0</td>\n",
       "      <td>0</td>\n",
       "      <td>3</td>\n",
       "      <td>7</td>\n",
       "      <td>1260</td>\n",
       "      <td>900</td>\n",
       "      <td>1909</td>\n",
       "      <td>2011</td>\n",
       "      <td>47.5644</td>\n",
       "      <td>-122.289</td>\n",
       "      <td>1060</td>\n",
       "      <td>3500</td>\n",
       "    </tr>\n",
       "    <tr>\n",
       "      <th>925</th>\n",
       "      <td>4</td>\n",
       "      <td>2.50</td>\n",
       "      <td>2780</td>\n",
       "      <td>10480</td>\n",
       "      <td>1.0</td>\n",
       "      <td>0</td>\n",
       "      <td>3</td>\n",
       "      <td>3</td>\n",
       "      <td>7</td>\n",
       "      <td>1390</td>\n",
       "      <td>1390</td>\n",
       "      <td>1967</td>\n",
       "      <td>0</td>\n",
       "      <td>47.6597</td>\n",
       "      <td>-122.204</td>\n",
       "      <td>2860</td>\n",
       "      <td>10506</td>\n",
       "    </tr>\n",
       "    <tr>\n",
       "      <th>668</th>\n",
       "      <td>3</td>\n",
       "      <td>1.50</td>\n",
       "      <td>1950</td>\n",
       "      <td>15954</td>\n",
       "      <td>1.0</td>\n",
       "      <td>0</td>\n",
       "      <td>0</td>\n",
       "      <td>4</td>\n",
       "      <td>8</td>\n",
       "      <td>1950</td>\n",
       "      <td>0</td>\n",
       "      <td>1959</td>\n",
       "      <td>0</td>\n",
       "      <td>47.3360</td>\n",
       "      <td>-122.319</td>\n",
       "      <td>1940</td>\n",
       "      <td>12667</td>\n",
       "    </tr>\n",
       "    <tr>\n",
       "      <th>490</th>\n",
       "      <td>4</td>\n",
       "      <td>1.50</td>\n",
       "      <td>1580</td>\n",
       "      <td>7350</td>\n",
       "      <td>1.0</td>\n",
       "      <td>0</td>\n",
       "      <td>0</td>\n",
       "      <td>4</td>\n",
       "      <td>7</td>\n",
       "      <td>960</td>\n",
       "      <td>620</td>\n",
       "      <td>1963</td>\n",
       "      <td>0</td>\n",
       "      <td>47.6734</td>\n",
       "      <td>-122.154</td>\n",
       "      <td>1560</td>\n",
       "      <td>7350</td>\n",
       "    </tr>\n",
       "    <tr>\n",
       "      <th>252</th>\n",
       "      <td>3</td>\n",
       "      <td>2.25</td>\n",
       "      <td>1510</td>\n",
       "      <td>36224</td>\n",
       "      <td>2.0</td>\n",
       "      <td>0</td>\n",
       "      <td>0</td>\n",
       "      <td>3</td>\n",
       "      <td>8</td>\n",
       "      <td>1510</td>\n",
       "      <td>0</td>\n",
       "      <td>1991</td>\n",
       "      <td>0</td>\n",
       "      <td>47.4616</td>\n",
       "      <td>-121.711</td>\n",
       "      <td>1730</td>\n",
       "      <td>36224</td>\n",
       "    </tr>\n",
       "    <tr>\n",
       "      <th>907</th>\n",
       "      <td>3</td>\n",
       "      <td>1.75</td>\n",
       "      <td>1410</td>\n",
       "      <td>9315</td>\n",
       "      <td>1.0</td>\n",
       "      <td>0</td>\n",
       "      <td>0</td>\n",
       "      <td>5</td>\n",
       "      <td>7</td>\n",
       "      <td>1410</td>\n",
       "      <td>0</td>\n",
       "      <td>1960</td>\n",
       "      <td>0</td>\n",
       "      <td>47.3969</td>\n",
       "      <td>-122.198</td>\n",
       "      <td>1630</td>\n",
       "      <td>8250</td>\n",
       "    </tr>\n",
       "    <tr>\n",
       "      <th>468</th>\n",
       "      <td>3</td>\n",
       "      <td>2.00</td>\n",
       "      <td>2270</td>\n",
       "      <td>28025</td>\n",
       "      <td>1.0</td>\n",
       "      <td>0</td>\n",
       "      <td>0</td>\n",
       "      <td>4</td>\n",
       "      <td>7</td>\n",
       "      <td>1920</td>\n",
       "      <td>350</td>\n",
       "      <td>1947</td>\n",
       "      <td>0</td>\n",
       "      <td>47.4857</td>\n",
       "      <td>-122.318</td>\n",
       "      <td>1770</td>\n",
       "      <td>14833</td>\n",
       "    </tr>\n",
       "    <tr>\n",
       "      <th>914</th>\n",
       "      <td>3</td>\n",
       "      <td>2.50</td>\n",
       "      <td>1750</td>\n",
       "      <td>7208</td>\n",
       "      <td>2.0</td>\n",
       "      <td>0</td>\n",
       "      <td>0</td>\n",
       "      <td>3</td>\n",
       "      <td>8</td>\n",
       "      <td>1750</td>\n",
       "      <td>0</td>\n",
       "      <td>1994</td>\n",
       "      <td>0</td>\n",
       "      <td>47.4315</td>\n",
       "      <td>-122.192</td>\n",
       "      <td>2050</td>\n",
       "      <td>7524</td>\n",
       "    </tr>\n",
       "    <tr>\n",
       "      <th>357</th>\n",
       "      <td>4</td>\n",
       "      <td>1.00</td>\n",
       "      <td>1750</td>\n",
       "      <td>9600</td>\n",
       "      <td>1.5</td>\n",
       "      <td>0</td>\n",
       "      <td>0</td>\n",
       "      <td>4</td>\n",
       "      <td>7</td>\n",
       "      <td>1750</td>\n",
       "      <td>0</td>\n",
       "      <td>1954</td>\n",
       "      <td>0</td>\n",
       "      <td>47.5759</td>\n",
       "      <td>-122.137</td>\n",
       "      <td>1750</td>\n",
       "      <td>10530</td>\n",
       "    </tr>\n",
       "    <tr>\n",
       "      <th>254</th>\n",
       "      <td>3</td>\n",
       "      <td>2.50</td>\n",
       "      <td>1730</td>\n",
       "      <td>7442</td>\n",
       "      <td>2.0</td>\n",
       "      <td>0</td>\n",
       "      <td>0</td>\n",
       "      <td>3</td>\n",
       "      <td>7</td>\n",
       "      <td>1730</td>\n",
       "      <td>0</td>\n",
       "      <td>1987</td>\n",
       "      <td>0</td>\n",
       "      <td>47.3507</td>\n",
       "      <td>-122.178</td>\n",
       "      <td>1630</td>\n",
       "      <td>6458</td>\n",
       "    </tr>\n",
       "    <tr>\n",
       "      <th>276</th>\n",
       "      <td>3</td>\n",
       "      <td>2.00</td>\n",
       "      <td>2290</td>\n",
       "      <td>16258</td>\n",
       "      <td>1.0</td>\n",
       "      <td>0</td>\n",
       "      <td>0</td>\n",
       "      <td>5</td>\n",
       "      <td>8</td>\n",
       "      <td>2290</td>\n",
       "      <td>0</td>\n",
       "      <td>1960</td>\n",
       "      <td>0</td>\n",
       "      <td>47.4672</td>\n",
       "      <td>-122.165</td>\n",
       "      <td>1660</td>\n",
       "      <td>10530</td>\n",
       "    </tr>\n",
       "    <tr>\n",
       "      <th>178</th>\n",
       "      <td>3</td>\n",
       "      <td>1.50</td>\n",
       "      <td>1950</td>\n",
       "      <td>7560</td>\n",
       "      <td>1.0</td>\n",
       "      <td>0</td>\n",
       "      <td>2</td>\n",
       "      <td>4</td>\n",
       "      <td>7</td>\n",
       "      <td>1320</td>\n",
       "      <td>630</td>\n",
       "      <td>1975</td>\n",
       "      <td>0</td>\n",
       "      <td>47.1976</td>\n",
       "      <td>-121.999</td>\n",
       "      <td>1950</td>\n",
       "      <td>8941</td>\n",
       "    </tr>\n",
       "    <tr>\n",
       "      <th>281</th>\n",
       "      <td>2</td>\n",
       "      <td>1.00</td>\n",
       "      <td>860</td>\n",
       "      <td>5265</td>\n",
       "      <td>1.0</td>\n",
       "      <td>0</td>\n",
       "      <td>0</td>\n",
       "      <td>3</td>\n",
       "      <td>6</td>\n",
       "      <td>860</td>\n",
       "      <td>0</td>\n",
       "      <td>1931</td>\n",
       "      <td>0</td>\n",
       "      <td>47.5048</td>\n",
       "      <td>-122.272</td>\n",
       "      <td>1650</td>\n",
       "      <td>8775</td>\n",
       "    </tr>\n",
       "    <tr>\n",
       "      <th>390</th>\n",
       "      <td>4</td>\n",
       "      <td>1.00</td>\n",
       "      <td>1550</td>\n",
       "      <td>7620</td>\n",
       "      <td>1.5</td>\n",
       "      <td>0</td>\n",
       "      <td>0</td>\n",
       "      <td>3</td>\n",
       "      <td>7</td>\n",
       "      <td>1550</td>\n",
       "      <td>0</td>\n",
       "      <td>1957</td>\n",
       "      <td>0</td>\n",
       "      <td>47.5287</td>\n",
       "      <td>-122.350</td>\n",
       "      <td>1450</td>\n",
       "      <td>7620</td>\n",
       "    </tr>\n",
       "    <tr>\n",
       "      <th>508</th>\n",
       "      <td>2</td>\n",
       "      <td>1.00</td>\n",
       "      <td>1540</td>\n",
       "      <td>6872</td>\n",
       "      <td>1.0</td>\n",
       "      <td>0</td>\n",
       "      <td>0</td>\n",
       "      <td>4</td>\n",
       "      <td>7</td>\n",
       "      <td>820</td>\n",
       "      <td>720</td>\n",
       "      <td>1946</td>\n",
       "      <td>0</td>\n",
       "      <td>47.6454</td>\n",
       "      <td>-122.373</td>\n",
       "      <td>1420</td>\n",
       "      <td>5538</td>\n",
       "    </tr>\n",
       "    <tr>\n",
       "      <th>749</th>\n",
       "      <td>4</td>\n",
       "      <td>1.50</td>\n",
       "      <td>1510</td>\n",
       "      <td>6460</td>\n",
       "      <td>1.0</td>\n",
       "      <td>0</td>\n",
       "      <td>0</td>\n",
       "      <td>3</td>\n",
       "      <td>7</td>\n",
       "      <td>1070</td>\n",
       "      <td>440</td>\n",
       "      <td>1970</td>\n",
       "      <td>0</td>\n",
       "      <td>47.7121</td>\n",
       "      <td>-122.214</td>\n",
       "      <td>1450</td>\n",
       "      <td>6630</td>\n",
       "    </tr>\n",
       "    <tr>\n",
       "      <th>583</th>\n",
       "      <td>4</td>\n",
       "      <td>2.25</td>\n",
       "      <td>2060</td>\n",
       "      <td>10070</td>\n",
       "      <td>2.0</td>\n",
       "      <td>0</td>\n",
       "      <td>0</td>\n",
       "      <td>3</td>\n",
       "      <td>7</td>\n",
       "      <td>2060</td>\n",
       "      <td>0</td>\n",
       "      <td>1975</td>\n",
       "      <td>0</td>\n",
       "      <td>47.7258</td>\n",
       "      <td>-122.177</td>\n",
       "      <td>2060</td>\n",
       "      <td>8155</td>\n",
       "    </tr>\n",
       "    <tr>\n",
       "      <th>972</th>\n",
       "      <td>3</td>\n",
       "      <td>1.25</td>\n",
       "      <td>1510</td>\n",
       "      <td>13737</td>\n",
       "      <td>1.0</td>\n",
       "      <td>0</td>\n",
       "      <td>3</td>\n",
       "      <td>4</td>\n",
       "      <td>6</td>\n",
       "      <td>810</td>\n",
       "      <td>700</td>\n",
       "      <td>1961</td>\n",
       "      <td>0</td>\n",
       "      <td>47.7289</td>\n",
       "      <td>-122.283</td>\n",
       "      <td>2560</td>\n",
       "      <td>10202</td>\n",
       "    </tr>\n",
       "    <tr>\n",
       "      <th>129</th>\n",
       "      <td>4</td>\n",
       "      <td>2.50</td>\n",
       "      <td>2070</td>\n",
       "      <td>4310</td>\n",
       "      <td>2.0</td>\n",
       "      <td>0</td>\n",
       "      <td>0</td>\n",
       "      <td>3</td>\n",
       "      <td>7</td>\n",
       "      <td>2070</td>\n",
       "      <td>0</td>\n",
       "      <td>2004</td>\n",
       "      <td>0</td>\n",
       "      <td>47.5319</td>\n",
       "      <td>-121.850</td>\n",
       "      <td>1970</td>\n",
       "      <td>3748</td>\n",
       "    </tr>\n",
       "    <tr>\n",
       "      <th>144</th>\n",
       "      <td>4</td>\n",
       "      <td>2.25</td>\n",
       "      <td>2030</td>\n",
       "      <td>8517</td>\n",
       "      <td>1.0</td>\n",
       "      <td>0</td>\n",
       "      <td>0</td>\n",
       "      <td>4</td>\n",
       "      <td>8</td>\n",
       "      <td>1380</td>\n",
       "      <td>650</td>\n",
       "      <td>1961</td>\n",
       "      <td>0</td>\n",
       "      <td>47.5495</td>\n",
       "      <td>-122.174</td>\n",
       "      <td>2230</td>\n",
       "      <td>8824</td>\n",
       "    </tr>\n",
       "    <tr>\n",
       "      <th>960</th>\n",
       "      <td>4</td>\n",
       "      <td>2.00</td>\n",
       "      <td>2208</td>\n",
       "      <td>5000</td>\n",
       "      <td>3.0</td>\n",
       "      <td>0</td>\n",
       "      <td>0</td>\n",
       "      <td>5</td>\n",
       "      <td>8</td>\n",
       "      <td>2208</td>\n",
       "      <td>0</td>\n",
       "      <td>1917</td>\n",
       "      <td>0</td>\n",
       "      <td>47.5711</td>\n",
       "      <td>-122.383</td>\n",
       "      <td>1760</td>\n",
       "      <td>5000</td>\n",
       "    </tr>\n",
       "    <tr>\n",
       "      <th>847</th>\n",
       "      <td>3</td>\n",
       "      <td>1.75</td>\n",
       "      <td>4000</td>\n",
       "      <td>11894</td>\n",
       "      <td>1.0</td>\n",
       "      <td>0</td>\n",
       "      <td>0</td>\n",
       "      <td>3</td>\n",
       "      <td>9</td>\n",
       "      <td>2190</td>\n",
       "      <td>1810</td>\n",
       "      <td>1987</td>\n",
       "      <td>0</td>\n",
       "      <td>47.7738</td>\n",
       "      <td>-122.203</td>\n",
       "      <td>2530</td>\n",
       "      <td>8650</td>\n",
       "    </tr>\n",
       "    <tr>\n",
       "      <th>645</th>\n",
       "      <td>3</td>\n",
       "      <td>1.75</td>\n",
       "      <td>1760</td>\n",
       "      <td>6500</td>\n",
       "      <td>1.0</td>\n",
       "      <td>0</td>\n",
       "      <td>0</td>\n",
       "      <td>3</td>\n",
       "      <td>7</td>\n",
       "      <td>1150</td>\n",
       "      <td>610</td>\n",
       "      <td>1987</td>\n",
       "      <td>0</td>\n",
       "      <td>47.3647</td>\n",
       "      <td>-122.050</td>\n",
       "      <td>1760</td>\n",
       "      <td>8125</td>\n",
       "    </tr>\n",
       "    <tr>\n",
       "      <th>715</th>\n",
       "      <td>4</td>\n",
       "      <td>1.75</td>\n",
       "      <td>1710</td>\n",
       "      <td>7140</td>\n",
       "      <td>1.0</td>\n",
       "      <td>0</td>\n",
       "      <td>0</td>\n",
       "      <td>5</td>\n",
       "      <td>7</td>\n",
       "      <td>1010</td>\n",
       "      <td>700</td>\n",
       "      <td>1968</td>\n",
       "      <td>0</td>\n",
       "      <td>47.3745</td>\n",
       "      <td>-122.275</td>\n",
       "      <td>1770</td>\n",
       "      <td>8960</td>\n",
       "    </tr>\n",
       "    <tr>\n",
       "      <th>905</th>\n",
       "      <td>3</td>\n",
       "      <td>1.75</td>\n",
       "      <td>1250</td>\n",
       "      <td>6041</td>\n",
       "      <td>1.5</td>\n",
       "      <td>0</td>\n",
       "      <td>0</td>\n",
       "      <td>5</td>\n",
       "      <td>7</td>\n",
       "      <td>1250</td>\n",
       "      <td>0</td>\n",
       "      <td>1942</td>\n",
       "      <td>0</td>\n",
       "      <td>47.6900</td>\n",
       "      <td>-122.304</td>\n",
       "      <td>1180</td>\n",
       "      <td>6042</td>\n",
       "    </tr>\n",
       "    <tr>\n",
       "      <th>767</th>\n",
       "      <td>3</td>\n",
       "      <td>1.75</td>\n",
       "      <td>1100</td>\n",
       "      <td>10968</td>\n",
       "      <td>1.0</td>\n",
       "      <td>0</td>\n",
       "      <td>0</td>\n",
       "      <td>5</td>\n",
       "      <td>7</td>\n",
       "      <td>1100</td>\n",
       "      <td>0</td>\n",
       "      <td>1984</td>\n",
       "      <td>0</td>\n",
       "      <td>47.3630</td>\n",
       "      <td>-122.080</td>\n",
       "      <td>1400</td>\n",
       "      <td>7799</td>\n",
       "    </tr>\n",
       "    <tr>\n",
       "      <th>72</th>\n",
       "      <td>4</td>\n",
       "      <td>2.00</td>\n",
       "      <td>2750</td>\n",
       "      <td>7807</td>\n",
       "      <td>1.5</td>\n",
       "      <td>0</td>\n",
       "      <td>0</td>\n",
       "      <td>5</td>\n",
       "      <td>7</td>\n",
       "      <td>2250</td>\n",
       "      <td>500</td>\n",
       "      <td>1916</td>\n",
       "      <td>0</td>\n",
       "      <td>47.7168</td>\n",
       "      <td>-122.287</td>\n",
       "      <td>1510</td>\n",
       "      <td>7807</td>\n",
       "    </tr>\n",
       "    <tr>\n",
       "      <th>908</th>\n",
       "      <td>5</td>\n",
       "      <td>2.75</td>\n",
       "      <td>2160</td>\n",
       "      <td>5720</td>\n",
       "      <td>1.0</td>\n",
       "      <td>0</td>\n",
       "      <td>0</td>\n",
       "      <td>5</td>\n",
       "      <td>7</td>\n",
       "      <td>1500</td>\n",
       "      <td>660</td>\n",
       "      <td>1950</td>\n",
       "      <td>0</td>\n",
       "      <td>47.5728</td>\n",
       "      <td>-122.304</td>\n",
       "      <td>2160</td>\n",
       "      <td>4996</td>\n",
       "    </tr>\n",
       "    <tr>\n",
       "      <th>235</th>\n",
       "      <td>5</td>\n",
       "      <td>4.00</td>\n",
       "      <td>3760</td>\n",
       "      <td>28040</td>\n",
       "      <td>2.0</td>\n",
       "      <td>0</td>\n",
       "      <td>0</td>\n",
       "      <td>3</td>\n",
       "      <td>10</td>\n",
       "      <td>3760</td>\n",
       "      <td>0</td>\n",
       "      <td>1983</td>\n",
       "      <td>0</td>\n",
       "      <td>47.6489</td>\n",
       "      <td>-122.183</td>\n",
       "      <td>3430</td>\n",
       "      <td>35096</td>\n",
       "    </tr>\n",
       "    <tr>\n",
       "      <th>37</th>\n",
       "      <td>4</td>\n",
       "      <td>2.00</td>\n",
       "      <td>2360</td>\n",
       "      <td>6000</td>\n",
       "      <td>2.0</td>\n",
       "      <td>0</td>\n",
       "      <td>0</td>\n",
       "      <td>4</td>\n",
       "      <td>8</td>\n",
       "      <td>2360</td>\n",
       "      <td>0</td>\n",
       "      <td>1904</td>\n",
       "      <td>0</td>\n",
       "      <td>47.6702</td>\n",
       "      <td>-122.362</td>\n",
       "      <td>1730</td>\n",
       "      <td>4700</td>\n",
       "    </tr>\n",
       "  </tbody>\n",
       "</table>\n",
       "<p>699 rows × 17 columns</p>\n",
       "</div>"
      ],
      "text/plain": [
       "     bedrooms  bathrooms  sqft_living  ...     long  sqft_living15  sqft_lot15\n",
       "730         3       1.75         1970  ... -122.225           2460        9796\n",
       "669         4       3.25         3160  ... -122.274           2220        4000\n",
       "639         3       1.50         3000  ... -122.390           1820        5750\n",
       "803         5       2.50         2990  ... -122.218           3150       13076\n",
       "736         3       1.00         1910  ... -122.368           1500        6816\n",
       "329         3       2.25         2370  ... -122.166           2500       10004\n",
       "844         4       3.50         2000  ... -122.361           1440        1548\n",
       "134         4       3.50         2140  ... -122.380           1540        2285\n",
       "688         3       1.00         1220  ... -122.298           1490        8322\n",
       "763         4       2.75         2730  ... -122.043           2230        4924\n",
       "783         4       1.00         2000  ... -122.351           1260        1452\n",
       "57          3       2.50         2420  ... -122.122           2690        4750\n",
       "824         3       1.00         1810  ... -122.351           1810        8100\n",
       "745         4       2.50         2940  ... -122.198           2510        6600\n",
       "895         5       2.50         1710  ... -122.146           1530        7700\n",
       "785         5       1.75         1930  ... -122.376           2370        8000\n",
       "291         4       1.75         2950  ... -122.223           2120        9600\n",
       "46          3       1.00          990  ... -122.371           1228        8840\n",
       "277         4       2.75         3820  ... -122.261           1860       12136\n",
       "840         4       1.75         1660  ... -122.300           1340        9023\n",
       "970         3       1.75         1330  ... -122.384           1500        4000\n",
       "224         3       2.25         2020  ... -122.023           2020        8031\n",
       "530         3       2.50         1780  ... -122.056           1680        7848\n",
       "280         4       1.75         2600  ... -122.206           1720       11088\n",
       "0           3       1.00         1180  ... -122.257           1340        5650\n",
       "913         4       1.75         2100  ... -122.349           1730        4000\n",
       "495         2       2.50         1230  ... -122.301           1240        1350\n",
       "66          4       2.50         2720  ... -122.192           2750       11049\n",
       "403         3       2.50         1750  ... -121.779           2430       22357\n",
       "563         4       2.50         4120  ... -122.023           3180        7257\n",
       "..        ...        ...          ...  ...      ...            ...         ...\n",
       "398         3       2.50         2160  ... -122.289           1060        3500\n",
       "925         4       2.50         2780  ... -122.204           2860       10506\n",
       "668         3       1.50         1950  ... -122.319           1940       12667\n",
       "490         4       1.50         1580  ... -122.154           1560        7350\n",
       "252         3       2.25         1510  ... -121.711           1730       36224\n",
       "907         3       1.75         1410  ... -122.198           1630        8250\n",
       "468         3       2.00         2270  ... -122.318           1770       14833\n",
       "914         3       2.50         1750  ... -122.192           2050        7524\n",
       "357         4       1.00         1750  ... -122.137           1750       10530\n",
       "254         3       2.50         1730  ... -122.178           1630        6458\n",
       "276         3       2.00         2290  ... -122.165           1660       10530\n",
       "178         3       1.50         1950  ... -121.999           1950        8941\n",
       "281         2       1.00          860  ... -122.272           1650        8775\n",
       "390         4       1.00         1550  ... -122.350           1450        7620\n",
       "508         2       1.00         1540  ... -122.373           1420        5538\n",
       "749         4       1.50         1510  ... -122.214           1450        6630\n",
       "583         4       2.25         2060  ... -122.177           2060        8155\n",
       "972         3       1.25         1510  ... -122.283           2560       10202\n",
       "129         4       2.50         2070  ... -121.850           1970        3748\n",
       "144         4       2.25         2030  ... -122.174           2230        8824\n",
       "960         4       2.00         2208  ... -122.383           1760        5000\n",
       "847         3       1.75         4000  ... -122.203           2530        8650\n",
       "645         3       1.75         1760  ... -122.050           1760        8125\n",
       "715         4       1.75         1710  ... -122.275           1770        8960\n",
       "905         3       1.75         1250  ... -122.304           1180        6042\n",
       "767         3       1.75         1100  ... -122.080           1400        7799\n",
       "72          4       2.00         2750  ... -122.287           1510        7807\n",
       "908         5       2.75         2160  ... -122.304           2160        4996\n",
       "235         5       4.00         3760  ... -122.183           3430       35096\n",
       "37          4       2.00         2360  ... -122.362           1730        4700\n",
       "\n",
       "[699 rows x 17 columns]"
      ]
     },
     "execution_count": 35,
     "metadata": {
      "tags": []
     },
     "output_type": "execute_result"
    }
   ],
   "source": [
    "xtrain, xtest, ytrain, ytest = train_test_split(X, y, test_size=0.30, random_state=1)\n",
    "xtrain"
   ]
  },
  {
   "cell_type": "code",
   "execution_count": 36,
   "metadata": {
    "colab": {
     "base_uri": "https://localhost:8080/",
     "height": 119
    },
    "colab_type": "code",
    "executionInfo": {
     "elapsed": 77482,
     "status": "ok",
     "timestamp": 1563951431376,
     "user": {
      "displayName": "Abdul Sheraz",
      "photoUrl": "",
      "userId": "02569957655710563099"
     },
     "user_tz": -330
    },
    "id": "5o4_igkhyvZo",
    "outputId": "6bdd890a-18fc-430c-a871-044cce4b823a"
   },
   "outputs": [
    {
     "data": {
      "text/plain": [
       "DecisionTreeClassifier(class_weight=None, criterion='entropy', max_depth=None,\n",
       "                       max_features=None, max_leaf_nodes=None,\n",
       "                       min_impurity_decrease=0.0, min_impurity_split=None,\n",
       "                       min_samples_leaf=1, min_samples_split=2,\n",
       "                       min_weight_fraction_leaf=0.0, presort=False,\n",
       "                       random_state=None, splitter='best')"
      ]
     },
     "execution_count": 36,
     "metadata": {
      "tags": []
     },
     "output_type": "execute_result"
    }
   ],
   "source": [
    "dt_model2 = DecisionTreeClassifier(criterion = 'entropy' )\n",
    "dt_model2.fit(xtrain, ytrain)"
   ]
  },
  {
   "cell_type": "code",
   "execution_count": 0,
   "metadata": {
    "colab": {},
    "colab_type": "code",
    "id": "_87K_DObyvZq"
   },
   "outputs": [],
   "source": [
    "y_predict2=dt_model2.predict(xtest)"
   ]
  },
  {
   "cell_type": "code",
   "execution_count": 38,
   "metadata": {
    "colab": {
     "base_uri": "https://localhost:8080/",
     "height": 34
    },
    "colab_type": "code",
    "executionInfo": {
     "elapsed": 77470,
     "status": "ok",
     "timestamp": 1563951431385,
     "user": {
      "displayName": "Abdul Sheraz",
      "photoUrl": "",
      "userId": "02569957655710563099"
     },
     "user_tz": -330
    },
    "id": "t3SP6LcmyvZt",
    "outputId": "dc44ca0d-8064-452e-8831-317e8cb587a3"
   },
   "outputs": [
    {
     "data": {
      "text/plain": [
       "0.01"
      ]
     },
     "execution_count": 38,
     "metadata": {
      "tags": []
     },
     "output_type": "execute_result"
    }
   ],
   "source": [
    "acc2=metrics.accuracy_score(ytest,y_predict2)\n",
    "acc2"
   ]
  },
  {
   "cell_type": "markdown",
   "metadata": {},
   "source": [
    "Note: The original input file is containing 21614 records and when I am trying to run this notebook with the below techniques, the notebook was running more than 4 hours and not producing any results, may be my laptop configuration issue. Hence I have modified the input file to 1000 records and using the same file for below techniques."
   ]
  },
  {
   "cell_type": "code",
   "execution_count": 0,
   "metadata": {
    "colab": {},
    "colab_type": "code",
    "id": "SE0YPCASyvZv"
   },
   "outputs": [],
   "source": [
    "import matplotlib.pyplot as plt\n",
    "from sklearn import model_selection\n",
    "from sklearn.linear_model import LogisticRegression\n",
    "from sklearn.tree import DecisionTreeClassifier\n",
    "from sklearn.neighbors import KNeighborsClassifier\n",
    "from sklearn.naive_bayes import GaussianNB\n",
    "from sklearn.svm import SVC"
   ]
  },
  {
   "cell_type": "code",
   "execution_count": 40,
   "metadata": {
    "colab": {
     "base_uri": "https://localhost:8080/",
     "height": 1000
    },
    "colab_type": "code",
    "executionInfo": {
     "elapsed": 107927,
     "status": "ok",
     "timestamp": 1563951461867,
     "user": {
      "displayName": "Abdul Sheraz",
      "photoUrl": "",
      "userId": "02569957655710563099"
     },
     "user_tz": -330
    },
    "id": "1kg8UEPYyvZw",
    "outputId": "927fd722-8c7b-4563-d304-d299111308a5"
   },
   "outputs": [
    {
     "name": "stderr",
     "output_type": "stream",
     "text": [
      "/usr/local/lib/python3.6/dist-packages/sklearn/linear_model/logistic.py:432: FutureWarning: Default solver will be changed to 'lbfgs' in 0.22. Specify a solver to silence this warning.\n",
      "  FutureWarning)\n",
      "/usr/local/lib/python3.6/dist-packages/sklearn/utils/validation.py:724: DataConversionWarning: A column-vector y was passed when a 1d array was expected. Please change the shape of y to (n_samples, ), for example using ravel().\n",
      "  y = column_or_1d(y, warn=True)\n",
      "/usr/local/lib/python3.6/dist-packages/sklearn/linear_model/logistic.py:469: FutureWarning: Default multi_class will be changed to 'auto' in 0.22. Specify the multi_class option to silence this warning.\n",
      "  \"this warning.\", FutureWarning)\n",
      "/usr/local/lib/python3.6/dist-packages/sklearn/linear_model/logistic.py:432: FutureWarning: Default solver will be changed to 'lbfgs' in 0.22. Specify a solver to silence this warning.\n",
      "  FutureWarning)\n",
      "/usr/local/lib/python3.6/dist-packages/sklearn/utils/validation.py:724: DataConversionWarning: A column-vector y was passed when a 1d array was expected. Please change the shape of y to (n_samples, ), for example using ravel().\n",
      "  y = column_or_1d(y, warn=True)\n",
      "/usr/local/lib/python3.6/dist-packages/sklearn/linear_model/logistic.py:469: FutureWarning: Default multi_class will be changed to 'auto' in 0.22. Specify the multi_class option to silence this warning.\n",
      "  \"this warning.\", FutureWarning)\n",
      "/usr/local/lib/python3.6/dist-packages/sklearn/linear_model/logistic.py:432: FutureWarning: Default solver will be changed to 'lbfgs' in 0.22. Specify a solver to silence this warning.\n",
      "  FutureWarning)\n",
      "/usr/local/lib/python3.6/dist-packages/sklearn/utils/validation.py:724: DataConversionWarning: A column-vector y was passed when a 1d array was expected. Please change the shape of y to (n_samples, ), for example using ravel().\n",
      "  y = column_or_1d(y, warn=True)\n",
      "/usr/local/lib/python3.6/dist-packages/sklearn/linear_model/logistic.py:469: FutureWarning: Default multi_class will be changed to 'auto' in 0.22. Specify the multi_class option to silence this warning.\n",
      "  \"this warning.\", FutureWarning)\n",
      "/usr/local/lib/python3.6/dist-packages/sklearn/linear_model/logistic.py:432: FutureWarning: Default solver will be changed to 'lbfgs' in 0.22. Specify a solver to silence this warning.\n",
      "  FutureWarning)\n",
      "/usr/local/lib/python3.6/dist-packages/sklearn/utils/validation.py:724: DataConversionWarning: A column-vector y was passed when a 1d array was expected. Please change the shape of y to (n_samples, ), for example using ravel().\n",
      "  y = column_or_1d(y, warn=True)\n",
      "/usr/local/lib/python3.6/dist-packages/sklearn/linear_model/logistic.py:469: FutureWarning: Default multi_class will be changed to 'auto' in 0.22. Specify the multi_class option to silence this warning.\n",
      "  \"this warning.\", FutureWarning)\n",
      "/usr/local/lib/python3.6/dist-packages/sklearn/linear_model/logistic.py:432: FutureWarning: Default solver will be changed to 'lbfgs' in 0.22. Specify a solver to silence this warning.\n",
      "  FutureWarning)\n",
      "/usr/local/lib/python3.6/dist-packages/sklearn/utils/validation.py:724: DataConversionWarning: A column-vector y was passed when a 1d array was expected. Please change the shape of y to (n_samples, ), for example using ravel().\n",
      "  y = column_or_1d(y, warn=True)\n",
      "/usr/local/lib/python3.6/dist-packages/sklearn/linear_model/logistic.py:469: FutureWarning: Default multi_class will be changed to 'auto' in 0.22. Specify the multi_class option to silence this warning.\n",
      "  \"this warning.\", FutureWarning)\n",
      "/usr/local/lib/python3.6/dist-packages/sklearn/linear_model/logistic.py:432: FutureWarning: Default solver will be changed to 'lbfgs' in 0.22. Specify a solver to silence this warning.\n",
      "  FutureWarning)\n",
      "/usr/local/lib/python3.6/dist-packages/sklearn/utils/validation.py:724: DataConversionWarning: A column-vector y was passed when a 1d array was expected. Please change the shape of y to (n_samples, ), for example using ravel().\n",
      "  y = column_or_1d(y, warn=True)\n",
      "/usr/local/lib/python3.6/dist-packages/sklearn/linear_model/logistic.py:469: FutureWarning: Default multi_class will be changed to 'auto' in 0.22. Specify the multi_class option to silence this warning.\n",
      "  \"this warning.\", FutureWarning)\n",
      "/usr/local/lib/python3.6/dist-packages/sklearn/linear_model/logistic.py:432: FutureWarning: Default solver will be changed to 'lbfgs' in 0.22. Specify a solver to silence this warning.\n",
      "  FutureWarning)\n",
      "/usr/local/lib/python3.6/dist-packages/sklearn/utils/validation.py:724: DataConversionWarning: A column-vector y was passed when a 1d array was expected. Please change the shape of y to (n_samples, ), for example using ravel().\n",
      "  y = column_or_1d(y, warn=True)\n",
      "/usr/local/lib/python3.6/dist-packages/sklearn/linear_model/logistic.py:469: FutureWarning: Default multi_class will be changed to 'auto' in 0.22. Specify the multi_class option to silence this warning.\n",
      "  \"this warning.\", FutureWarning)\n",
      "/usr/local/lib/python3.6/dist-packages/sklearn/linear_model/logistic.py:432: FutureWarning: Default solver will be changed to 'lbfgs' in 0.22. Specify a solver to silence this warning.\n",
      "  FutureWarning)\n",
      "/usr/local/lib/python3.6/dist-packages/sklearn/utils/validation.py:724: DataConversionWarning: A column-vector y was passed when a 1d array was expected. Please change the shape of y to (n_samples, ), for example using ravel().\n",
      "  y = column_or_1d(y, warn=True)\n",
      "/usr/local/lib/python3.6/dist-packages/sklearn/linear_model/logistic.py:469: FutureWarning: Default multi_class will be changed to 'auto' in 0.22. Specify the multi_class option to silence this warning.\n",
      "  \"this warning.\", FutureWarning)\n",
      "/usr/local/lib/python3.6/dist-packages/sklearn/linear_model/logistic.py:432: FutureWarning: Default solver will be changed to 'lbfgs' in 0.22. Specify a solver to silence this warning.\n",
      "  FutureWarning)\n",
      "/usr/local/lib/python3.6/dist-packages/sklearn/utils/validation.py:724: DataConversionWarning: A column-vector y was passed when a 1d array was expected. Please change the shape of y to (n_samples, ), for example using ravel().\n",
      "  y = column_or_1d(y, warn=True)\n",
      "/usr/local/lib/python3.6/dist-packages/sklearn/linear_model/logistic.py:469: FutureWarning: Default multi_class will be changed to 'auto' in 0.22. Specify the multi_class option to silence this warning.\n",
      "  \"this warning.\", FutureWarning)\n",
      "/usr/local/lib/python3.6/dist-packages/sklearn/linear_model/logistic.py:432: FutureWarning: Default solver will be changed to 'lbfgs' in 0.22. Specify a solver to silence this warning.\n",
      "  FutureWarning)\n",
      "/usr/local/lib/python3.6/dist-packages/sklearn/utils/validation.py:724: DataConversionWarning: A column-vector y was passed when a 1d array was expected. Please change the shape of y to (n_samples, ), for example using ravel().\n",
      "  y = column_or_1d(y, warn=True)\n",
      "/usr/local/lib/python3.6/dist-packages/sklearn/linear_model/logistic.py:469: FutureWarning: Default multi_class will be changed to 'auto' in 0.22. Specify the multi_class option to silence this warning.\n",
      "  \"this warning.\", FutureWarning)\n"
     ]
    },
    {
     "name": "stdout",
     "output_type": "stream",
     "text": [
      "LR: 0.004000 (0.004899)\n",
      "KNN: 0.005000 (0.006708)\n"
     ]
    },
    {
     "name": "stderr",
     "output_type": "stream",
     "text": [
      "/usr/local/lib/python3.6/dist-packages/sklearn/model_selection/_validation.py:514: DataConversionWarning: A column-vector y was passed when a 1d array was expected. Please change the shape of y to (n_samples, ), for example using ravel().\n",
      "  estimator.fit(X_train, y_train, **fit_params)\n",
      "/usr/local/lib/python3.6/dist-packages/sklearn/model_selection/_validation.py:514: DataConversionWarning: A column-vector y was passed when a 1d array was expected. Please change the shape of y to (n_samples, ), for example using ravel().\n",
      "  estimator.fit(X_train, y_train, **fit_params)\n",
      "/usr/local/lib/python3.6/dist-packages/sklearn/model_selection/_validation.py:514: DataConversionWarning: A column-vector y was passed when a 1d array was expected. Please change the shape of y to (n_samples, ), for example using ravel().\n",
      "  estimator.fit(X_train, y_train, **fit_params)\n",
      "/usr/local/lib/python3.6/dist-packages/sklearn/model_selection/_validation.py:514: DataConversionWarning: A column-vector y was passed when a 1d array was expected. Please change the shape of y to (n_samples, ), for example using ravel().\n",
      "  estimator.fit(X_train, y_train, **fit_params)\n",
      "/usr/local/lib/python3.6/dist-packages/sklearn/model_selection/_validation.py:514: DataConversionWarning: A column-vector y was passed when a 1d array was expected. Please change the shape of y to (n_samples, ), for example using ravel().\n",
      "  estimator.fit(X_train, y_train, **fit_params)\n",
      "/usr/local/lib/python3.6/dist-packages/sklearn/model_selection/_validation.py:514: DataConversionWarning: A column-vector y was passed when a 1d array was expected. Please change the shape of y to (n_samples, ), for example using ravel().\n",
      "  estimator.fit(X_train, y_train, **fit_params)\n",
      "/usr/local/lib/python3.6/dist-packages/sklearn/model_selection/_validation.py:514: DataConversionWarning: A column-vector y was passed when a 1d array was expected. Please change the shape of y to (n_samples, ), for example using ravel().\n",
      "  estimator.fit(X_train, y_train, **fit_params)\n",
      "/usr/local/lib/python3.6/dist-packages/sklearn/model_selection/_validation.py:514: DataConversionWarning: A column-vector y was passed when a 1d array was expected. Please change the shape of y to (n_samples, ), for example using ravel().\n",
      "  estimator.fit(X_train, y_train, **fit_params)\n",
      "/usr/local/lib/python3.6/dist-packages/sklearn/model_selection/_validation.py:514: DataConversionWarning: A column-vector y was passed when a 1d array was expected. Please change the shape of y to (n_samples, ), for example using ravel().\n",
      "  estimator.fit(X_train, y_train, **fit_params)\n",
      "/usr/local/lib/python3.6/dist-packages/sklearn/model_selection/_validation.py:514: DataConversionWarning: A column-vector y was passed when a 1d array was expected. Please change the shape of y to (n_samples, ), for example using ravel().\n",
      "  estimator.fit(X_train, y_train, **fit_params)\n"
     ]
    },
    {
     "name": "stdout",
     "output_type": "stream",
     "text": [
      "CART: 0.007030 (0.010119)\n"
     ]
    },
    {
     "name": "stderr",
     "output_type": "stream",
     "text": [
      "/usr/local/lib/python3.6/dist-packages/sklearn/utils/validation.py:724: DataConversionWarning: A column-vector y was passed when a 1d array was expected. Please change the shape of y to (n_samples, ), for example using ravel().\n",
      "  y = column_or_1d(y, warn=True)\n",
      "/usr/local/lib/python3.6/dist-packages/sklearn/utils/validation.py:724: DataConversionWarning: A column-vector y was passed when a 1d array was expected. Please change the shape of y to (n_samples, ), for example using ravel().\n",
      "  y = column_or_1d(y, warn=True)\n",
      "/usr/local/lib/python3.6/dist-packages/sklearn/utils/validation.py:724: DataConversionWarning: A column-vector y was passed when a 1d array was expected. Please change the shape of y to (n_samples, ), for example using ravel().\n",
      "  y = column_or_1d(y, warn=True)\n",
      "/usr/local/lib/python3.6/dist-packages/sklearn/utils/validation.py:724: DataConversionWarning: A column-vector y was passed when a 1d array was expected. Please change the shape of y to (n_samples, ), for example using ravel().\n",
      "  y = column_or_1d(y, warn=True)\n",
      "/usr/local/lib/python3.6/dist-packages/sklearn/utils/validation.py:724: DataConversionWarning: A column-vector y was passed when a 1d array was expected. Please change the shape of y to (n_samples, ), for example using ravel().\n",
      "  y = column_or_1d(y, warn=True)\n",
      "/usr/local/lib/python3.6/dist-packages/sklearn/utils/validation.py:724: DataConversionWarning: A column-vector y was passed when a 1d array was expected. Please change the shape of y to (n_samples, ), for example using ravel().\n",
      "  y = column_or_1d(y, warn=True)\n",
      "/usr/local/lib/python3.6/dist-packages/sklearn/utils/validation.py:724: DataConversionWarning: A column-vector y was passed when a 1d array was expected. Please change the shape of y to (n_samples, ), for example using ravel().\n",
      "  y = column_or_1d(y, warn=True)\n",
      "/usr/local/lib/python3.6/dist-packages/sklearn/utils/validation.py:724: DataConversionWarning: A column-vector y was passed when a 1d array was expected. Please change the shape of y to (n_samples, ), for example using ravel().\n",
      "  y = column_or_1d(y, warn=True)\n",
      "/usr/local/lib/python3.6/dist-packages/sklearn/utils/validation.py:724: DataConversionWarning: A column-vector y was passed when a 1d array was expected. Please change the shape of y to (n_samples, ), for example using ravel().\n",
      "  y = column_or_1d(y, warn=True)\n",
      "/usr/local/lib/python3.6/dist-packages/sklearn/utils/validation.py:724: DataConversionWarning: A column-vector y was passed when a 1d array was expected. Please change the shape of y to (n_samples, ), for example using ravel().\n",
      "  y = column_or_1d(y, warn=True)\n"
     ]
    },
    {
     "name": "stdout",
     "output_type": "stream",
     "text": [
      "NB: 0.005000 (0.006708)\n"
     ]
    },
    {
     "name": "stderr",
     "output_type": "stream",
     "text": [
      "/usr/local/lib/python3.6/dist-packages/sklearn/utils/validation.py:724: DataConversionWarning: A column-vector y was passed when a 1d array was expected. Please change the shape of y to (n_samples, ), for example using ravel().\n",
      "  y = column_or_1d(y, warn=True)\n",
      "/usr/local/lib/python3.6/dist-packages/sklearn/svm/base.py:193: FutureWarning: The default value of gamma will change from 'auto' to 'scale' in version 0.22 to account better for unscaled features. Set gamma explicitly to 'auto' or 'scale' to avoid this warning.\n",
      "  \"avoid this warning.\", FutureWarning)\n",
      "/usr/local/lib/python3.6/dist-packages/sklearn/utils/validation.py:724: DataConversionWarning: A column-vector y was passed when a 1d array was expected. Please change the shape of y to (n_samples, ), for example using ravel().\n",
      "  y = column_or_1d(y, warn=True)\n",
      "/usr/local/lib/python3.6/dist-packages/sklearn/svm/base.py:193: FutureWarning: The default value of gamma will change from 'auto' to 'scale' in version 0.22 to account better for unscaled features. Set gamma explicitly to 'auto' or 'scale' to avoid this warning.\n",
      "  \"avoid this warning.\", FutureWarning)\n",
      "/usr/local/lib/python3.6/dist-packages/sklearn/utils/validation.py:724: DataConversionWarning: A column-vector y was passed when a 1d array was expected. Please change the shape of y to (n_samples, ), for example using ravel().\n",
      "  y = column_or_1d(y, warn=True)\n",
      "/usr/local/lib/python3.6/dist-packages/sklearn/svm/base.py:193: FutureWarning: The default value of gamma will change from 'auto' to 'scale' in version 0.22 to account better for unscaled features. Set gamma explicitly to 'auto' or 'scale' to avoid this warning.\n",
      "  \"avoid this warning.\", FutureWarning)\n",
      "/usr/local/lib/python3.6/dist-packages/sklearn/utils/validation.py:724: DataConversionWarning: A column-vector y was passed when a 1d array was expected. Please change the shape of y to (n_samples, ), for example using ravel().\n",
      "  y = column_or_1d(y, warn=True)\n",
      "/usr/local/lib/python3.6/dist-packages/sklearn/svm/base.py:193: FutureWarning: The default value of gamma will change from 'auto' to 'scale' in version 0.22 to account better for unscaled features. Set gamma explicitly to 'auto' or 'scale' to avoid this warning.\n",
      "  \"avoid this warning.\", FutureWarning)\n",
      "/usr/local/lib/python3.6/dist-packages/sklearn/utils/validation.py:724: DataConversionWarning: A column-vector y was passed when a 1d array was expected. Please change the shape of y to (n_samples, ), for example using ravel().\n",
      "  y = column_or_1d(y, warn=True)\n",
      "/usr/local/lib/python3.6/dist-packages/sklearn/svm/base.py:193: FutureWarning: The default value of gamma will change from 'auto' to 'scale' in version 0.22 to account better for unscaled features. Set gamma explicitly to 'auto' or 'scale' to avoid this warning.\n",
      "  \"avoid this warning.\", FutureWarning)\n",
      "/usr/local/lib/python3.6/dist-packages/sklearn/utils/validation.py:724: DataConversionWarning: A column-vector y was passed when a 1d array was expected. Please change the shape of y to (n_samples, ), for example using ravel().\n",
      "  y = column_or_1d(y, warn=True)\n",
      "/usr/local/lib/python3.6/dist-packages/sklearn/svm/base.py:193: FutureWarning: The default value of gamma will change from 'auto' to 'scale' in version 0.22 to account better for unscaled features. Set gamma explicitly to 'auto' or 'scale' to avoid this warning.\n",
      "  \"avoid this warning.\", FutureWarning)\n",
      "/usr/local/lib/python3.6/dist-packages/sklearn/utils/validation.py:724: DataConversionWarning: A column-vector y was passed when a 1d array was expected. Please change the shape of y to (n_samples, ), for example using ravel().\n",
      "  y = column_or_1d(y, warn=True)\n",
      "/usr/local/lib/python3.6/dist-packages/sklearn/svm/base.py:193: FutureWarning: The default value of gamma will change from 'auto' to 'scale' in version 0.22 to account better for unscaled features. Set gamma explicitly to 'auto' or 'scale' to avoid this warning.\n",
      "  \"avoid this warning.\", FutureWarning)\n",
      "/usr/local/lib/python3.6/dist-packages/sklearn/utils/validation.py:724: DataConversionWarning: A column-vector y was passed when a 1d array was expected. Please change the shape of y to (n_samples, ), for example using ravel().\n",
      "  y = column_or_1d(y, warn=True)\n",
      "/usr/local/lib/python3.6/dist-packages/sklearn/svm/base.py:193: FutureWarning: The default value of gamma will change from 'auto' to 'scale' in version 0.22 to account better for unscaled features. Set gamma explicitly to 'auto' or 'scale' to avoid this warning.\n",
      "  \"avoid this warning.\", FutureWarning)\n",
      "/usr/local/lib/python3.6/dist-packages/sklearn/utils/validation.py:724: DataConversionWarning: A column-vector y was passed when a 1d array was expected. Please change the shape of y to (n_samples, ), for example using ravel().\n",
      "  y = column_or_1d(y, warn=True)\n",
      "/usr/local/lib/python3.6/dist-packages/sklearn/svm/base.py:193: FutureWarning: The default value of gamma will change from 'auto' to 'scale' in version 0.22 to account better for unscaled features. Set gamma explicitly to 'auto' or 'scale' to avoid this warning.\n",
      "  \"avoid this warning.\", FutureWarning)\n",
      "/usr/local/lib/python3.6/dist-packages/sklearn/utils/validation.py:724: DataConversionWarning: A column-vector y was passed when a 1d array was expected. Please change the shape of y to (n_samples, ), for example using ravel().\n",
      "  y = column_or_1d(y, warn=True)\n",
      "/usr/local/lib/python3.6/dist-packages/sklearn/svm/base.py:193: FutureWarning: The default value of gamma will change from 'auto' to 'scale' in version 0.22 to account better for unscaled features. Set gamma explicitly to 'auto' or 'scale' to avoid this warning.\n",
      "  \"avoid this warning.\", FutureWarning)\n"
     ]
    },
    {
     "name": "stdout",
     "output_type": "stream",
     "text": [
      "SVM: 0.016020 (0.011143)\n"
     ]
    },
    {
     "data": {
      "image/png": "[encoded data removed]",
      "text/plain": [
       "<Figure size 432x288 with 1 Axes>"
      ]
     },
     "metadata": {
      "tags": []
     },
     "output_type": "display_data"
    }
   ],
   "source": [
    "models = []\n",
    "models.append(('LR', LogisticRegression()))\n",
    "models.append(('KNN', KNeighborsClassifier()))\n",
    "models.append(('CART', DecisionTreeClassifier()))\n",
    "models.append(('NB', GaussianNB()))\n",
    "models.append(('SVM', SVC()))\n",
    "# evaluate each model in turn\n",
    "results = []\n",
    "names = []\n",
    "scoring = 'accuracy'\n",
    "for name, model in models:\n",
    "\tkfold = model_selection.KFold(n_splits=10, random_state=12345)\n",
    "\tcv_results = model_selection.cross_val_score(model, X_std, y, cv=kfold, scoring=scoring)\n",
    "\tresults.append(cv_results)\n",
    "\tnames.append(name)\n",
    "\tmsg = \"%s: %f (%f)\" % (name, cv_results.mean(), cv_results.std())\n",
    "\tprint(msg)\n",
    "# boxplot algorithm comparison\n",
    "fig = plt.figure()\n",
    "fig.suptitle('Algorithm Comparison')\n",
    "ax = fig.add_subplot(111)\n",
    "plt.boxplot(results)\n",
    "ax.set_xticklabels(names)\n",
    "plt.show()"
   ]
  },
  {
   "cell_type": "code",
   "execution_count": 41,
   "metadata": {
    "colab": {
     "base_uri": "https://localhost:8080/",
     "height": 1000
    },
    "colab_type": "code",
    "executionInfo": {
     "elapsed": 132887,
     "status": "ok",
     "timestamp": 1563951486864,
     "user": {
      "displayName": "Abdul Sheraz",
      "photoUrl": "",
      "userId": "02569957655710563099"
     },
     "user_tz": -330
    },
    "id": "HZchFKlzyvZy",
    "outputId": "c6c37bed-f3d0-49dc-9de4-25b0827ff633"
   },
   "outputs": [
    {
     "name": "stderr",
     "output_type": "stream",
     "text": [
      "/usr/local/lib/python3.6/dist-packages/sklearn/linear_model/logistic.py:432: FutureWarning: Default solver will be changed to 'lbfgs' in 0.22. Specify a solver to silence this warning.\n",
      "  FutureWarning)\n",
      "/usr/local/lib/python3.6/dist-packages/sklearn/utils/validation.py:724: DataConversionWarning: A column-vector y was passed when a 1d array was expected. Please change the shape of y to (n_samples, ), for example using ravel().\n",
      "  y = column_or_1d(y, warn=True)\n",
      "/usr/local/lib/python3.6/dist-packages/sklearn/linear_model/logistic.py:469: FutureWarning: Default multi_class will be changed to 'auto' in 0.22. Specify the multi_class option to silence this warning.\n",
      "  \"this warning.\", FutureWarning)\n",
      "/usr/local/lib/python3.6/dist-packages/sklearn/linear_model/logistic.py:432: FutureWarning: Default solver will be changed to 'lbfgs' in 0.22. Specify a solver to silence this warning.\n",
      "  FutureWarning)\n",
      "/usr/local/lib/python3.6/dist-packages/sklearn/utils/validation.py:724: DataConversionWarning: A column-vector y was passed when a 1d array was expected. Please change the shape of y to (n_samples, ), for example using ravel().\n",
      "  y = column_or_1d(y, warn=True)\n",
      "/usr/local/lib/python3.6/dist-packages/sklearn/linear_model/logistic.py:469: FutureWarning: Default multi_class will be changed to 'auto' in 0.22. Specify the multi_class option to silence this warning.\n",
      "  \"this warning.\", FutureWarning)\n",
      "/usr/local/lib/python3.6/dist-packages/sklearn/linear_model/logistic.py:432: FutureWarning: Default solver will be changed to 'lbfgs' in 0.22. Specify a solver to silence this warning.\n",
      "  FutureWarning)\n",
      "/usr/local/lib/python3.6/dist-packages/sklearn/utils/validation.py:724: DataConversionWarning: A column-vector y was passed when a 1d array was expected. Please change the shape of y to (n_samples, ), for example using ravel().\n",
      "  y = column_or_1d(y, warn=True)\n",
      "/usr/local/lib/python3.6/dist-packages/sklearn/linear_model/logistic.py:469: FutureWarning: Default multi_class will be changed to 'auto' in 0.22. Specify the multi_class option to silence this warning.\n",
      "  \"this warning.\", FutureWarning)\n",
      "/usr/local/lib/python3.6/dist-packages/sklearn/linear_model/logistic.py:432: FutureWarning: Default solver will be changed to 'lbfgs' in 0.22. Specify a solver to silence this warning.\n",
      "  FutureWarning)\n",
      "/usr/local/lib/python3.6/dist-packages/sklearn/utils/validation.py:724: DataConversionWarning: A column-vector y was passed when a 1d array was expected. Please change the shape of y to (n_samples, ), for example using ravel().\n",
      "  y = column_or_1d(y, warn=True)\n",
      "/usr/local/lib/python3.6/dist-packages/sklearn/linear_model/logistic.py:469: FutureWarning: Default multi_class will be changed to 'auto' in 0.22. Specify the multi_class option to silence this warning.\n",
      "  \"this warning.\", FutureWarning)\n",
      "/usr/local/lib/python3.6/dist-packages/sklearn/linear_model/logistic.py:432: FutureWarning: Default solver will be changed to 'lbfgs' in 0.22. Specify a solver to silence this warning.\n",
      "  FutureWarning)\n",
      "/usr/local/lib/python3.6/dist-packages/sklearn/utils/validation.py:724: DataConversionWarning: A column-vector y was passed when a 1d array was expected. Please change the shape of y to (n_samples, ), for example using ravel().\n",
      "  y = column_or_1d(y, warn=True)\n",
      "/usr/local/lib/python3.6/dist-packages/sklearn/linear_model/logistic.py:469: FutureWarning: Default multi_class will be changed to 'auto' in 0.22. Specify the multi_class option to silence this warning.\n",
      "  \"this warning.\", FutureWarning)\n",
      "/usr/local/lib/python3.6/dist-packages/sklearn/linear_model/logistic.py:432: FutureWarning: Default solver will be changed to 'lbfgs' in 0.22. Specify a solver to silence this warning.\n",
      "  FutureWarning)\n",
      "/usr/local/lib/python3.6/dist-packages/sklearn/utils/validation.py:724: DataConversionWarning: A column-vector y was passed when a 1d array was expected. Please change the shape of y to (n_samples, ), for example using ravel().\n",
      "  y = column_or_1d(y, warn=True)\n",
      "/usr/local/lib/python3.6/dist-packages/sklearn/linear_model/logistic.py:469: FutureWarning: Default multi_class will be changed to 'auto' in 0.22. Specify the multi_class option to silence this warning.\n",
      "  \"this warning.\", FutureWarning)\n",
      "/usr/local/lib/python3.6/dist-packages/sklearn/linear_model/logistic.py:432: FutureWarning: Default solver will be changed to 'lbfgs' in 0.22. Specify a solver to silence this warning.\n",
      "  FutureWarning)\n",
      "/usr/local/lib/python3.6/dist-packages/sklearn/utils/validation.py:724: DataConversionWarning: A column-vector y was passed when a 1d array was expected. Please change the shape of y to (n_samples, ), for example using ravel().\n",
      "  y = column_or_1d(y, warn=True)\n",
      "/usr/local/lib/python3.6/dist-packages/sklearn/linear_model/logistic.py:469: FutureWarning: Default multi_class will be changed to 'auto' in 0.22. Specify the multi_class option to silence this warning.\n",
      "  \"this warning.\", FutureWarning)\n",
      "/usr/local/lib/python3.6/dist-packages/sklearn/linear_model/logistic.py:432: FutureWarning: Default solver will be changed to 'lbfgs' in 0.22. Specify a solver to silence this warning.\n",
      "  FutureWarning)\n",
      "/usr/local/lib/python3.6/dist-packages/sklearn/utils/validation.py:724: DataConversionWarning: A column-vector y was passed when a 1d array was expected. Please change the shape of y to (n_samples, ), for example using ravel().\n",
      "  y = column_or_1d(y, warn=True)\n",
      "/usr/local/lib/python3.6/dist-packages/sklearn/linear_model/logistic.py:469: FutureWarning: Default multi_class will be changed to 'auto' in 0.22. Specify the multi_class option to silence this warning.\n",
      "  \"this warning.\", FutureWarning)\n",
      "/usr/local/lib/python3.6/dist-packages/sklearn/linear_model/logistic.py:432: FutureWarning: Default solver will be changed to 'lbfgs' in 0.22. Specify a solver to silence this warning.\n",
      "  FutureWarning)\n",
      "/usr/local/lib/python3.6/dist-packages/sklearn/utils/validation.py:724: DataConversionWarning: A column-vector y was passed when a 1d array was expected. Please change the shape of y to (n_samples, ), for example using ravel().\n",
      "  y = column_or_1d(y, warn=True)\n",
      "/usr/local/lib/python3.6/dist-packages/sklearn/linear_model/logistic.py:469: FutureWarning: Default multi_class will be changed to 'auto' in 0.22. Specify the multi_class option to silence this warning.\n",
      "  \"this warning.\", FutureWarning)\n",
      "/usr/local/lib/python3.6/dist-packages/sklearn/linear_model/logistic.py:432: FutureWarning: Default solver will be changed to 'lbfgs' in 0.22. Specify a solver to silence this warning.\n",
      "  FutureWarning)\n",
      "/usr/local/lib/python3.6/dist-packages/sklearn/utils/validation.py:724: DataConversionWarning: A column-vector y was passed when a 1d array was expected. Please change the shape of y to (n_samples, ), for example using ravel().\n",
      "  y = column_or_1d(y, warn=True)\n",
      "/usr/local/lib/python3.6/dist-packages/sklearn/linear_model/logistic.py:469: FutureWarning: Default multi_class will be changed to 'auto' in 0.22. Specify the multi_class option to silence this warning.\n",
      "  \"this warning.\", FutureWarning)\n"
     ]
    },
    {
     "name": "stdout",
     "output_type": "stream",
     "text": [
      "LR: 0.010010 (0.006325)\n",
      "KNN: 0.006000 (0.006633)\n"
     ]
    },
    {
     "name": "stderr",
     "output_type": "stream",
     "text": [
      "/usr/local/lib/python3.6/dist-packages/sklearn/model_selection/_validation.py:514: DataConversionWarning: A column-vector y was passed when a 1d array was expected. Please change the shape of y to (n_samples, ), for example using ravel().\n",
      "  estimator.fit(X_train, y_train, **fit_params)\n",
      "/usr/local/lib/python3.6/dist-packages/sklearn/model_selection/_validation.py:514: DataConversionWarning: A column-vector y was passed when a 1d array was expected. Please change the shape of y to (n_samples, ), for example using ravel().\n",
      "  estimator.fit(X_train, y_train, **fit_params)\n",
      "/usr/local/lib/python3.6/dist-packages/sklearn/model_selection/_validation.py:514: DataConversionWarning: A column-vector y was passed when a 1d array was expected. Please change the shape of y to (n_samples, ), for example using ravel().\n",
      "  estimator.fit(X_train, y_train, **fit_params)\n",
      "/usr/local/lib/python3.6/dist-packages/sklearn/model_selection/_validation.py:514: DataConversionWarning: A column-vector y was passed when a 1d array was expected. Please change the shape of y to (n_samples, ), for example using ravel().\n",
      "  estimator.fit(X_train, y_train, **fit_params)\n",
      "/usr/local/lib/python3.6/dist-packages/sklearn/model_selection/_validation.py:514: DataConversionWarning: A column-vector y was passed when a 1d array was expected. Please change the shape of y to (n_samples, ), for example using ravel().\n",
      "  estimator.fit(X_train, y_train, **fit_params)\n",
      "/usr/local/lib/python3.6/dist-packages/sklearn/model_selection/_validation.py:514: DataConversionWarning: A column-vector y was passed when a 1d array was expected. Please change the shape of y to (n_samples, ), for example using ravel().\n",
      "  estimator.fit(X_train, y_train, **fit_params)\n",
      "/usr/local/lib/python3.6/dist-packages/sklearn/model_selection/_validation.py:514: DataConversionWarning: A column-vector y was passed when a 1d array was expected. Please change the shape of y to (n_samples, ), for example using ravel().\n",
      "  estimator.fit(X_train, y_train, **fit_params)\n",
      "/usr/local/lib/python3.6/dist-packages/sklearn/model_selection/_validation.py:514: DataConversionWarning: A column-vector y was passed when a 1d array was expected. Please change the shape of y to (n_samples, ), for example using ravel().\n",
      "  estimator.fit(X_train, y_train, **fit_params)\n",
      "/usr/local/lib/python3.6/dist-packages/sklearn/model_selection/_validation.py:514: DataConversionWarning: A column-vector y was passed when a 1d array was expected. Please change the shape of y to (n_samples, ), for example using ravel().\n",
      "  estimator.fit(X_train, y_train, **fit_params)\n",
      "/usr/local/lib/python3.6/dist-packages/sklearn/model_selection/_validation.py:514: DataConversionWarning: A column-vector y was passed when a 1d array was expected. Please change the shape of y to (n_samples, ), for example using ravel().\n",
      "  estimator.fit(X_train, y_train, **fit_params)\n"
     ]
    },
    {
     "name": "stdout",
     "output_type": "stream",
     "text": [
      "CART: 0.001000 (0.003000)\n"
     ]
    },
    {
     "name": "stderr",
     "output_type": "stream",
     "text": [
      "/usr/local/lib/python3.6/dist-packages/sklearn/utils/validation.py:724: DataConversionWarning: A column-vector y was passed when a 1d array was expected. Please change the shape of y to (n_samples, ), for example using ravel().\n",
      "  y = column_or_1d(y, warn=True)\n",
      "/usr/local/lib/python3.6/dist-packages/sklearn/utils/validation.py:724: DataConversionWarning: A column-vector y was passed when a 1d array was expected. Please change the shape of y to (n_samples, ), for example using ravel().\n",
      "  y = column_or_1d(y, warn=True)\n",
      "/usr/local/lib/python3.6/dist-packages/sklearn/utils/validation.py:724: DataConversionWarning: A column-vector y was passed when a 1d array was expected. Please change the shape of y to (n_samples, ), for example using ravel().\n",
      "  y = column_or_1d(y, warn=True)\n",
      "/usr/local/lib/python3.6/dist-packages/sklearn/utils/validation.py:724: DataConversionWarning: A column-vector y was passed when a 1d array was expected. Please change the shape of y to (n_samples, ), for example using ravel().\n",
      "  y = column_or_1d(y, warn=True)\n",
      "/usr/local/lib/python3.6/dist-packages/sklearn/utils/validation.py:724: DataConversionWarning: A column-vector y was passed when a 1d array was expected. Please change the shape of y to (n_samples, ), for example using ravel().\n",
      "  y = column_or_1d(y, warn=True)\n",
      "/usr/local/lib/python3.6/dist-packages/sklearn/utils/validation.py:724: DataConversionWarning: A column-vector y was passed when a 1d array was expected. Please change the shape of y to (n_samples, ), for example using ravel().\n",
      "  y = column_or_1d(y, warn=True)\n",
      "/usr/local/lib/python3.6/dist-packages/sklearn/utils/validation.py:724: DataConversionWarning: A column-vector y was passed when a 1d array was expected. Please change the shape of y to (n_samples, ), for example using ravel().\n",
      "  y = column_or_1d(y, warn=True)\n",
      "/usr/local/lib/python3.6/dist-packages/sklearn/utils/validation.py:724: DataConversionWarning: A column-vector y was passed when a 1d array was expected. Please change the shape of y to (n_samples, ), for example using ravel().\n",
      "  y = column_or_1d(y, warn=True)\n",
      "/usr/local/lib/python3.6/dist-packages/sklearn/utils/validation.py:724: DataConversionWarning: A column-vector y was passed when a 1d array was expected. Please change the shape of y to (n_samples, ), for example using ravel().\n",
      "  y = column_or_1d(y, warn=True)\n",
      "/usr/local/lib/python3.6/dist-packages/sklearn/utils/validation.py:724: DataConversionWarning: A column-vector y was passed when a 1d array was expected. Please change the shape of y to (n_samples, ), for example using ravel().\n",
      "  y = column_or_1d(y, warn=True)\n"
     ]
    },
    {
     "name": "stdout",
     "output_type": "stream",
     "text": [
      "NB: 0.002000 (0.004000)\n"
     ]
    },
    {
     "name": "stderr",
     "output_type": "stream",
     "text": [
      "/usr/local/lib/python3.6/dist-packages/sklearn/utils/validation.py:724: DataConversionWarning: A column-vector y was passed when a 1d array was expected. Please change the shape of y to (n_samples, ), for example using ravel().\n",
      "  y = column_or_1d(y, warn=True)\n",
      "/usr/local/lib/python3.6/dist-packages/sklearn/svm/base.py:193: FutureWarning: The default value of gamma will change from 'auto' to 'scale' in version 0.22 to account better for unscaled features. Set gamma explicitly to 'auto' or 'scale' to avoid this warning.\n",
      "  \"avoid this warning.\", FutureWarning)\n",
      "/usr/local/lib/python3.6/dist-packages/sklearn/utils/validation.py:724: DataConversionWarning: A column-vector y was passed when a 1d array was expected. Please change the shape of y to (n_samples, ), for example using ravel().\n",
      "  y = column_or_1d(y, warn=True)\n",
      "/usr/local/lib/python3.6/dist-packages/sklearn/svm/base.py:193: FutureWarning: The default value of gamma will change from 'auto' to 'scale' in version 0.22 to account better for unscaled features. Set gamma explicitly to 'auto' or 'scale' to avoid this warning.\n",
      "  \"avoid this warning.\", FutureWarning)\n",
      "/usr/local/lib/python3.6/dist-packages/sklearn/utils/validation.py:724: DataConversionWarning: A column-vector y was passed when a 1d array was expected. Please change the shape of y to (n_samples, ), for example using ravel().\n",
      "  y = column_or_1d(y, warn=True)\n",
      "/usr/local/lib/python3.6/dist-packages/sklearn/svm/base.py:193: FutureWarning: The default value of gamma will change from 'auto' to 'scale' in version 0.22 to account better for unscaled features. Set gamma explicitly to 'auto' or 'scale' to avoid this warning.\n",
      "  \"avoid this warning.\", FutureWarning)\n",
      "/usr/local/lib/python3.6/dist-packages/sklearn/utils/validation.py:724: DataConversionWarning: A column-vector y was passed when a 1d array was expected. Please change the shape of y to (n_samples, ), for example using ravel().\n",
      "  y = column_or_1d(y, warn=True)\n",
      "/usr/local/lib/python3.6/dist-packages/sklearn/svm/base.py:193: FutureWarning: The default value of gamma will change from 'auto' to 'scale' in version 0.22 to account better for unscaled features. Set gamma explicitly to 'auto' or 'scale' to avoid this warning.\n",
      "  \"avoid this warning.\", FutureWarning)\n",
      "/usr/local/lib/python3.6/dist-packages/sklearn/utils/validation.py:724: DataConversionWarning: A column-vector y was passed when a 1d array was expected. Please change the shape of y to (n_samples, ), for example using ravel().\n",
      "  y = column_or_1d(y, warn=True)\n",
      "/usr/local/lib/python3.6/dist-packages/sklearn/svm/base.py:193: FutureWarning: The default value of gamma will change from 'auto' to 'scale' in version 0.22 to account better for unscaled features. Set gamma explicitly to 'auto' or 'scale' to avoid this warning.\n",
      "  \"avoid this warning.\", FutureWarning)\n",
      "/usr/local/lib/python3.6/dist-packages/sklearn/utils/validation.py:724: DataConversionWarning: A column-vector y was passed when a 1d array was expected. Please change the shape of y to (n_samples, ), for example using ravel().\n",
      "  y = column_or_1d(y, warn=True)\n",
      "/usr/local/lib/python3.6/dist-packages/sklearn/svm/base.py:193: FutureWarning: The default value of gamma will change from 'auto' to 'scale' in version 0.22 to account better for unscaled features. Set gamma explicitly to 'auto' or 'scale' to avoid this warning.\n",
      "  \"avoid this warning.\", FutureWarning)\n",
      "/usr/local/lib/python3.6/dist-packages/sklearn/utils/validation.py:724: DataConversionWarning: A column-vector y was passed when a 1d array was expected. Please change the shape of y to (n_samples, ), for example using ravel().\n",
      "  y = column_or_1d(y, warn=True)\n",
      "/usr/local/lib/python3.6/dist-packages/sklearn/svm/base.py:193: FutureWarning: The default value of gamma will change from 'auto' to 'scale' in version 0.22 to account better for unscaled features. Set gamma explicitly to 'auto' or 'scale' to avoid this warning.\n",
      "  \"avoid this warning.\", FutureWarning)\n",
      "/usr/local/lib/python3.6/dist-packages/sklearn/utils/validation.py:724: DataConversionWarning: A column-vector y was passed when a 1d array was expected. Please change the shape of y to (n_samples, ), for example using ravel().\n",
      "  y = column_or_1d(y, warn=True)\n",
      "/usr/local/lib/python3.6/dist-packages/sklearn/svm/base.py:193: FutureWarning: The default value of gamma will change from 'auto' to 'scale' in version 0.22 to account better for unscaled features. Set gamma explicitly to 'auto' or 'scale' to avoid this warning.\n",
      "  \"avoid this warning.\", FutureWarning)\n",
      "/usr/local/lib/python3.6/dist-packages/sklearn/utils/validation.py:724: DataConversionWarning: A column-vector y was passed when a 1d array was expected. Please change the shape of y to (n_samples, ), for example using ravel().\n",
      "  y = column_or_1d(y, warn=True)\n",
      "/usr/local/lib/python3.6/dist-packages/sklearn/svm/base.py:193: FutureWarning: The default value of gamma will change from 'auto' to 'scale' in version 0.22 to account better for unscaled features. Set gamma explicitly to 'auto' or 'scale' to avoid this warning.\n",
      "  \"avoid this warning.\", FutureWarning)\n",
      "/usr/local/lib/python3.6/dist-packages/sklearn/utils/validation.py:724: DataConversionWarning: A column-vector y was passed when a 1d array was expected. Please change the shape of y to (n_samples, ), for example using ravel().\n",
      "  y = column_or_1d(y, warn=True)\n",
      "/usr/local/lib/python3.6/dist-packages/sklearn/svm/base.py:193: FutureWarning: The default value of gamma will change from 'auto' to 'scale' in version 0.22 to account better for unscaled features. Set gamma explicitly to 'auto' or 'scale' to avoid this warning.\n",
      "  \"avoid this warning.\", FutureWarning)\n"
     ]
    },
    {
     "name": "stdout",
     "output_type": "stream",
     "text": [
      "SVM: 0.013010 (0.008997)\n"
     ]
    },
    {
     "data": {
      "image/png": "[encoded data removed]",
      "text/plain": [
       "<Figure size 432x288 with 1 Axes>"
      ]
     },
     "metadata": {
      "tags": []
     },
     "output_type": "display_data"
    }
   ],
   "source": [
    "models = []\n",
    "models.append(('LR', LogisticRegression()))\n",
    "models.append(('KNN', KNeighborsClassifier()))\n",
    "models.append(('CART', DecisionTreeClassifier()))\n",
    "models.append(('NB', GaussianNB()))\n",
    "models.append(('SVM', SVC()))\n",
    "# evaluate each model in turn\n",
    "results = []\n",
    "names = []\n",
    "scoring = 'accuracy'\n",
    "for name, model in models:\n",
    "\tkfold = model_selection.KFold(n_splits=10, random_state=12345)\n",
    "\tcv_results = model_selection.cross_val_score(model, Proj_data_df, y, cv=kfold, scoring=scoring)\n",
    "\tresults.append(cv_results)\n",
    "\tnames.append(name)\n",
    "\tmsg = \"%s: %f (%f)\" % (name, cv_results.mean(), cv_results.std())\n",
    "\tprint(msg)\n",
    "# boxplot algorithm comparison\n",
    "fig = plt.figure()\n",
    "fig.suptitle('Algorithm Comparison')\n",
    "ax = fig.add_subplot(111)\n",
    "plt.boxplot(results)\n",
    "ax.set_xticklabels(names)\n",
    "plt.show()"
   ]
  },
  {
   "cell_type": "code",
   "execution_count": 0,
   "metadata": {
    "colab": {},
    "colab_type": "code",
    "id": "tJTcexcvyvZ1"
   },
   "outputs": [],
   "source": [
    "\n",
    "LR=LogisticRegression()\n",
    "from sklearn.pipeline import Pipeline\n",
    "from sklearn.model_selection import GridSearchCV\n",
    "from sklearn import linear_model, decomposition"
   ]
  },
  {
   "cell_type": "code",
   "execution_count": 43,
   "metadata": {
    "colab": {
     "base_uri": "https://localhost:8080/",
     "height": 51
    },
    "colab_type": "code",
    "executionInfo": {
     "elapsed": 132868,
     "status": "ok",
     "timestamp": 1563951486881,
     "user": {
      "displayName": "Abdul Sheraz",
      "photoUrl": "",
      "userId": "02569957655710563099"
     },
     "user_tz": -330
    },
    "id": "AT4R_8-LW4eX",
    "outputId": "6fbf80c1-2e0f-4da1-f54a-700b75304074"
   },
   "outputs": [
    {
     "data": {
      "text/plain": [
       "PCA(copy=True, iterated_power='auto', n_components=None, random_state=None,\n",
       "    svd_solver='auto', tol=0.0, whiten=False)"
      ]
     },
     "execution_count": 43,
     "metadata": {
      "tags": []
     },
     "output_type": "execute_result"
    }
   ],
   "source": [
    "#Declare data preprocessing steps\n",
    "pca = decomposition.PCA()\n",
    "pipe = Pipeline(steps=[('pca', pca), ('logistic', LR)])\n",
    "\n",
    "pca.fit(X) \n"
   ]
  },
  {
   "cell_type": "code",
   "execution_count": 44,
   "metadata": {
    "colab": {
     "base_uri": "https://localhost:8080/",
     "height": 938
    },
    "colab_type": "code",
    "executionInfo": {
     "elapsed": 203045,
     "status": "ok",
     "timestamp": 1563951557081,
     "user": {
      "displayName": "Abdul Sheraz",
      "photoUrl": "",
      "userId": "02569957655710563099"
     },
     "user_tz": -330
    },
    "id": "ApvsjS01YbLn",
    "outputId": "a49bc2f5-11f8-4224-8910-0d370b30e963"
   },
   "outputs": [
    {
     "name": "stderr",
     "output_type": "stream",
     "text": [
      "/usr/local/lib/python3.6/dist-packages/sklearn/model_selection/_split.py:657: Warning: The least populated class in y has only 1 members, which is too few. The minimum number of members in any class cannot be less than n_splits=3.\n",
      "  % (min_groups, self.n_splits)), Warning)\n",
      "/usr/local/lib/python3.6/dist-packages/sklearn/utils/validation.py:724: DataConversionWarning: A column-vector y was passed when a 1d array was expected. Please change the shape of y to (n_samples, ), for example using ravel().\n",
      "  y = column_or_1d(y, warn=True)\n",
      "/usr/local/lib/python3.6/dist-packages/sklearn/utils/validation.py:724: DataConversionWarning: A column-vector y was passed when a 1d array was expected. Please change the shape of y to (n_samples, ), for example using ravel().\n",
      "  y = column_or_1d(y, warn=True)\n",
      "/usr/local/lib/python3.6/dist-packages/sklearn/utils/validation.py:724: DataConversionWarning: A column-vector y was passed when a 1d array was expected. Please change the shape of y to (n_samples, ), for example using ravel().\n",
      "  y = column_or_1d(y, warn=True)\n",
      "/usr/local/lib/python3.6/dist-packages/sklearn/utils/validation.py:724: DataConversionWarning: A column-vector y was passed when a 1d array was expected. Please change the shape of y to (n_samples, ), for example using ravel().\n",
      "  y = column_or_1d(y, warn=True)\n",
      "/usr/local/lib/python3.6/dist-packages/sklearn/utils/validation.py:724: DataConversionWarning: A column-vector y was passed when a 1d array was expected. Please change the shape of y to (n_samples, ), for example using ravel().\n",
      "  y = column_or_1d(y, warn=True)\n",
      "/usr/local/lib/python3.6/dist-packages/sklearn/utils/validation.py:724: DataConversionWarning: A column-vector y was passed when a 1d array was expected. Please change the shape of y to (n_samples, ), for example using ravel().\n",
      "  y = column_or_1d(y, warn=True)\n",
      "/usr/local/lib/python3.6/dist-packages/sklearn/utils/validation.py:724: DataConversionWarning: A column-vector y was passed when a 1d array was expected. Please change the shape of y to (n_samples, ), for example using ravel().\n",
      "  y = column_or_1d(y, warn=True)\n",
      "/usr/local/lib/python3.6/dist-packages/sklearn/utils/validation.py:724: DataConversionWarning: A column-vector y was passed when a 1d array was expected. Please change the shape of y to (n_samples, ), for example using ravel().\n",
      "  y = column_or_1d(y, warn=True)\n",
      "/usr/local/lib/python3.6/dist-packages/sklearn/utils/validation.py:724: DataConversionWarning: A column-vector y was passed when a 1d array was expected. Please change the shape of y to (n_samples, ), for example using ravel().\n",
      "  y = column_or_1d(y, warn=True)\n",
      "/usr/local/lib/python3.6/dist-packages/sklearn/model_selection/_search.py:813: DeprecationWarning: The default of the `iid` parameter will change from True to False in version 0.22 and will be removed in 0.24. This will change numeric results when test-set sizes are unequal.\n",
      "  DeprecationWarning)\n",
      "/usr/local/lib/python3.6/dist-packages/sklearn/utils/validation.py:724: DataConversionWarning: A column-vector y was passed when a 1d array was expected. Please change the shape of y to (n_samples, ), for example using ravel().\n",
      "  y = column_or_1d(y, warn=True)\n"
     ]
    },
    {
     "data": {
      "text/plain": [
       "GridSearchCV(cv='warn', error_score='raise-deprecating',\n",
       "             estimator=Pipeline(memory=None,\n",
       "                                steps=[('pca',\n",
       "                                        PCA(copy=True, iterated_power='auto',\n",
       "                                            n_components=None,\n",
       "                                            random_state=None,\n",
       "                                            svd_solver='auto', tol=0.0,\n",
       "                                            whiten=False)),\n",
       "                                       ('logistic',\n",
       "                                        LogisticRegression(C=1.0,\n",
       "                                                           class_weight=None,\n",
       "                                                           dual=False,\n",
       "                                                           fit_intercept=True,\n",
       "                                                           intercept_scaling=1,\n",
       "                                                           l1_ratio=None,\n",
       "                                                           max_iter=100,\n",
       "                                                           multi_class='warn',\n",
       "                                                           n_jobs=None,\n",
       "                                                           penalty='l2',\n",
       "                                                           random_state=None,\n",
       "                                                           solver='warn',\n",
       "                                                           tol=0.0001,\n",
       "                                                           verbose=0,\n",
       "                                                           warm_start=False))],\n",
       "                                verbose=False),\n",
       "             iid='warn', n_jobs=None,\n",
       "             param_grid={'pca__n_components': [8, 10, 12]},\n",
       "             pre_dispatch='2*n_jobs', refit=True, return_train_score=False,\n",
       "             scoring=None, verbose=0)"
      ]
     },
     "execution_count": 44,
     "metadata": {
      "tags": []
     },
     "output_type": "execute_result"
    }
   ],
   "source": [
    "n_components = [8,10,12]\n",
    "estimator = GridSearchCV(pipe,dict(pca__n_components=n_components))\n",
    "import warnings\n",
    "warnings.filterwarnings(\"ignore\", category=FutureWarning)\n",
    "estimator.fit(X,y)"
   ]
  },
  {
   "cell_type": "code",
   "execution_count": 45,
   "metadata": {
    "colab": {
     "base_uri": "https://localhost:8080/",
     "height": 34
    },
    "colab_type": "code",
    "executionInfo": {
     "elapsed": 203026,
     "status": "ok",
     "timestamp": 1563951557084,
     "user": {
      "displayName": "Abdul Sheraz",
      "photoUrl": "",
      "userId": "02569957655710563099"
     },
     "user_tz": -330
    },
    "id": "T3zsm9b0Yc9u",
    "outputId": "3b9f764d-719a-4874-8955-cf4c8d93dabb"
   },
   "outputs": [
    {
     "data": {
      "text/plain": [
       "{'pca__n_components': 8}"
      ]
     },
     "execution_count": 45,
     "metadata": {
      "tags": []
     },
     "output_type": "execute_result"
    }
   ],
   "source": [
    "estimator.best_params_"
   ]
  },
  {
   "cell_type": "code",
   "execution_count": 46,
   "metadata": {
    "colab": {
     "base_uri": "https://localhost:8080/",
     "height": 34
    },
    "colab_type": "code",
    "executionInfo": {
     "elapsed": 203001,
     "status": "ok",
     "timestamp": 1563951557087,
     "user": {
      "displayName": "Abdul Sheraz",
      "photoUrl": "",
      "userId": "02569957655710563099"
     },
     "user_tz": -330
    },
    "id": "HuXG9wYoYg3x",
    "outputId": "a254e21d-f7b2-4321-9925-26d70a48f228"
   },
   "outputs": [
    {
     "data": {
      "text/plain": [
       "0.01001001001001001"
      ]
     },
     "execution_count": 46,
     "metadata": {
      "tags": []
     },
     "output_type": "execute_result"
    }
   ],
   "source": [
    "estimator.best_score_"
   ]
  },
  {
   "cell_type": "code",
   "execution_count": 0,
   "metadata": {
    "colab": {},
    "colab_type": "code",
    "id": "glftLoY4Yjyx"
   },
   "outputs": [],
   "source": []
  }
 ],
 "metadata": {
  "colab": {
   "collapsed_sections": [
    "-59n7JhaZcVq"
   ],
   "name": "Featurization_Model_selection_and_Tuning_R5_Project_L3.ipynb",
   "provenance": [],
   "version": "0.3.2"
  },
  "kernelspec": {
   "display_name": "Python 3",
   "language": "python",
   "name": "python3"
  },
  "language_info": {
   "codemirror_mode": {
    "name": "ipython",
    "version": 3
   },
   "file_extension": ".py",
   "mimetype": "text/x-python",
   "name": "python",
   "nbconvert_exporter": "python",
   "pygments_lexer": "ipython3",
   "version": "3.7.3"
  }
 },
 "nbformat": 4,
 "nbformat_minor": 1
}
