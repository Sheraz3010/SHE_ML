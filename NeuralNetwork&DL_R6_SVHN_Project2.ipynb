{
  "nbformat": 4,
  "nbformat_minor": 0,
  "metadata": {
    "kernelspec": {
      "display_name": "Python 3",
      "language": "python",
      "name": "python3"
    },
    "language_info": {
      "codemirror_mode": {
        "name": "ipython",
        "version": 3
      },
      "file_extension": ".py",
      "mimetype": "text/x-python",
      "name": "python",
      "nbconvert_exporter": "python",
      "pygments_lexer": "ipython3",
      "version": "3.7.3"
    },
    "colab": {
      "name": "NeuralNetwork&DL_R6_SVHN_Project2.ipynb",
      "provenance": [],
      "collapsed_sections": [
        "-VmeTRH6ErYq",
        "H5de90r-ErZI",
        "ZJJYmLKlEraU",
        "heCzjwdwErbR",
        "ktqKSQ9LErbq",
        "V5efmy56tuz5",
        "FosO35Fttdrp"
      ]
    }
  },
  "cells": [
    {
      "cell_type": "markdown",
      "metadata": {
        "id": "u6YciorUErV_",
        "colab_type": "text"
      },
      "source": [
        "### R6 - NeuralNetwork and Deep Learning : Project 2 - The Street View House Numbers (SVHN) Dataset"
      ]
    },
    {
      "cell_type": "markdown",
      "metadata": {
        "id": "3UIzaIpeErWJ",
        "colab_type": "text"
      },
      "source": [
        "Data Set Reference: https://drive.google.com/file/d/1L2-WXzguhUsCArrFUc8EEkXcj33pahoS/view?usp=sharing "
      ]
    },
    {
      "cell_type": "markdown",
      "metadata": {
        "id": "igUf-Rk8jo2v",
        "colab_type": "text"
      },
      "source": [
        "####In this hands-on project the goal is to build a python code for image classification from scratch to understand the nitty gritties of building and training a model and further to understand the advantages of neural networks. First we will implement a simple KNN classifier and later implement a Neural Network to classify the images in the SVHN dataset. We will compare the computational efficiency and accuracy between the traditional methods and neural networks.\n",
        "\n",
        "####SVHN is a real-world image dataset for developing machine learning and object recognition algorithms with minimal requirement on data formatting but comes from a significantly harder, unsolved, real world problem (recognizing digits and numbers in natural scene images). SVHN is obtained from house numbers in Google Street View images."
      ]
    },
    {
      "cell_type": "markdown",
      "metadata": {
        "id": "cg2GmiBskXY-",
        "colab_type": "text"
      },
      "source": [
        "##### import numpy and pandas library"
      ]
    },
    {
      "cell_type": "code",
      "metadata": {
        "id": "-pCaQi7KErWW",
        "colab_type": "code",
        "colab": {}
      },
      "source": [
        "import numpy as np\n",
        "import pandas as pd"
      ],
      "execution_count": 0,
      "outputs": []
    },
    {
      "cell_type": "markdown",
      "metadata": {
        "id": "Mzp_MLVukdm1",
        "colab_type": "text"
      },
      "source": [
        "#####calculating the accuracy measures and confusion matrix:"
      ]
    },
    {
      "cell_type": "code",
      "metadata": {
        "id": "ncPBbV2dErWn",
        "colab_type": "code",
        "colab": {}
      },
      "source": [
        "from sklearn.model_selection import train_test_split\n",
        "from sklearn.metrics import accuracy_score, confusion_matrix, recall_score, precision_score, f1_score, auc,roc_curve"
      ],
      "execution_count": 0,
      "outputs": []
    },
    {
      "cell_type": "markdown",
      "metadata": {
        "id": "6-0mMb1Okt-P",
        "colab_type": "text"
      },
      "source": [
        "#####Importing ploting libraries:"
      ]
    },
    {
      "cell_type": "code",
      "metadata": {
        "id": "zbtv-70uErW4",
        "colab_type": "code",
        "colab": {}
      },
      "source": [
        "\n",
        "import matplotlib.pyplot as plt   \n",
        "import seaborn as sns\n",
        "%matplotlib inline "
      ],
      "execution_count": 0,
      "outputs": []
    },
    {
      "cell_type": "markdown",
      "metadata": {
        "id": "SC3XjzANk571",
        "colab_type": "text"
      },
      "source": [
        "#####Importing Tensorflow and Keras libraries:"
      ]
    },
    {
      "cell_type": "code",
      "metadata": {
        "id": "qXvlHxgkGnbz",
        "colab_type": "code",
        "outputId": "6b00bd43-e4fd-4706-fdd3-df65834917f9",
        "colab": {
          "base_uri": "https://localhost:8080/",
          "height": 34
        }
      },
      "source": [
        "import h5py\n",
        "import tensorflow as tf\n",
        "import keras"
      ],
      "execution_count": 4,
      "outputs": [
        {
          "output_type": "stream",
          "text": [
            "Using TensorFlow backend.\n"
          ],
          "name": "stderr"
        }
      ]
    },
    {
      "cell_type": "code",
      "metadata": {
        "id": "SyolAlK9ErXJ",
        "colab_type": "code",
        "colab": {}
      },
      "source": [
        "import warnings \n",
        "warnings.filterwarnings('ignore')"
      ],
      "execution_count": 0,
      "outputs": []
    },
    {
      "cell_type": "markdown",
      "metadata": {
        "id": "tHekbbInErXW",
        "colab_type": "text"
      },
      "source": [
        "### Questions :"
      ]
    },
    {
      "cell_type": "code",
      "metadata": {
        "id": "DQMwrkwTHzKv",
        "colab_type": "code",
        "outputId": "cc117c7c-37d8-4bac-ad31-b302bd03fd24",
        "colab": {
          "base_uri": "https://localhost:8080/",
          "height": 122
        }
      },
      "source": [
        "from google.colab import drive\n",
        "drive.mount('/content/drive')"
      ],
      "execution_count": 6,
      "outputs": [
        {
          "output_type": "stream",
          "text": [
            "Go to this URL in a browser: https://accounts.google.com/o/oauth2/auth?client_id=947318989803-6bn6qk8qdgf4n4g3pfee6491hc0brc4i.apps.googleusercontent.com&redirect_uri=urn%3Aietf%3Awg%3Aoauth%3A2.0%3Aoob&scope=email%20https%3A%2F%2Fwww.googleapis.com%2Fauth%2Fdocs.test%20https%3A%2F%2Fwww.googleapis.com%2Fauth%2Fdrive%20https%3A%2F%2Fwww.googleapis.com%2Fauth%2Fdrive.photos.readonly%20https%3A%2F%2Fwww.googleapis.com%2Fauth%2Fpeopleapi.readonly&response_type=code\n",
            "\n",
            "Enter your authorization code:\n",
            "··········\n",
            "Mounted at /content/drive\n"
          ],
          "name": "stdout"
        }
      ]
    },
    {
      "cell_type": "code",
      "metadata": {
        "id": "y9G9Z8P1IOQO",
        "colab_type": "code",
        "colab": {}
      },
      "source": [
        "h5FilePath=\"/content/drive/My Drive/AIML/8thResidency/ExternalLab/SVHN_single_grey1.h5\""
      ],
      "execution_count": 0,
      "outputs": []
    },
    {
      "cell_type": "markdown",
      "metadata": {
        "id": "Ag-gbbQWErXZ",
        "colab_type": "text"
      },
      "source": [
        "####1. Reading the dataset: Reading SVHN data from h5 file."
      ]
    },
    {
      "cell_type": "code",
      "metadata": {
        "id": "RjTCyp3vErXd",
        "colab_type": "code",
        "colab": {}
      },
      "source": [
        "svhn_h5f = h5py.File(h5FilePath,\"r\")"
      ],
      "execution_count": 0,
      "outputs": []
    },
    {
      "cell_type": "markdown",
      "metadata": {
        "id": "PzSgtMdznKzK",
        "colab_type": "text"
      },
      "source": [
        "####Getting Keys from h5py object:"
      ]
    },
    {
      "cell_type": "code",
      "metadata": {
        "id": "dDtfQ7_bWfcj",
        "colab_type": "code",
        "outputId": "16dcafaa-51b8-445b-a4df-2f5117c5d2ef",
        "colab": {
          "base_uri": "https://localhost:8080/",
          "height": 119
        }
      },
      "source": [
        "keys=svhn_h5f.keys()\n",
        "for key in keys:\n",
        "    print(key)"
      ],
      "execution_count": 9,
      "outputs": [
        {
          "output_type": "stream",
          "text": [
            "X_test\n",
            "X_train\n",
            "X_val\n",
            "y_test\n",
            "y_train\n",
            "y_val\n"
          ],
          "name": "stdout"
        }
      ]
    },
    {
      "cell_type": "markdown",
      "metadata": {
        "id": "8YccTSPonUf7",
        "colab_type": "text"
      },
      "source": [
        "####Getting Train, Test and validation data along with Label:"
      ]
    },
    {
      "cell_type": "code",
      "metadata": {
        "id": "HTy7jUzZX3fx",
        "colab_type": "code",
        "colab": {}
      },
      "source": [
        "X_train=svhn_h5f['X_train'][:]\n",
        "y_train=svhn_h5f['y_train'][:]\n",
        "\n",
        "X_test=svhn_h5f['X_test'][:]\n",
        "y_test=svhn_h5f['y_test'][:]\n",
        "\n",
        "X_val=svhn_h5f['X_val'][:]\n",
        "y_val=svhn_h5f['y_val'][:]"
      ],
      "execution_count": 0,
      "outputs": []
    },
    {
      "cell_type": "markdown",
      "metadata": {
        "id": "QUJGAipxnh1s",
        "colab_type": "text"
      },
      "source": [
        "#####Getting Train Y label unique value:"
      ]
    },
    {
      "cell_type": "code",
      "metadata": {
        "id": "bhTHlDuZboS6",
        "colab_type": "code",
        "outputId": "554f9ca0-eec7-42a2-bbe2-ef81ad29c990",
        "colab": {
          "base_uri": "https://localhost:8080/",
          "height": 34
        }
      },
      "source": [
        "np.unique(y_train)"
      ],
      "execution_count": 11,
      "outputs": [
        {
          "output_type": "execute_result",
          "data": {
            "text/plain": [
              "array([0, 1, 2, 3, 4, 5, 6, 7, 8, 9], dtype=uint8)"
            ]
          },
          "metadata": {
            "tags": []
          },
          "execution_count": 11
        }
      ]
    },
    {
      "cell_type": "markdown",
      "metadata": {
        "id": "y-qWAaNinpFY",
        "colab_type": "text"
      },
      "source": [
        "#####Get Test Y label unique value:"
      ]
    },
    {
      "cell_type": "code",
      "metadata": {
        "id": "9DYp4K30f9Sq",
        "colab_type": "code",
        "outputId": "a03d02f3-58e9-476d-93ee-3a8536c6bc40",
        "colab": {
          "base_uri": "https://localhost:8080/",
          "height": 34
        }
      },
      "source": [
        "np.unique(y_test)"
      ],
      "execution_count": 12,
      "outputs": [
        {
          "output_type": "execute_result",
          "data": {
            "text/plain": [
              "array([0, 1, 2, 3, 4, 5, 6, 7, 8, 9], dtype=uint8)"
            ]
          },
          "metadata": {
            "tags": []
          },
          "execution_count": 12
        }
      ]
    },
    {
      "cell_type": "code",
      "metadata": {
        "id": "xqfjIpIUgB7g",
        "colab_type": "code",
        "outputId": "a11b5197-a30f-46b9-f913-0d4324f20f7b",
        "colab": {
          "base_uri": "https://localhost:8080/",
          "height": 34
        }
      },
      "source": [
        "np.unique(y_val)"
      ],
      "execution_count": 13,
      "outputs": [
        {
          "output_type": "execute_result",
          "data": {
            "text/plain": [
              "array([0, 1, 2, 3, 4, 5, 6, 7, 8, 9], dtype=uint8)"
            ]
          },
          "metadata": {
            "tags": []
          },
          "execution_count": 13
        }
      ]
    },
    {
      "cell_type": "markdown",
      "metadata": {
        "id": "st4vXzM9nw9y",
        "colab_type": "text"
      },
      "source": [
        "####Closing h5 file:"
      ]
    },
    {
      "cell_type": "code",
      "metadata": {
        "id": "x4_yEr1nErXs",
        "colab_type": "code",
        "colab": {}
      },
      "source": [
        "svhn_h5f.close()"
      ],
      "execution_count": 0,
      "outputs": []
    },
    {
      "cell_type": "markdown",
      "metadata": {
        "id": "UvmDwCAun_Za",
        "colab_type": "text"
      },
      "source": [
        "####Verifying size of Training, Validation and Test sets: "
      ]
    },
    {
      "cell_type": "code",
      "metadata": {
        "id": "QUIKYitUErYD",
        "colab_type": "code",
        "outputId": "acf16644-4ab9-4012-9406-d689fd0a91c9",
        "colab": {
          "base_uri": "https://localhost:8080/",
          "height": 68
        }
      },
      "source": [
        "print(\"Training Set\",X_train.shape, y_train.shape )\n",
        "print(\"Validation Set\",X_val.shape, y_val.shape )\n",
        "print(\"Test Set\",X_test.shape, y_test.shape )"
      ],
      "execution_count": 15,
      "outputs": [
        {
          "output_type": "stream",
          "text": [
            "Training Set (42000, 32, 32) (42000,)\n",
            "Validation Set (60000, 32, 32) (60000,)\n",
            "Test Set (18000, 32, 32) (18000,)\n"
          ],
          "name": "stdout"
        }
      ]
    },
    {
      "cell_type": "markdown",
      "metadata": {
        "id": "4E2wQ8_7oRwr",
        "colab_type": "text"
      },
      "source": [
        "#####Visualize first 10 train data with label:"
      ]
    },
    {
      "cell_type": "code",
      "metadata": {
        "id": "sobWZbN0a3XQ",
        "colab_type": "code",
        "outputId": "1095164c-7a3e-45d6-a411-387858b99817",
        "colab": {
          "base_uri": "https://localhost:8080/",
          "height": 287
        }
      },
      "source": [
        "labels = []\n",
        "\n",
        "plt.figure(figsize=(5,5))\n",
        "for i in range(10):\n",
        "    plt.subplot(5,3,i+1)\n",
        "    plt.xticks([])\n",
        "    plt.yticks([])\n",
        "    plt.grid(False)\n",
        "    plt.imshow(X_train[i], cmap=plt.get_cmap('gray'))\n",
        "    lbl=y_train[i]\n",
        "    labels.append(lbl)\n",
        "plt.show()\n",
        "print(\"label for each of the above image:\\n\", labels)"
      ],
      "execution_count": 16,
      "outputs": [
        {
          "output_type": "display_data",
          "data": {
            "image/png": "[encoded data removed]",
            "text/plain": [
              "<Figure size 360x360 with 10 Axes>"
            ]
          },
          "metadata": {
            "tags": []
          }
        },
        {
          "output_type": "stream",
          "text": [
            "label for each of the above image:\n",
            " [2, 6, 7, 4, 4, 0, 3, 0, 7, 3]\n"
          ],
          "name": "stdout"
        }
      ]
    },
    {
      "cell_type": "markdown",
      "metadata": {
        "id": "-VmeTRH6ErYq",
        "colab_type": "text"
      },
      "source": [
        "#### 2. Converting train, test and validation data labels to one hot vectors"
      ]
    },
    {
      "cell_type": "markdown",
      "metadata": {
        "id": "KzxFZVCZq3IK",
        "colab_type": "text"
      },
      "source": [
        "#####No. of unique Label in the dataset (From 1 to 10)"
      ]
    },
    {
      "cell_type": "code",
      "metadata": {
        "id": "MHXjYhugErYu",
        "colab_type": "code",
        "colab": {}
      },
      "source": [
        "num_classes = 10 \n",
        "# Converting class vectors to binary class matrices\n",
        "y_train = keras.utils.to_categorical(y_train, num_classes)\n",
        "y_test = keras.utils.to_categorical(y_test, num_classes)\n",
        "y_val = keras.utils.to_categorical(y_val, num_classes)"
      ],
      "execution_count": 0,
      "outputs": []
    },
    {
      "cell_type": "code",
      "metadata": {
        "id": "xHU-NWHyhI05",
        "colab_type": "code",
        "outputId": "b139e001-7e66-4d1b-ccaa-f7bf076d7e30",
        "colab": {
          "base_uri": "https://localhost:8080/",
          "height": 136
        }
      },
      "source": [
        "print(y_train.shape)\n",
        "print('First 5 examples now are: \\n', y_train[0:5])"
      ],
      "execution_count": 19,
      "outputs": [
        {
          "output_type": "stream",
          "text": [
            "(42000, 10)\n",
            "First 5 examples now are: \n",
            " [[0. 0. 1. 0. 0. 0. 0. 0. 0. 0.]\n",
            " [0. 0. 0. 0. 0. 0. 1. 0. 0. 0.]\n",
            " [0. 0. 0. 0. 0. 0. 0. 1. 0. 0.]\n",
            " [0. 0. 0. 0. 1. 0. 0. 0. 0. 0.]\n",
            " [0. 0. 0. 0. 1. 0. 0. 0. 0. 0.]]\n"
          ],
          "name": "stdout"
        }
      ]
    },
    {
      "cell_type": "markdown",
      "metadata": {
        "id": "H5de90r-ErZI",
        "colab_type": "text"
      },
      "source": [
        "#### 3. Normalizing the Train, Test and Validation image data from 0-255 to 0-1"
      ]
    },
    {
      "cell_type": "code",
      "metadata": {
        "id": "qlsU1zxwErZM",
        "colab_type": "code",
        "colab": {}
      },
      "source": [
        "X_train = X_train.astype('float32') / 255\n",
        "X_test = X_test.astype('float32') / 255\n",
        "X_val = X_val.astype('float32') / 255"
      ],
      "execution_count": 0,
      "outputs": []
    },
    {
      "cell_type": "markdown",
      "metadata": {
        "id": "ZJJYmLKlEraU",
        "colab_type": "text"
      },
      "source": [
        "#### 4. Reshaping the data from 32x32 to 32x32x1 to match input dimensions in Conv2D layer in keras"
      ]
    },
    {
      "cell_type": "code",
      "metadata": {
        "id": "0ltfG8FfEraY",
        "colab_type": "code",
        "colab": {}
      },
      "source": [
        "X_train = X_train.reshape((X_train.shape[0], 32, 32, 1))\n",
        "X_test = X_test.reshape((X_test.shape[0], 32, 32, 1))\n",
        "X_val = X_val.reshape((X_val.shape[0], 32, 32, 1))"
      ],
      "execution_count": 0,
      "outputs": []
    },
    {
      "cell_type": "code",
      "metadata": {
        "id": "G_57uDq-Eram",
        "colab_type": "code",
        "outputId": "1ecadcbd-5622-43a9-c1ed-a5532462789d",
        "colab": {
          "base_uri": "https://localhost:8080/",
          "height": 68
        }
      },
      "source": [
        "print(\"Training Set\",X_train.shape )\n",
        "print(\"Validation Set\",X_val.shape )\n",
        "print(\"Test Set\",X_test.shape )"
      ],
      "execution_count": 22,
      "outputs": [
        {
          "output_type": "stream",
          "text": [
            "Training Set (42000, 32, 32, 1)\n",
            "Validation Set (60000, 32, 32, 1)\n",
            "Test Set (18000, 32, 32, 1)\n"
          ],
          "name": "stdout"
        }
      ]
    },
    {
      "cell_type": "markdown",
      "metadata": {
        "id": "heCzjwdwErbR",
        "colab_type": "text"
      },
      "source": [
        "#### 5. Build Model\n",
        "####Initializing model1:"
      ]
    },
    {
      "cell_type": "code",
      "metadata": {
        "id": "FZ7rjKYaErba",
        "colab_type": "code",
        "colab": {}
      },
      "source": [
        "\n",
        "model1 = tf.keras.models.Sequential()"
      ],
      "execution_count": 0,
      "outputs": []
    },
    {
      "cell_type": "code",
      "metadata": {
        "id": "eRTcfj1cjxXo",
        "colab_type": "code",
        "colab": {
          "base_uri": "https://localhost:8080/",
          "height": 88
        },
        "outputId": "f888d216-7f3d-48c1-c26e-1d438062bd46"
      },
      "source": [
        "model1.add(tf.keras.layers.Conv2D(32, kernel_size=(3,3), activation='relu', input_shape=(32, 32, 1)))\n",
        "model1.add(tf.keras.layers.Flatten())\n",
        "#Adding - Dense Layer - 128 Nurons with Relu\n",
        "model1.add(tf.keras.layers.Dense(128, activation='relu'))\n",
        "#Adding - Dense Layer/output layer - 10 Nurons with Softmax\n",
        "model1.add(tf.keras.layers.Dense(10, activation='softmax'))"
      ],
      "execution_count": 24,
      "outputs": [
        {
          "output_type": "stream",
          "text": [
            "WARNING:tensorflow:From /usr/local/lib/python3.6/dist-packages/tensorflow/python/ops/init_ops.py:1251: calling VarianceScaling.__init__ (from tensorflow.python.ops.init_ops) with dtype is deprecated and will be removed in a future version.\n",
            "Instructions for updating:\n",
            "Call initializer instance with the dtype argument instead of passing it to the constructor\n"
          ],
          "name": "stdout"
        }
      ]
    },
    {
      "cell_type": "markdown",
      "metadata": {
        "id": "xxo-L7LhsFDb",
        "colab_type": "text"
      },
      "source": [
        "####compiling model:"
      ]
    },
    {
      "cell_type": "code",
      "metadata": {
        "id": "8G6nbH1wlGPP",
        "colab_type": "code",
        "colab": {}
      },
      "source": [
        "model1.compile(optimizer='sgd', loss='categorical_crossentropy', metrics=['accuracy'])"
      ],
      "execution_count": 0,
      "outputs": []
    },
    {
      "cell_type": "code",
      "metadata": {
        "id": "UVfESS_7lpqh",
        "colab_type": "code",
        "outputId": "2b7b6acc-e55f-49cf-f2db-01dac8d1a3da",
        "colab": {
          "base_uri": "https://localhost:8080/",
          "height": 374
        }
      },
      "source": [
        "#Fitting the model1 with 10 epochs and batch size 32 for train and validation data\n",
        "m1_history=model1.fit(X_train, y_train, \n",
        "          validation_data=(X_val, y_val), \n",
        "          epochs=10,\n",
        "          batch_size=32)"
      ],
      "execution_count": 26,
      "outputs": [
        {
          "output_type": "stream",
          "text": [
            "Train on 42000 samples, validate on 60000 samples\n",
            "Epoch 1/10\n",
            "42000/42000 [==============================] - 66s 2ms/sample - loss: 2.2515 - acc: 0.1943 - val_loss: 2.0296 - val_acc: 0.4045\n",
            "Epoch 2/10\n",
            "42000/42000 [==============================] - 66s 2ms/sample - loss: 1.5338 - acc: 0.5264 - val_loss: 1.2084 - val_acc: 0.6414\n",
            "Epoch 3/10\n",
            "42000/42000 [==============================] - 65s 2ms/sample - loss: 1.1598 - acc: 0.6463 - val_loss: 1.0300 - val_acc: 0.6955\n",
            "Epoch 4/10\n",
            "42000/42000 [==============================] - 65s 2ms/sample - loss: 1.0316 - acc: 0.6864 - val_loss: 1.0454 - val_acc: 0.6752\n",
            "Epoch 5/10\n",
            "42000/42000 [==============================] - 66s 2ms/sample - loss: 0.9521 - acc: 0.7138 - val_loss: 1.0941 - val_acc: 0.6787\n",
            "Epoch 6/10\n",
            "42000/42000 [==============================] - 66s 2ms/sample - loss: 0.8897 - acc: 0.7310 - val_loss: 0.9771 - val_acc: 0.7021\n",
            "Epoch 7/10\n",
            "42000/42000 [==============================] - 65s 2ms/sample - loss: 0.8408 - acc: 0.7466 - val_loss: 0.9034 - val_acc: 0.7312\n",
            "Epoch 8/10\n",
            "42000/42000 [==============================] - 66s 2ms/sample - loss: 0.7992 - acc: 0.7603 - val_loss: 0.8243 - val_acc: 0.7511\n",
            "Epoch 9/10\n",
            "42000/42000 [==============================] - 65s 2ms/sample - loss: 0.7626 - acc: 0.7731 - val_loss: 0.7305 - val_acc: 0.7839\n",
            "Epoch 10/10\n",
            "42000/42000 [==============================] - 65s 2ms/sample - loss: 0.7315 - acc: 0.7829 - val_loss: 0.7236 - val_acc: 0.7898\n"
          ],
          "name": "stdout"
        }
      ]
    },
    {
      "cell_type": "code",
      "metadata": {
        "id": "yty5XSb2seA3",
        "colab_type": "code",
        "outputId": "da60bdcc-6f33-435b-f008-009720462376",
        "colab": {
          "base_uri": "https://localhost:8080/",
          "height": 34
        }
      },
      "source": [
        "#listing all data in history\n",
        "print(m1_history.history.keys())"
      ],
      "execution_count": 27,
      "outputs": [
        {
          "output_type": "stream",
          "text": [
            "dict_keys(['loss', 'acc', 'val_loss', 'val_acc'])\n"
          ],
          "name": "stdout"
        }
      ]
    },
    {
      "cell_type": "markdown",
      "metadata": {
        "id": "ktqKSQ9LErbq",
        "colab_type": "text"
      },
      "source": [
        "#### Ploting Model1 Fit output for Train & Validation Data"
      ]
    },
    {
      "cell_type": "code",
      "metadata": {
        "id": "Bmbwn4E5Erbw",
        "colab_type": "code",
        "outputId": "d3969654-f37f-4d14-85e0-d52de2ebb356",
        "colab": {
          "base_uri": "https://localhost:8080/",
          "height": 573
        }
      },
      "source": [
        "\n",
        "# summarizing history for accuracy\n",
        "plt.plot(m1_history.history['acc'])\n",
        "plt.plot(m1_history.history['val_acc'])\n",
        "plt.title('Model1 Accuracy')\n",
        "plt.ylabel('accuracy')\n",
        "plt.xlabel('epoch')\n",
        "plt.legend(['Train', 'Validation'], loc='upper left')\n",
        "plt.show()\n",
        "# summarizing history for loss\n",
        "plt.plot(m1_history.history['loss'])\n",
        "plt.plot(m1_history.history['val_loss'])\n",
        "plt.title('Model1 Loss')\n",
        "plt.ylabel('loss')\n",
        "plt.xlabel('epoch')\n",
        "plt.legend(['Train', 'Validation'], loc='upper left')\n",
        "plt.show()"
      ],
      "execution_count": 28,
      "outputs": [
        {
          "output_type": "display_data",
          "data": {
            "image/png": "[encoded data removed]",
            "text/plain": [
              "<Figure size 432x288 with 1 Axes>"
            ]
          },
          "metadata": {
            "tags": []
          }
        },
        {
          "output_type": "display_data",
          "data": {
            "image/png": "[encoded data removed]",
            "text/plain": [
              "<Figure size 432x288 with 1 Axes>"
            ]
          },
          "metadata": {
            "tags": []
          }
        }
      ]
    },
    {
      "cell_type": "markdown",
      "metadata": {
        "id": "V5efmy56tuz5",
        "colab_type": "text"
      },
      "source": [
        "#### Evaluating Model1 with Test Data:"
      ]
    },
    {
      "cell_type": "code",
      "metadata": {
        "id": "H7xfXPl6ttcg",
        "colab_type": "code",
        "outputId": "1b695944-7cd7-4d00-e695-1cf87f520ec2",
        "colab": {
          "base_uri": "https://localhost:8080/",
          "height": 34
        }
      },
      "source": [
        "model1_result=model1.evaluate(X_test,y_test,verbose=1)"
      ],
      "execution_count": 29,
      "outputs": [
        {
          "output_type": "stream",
          "text": [
            "18000/18000 [==============================] - 5s 301us/sample - loss: 0.7909 - acc: 0.7763\n"
          ],
          "name": "stdout"
        }
      ]
    },
    {
      "cell_type": "code",
      "metadata": {
        "id": "Yu8iiEfOuBHD",
        "colab_type": "code",
        "outputId": "384555ac-a963-407e-de98-e05f8a03b2c6",
        "colab": {
          "base_uri": "https://localhost:8080/",
          "height": 34
        }
      },
      "source": [
        "print(\"Model1 Accuracy : {0}\".format(model1_result[1]*100))"
      ],
      "execution_count": 30,
      "outputs": [
        {
          "output_type": "stream",
          "text": [
            "Model1 Accuracy : 77.63333320617676\n"
          ],
          "name": "stdout"
        }
      ]
    },
    {
      "cell_type": "code",
      "metadata": {
        "id": "0UKAB1l5uByx",
        "colab_type": "code",
        "outputId": "c626c116-27bf-4d77-b678-0611ded2cdf9",
        "colab": {
          "base_uri": "https://localhost:8080/",
          "height": 34
        }
      },
      "source": [
        "print(\"Model1 Loss : {0}\".format(model1_result[0]*100))"
      ],
      "execution_count": 31,
      "outputs": [
        {
          "output_type": "stream",
          "text": [
            "Model1 Loss : 79.09404906696743\n"
          ],
          "name": "stdout"
        }
      ]
    },
    {
      "cell_type": "markdown",
      "metadata": {
        "id": "FosO35Fttdrp",
        "colab_type": "text"
      },
      "source": [
        "#### Model1 Summary:"
      ]
    },
    {
      "cell_type": "code",
      "metadata": {
        "id": "lcCT__gctTdX",
        "colab_type": "code",
        "outputId": "628b0d13-e0f2-48ba-ae86-95d2e65520fb",
        "colab": {
          "base_uri": "https://localhost:8080/",
          "height": 289
        }
      },
      "source": [
        "model1.summary()"
      ],
      "execution_count": 32,
      "outputs": [
        {
          "output_type": "stream",
          "text": [
            "Model: \"sequential\"\n",
            "_________________________________________________________________\n",
            "Layer (type)                 Output Shape              Param #   \n",
            "=================================================================\n",
            "conv2d (Conv2D)              (None, 30, 30, 32)        320       \n",
            "_________________________________________________________________\n",
            "flatten (Flatten)            (None, 28800)             0         \n",
            "_________________________________________________________________\n",
            "dense (Dense)                (None, 128)               3686528   \n",
            "_________________________________________________________________\n",
            "dense_1 (Dense)              (None, 10)                1290      \n",
            "=================================================================\n",
            "Total params: 3,688,138\n",
            "Trainable params: 3,688,138\n",
            "Non-trainable params: 0\n",
            "_________________________________________________________________\n"
          ],
          "name": "stdout"
        }
      ]
    }
  ]
}