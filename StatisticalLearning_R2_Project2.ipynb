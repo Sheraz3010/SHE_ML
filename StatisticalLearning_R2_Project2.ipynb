{
 "cells": [
  {
   "cell_type": "markdown",
   "metadata": {},
   "source": [
    "# Statistical Learning - Project 2"
   ]
  },
  {
   "cell_type": "markdown",
   "metadata": {},
   "source": [
    "## Questions"
   ]
  },
  {
   "cell_type": "markdown",
   "metadata": {},
   "source": [
    "1. Find the mean of old scheme and new scheme column. (5 points)"
   ]
  },
  {
   "cell_type": "code",
   "execution_count": 1,
   "metadata": {},
   "outputs": [],
   "source": [
    "import pandas as pd\n",
    "import numpy as np\n",
    "from scipy.stats import ttest_1samp, ttest_ind, mannwhitneyu, levene, shapiro\n",
    "from statsmodels.stats.power import ttest_power"
   ]
  },
  {
   "cell_type": "code",
   "execution_count": 2,
   "metadata": {
    "scrolled": true
   },
   "outputs": [
    {
     "data": {
      "text/html": [
       "<div>\n",
       "<style scoped>\n",
       "    .dataframe tbody tr th:only-of-type {\n",
       "        vertical-align: middle;\n",
       "    }\n",
       "\n",
       "    .dataframe tbody tr th {\n",
       "        vertical-align: top;\n",
       "    }\n",
       "\n",
       "    .dataframe thead th {\n",
       "        text-align: right;\n",
       "    }\n",
       "</style>\n",
       "<table border=\"1\" class=\"dataframe\">\n",
       "  <thead>\n",
       "    <tr style=\"text-align: right;\">\n",
       "      <th></th>\n",
       "      <th>SALESPERSON</th>\n",
       "      <th>Old Scheme (in thousands)</th>\n",
       "      <th>New Scheme (in thousands)</th>\n",
       "    </tr>\n",
       "  </thead>\n",
       "  <tbody>\n",
       "    <tr>\n",
       "      <th>0</th>\n",
       "      <td>1</td>\n",
       "      <td>57</td>\n",
       "      <td>62</td>\n",
       "    </tr>\n",
       "    <tr>\n",
       "      <th>1</th>\n",
       "      <td>2</td>\n",
       "      <td>103</td>\n",
       "      <td>122</td>\n",
       "    </tr>\n",
       "    <tr>\n",
       "      <th>2</th>\n",
       "      <td>3</td>\n",
       "      <td>59</td>\n",
       "      <td>54</td>\n",
       "    </tr>\n",
       "    <tr>\n",
       "      <th>3</th>\n",
       "      <td>4</td>\n",
       "      <td>75</td>\n",
       "      <td>82</td>\n",
       "    </tr>\n",
       "    <tr>\n",
       "      <th>4</th>\n",
       "      <td>5</td>\n",
       "      <td>84</td>\n",
       "      <td>84</td>\n",
       "    </tr>\n",
       "  </tbody>\n",
       "</table>\n",
       "</div>"
      ],
      "text/plain": [
       "   SALESPERSON  Old Scheme (in thousands)  New Scheme (in thousands)\n",
       "0            1                         57                         62\n",
       "1            2                        103                        122\n",
       "2            3                         59                         54\n",
       "3            4                         75                         82\n",
       "4            5                         84                         84"
      ]
     },
     "execution_count": 2,
     "metadata": {},
     "output_type": "execute_result"
    }
   ],
   "source": [
    "SalesData = pd.read_csv('data.csv')\n",
    "SalesData.head()"
   ]
  },
  {
   "cell_type": "code",
   "execution_count": 3,
   "metadata": {},
   "outputs": [
    {
     "data": {
      "text/plain": [
       "(30, 3)"
      ]
     },
     "execution_count": 3,
     "metadata": {},
     "output_type": "execute_result"
    }
   ],
   "source": [
    "SalesData.shape"
   ]
  },
  {
   "cell_type": "code",
   "execution_count": 4,
   "metadata": {},
   "outputs": [
    {
     "name": "stdout",
     "output_type": "stream",
     "text": [
      "Old Scheme Mean Value : 68033.33333333333\n",
      "New Scheme Mean Value : 72033.33333333333\n"
     ]
    }
   ],
   "source": [
    "#Since given data for Old Scheme & New Scheme in thousands its better to convert that with multiple by 1000\n",
    "SalesData[\"OldScheme\"]=SalesData[\"Old Scheme (in thousands)\"]*1000\n",
    "SalesData[\"NewScheme\"]=SalesData[\"New Scheme (in thousands)\"]*1000\n",
    "#NOTE : mean value calculated from the newly converted field\n",
    "print( \"Old Scheme Mean Value : {0}\".format(SalesData[\"OldScheme\"].mean()))\n",
    "print( \"New Scheme Mean Value : {0}\".format(SalesData[\"NewScheme\"].mean()))"
   ]
  },
  {
   "cell_type": "markdown",
   "metadata": {},
   "source": [
    "2. Use the five percent significance test over the data to determine the p value to check new scheme has significantly raised outputs? (10 points)"
   ]
  },
  {
   "cell_type": "code",
   "execution_count": 10,
   "metadata": {},
   "outputs": [
    {
     "name": "stdout",
     "output_type": "stream",
     "text": [
      "p-Value for 2 tail = 0.49063515686248105\n",
      "P-value for 1 tail=0.24531757843124052\n"
     ]
    }
   ],
   "source": [
    "#Two sample t-test\n",
    "t_statistic, p_value = ttest_ind(SalesData[\"OldScheme\"], SalesData[\"NewScheme\"])\n",
    "print (\"p-Value for 2 tail = {0}\".format( p_value))\n",
    "print(\"P-value for 1 tail={0}\".format(p_value/2))"
   ]
  },
  {
   "cell_type": "markdown",
   "metadata": {},
   "source": [
    "3. What conclusion does the test (p-value) lead to? (2.5 points)"
   ]
  },
  {
   "cell_type": "code",
   "execution_count": 11,
   "metadata": {},
   "outputs": [
    {
     "name": "stdout",
     "output_type": "stream",
     "text": [
      "Since p-value = 0.24531757843124052 is higher than 0.05, we accept (fail to reject) NULL hypothesis.\n",
      "The New scheme has NOT significantly raised outputs.\n"
     ]
    }
   ],
   "source": [
    "#Null Hypothesis : mu2 = mu1 (i.e.New scheme has not significantly raised outputs)\n",
    "\n",
    "#Alternate Hypothesis : mu2 > mu1 (i.e. New scheme has significantly raised outputs)\n",
    "\n",
    "# p_value < 0.05 => alternative hypothesis:\n",
    "# they don't have the same mean at the 5% significance level\n",
    "# It will be a one tail test as we are testing against right tail.\n",
    "\n",
    "print (\"Since p-value = {0} is higher than 0.05, we accept (fail to reject) NULL hypothesis.\".format( p_value/2))\n",
    "print (\"The New scheme has NOT significantly raised outputs.\")"
   ]
  },
  {
   "cell_type": "markdown",
   "metadata": {},
   "source": [
    "4. Suppose it has been calculated that in order for Titan to break even, the average output must increase by £5000 in the scheme compared to the old scheme. If this figure is alternative hypothesis, what is:"
   ]
  },
  {
   "cell_type": "markdown",
   "metadata": {},
   "source": [
    "  a) The probability of a type 1 error? (2.5 points)"
   ]
  },
  {
   "cell_type": "markdown",
   "metadata": {},
   "source": [
    "<b>Ans :</b><br>\n",
    "*When the null hypothesis is true and you reject it.*<br>\n",
    "Albha = props(Type I Error)=significant level = 0.05 or 5%</br>"
   ]
  },
  {
   "cell_type": "markdown",
   "metadata": {},
   "source": [
    "b) What is the p- value of the hypothesis test if we test for a difference of $5000? (5 points)"
   ]
  },
  {
   "cell_type": "code",
   "execution_count": 18,
   "metadata": {},
   "outputs": [
    {
     "name": "stdout",
     "output_type": "stream",
     "text": [
      "p-Value  = 0.3500667456306643\n"
     ]
    }
   ],
   "source": [
    "# Let  μ2 = Mean value of New Scheme.\n",
    "# μ1 = Mean value of Old Scheme.\n",
    "# μd = μ2 – μ1   \n",
    "\n",
    "# H0: μd >= 5000  \n",
    "# HA: μd < 5000\n",
    "# one tail test\n",
    "\n",
    "\n",
    "t_statistic, p_value = ttest_1samp(SalesData[\"NewScheme\"]-SalesData[\"OldScheme\"], 5000)\n",
    "print(\"p-Value  = {0}\".format(p_value/2))"
   ]
  },
  {
   "cell_type": "markdown",
   "metadata": {},
   "source": [
    "c) Power of the test (5 points)"
   ]
  },
  {
   "cell_type": "code",
   "execution_count": 20,
   "metadata": {},
   "outputs": [
    {
     "name": "stdout",
     "output_type": "stream",
     "text": [
      "0.13102028811290184\n"
     ]
    }
   ],
   "source": [
    "# Calculating Power of Test\n",
    "# Compute the difference in Means between 2 sample means and divide by pooled Standard Deviation \n",
    "# number of Observations/tuples\n",
    "# Set the alpha value to 0.05 and alternative values 'two-sided' , 'larger' , 'smaller'\n",
    "newScheme=SalesData[\"NewScheme\"]\n",
    "oldScheme=SalesData[\"OldScheme\"]\n",
    "test_size=(np.mean(newScheme) - np.mean(oldScheme)) / np.sqrt(((30-1)*np.var(newScheme)+(30-1)*np.var(oldScheme)) / 30+30-2)\n",
    "print(test_size)"
   ]
  },
  {
   "cell_type": "code",
   "execution_count": 24,
   "metadata": {},
   "outputs": [
    {
     "name": "stdout",
     "output_type": "stream",
     "text": [
      "Power of Test Value: 0.00948692056155094\n"
     ]
    }
   ],
   "source": [
    "# calculate the t test\n",
    "alpha = 0.05\n",
    "powerOfTest=ttest_power(test_size, nobs=30, alpha=alpha,alternative='smaller')\n",
    "print(\"Power of Test Value: {0}\".format(powerOfTest))"
   ]
  }
 ],
 "metadata": {
  "kernelspec": {
   "display_name": "Python 3",
   "language": "python",
   "name": "python3"
  },
  "language_info": {
   "codemirror_mode": {
    "name": "ipython",
    "version": 3
   },
   "file_extension": ".py",
   "mimetype": "text/x-python",
   "name": "python",
   "nbconvert_exporter": "python",
   "pygments_lexer": "ipython3",
   "version": "3.7.1"
  }
 },
 "nbformat": 4,
 "nbformat_minor": 2
}
