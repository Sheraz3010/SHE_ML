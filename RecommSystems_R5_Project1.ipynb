{
  "nbformat": 4,
  "nbformat_minor": 0,
  "metadata": {
    "colab": {
      "name": "RecommSystems_R5_Project1.ipynb",
      "version": "0.3.2",
      "provenance": [],
      "collapsed_sections": []
    },
    "kernelspec": {
      "display_name": "Python 3",
      "language": "python",
      "name": "python3"
    },
    "language_info": {
      "codemirror_mode": {
        "name": "ipython",
        "version": 3
      },
      "file_extension": ".py",
      "mimetype": "text/x-python",
      "name": "python",
      "nbconvert_exporter": "python",
      "pygments_lexer": "ipython3",
      "version": "3.7.1"
    }
  },
  "cells": [
    {
      "cell_type": "code",
      "metadata": {
        "id": "I_uKtSqzgBkd",
        "colab_type": "code",
        "colab": {}
      },
      "source": [
        ""
      ],
      "execution_count": 0,
      "outputs": []
    },
    {
      "cell_type": "code",
      "metadata": {
        "colab_type": "code",
        "id": "KJkjrDSDAQgw",
        "colab": {}
      },
      "source": [
        "import numpy as np\n",
        "import pandas as pd\n",
        "import matplotlib.pyplot as plt\n",
        "%matplotlib inline\n",
        "#importing seaborn for statistical plots\n",
        "import seaborn as sns\n",
        "# Import Linear Regression machine learning library\n",
        "from sklearn.linear_model import LinearRegression\n",
        "\n",
        "import statsmodels.formula.api as smf"
      ],
      "execution_count": 0,
      "outputs": []
    },
    {
      "cell_type": "code",
      "metadata": {
        "id": "I9VID6n60GeE",
        "colab_type": "code",
        "outputId": "fbbaaef1-5b3e-4759-ddab-e853889bd703",
        "colab": {
          "base_uri": "https://localhost:8080/",
          "height": 122
        }
      },
      "source": [
        "from google.colab import drive\n",
        "drive.mount('/content/drive')"
      ],
      "execution_count": 4,
      "outputs": [
        {
          "output_type": "stream",
          "text": [
            "Go to this URL in a browser: https://accounts.google.com/o/oauth2/auth?client_id=947318989803-6bn6qk8qdgf4n4g3pfee6491hc0brc4i.apps.googleusercontent.com&redirect_uri=urn%3Aietf%3Awg%3Aoauth%3A2.0%3Aoob&scope=email%20https%3A%2F%2Fwww.googleapis.com%2Fauth%2Fdocs.test%20https%3A%2F%2Fwww.googleapis.com%2Fauth%2Fdrive%20https%3A%2F%2Fwww.googleapis.com%2Fauth%2Fdrive.photos.readonly%20https%3A%2F%2Fwww.googleapis.com%2Fauth%2Fpeopleapi.readonly&response_type=code\n",
            "\n",
            "Enter your authorization code:\n",
            "··········\n",
            "Mounted at /content/drive\n"
          ],
          "name": "stdout"
        }
      ]
    },
    {
      "cell_type": "markdown",
      "metadata": {
        "id": "Ixq37-uKRoZU",
        "colab_type": "text"
      },
      "source": [
        "1. Read and explore the given dataset.  ( Rename column/add headers, plot histograms, find data characteristics)"
      ]
    },
    {
      "cell_type": "code",
      "metadata": {
        "id": "YwuhJivFgBlT",
        "colab_type": "code",
        "outputId": "e98421e8-799f-4641-aadc-8dd9f01dd87b",
        "colab": {
          "base_uri": "https://localhost:8080/",
          "height": 275
        }
      },
      "source": [
        "!pip install scikit-surprise"
      ],
      "execution_count": 5,
      "outputs": [
        {
          "output_type": "stream",
          "text": [
            "Collecting scikit-surprise\n",
            "\u001b[?25l  Downloading https://files.pythonhosted.org/packages/4d/fc/cd4210b247d1dca421c25994740cbbf03c5e980e31881f10eaddf45fdab0/scikit-surprise-1.0.6.tar.gz (3.3MB)\n",
            "\u001b[K     |████████████████████████████████| 3.3MB 4.6MB/s \n",
            "\u001b[?25hRequirement already satisfied: joblib>=0.11 in /usr/local/lib/python3.6/dist-packages (from scikit-surprise) (0.13.2)\n",
            "Requirement already satisfied: numpy>=1.11.2 in /usr/local/lib/python3.6/dist-packages (from scikit-surprise) (1.16.4)\n",
            "Requirement already satisfied: scipy>=1.0.0 in /usr/local/lib/python3.6/dist-packages (from scikit-surprise) (1.3.1)\n",
            "Requirement already satisfied: six>=1.10.0 in /usr/local/lib/python3.6/dist-packages (from scikit-surprise) (1.12.0)\n",
            "Building wheels for collected packages: scikit-surprise\n",
            "  Building wheel for scikit-surprise (setup.py) ... \u001b[?25l\u001b[?25hdone\n",
            "  Created wheel for scikit-surprise: filename=scikit_surprise-1.0.6-cp36-cp36m-linux_x86_64.whl size=1683516 sha256=d754aeff4846e783202b1c7ca67064f7de3981a0f5f6b5f329adbd349cb724ae\n",
            "  Stored in directory: /root/.cache/pip/wheels/ec/c0/55/3a28eab06b53c220015063ebbdb81213cd3dcbb72c088251ec\n",
            "Successfully built scikit-surprise\n",
            "Installing collected packages: scikit-surprise\n",
            "Successfully installed scikit-surprise-1.0.6\n"
          ],
          "name": "stdout"
        }
      ]
    },
    {
      "cell_type": "code",
      "metadata": {
        "colab_type": "code",
        "id": "1kOdwAqVAbAI",
        "colab": {}
      },
      "source": [
        "#recomm_df = pd.read_csv('https://drive.google.com/file/d/1ClBptsK3V5KgKXtK2GSRzFNAW7GnTPDW/view?usp=sharing')\n",
        "recomm_df = pd.read_csv('/content/drive/My Drive/AIML/5thResidency/Recommandation/Recommandation1/Lab/ratings_Electronics.csv',names=[\"userId\",\"productId\", \"ratings\" , \"timestamp\"])\n"
      ],
      "execution_count": 0,
      "outputs": []
    },
    {
      "cell_type": "code",
      "metadata": {
        "colab_type": "code",
        "id": "o0_3_POgBnGe",
        "outputId": "fd25a82b-c8fe-4e81-a3ea-2b047cdd2f3f",
        "colab": {
          "base_uri": "https://localhost:8080/",
          "height": 170
        }
      },
      "source": [
        "recomm_df.shape\n",
        "recomm_df.info()"
      ],
      "execution_count": 7,
      "outputs": [
        {
          "output_type": "stream",
          "text": [
            "<class 'pandas.core.frame.DataFrame'>\n",
            "RangeIndex: 1048576 entries, 0 to 1048575\n",
            "Data columns (total 4 columns):\n",
            "userId       1048576 non-null object\n",
            "productId    1048576 non-null object\n",
            "ratings      1048576 non-null int64\n",
            "timestamp    1048576 non-null int64\n",
            "dtypes: int64(2), object(2)\n",
            "memory usage: 32.0+ MB\n"
          ],
          "name": "stdout"
        }
      ]
    },
    {
      "cell_type": "code",
      "metadata": {
        "id": "J3ICLElSgBmq",
        "colab_type": "code",
        "colab": {}
      },
      "source": [
        "#drop the columns id, date, zipcode\n",
        "recomm_df = recomm_df.drop([\"timestamp\"],axis=1)"
      ],
      "execution_count": 0,
      "outputs": []
    },
    {
      "cell_type": "code",
      "metadata": {
        "id": "lvLUi0ofgBm3",
        "colab_type": "code",
        "outputId": "a3c56656-a748-4bcb-82c1-6116a30800d0",
        "colab": {
          "base_uri": "https://localhost:8080/",
          "height": 153
        }
      },
      "source": [
        "recomm_df.info()"
      ],
      "execution_count": 9,
      "outputs": [
        {
          "output_type": "stream",
          "text": [
            "<class 'pandas.core.frame.DataFrame'>\n",
            "RangeIndex: 1048576 entries, 0 to 1048575\n",
            "Data columns (total 3 columns):\n",
            "userId       1048576 non-null object\n",
            "productId    1048576 non-null object\n",
            "ratings      1048576 non-null int64\n",
            "dtypes: int64(1), object(2)\n",
            "memory usage: 24.0+ MB\n"
          ],
          "name": "stdout"
        }
      ]
    },
    {
      "cell_type": "markdown",
      "metadata": {
        "id": "5-DPasyFR4aT",
        "colab_type": "text"
      },
      "source": [
        "2. Take a subset of the dataset to make it less sparse/ denser. ( For example, keep the users only who has given 50 or more number of ratings )"
      ]
    },
    {
      "cell_type": "code",
      "metadata": {
        "id": "IC09NAjVgBoK",
        "colab_type": "code",
        "colab": {}
      },
      "source": [
        "# get the number of review by userId\n",
        "users_by_count = recomm_df.groupby('userId')['productId'].count().reset_index(name='counts') "
      ],
      "execution_count": 0,
      "outputs": []
    },
    {
      "cell_type": "code",
      "metadata": {
        "id": "HSKIXs5ugBoQ",
        "colab_type": "code",
        "colab": {}
      },
      "source": [
        "#consider only users having  more than 50 count\n",
        "top_users = users_by_count[ users_by_count['counts'] > 50]\n"
      ],
      "execution_count": 0,
      "outputs": []
    },
    {
      "cell_type": "code",
      "metadata": {
        "id": "0GTOChLmgBoW",
        "colab_type": "code",
        "outputId": "f7490952-83ee-4e6e-f9b6-e55cefc2628d",
        "colab": {
          "base_uri": "https://localhost:8080/",
          "height": 153
        }
      },
      "source": [
        "from surprise.model_selection import train_test_split\n",
        "#surprise.model_selection.split.train_test_split\n",
        "top_users_reviews = recomm_df[recomm_df['userId'].isin(top_users['userId'].values)]\n",
        "top_users_reviews.info()"
      ],
      "execution_count": 12,
      "outputs": [
        {
          "output_type": "stream",
          "text": [
            "<class 'pandas.core.frame.DataFrame'>\n",
            "Int64Index: 3406 entries, 2162 to 1048158\n",
            "Data columns (total 3 columns):\n",
            "userId       3406 non-null object\n",
            "productId    3406 non-null object\n",
            "ratings      3406 non-null int64\n",
            "dtypes: int64(1), object(2)\n",
            "memory usage: 106.4+ KB\n"
          ],
          "name": "stdout"
        }
      ]
    },
    {
      "cell_type": "code",
      "metadata": {
        "id": "qg3e4KC0gBoc",
        "colab_type": "code",
        "outputId": "508c3d24-719b-4d0a-ca0d-46e7a4a145d4",
        "colab": {
          "base_uri": "https://localhost:8080/",
          "height": 71
        }
      },
      "source": [
        "%matplotlib inline\n",
        "\n",
        "import pandas\n",
        "from sklearn.model_selection import train_test_split\n",
        "import numpy as np\n",
        "import time\n",
        "from sklearn.externals import joblib\n"
      ],
      "execution_count": 13,
      "outputs": [
        {
          "output_type": "stream",
          "text": [
            "/usr/local/lib/python3.6/dist-packages/sklearn/externals/joblib/__init__.py:15: DeprecationWarning: sklearn.externals.joblib is deprecated in 0.21 and will be removed in 0.23. Please import this functionality directly from joblib, which can be installed with: pip install joblib. If this warning is raised when loading pickled models, you may need to re-serialize those models with scikit-learn 0.21+.\n",
            "  warnings.warn(msg, category=DeprecationWarning)\n"
          ],
          "name": "stderr"
        }
      ]
    },
    {
      "cell_type": "code",
      "metadata": {
        "id": "-UGdDqyPgBoi",
        "colab_type": "code",
        "outputId": "425a3237-20a9-40ae-860f-517cbcb4c12c",
        "colab": {
          "base_uri": "https://localhost:8080/",
          "height": 34
        }
      },
      "source": [
        "from surprise import Reader, Dataset\n",
        "reader = Reader()\n",
        "data = Dataset.load_from_df(top_users_reviews[['userId', 'productId', 'ratings']], reader)\n",
        "data.read_ratings"
      ],
      "execution_count": 14,
      "outputs": [
        {
          "output_type": "execute_result",
          "data": {
            "text/plain": [
              "<bound method Dataset.read_ratings of <surprise.dataset.DatasetAutoFolds object at 0x7f7f7ba5ceb8>>"
            ]
          },
          "metadata": {
            "tags": []
          },
          "execution_count": 14
        }
      ]
    },
    {
      "cell_type": "markdown",
      "metadata": {
        "id": "RBSodLa9SMy8",
        "colab_type": "text"
      },
      "source": [
        "3. Split the data randomly into train and test dataset. ( For example, split it in 70/30 ratio)"
      ]
    },
    {
      "cell_type": "code",
      "metadata": {
        "id": "2UuWD64dgBoo",
        "colab_type": "code",
        "colab": {}
      },
      "source": [
        "# spliting the data into  train_data, test_data\n",
        "from surprise.model_selection import train_test_split\n",
        "\n",
        "trainset, testset = train_test_split(data, test_size=0.30)"
      ],
      "execution_count": 0,
      "outputs": []
    },
    {
      "cell_type": "markdown",
      "metadata": {
        "id": "0HrO6hhGiS0d",
        "colab_type": "text"
      },
      "source": [
        ""
      ]
    },
    {
      "cell_type": "markdown",
      "metadata": {
        "id": "z_S3u9jeSif1",
        "colab_type": "text"
      },
      "source": [
        "4. Build Popularity Recommender model."
      ]
    },
    {
      "cell_type": "code",
      "metadata": {
        "id": "FdWIVn1kgBot",
        "colab_type": "code",
        "outputId": "8ac57b6a-9225-4a10-9719-ba876a776440",
        "colab": {
          "base_uri": "https://localhost:8080/",
          "height": 359
        }
      },
      "source": [
        "# Building most popular recommedation model\n",
        "wavg = top_users_reviews.groupby('productId')['ratings'].mean().reset_index(name='avg rating').sort_values('avg rating', ascending=False)\n",
        "wavg.head(10)"
      ],
      "execution_count": 16,
      "outputs": [
        {
          "output_type": "execute_result",
          "data": {
            "text/html": [
              "<div>\n",
              "<style scoped>\n",
              "    .dataframe tbody tr th:only-of-type {\n",
              "        vertical-align: middle;\n",
              "    }\n",
              "\n",
              "    .dataframe tbody tr th {\n",
              "        vertical-align: top;\n",
              "    }\n",
              "\n",
              "    .dataframe thead th {\n",
              "        text-align: right;\n",
              "    }\n",
              "</style>\n",
              "<table border=\"1\" class=\"dataframe\">\n",
              "  <thead>\n",
              "    <tr style=\"text-align: right;\">\n",
              "      <th></th>\n",
              "      <th>productId</th>\n",
              "      <th>avg rating</th>\n",
              "    </tr>\n",
              "  </thead>\n",
              "  <tbody>\n",
              "    <tr>\n",
              "      <th>1453</th>\n",
              "      <td>B0000AE6C3</td>\n",
              "      <td>5.0</td>\n",
              "    </tr>\n",
              "    <tr>\n",
              "      <th>1234</th>\n",
              "      <td>B00008XETK</td>\n",
              "      <td>5.0</td>\n",
              "    </tr>\n",
              "    <tr>\n",
              "      <th>1248</th>\n",
              "      <td>B00009017A</td>\n",
              "      <td>5.0</td>\n",
              "    </tr>\n",
              "    <tr>\n",
              "      <th>1247</th>\n",
              "      <td>B00008ZPNS</td>\n",
              "      <td>5.0</td>\n",
              "    </tr>\n",
              "    <tr>\n",
              "      <th>1245</th>\n",
              "      <td>B00008ZPI1</td>\n",
              "      <td>5.0</td>\n",
              "    </tr>\n",
              "    <tr>\n",
              "      <th>2288</th>\n",
              "      <td>B0007WK8LC</td>\n",
              "      <td>5.0</td>\n",
              "    </tr>\n",
              "    <tr>\n",
              "      <th>1243</th>\n",
              "      <td>B00008ZLHG</td>\n",
              "      <td>5.0</td>\n",
              "    </tr>\n",
              "    <tr>\n",
              "      <th>2289</th>\n",
              "      <td>B0007WZMW2</td>\n",
              "      <td>5.0</td>\n",
              "    </tr>\n",
              "    <tr>\n",
              "      <th>2295</th>\n",
              "      <td>B0007XOHTU</td>\n",
              "      <td>5.0</td>\n",
              "    </tr>\n",
              "    <tr>\n",
              "      <th>2296</th>\n",
              "      <td>B0007XP8GQ</td>\n",
              "      <td>5.0</td>\n",
              "    </tr>\n",
              "  </tbody>\n",
              "</table>\n",
              "</div>"
            ],
            "text/plain": [
              "       productId  avg rating\n",
              "1453  B0000AE6C3         5.0\n",
              "1234  B00008XETK         5.0\n",
              "1248  B00009017A         5.0\n",
              "1247  B00008ZPNS         5.0\n",
              "1245  B00008ZPI1         5.0\n",
              "2288  B0007WK8LC         5.0\n",
              "1243  B00008ZLHG         5.0\n",
              "2289  B0007WZMW2         5.0\n",
              "2295  B0007XOHTU         5.0\n",
              "2296  B0007XP8GQ         5.0"
            ]
          },
          "metadata": {
            "tags": []
          },
          "execution_count": 16
        }
      ]
    },
    {
      "cell_type": "markdown",
      "metadata": {
        "id": "RAA5by1gSyO3",
        "colab_type": "text"
      },
      "source": [
        "5. Build Collaborative Filtering model."
      ]
    },
    {
      "cell_type": "code",
      "metadata": {
        "id": "PNuuZcebgBo5",
        "colab_type": "code",
        "outputId": "4190bacd-692e-4186-c210-c8bb35295c25",
        "colab": {
          "base_uri": "https://localhost:8080/",
          "height": 34
        }
      },
      "source": [
        " from surprise import SVD, accuracy\n",
        "#from surprise.cross_validation import cross_validate\n",
        "algo = SVD()\n",
        "algo.fit(trainset)\n",
        "#cross_validate(algo, tain_data, measures=['RMSE', 'MAE'], cv=5, verbose=True)"
      ],
      "execution_count": 17,
      "outputs": [
        {
          "output_type": "execute_result",
          "data": {
            "text/plain": [
              "<surprise.prediction_algorithms.matrix_factorization.SVD at 0x7f7f7ba5c2b0>"
            ]
          },
          "metadata": {
            "tags": []
          },
          "execution_count": 17
        }
      ]
    },
    {
      "cell_type": "code",
      "metadata": {
        "id": "s3wDMBksgBo_",
        "colab_type": "code",
        "colab": {}
      },
      "source": [
        "predictions = algo.test(testset)"
      ],
      "execution_count": 0,
      "outputs": []
    },
    {
      "cell_type": "code",
      "metadata": {
        "id": "EMjOllZ5gBpF",
        "colab_type": "code",
        "outputId": "f7c3b69a-bf77-486a-995b-4c26c375c6af",
        "colab": {
          "base_uri": "https://localhost:8080/",
          "height": 51
        }
      },
      "source": [
        "from surprise import accuracy\n",
        "accuracy.rmse(predictions)"
      ],
      "execution_count": 19,
      "outputs": [
        {
          "output_type": "stream",
          "text": [
            "RMSE: 1.0727\n"
          ],
          "name": "stdout"
        },
        {
          "output_type": "execute_result",
          "data": {
            "text/plain": [
              "1.072660578539504"
            ]
          },
          "metadata": {
            "tags": []
          },
          "execution_count": 19
        }
      ]
    },
    {
      "cell_type": "markdown",
      "metadata": {
        "id": "GrFX2lD3S_aD",
        "colab_type": "text"
      },
      "source": [
        "6. Evaluate both the models. ( Once the model is trained on the training data, it can be used to compute the error (like RMSE) on predictions made on the test data.) You can also use a different method to evaluate the models."
      ]
    },
    {
      "cell_type": "code",
      "metadata": {
        "id": "GxldmAuogBpQ",
        "colab_type": "code",
        "outputId": "8422adbf-c08b-478f-b536-94249169548b",
        "colab": {
          "base_uri": "https://localhost:8080/",
          "height": 768
        }
      },
      "source": [
        "import surprise\n",
        "from surprise import evaluate\n",
        "\n",
        "surprise.evaluate(algo, data, measures=[u'rmse', u'mae'], with_dump=False)"
      ],
      "execution_count": 20,
      "outputs": [
        {
          "output_type": "stream",
          "text": [
            "Evaluating RMSE, MAE of algorithm SVD.\n",
            "\n",
            "------------\n",
            "Fold 1\n"
          ],
          "name": "stdout"
        },
        {
          "output_type": "stream",
          "text": [
            "/usr/local/lib/python3.6/dist-packages/surprise/evaluate.py:66: UserWarning: The evaluate() method is deprecated. Please use model_selection.cross_validate() instead.\n",
            "  'model_selection.cross_validate() instead.', UserWarning)\n",
            "/usr/local/lib/python3.6/dist-packages/surprise/dataset.py:193: UserWarning: Using data.split() or using load_from_folds() without using a CV iterator is now deprecated. \n",
            "  UserWarning)\n"
          ],
          "name": "stderr"
        },
        {
          "output_type": "stream",
          "text": [
            "RMSE: 1.0538\n",
            "MAE:  0.7835\n",
            "------------\n",
            "Fold 2\n",
            "RMSE: 1.0400\n",
            "MAE:  0.7877\n",
            "------------\n",
            "Fold 3\n",
            "RMSE: 1.0442\n",
            "MAE:  0.7859\n",
            "------------\n",
            "Fold 4\n",
            "RMSE: 1.1080\n",
            "MAE:  0.8328\n",
            "------------\n",
            "Fold 5\n",
            "RMSE: 1.0180\n",
            "MAE:  0.7772\n",
            "------------\n",
            "------------\n",
            "Mean RMSE: 1.0528\n",
            "Mean MAE : 0.7934\n",
            "------------\n",
            "------------\n"
          ],
          "name": "stdout"
        },
        {
          "output_type": "execute_result",
          "data": {
            "text/plain": [
              "CaseInsensitiveDefaultDict(list,\n",
              "                           {'mae': [0.7835478045111721,\n",
              "                             0.7876959716674671,\n",
              "                             0.7858804133969505,\n",
              "                             0.8327644436729992,\n",
              "                             0.7772127086024673],\n",
              "                            'rmse': [1.0538083076194333,\n",
              "                             1.0400327578816937,\n",
              "                             1.0441537028750474,\n",
              "                             1.10804910326716,\n",
              "                             1.0180012537666148]})"
            ]
          },
          "metadata": {
            "tags": []
          },
          "execution_count": 20
        }
      ]
    },
    {
      "cell_type": "markdown",
      "metadata": {
        "id": "Dald4iSyTR65",
        "colab_type": "text"
      },
      "source": [
        "7. Get top - K ( K = 5) recommendations. Since our goal is to recommend new products to each user based on his/her habits, we will recommend 5 new products.\n"
      ]
    },
    {
      "cell_type": "code",
      "metadata": {
        "id": "lNxYQimdzNxa",
        "colab_type": "code",
        "colab": {}
      },
      "source": [
        "def get_Iu(uid):\n",
        "    \"\"\" return the number of items rated by given user\n",
        "    args: \n",
        "      uid: the id of the user\n",
        "    returns: \n",
        "      the number of items rated by the user\n",
        "    \"\"\"\n",
        "    try:\n",
        "        return len(trainset.ur[trainset.to_inner_uid(uid)])\n",
        "    except ValueError: # user was not part of the trainset\n",
        "        return 0\n",
        "    \n",
        "def get_Ui(iid):\n",
        "    \"\"\" return number of users that have rated given item\n",
        "    args:\n",
        "      iid: the raw id of the item\n",
        "    returns:\n",
        "      the number of users that have rated the item.\n",
        "    \"\"\"\n",
        "    try: \n",
        "        return len(trainset.ir[trainset.to_inner_iid(iid)])\n",
        "    except ValueError:\n",
        "        return 0\n",
        "    \n",
        "df = pd.DataFrame(predictions, columns=['uid', 'iid', 'rui', 'est', 'details'])\n",
        "df['Iu'] = df.uid.apply(get_Iu)\n",
        "df['Ui'] = df.iid.apply(get_Ui)\n",
        "df['err'] = abs(df.est - df.rui)\n",
        "best_predictions = df.sort_values(by='err')[:10]\n",
        "worst_predictions = df.sort_values(by='err')[-10:]\n",
        "\n"
      ],
      "execution_count": 0,
      "outputs": []
    },
    {
      "cell_type": "code",
      "metadata": {
        "id": "egw5YVENTZpt",
        "colab_type": "code",
        "outputId": "35bcea93-87e8-4615-f844-02d780660058",
        "colab": {
          "base_uri": "https://localhost:8080/",
          "height": 359
        }
      },
      "source": [
        "best_predictions"
      ],
      "execution_count": 22,
      "outputs": [
        {
          "output_type": "execute_result",
          "data": {
            "text/html": [
              "<div>\n",
              "<style scoped>\n",
              "    .dataframe tbody tr th:only-of-type {\n",
              "        vertical-align: middle;\n",
              "    }\n",
              "\n",
              "    .dataframe tbody tr th {\n",
              "        vertical-align: top;\n",
              "    }\n",
              "\n",
              "    .dataframe thead th {\n",
              "        text-align: right;\n",
              "    }\n",
              "</style>\n",
              "<table border=\"1\" class=\"dataframe\">\n",
              "  <thead>\n",
              "    <tr style=\"text-align: right;\">\n",
              "      <th></th>\n",
              "      <th>uid</th>\n",
              "      <th>iid</th>\n",
              "      <th>rui</th>\n",
              "      <th>est</th>\n",
              "      <th>details</th>\n",
              "      <th>Iu</th>\n",
              "      <th>Ui</th>\n",
              "      <th>err</th>\n",
              "    </tr>\n",
              "  </thead>\n",
              "  <tbody>\n",
              "    <tr>\n",
              "      <th>857</th>\n",
              "      <td>A25HBO5V8S8SEA</td>\n",
              "      <td>B0006OJG78</td>\n",
              "      <td>5.0</td>\n",
              "      <td>5.000000</td>\n",
              "      <td>{'was_impossible': False}</td>\n",
              "      <td>120</td>\n",
              "      <td>1</td>\n",
              "      <td>0.000000</td>\n",
              "    </tr>\n",
              "    <tr>\n",
              "      <th>383</th>\n",
              "      <td>A149RNR5RH19YY</td>\n",
              "      <td>B00008I9K8</td>\n",
              "      <td>4.0</td>\n",
              "      <td>3.991089</td>\n",
              "      <td>{'was_impossible': False}</td>\n",
              "      <td>49</td>\n",
              "      <td>2</td>\n",
              "      <td>0.008911</td>\n",
              "    </tr>\n",
              "    <tr>\n",
              "      <th>255</th>\n",
              "      <td>AKT8TGIT6VVZ5</td>\n",
              "      <td>B000021YU8</td>\n",
              "      <td>5.0</td>\n",
              "      <td>4.990988</td>\n",
              "      <td>{'was_impossible': False}</td>\n",
              "      <td>96</td>\n",
              "      <td>1</td>\n",
              "      <td>0.009012</td>\n",
              "    </tr>\n",
              "    <tr>\n",
              "      <th>247</th>\n",
              "      <td>A5JLAU2ARJ0BO</td>\n",
              "      <td>B000EEQ83K</td>\n",
              "      <td>4.0</td>\n",
              "      <td>4.010649</td>\n",
              "      <td>{'was_impossible': False}</td>\n",
              "      <td>295</td>\n",
              "      <td>1</td>\n",
              "      <td>0.010649</td>\n",
              "    </tr>\n",
              "    <tr>\n",
              "      <th>141</th>\n",
              "      <td>A2BGZ52M908MJY</td>\n",
              "      <td>B00005ALB1</td>\n",
              "      <td>4.0</td>\n",
              "      <td>4.019001</td>\n",
              "      <td>{'was_impossible': False}</td>\n",
              "      <td>35</td>\n",
              "      <td>1</td>\n",
              "      <td>0.019001</td>\n",
              "    </tr>\n",
              "    <tr>\n",
              "      <th>174</th>\n",
              "      <td>A25HBO5V8S8SEA</td>\n",
              "      <td>B00006JI6U</td>\n",
              "      <td>5.0</td>\n",
              "      <td>4.959176</td>\n",
              "      <td>{'was_impossible': False}</td>\n",
              "      <td>120</td>\n",
              "      <td>2</td>\n",
              "      <td>0.040824</td>\n",
              "    </tr>\n",
              "    <tr>\n",
              "      <th>1021</th>\n",
              "      <td>ABH9D1TEOJ56E</td>\n",
              "      <td>B00006JLOS</td>\n",
              "      <td>4.0</td>\n",
              "      <td>4.046085</td>\n",
              "      <td>{'was_impossible': False}</td>\n",
              "      <td>39</td>\n",
              "      <td>0</td>\n",
              "      <td>0.046085</td>\n",
              "    </tr>\n",
              "    <tr>\n",
              "      <th>197</th>\n",
              "      <td>ABH9D1TEOJ56E</td>\n",
              "      <td>B000087BX8</td>\n",
              "      <td>4.0</td>\n",
              "      <td>4.046085</td>\n",
              "      <td>{'was_impossible': False}</td>\n",
              "      <td>39</td>\n",
              "      <td>0</td>\n",
              "      <td>0.046085</td>\n",
              "    </tr>\n",
              "    <tr>\n",
              "      <th>954</th>\n",
              "      <td>ABH9D1TEOJ56E</td>\n",
              "      <td>B0000CBJ8J</td>\n",
              "      <td>4.0</td>\n",
              "      <td>4.046085</td>\n",
              "      <td>{'was_impossible': False}</td>\n",
              "      <td>39</td>\n",
              "      <td>0</td>\n",
              "      <td>0.046085</td>\n",
              "    </tr>\n",
              "    <tr>\n",
              "      <th>594</th>\n",
              "      <td>ABH9D1TEOJ56E</td>\n",
              "      <td>B00008O35W</td>\n",
              "      <td>4.0</td>\n",
              "      <td>4.046085</td>\n",
              "      <td>{'was_impossible': False}</td>\n",
              "      <td>39</td>\n",
              "      <td>0</td>\n",
              "      <td>0.046085</td>\n",
              "    </tr>\n",
              "  </tbody>\n",
              "</table>\n",
              "</div>"
            ],
            "text/plain": [
              "                 uid         iid  rui  ...   Iu Ui       err\n",
              "857   A25HBO5V8S8SEA  B0006OJG78  5.0  ...  120  1  0.000000\n",
              "383   A149RNR5RH19YY  B00008I9K8  4.0  ...   49  2  0.008911\n",
              "255    AKT8TGIT6VVZ5  B000021YU8  5.0  ...   96  1  0.009012\n",
              "247    A5JLAU2ARJ0BO  B000EEQ83K  4.0  ...  295  1  0.010649\n",
              "141   A2BGZ52M908MJY  B00005ALB1  4.0  ...   35  1  0.019001\n",
              "174   A25HBO5V8S8SEA  B00006JI6U  5.0  ...  120  2  0.040824\n",
              "1021   ABH9D1TEOJ56E  B00006JLOS  4.0  ...   39  0  0.046085\n",
              "197    ABH9D1TEOJ56E  B000087BX8  4.0  ...   39  0  0.046085\n",
              "954    ABH9D1TEOJ56E  B0000CBJ8J  4.0  ...   39  0  0.046085\n",
              "594    ABH9D1TEOJ56E  B00008O35W  4.0  ...   39  0  0.046085\n",
              "\n",
              "[10 rows x 8 columns]"
            ]
          },
          "metadata": {
            "tags": []
          },
          "execution_count": 22
        }
      ]
    },
    {
      "cell_type": "markdown",
      "metadata": {
        "id": "3d-DRpRjTdDj",
        "colab_type": "text"
      },
      "source": [
        "8. Summarise your insights."
      ]
    },
    {
      "cell_type": "code",
      "metadata": {
        "id": "HoZWFVP5ThYt",
        "colab_type": "code",
        "outputId": "53449b1b-427b-4112-c18e-1a28822b890f",
        "colab": {
          "base_uri": "https://localhost:8080/",
          "height": 68
        }
      },
      "source": [
        "print(\"Since the given data is huge. I have clence the  data to take the advantage of the recommendation system.\")\n",
        "print(\"And used Surprise library for getting best pediction based on highest number of users who has rated high(5 rating).\")\n",
        "print(\"This has achieved by collabrative filtering, since it supports different prediction algo.\")"
      ],
      "execution_count": 23,
      "outputs": [
        {
          "output_type": "stream",
          "text": [
            "Since the given data is huge. I have clence the  data to take the advantage of the recommendation system.\n",
            "And used Surprise library for getting best pediction based on highest number of users who has rated high(5 rating).\n",
            "This has achieved by collabrative filtering, since it supports different prediction algo.\n"
          ],
          "name": "stdout"
        }
      ]
    },
    {
      "cell_type": "markdown",
      "metadata": {
        "id": "UHaPwxv5TO_s",
        "colab_type": "text"
      },
      "source": [
        ""
      ]
    }
  ]
}