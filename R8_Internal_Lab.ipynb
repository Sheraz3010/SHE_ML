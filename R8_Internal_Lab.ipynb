{
  "nbformat": 4,
  "nbformat_minor": 0,
  "metadata": {
    "accelerator": "GPU",
    "colab": {
      "name": "R8_Internal_Lab.ipynb",
      "version": "0.3.2",
      "provenance": [],
      "collapsed_sections": []
    },
    "kernelspec": {
      "display_name": "Python 3",
      "language": "python",
      "name": "python3"
    },
    "language_info": {
      "codemirror_mode": {
        "name": "ipython",
        "version": 3
      },
      "file_extension": ".py",
      "mimetype": "text/x-python",
      "name": "python",
      "nbconvert_exporter": "python",
      "pygments_lexer": "ipython3",
      "version": "3.7.1"
    }
  },
  "cells": [
    {
      "cell_type": "markdown",
      "metadata": {
        "colab_type": "text",
        "id": "NFfDTfhlaEI_"
      },
      "source": [
        "# Transfer Learning MNIST"
      ]
    },
    {
      "cell_type": "markdown",
      "metadata": {
        "colab_type": "text",
        "id": "rNwbqCFRaEJC"
      },
      "source": [
        "* Train a simple convnet on the MNIST dataset the first 5 digits [0-4].\n",
        "* Freeze convolutional layers and fine-tune dense layers for the classification of digits [5-9]."
      ]
    },
    {
      "cell_type": "markdown",
      "metadata": {
        "id": "5Dnzaw1i5sXF",
        "colab_type": "text"
      },
      "source": [
        "## MNIST Dataset\n",
        "The MNIST database contains 60,000 training images and 10,000 testing images taken from American Census Bureau employees and American high school students. The MNIST dataset is one of the most common datasets used for image classification and accessible from many different sources. In fact, even Tensorflow and Keras allow us to import and download the MNIST dataset directly from their API."
      ]
    },
    {
      "cell_type": "markdown",
      "metadata": {
        "id": "bpUULy1Z5sXF",
        "colab_type": "text"
      },
      "source": [
        "Let's import keras and load MNIST dataset"
      ]
    },
    {
      "cell_type": "markdown",
      "metadata": {
        "id": "pM2War6NAlrc",
        "colab_type": "text"
      },
      "source": [
        "#####Initializing the random number generator"
      ]
    },
    {
      "cell_type": "code",
      "metadata": {
        "id": "KiG7IPhm5sXG",
        "colab_type": "code",
        "colab": {}
      },
      "source": [
        "import random\n",
        "random.seed(0)\n",
        "\n",
        "import warnings\n",
        "warnings.filterwarnings(\"ignore\")"
      ],
      "execution_count": 0,
      "outputs": []
    },
    {
      "cell_type": "markdown",
      "metadata": {
        "id": "9kQ5AKMXA1ut",
        "colab_type": "text"
      },
      "source": [
        "#####Splitting the given data into train and test data."
      ]
    },
    {
      "cell_type": "code",
      "metadata": {
        "id": "ZqUiJM_Z5sXL",
        "colab_type": "code",
        "outputId": "db3afa4c-62cb-436b-d2eb-62a3e15cd021",
        "colab": {
          "base_uri": "https://localhost:8080/",
          "height": 68
        }
      },
      "source": [
        "from keras.backend import backend\n",
        "from keras.datasets import mnist\n",
        "\n",
        "(X_train, y_train), (X_test, y_test) = mnist.load_data()"
      ],
      "execution_count": 2,
      "outputs": [
        {
          "output_type": "stream",
          "text": [
            "Using TensorFlow backend.\n"
          ],
          "name": "stderr"
        },
        {
          "output_type": "stream",
          "text": [
            "Downloading data from https://s3.amazonaws.com/img-datasets/mnist.npz\n",
            "11493376/11490434 [==============================] - 2s 0us/step\n"
          ],
          "name": "stdout"
        }
      ]
    },
    {
      "cell_type": "markdown",
      "metadata": {
        "id": "RVw4wsuW5sXO",
        "colab_type": "text"
      },
      "source": [
        "X_train and X_test contain greyscale RGB codes (from 0 to 255) while y_train and y_test contains labels from 0 to 9 which represents which number they actually are."
      ]
    },
    {
      "cell_type": "markdown",
      "metadata": {
        "id": "xgQ86Vhw5sXP",
        "colab_type": "text"
      },
      "source": [
        "Let's visualize some numbers using matplotlib"
      ]
    },
    {
      "cell_type": "code",
      "metadata": {
        "id": "VZwg00gO5sXQ",
        "colab_type": "code",
        "outputId": "ef879cb7-beac-4574-e5e5-9d374ebf7727",
        "colab": {
          "base_uri": "https://localhost:8080/",
          "height": 303
        }
      },
      "source": [
        "import matplotlib.pyplot as plt\n",
        "%matplotlib inline\n",
        "print(\"Label: {}\".format(y_train[1000]))\n",
        "plt.imshow(X_train[1000], cmap='gray')"
      ],
      "execution_count": 3,
      "outputs": [
        {
          "output_type": "stream",
          "text": [
            "Label: 0\n"
          ],
          "name": "stdout"
        },
        {
          "output_type": "execute_result",
          "data": {
            "text/plain": [
              "<matplotlib.image.AxesImage at 0x7f8704a301d0>"
            ]
          },
          "metadata": {
            "tags": []
          },
          "execution_count": 3
        },
        {
          "output_type": "display_data",
          "data": {
            "image/png": "[encoded data removed]",
            "text/plain": [
              "<Figure size 432x288 with 1 Axes>"
            ]
          },
          "metadata": {
            "tags": []
          }
        }
      ]
    },
    {
      "cell_type": "markdown",
      "metadata": {
        "id": "p64mhwp95sXS",
        "colab_type": "text"
      },
      "source": [
        "## Question 1"
      ]
    },
    {
      "cell_type": "markdown",
      "metadata": {
        "id": "XxNAiWYd5sXT",
        "colab_type": "text"
      },
      "source": [
        "### Create two datasets\n",
        "- First having digits from 0 to 4\n",
        "- Second having digits from 5 to 9\n",
        "\n",
        "Hint: use labels to separate data"
      ]
    },
    {
      "cell_type": "code",
      "metadata": {
        "id": "1807m1CL5sXT",
        "colab_type": "code",
        "outputId": "7b276919-a249-443d-8469-5a4ddae88871",
        "colab": {
          "base_uri": "https://localhost:8080/",
          "height": 34
        }
      },
      "source": [
        "y_train"
      ],
      "execution_count": 4,
      "outputs": [
        {
          "output_type": "execute_result",
          "data": {
            "text/plain": [
              "array([5, 0, 4, ..., 5, 6, 8], dtype=uint8)"
            ]
          },
          "metadata": {
            "tags": []
          },
          "execution_count": 4
        }
      ]
    },
    {
      "cell_type": "markdown",
      "metadata": {
        "id": "fWQu3eOREARe",
        "colab_type": "text"
      },
      "source": [
        "#####Creating two datasets, 1st dataset containing digits 0 to 4 and 2nd dataset containing digits 5 to 9."
      ]
    },
    {
      "cell_type": "code",
      "metadata": {
        "id": "P8aYCAm5Su85",
        "colab_type": "code",
        "colab": {}
      },
      "source": [
        "import numpy as np\n",
        "\n",
        "train_filter_0_4 = np.where(y_train <= 4 )\n",
        "test_filter_0_4 = np.where(y_test <= 4 )\n",
        "\n",
        "train_filter_5_9 = np.where(y_train >= 5 )\n",
        "test_filter_5_9 = np.where(y_test >= 5 )\n",
        "\n",
        "\n",
        "X_train_0_4, Y_train_0_4 = X_train[train_filter_0_4], y_train[train_filter_0_4]\n",
        "X_test_0_4, Y_test_0_4 = X_test[test_filter_0_4], y_test[test_filter_0_4]\n",
        "\n",
        "\n",
        "X_train_5_9, Y_train_5_9 = X_train[train_filter_5_9], y_train[train_filter_5_9]\n",
        "X_test_5_9, Y_test_5_9 = X_test[test_filter_5_9], y_test[test_filter_5_9]"
      ],
      "execution_count": 0,
      "outputs": []
    },
    {
      "cell_type": "markdown",
      "metadata": {
        "id": "M9jKcF1z5sXV",
        "colab_type": "text"
      },
      "source": [
        "## Question 2"
      ]
    },
    {
      "cell_type": "markdown",
      "metadata": {
        "id": "NMo7lvwQ5sXW",
        "colab_type": "text"
      },
      "source": [
        "### Print shape of the data\n",
        "- print shape of all variables of both the datasets you created"
      ]
    },
    {
      "cell_type": "markdown",
      "metadata": {
        "id": "R4hEuLLAEgic",
        "colab_type": "text"
      },
      "source": [
        "#####Priniting shape of all variables:"
      ]
    },
    {
      "cell_type": "code",
      "metadata": {
        "id": "kH7ZjEoH5sXW",
        "colab_type": "code",
        "outputId": "8aba5701-a732-41c0-f425-0e2a580e153c",
        "colab": {
          "base_uri": "https://localhost:8080/",
          "height": 153
        }
      },
      "source": [
        "print('X_train_0_4:', X_train_0_4.shape)\n",
        "print('Y_train_0_4:', Y_train_0_4.shape)\n",
        "print('X_test_0_4:', X_test_0_4.shape)\n",
        "print('Y_test_0_4:', Y_test_0_4.shape)\n",
        "print('X_train_5_9:', X_train_5_9.shape)\n",
        "print('Y_train_5_9:', Y_train_5_9.shape)\n",
        "print('X_test_5_9:', X_test_5_9.shape)\n",
        "print('Y_test_5_9:', Y_test_5_9.shape)"
      ],
      "execution_count": 6,
      "outputs": [
        {
          "output_type": "stream",
          "text": [
            "X_train_0_4: (30596, 28, 28)\n",
            "Y_train_0_4: (30596,)\n",
            "X_test_0_4: (5139, 28, 28)\n",
            "Y_test_0_4: (5139,)\n",
            "X_train_5_9: (29404, 28, 28)\n",
            "Y_train_5_9: (29404,)\n",
            "X_test_5_9: (4861, 28, 28)\n",
            "Y_test_5_9: (4861,)\n"
          ],
          "name": "stdout"
        }
      ]
    },
    {
      "cell_type": "markdown",
      "metadata": {
        "id": "IUU4PkKU5sXY",
        "colab_type": "text"
      },
      "source": [
        "## Question 3"
      ]
    },
    {
      "cell_type": "markdown",
      "metadata": {
        "id": "4I8ajqdt5sXY",
        "colab_type": "text"
      },
      "source": [
        "### Reshape data\n",
        "- reshape first dataset\n",
        "- To be able to use the dataset in Keras, we need 4-dims numpy arrays. \n",
        "- reshape features to pass it to a Conv2D layer\n",
        "- channel = 1\n",
        "- reshape features of first dataset only\n",
        "- do not reshape labels"
      ]
    },
    {
      "cell_type": "markdown",
      "metadata": {
        "id": "V7W_5AuNEv0K",
        "colab_type": "text"
      },
      "source": [
        "##### Reshaping the array to 4 dimensions, so that it can work with the Keras API: "
      ]
    },
    {
      "cell_type": "code",
      "metadata": {
        "id": "38wgBEcz5sXa",
        "colab_type": "code",
        "colab": {}
      },
      "source": [
        "xtrain4 = X_train_0_4.reshape(X_train_0_4.shape[0], 28, 28, 1)\n",
        "xtest4 = X_test_0_4.reshape(X_test_0_4.shape[0], 28, 28, 1)"
      ],
      "execution_count": 0,
      "outputs": []
    },
    {
      "cell_type": "markdown",
      "metadata": {
        "id": "kaaRj5zeFCaJ",
        "colab_type": "text"
      },
      "source": [
        "#####Using similar variable names for both datasets variables:"
      ]
    },
    {
      "cell_type": "code",
      "metadata": {
        "id": "s1PPYl57Fbr2",
        "colab_type": "code",
        "colab": {}
      },
      "source": [
        "\n",
        "xtrain9 = X_train_5_9\n",
        "xtest9 = X_test_5_9"
      ],
      "execution_count": 0,
      "outputs": []
    },
    {
      "cell_type": "markdown",
      "metadata": {
        "id": "_5H-BtNm5sXg",
        "colab_type": "text"
      },
      "source": [
        "## Question 4"
      ]
    },
    {
      "cell_type": "markdown",
      "metadata": {
        "id": "2ahCMtCl5sXh",
        "colab_type": "text"
      },
      "source": [
        "Normalize data\n",
        "- normalize first dataset\n",
        "- we must normalize our data as it is always required in neural network models\n",
        "- we can achieve this by dividing the RGB codes to 255 (which is the maximum RGB code minus the minimum RGB code)\n",
        "- normalize X_train and X_test\n",
        "- make sure that the values are float so that we can get decimal points after division"
      ]
    },
    {
      "cell_type": "markdown",
      "metadata": {
        "id": "kPx0MnacFvnO",
        "colab_type": "text"
      },
      "source": [
        "##### Ensuring that the values are float, so that we can get decimal points after division:"
      ]
    },
    {
      "cell_type": "code",
      "metadata": {
        "id": "z4mti7pg5sXj",
        "colab_type": "code",
        "colab": {}
      },
      "source": [
        "xtrain4 = xtrain4.astype('float32')\n",
        "xtest4 = xtest4.astype('float32')"
      ],
      "execution_count": 0,
      "outputs": []
    },
    {
      "cell_type": "markdown",
      "metadata": {
        "id": "oAQnN84PGLtF",
        "colab_type": "text"
      },
      "source": [
        "##### Normalizing the RGB codes by dividing it to the max RGB value:"
      ]
    },
    {
      "cell_type": "code",
      "metadata": {
        "id": "5NgyCat4Gcd0",
        "colab_type": "code",
        "colab": {}
      },
      "source": [
        "xtrain4 /= 255\n",
        "xtest4 /= 255"
      ],
      "execution_count": 0,
      "outputs": []
    },
    {
      "cell_type": "markdown",
      "metadata": {
        "id": "TfQ6545D5sXp",
        "colab_type": "text"
      },
      "source": [
        "### Print shape of data and number of images\n",
        "- for first dataset\n",
        "- print shape of X_train\n",
        "- print number of images in X_train\n",
        "- print number of images in X_test"
      ]
    },
    {
      "cell_type": "code",
      "metadata": {
        "id": "uQfQXZMo5sXp",
        "colab_type": "code",
        "outputId": "a3a7ecd4-2d30-4a67-da77-50ba4dca0cdd",
        "colab": {
          "base_uri": "https://localhost:8080/",
          "height": 153
        }
      },
      "source": [
        "print('xtrain4:', xtrain4.shape)\n",
        "print('Y_train_0_4:', Y_train_0_4.shape)\n",
        "print('xtest4:', xtest4.shape)\n",
        "print('Y_test_0_4:', Y_test_0_4.shape)\n",
        "print('xtrain9:', xtrain9.shape)\n",
        "print('Y_train_5_9:', Y_train_5_9.shape)\n",
        "print('xtest9:', xtest9.shape)\n",
        "print('Y_test_5_9:', Y_test_5_9.shape)"
      ],
      "execution_count": 9,
      "outputs": [
        {
          "output_type": "stream",
          "text": [
            "xtrain4: (30596, 28, 28, 1)\n",
            "Y_train_0_4: (30596,)\n",
            "xtest4: (5139, 28, 28, 1)\n",
            "Y_test_0_4: (5139,)\n",
            "xtrain9: (29404, 28, 28)\n",
            "Y_train_5_9: (29404,)\n",
            "xtest9: (4861, 28, 28)\n",
            "Y_test_5_9: (4861,)\n"
          ],
          "name": "stdout"
        }
      ]
    },
    {
      "cell_type": "markdown",
      "metadata": {
        "id": "9oFjomSh5sXu",
        "colab_type": "text"
      },
      "source": [
        "## Question 5"
      ]
    },
    {
      "cell_type": "markdown",
      "metadata": {
        "id": "2lEFQQNk5sXu",
        "colab_type": "text"
      },
      "source": [
        "### One-hot encode the class vector\n",
        "- encode labels of first dataset\n",
        "- convert class vectors (integers) to binary class matrix\n",
        "- convert y_train and y_test\n",
        "- number of classes: 5\n",
        "- we are doing this to use categorical_crossentropy as loss\n",
        "\n",
        "Hint: you can use keras.utils.to_categorical"
      ]
    },
    {
      "cell_type": "code",
      "metadata": {
        "id": "aejx3Zb35sXv",
        "colab_type": "code",
        "colab": {}
      },
      "source": [
        "import keras\n",
        "num_classes = 5\n",
        "ytrain4 = keras.utils.to_categorical(Y_train_0_4, num_classes)\n",
        "ytest4 = keras.utils.to_categorical(Y_test_0_4, num_classes)\n",
        "\n",
        "#use similar variable names for both datasets\n",
        "ytrain9 = Y_train_5_9\n",
        "ytest9 = Y_test_5_9"
      ],
      "execution_count": 0,
      "outputs": []
    },
    {
      "cell_type": "markdown",
      "metadata": {
        "id": "PlkiipRA5sXw",
        "colab_type": "text"
      },
      "source": [
        "## Question 6\n",
        "We will build our model by using high level Keras."
      ]
    },
    {
      "cell_type": "markdown",
      "metadata": {
        "id": "KzYMC_xm5sXx",
        "colab_type": "text"
      },
      "source": [
        "### Initialize a sequential model\n",
        "- define a sequential model\n",
        "- add 2 convolutional layers\n",
        "    - no of filters: 32\n",
        "    - kernel size: 3x3\n",
        "    - activation: \"relu\"\n",
        "    - input shape: (28, 28, 1) for first layer\n",
        "- add a max pooling layer of size 2x2\n",
        "- add a dropout layer\n",
        "    - dropout layers fight with the overfitting by disregarding some of the neurons while training\n",
        "    - use dropout rate 0.2"
      ]
    },
    {
      "cell_type": "markdown",
      "metadata": {
        "id": "YzdV1izYGpGZ",
        "colab_type": "text"
      },
      "source": [
        "##### Importing the required Keras modules containing model and layers:"
      ]
    },
    {
      "cell_type": "code",
      "metadata": {
        "id": "mDr-HKl-5sXx",
        "colab_type": "code",
        "outputId": "382e5b24-51c7-44c3-812b-661ecb13912a",
        "colab": {
          "base_uri": "https://localhost:8080/",
          "height": 258
        }
      },
      "source": [
        "\n",
        "from keras.models import Sequential\n",
        "from keras.layers import Dense, Conv2D, Dropout, Flatten, MaxPooling2D\n",
        "\n",
        "num_classes = 5 \n",
        "\n",
        "model = Sequential()\n",
        "\n",
        "# The input layer requires the special input_shape parameter, which is matching to the shape of our training data.\n",
        "\n",
        "model.add(Conv2D(32, 3, 3, activation='relu', input_shape=(28,28,1)))\n",
        "model.add(Conv2D(32, 3, 3, activation='relu'))\n",
        "model.add(MaxPooling2D(pool_size=(2,2)))\n",
        "model.add(Dropout(0.2))\n",
        "\n"
      ],
      "execution_count": 11,
      "outputs": [
        {
          "output_type": "stream",
          "text": [
            "WARNING:tensorflow:From /usr/local/lib/python3.6/dist-packages/keras/backend/tensorflow_backend.py:66: The name tf.get_default_graph is deprecated. Please use tf.compat.v1.get_default_graph instead.\n",
            "\n",
            "WARNING:tensorflow:From /usr/local/lib/python3.6/dist-packages/keras/backend/tensorflow_backend.py:541: The name tf.placeholder is deprecated. Please use tf.compat.v1.placeholder instead.\n",
            "\n",
            "WARNING:tensorflow:From /usr/local/lib/python3.6/dist-packages/keras/backend/tensorflow_backend.py:4432: The name tf.random_uniform is deprecated. Please use tf.random.uniform instead.\n",
            "\n",
            "WARNING:tensorflow:From /usr/local/lib/python3.6/dist-packages/keras/backend/tensorflow_backend.py:4267: The name tf.nn.max_pool is deprecated. Please use tf.nn.max_pool2d instead.\n",
            "\n",
            "WARNING:tensorflow:From /usr/local/lib/python3.6/dist-packages/keras/backend/tensorflow_backend.py:148: The name tf.placeholder_with_default is deprecated. Please use tf.compat.v1.placeholder_with_default instead.\n",
            "\n",
            "WARNING:tensorflow:From /usr/local/lib/python3.6/dist-packages/keras/backend/tensorflow_backend.py:3733: calling dropout (from tensorflow.python.ops.nn_ops) with keep_prob is deprecated and will be removed in a future version.\n",
            "Instructions for updating:\n",
            "Please use `rate` instead of `keep_prob`. Rate should be set to `rate = 1 - keep_prob`.\n"
          ],
          "name": "stdout"
        }
      ]
    },
    {
      "cell_type": "markdown",
      "metadata": {
        "id": "xVcu3iZhG2AA",
        "colab_type": "text"
      },
      "source": [
        ""
      ]
    },
    {
      "cell_type": "code",
      "metadata": {
        "id": "vCgIr2yNbWTJ",
        "colab_type": "code",
        "outputId": "1cc09637-3702-4545-c767-cb16dfb2bb71",
        "colab": {
          "base_uri": "https://localhost:8080/",
          "height": 289
        }
      },
      "source": [
        "model.summary()"
      ],
      "execution_count": 12,
      "outputs": [
        {
          "output_type": "stream",
          "text": [
            "Model: \"sequential_1\"\n",
            "_________________________________________________________________\n",
            "Layer (type)                 Output Shape              Param #   \n",
            "=================================================================\n",
            "conv2d_1 (Conv2D)            (None, 26, 26, 32)        320       \n",
            "_________________________________________________________________\n",
            "conv2d_2 (Conv2D)            (None, 24, 24, 32)        9248      \n",
            "_________________________________________________________________\n",
            "max_pooling2d_1 (MaxPooling2 (None, 12, 12, 32)        0         \n",
            "_________________________________________________________________\n",
            "dropout_1 (Dropout)          (None, 12, 12, 32)        0         \n",
            "=================================================================\n",
            "Total params: 9,568\n",
            "Trainable params: 9,568\n",
            "Non-trainable params: 0\n",
            "_________________________________________________________________\n"
          ],
          "name": "stdout"
        }
      ]
    },
    {
      "cell_type": "markdown",
      "metadata": {
        "id": "k2RaPWiP5sXz",
        "colab_type": "text"
      },
      "source": [
        "## Question 7"
      ]
    },
    {
      "cell_type": "markdown",
      "metadata": {
        "id": "4ajGIM6t5sXz",
        "colab_type": "text"
      },
      "source": [
        "### Add classification layers\n",
        "- do this after doing question 6\n",
        "- flatten the data\n",
        "    - add Flatten later\n",
        "    - flatten layers flatten 2D arrays to 1D array before building the fully connected layers\n",
        "- add 2 dense layers\n",
        "    - number of neurons in first layer: 128\n",
        "    - number of neurons in last layer: number of classes\n",
        "    - activation function in first layer: relu\n",
        "    - activation function in last layer: softmax\n",
        "    - we may experiment with any number of neurons for the first Dense layer; however, the final Dense layer must have neurons equal to the number of output classes\n",
        "- you can add a dropout layer in between, if necessary"
      ]
    },
    {
      "cell_type": "code",
      "metadata": {
        "id": "jBxWAN265sX0",
        "colab_type": "code",
        "colab": {}
      },
      "source": [
        "model.add(Flatten())\n",
        "model.add(Dense(128, activation='relu'))\n",
        "model.add(Dropout(0.5))\n",
        "model.add(Dense(num_classes, activation='softmax'))"
      ],
      "execution_count": 0,
      "outputs": []
    },
    {
      "cell_type": "code",
      "metadata": {
        "id": "ipo5s3fnbdiP",
        "colab_type": "code",
        "outputId": "6ac54c12-737b-45a3-add5-04b387b79098",
        "colab": {
          "base_uri": "https://localhost:8080/",
          "height": 425
        }
      },
      "source": [
        "model.summary()"
      ],
      "execution_count": 14,
      "outputs": [
        {
          "output_type": "stream",
          "text": [
            "Model: \"sequential_1\"\n",
            "_________________________________________________________________\n",
            "Layer (type)                 Output Shape              Param #   \n",
            "=================================================================\n",
            "conv2d_1 (Conv2D)            (None, 26, 26, 32)        320       \n",
            "_________________________________________________________________\n",
            "conv2d_2 (Conv2D)            (None, 24, 24, 32)        9248      \n",
            "_________________________________________________________________\n",
            "max_pooling2d_1 (MaxPooling2 (None, 12, 12, 32)        0         \n",
            "_________________________________________________________________\n",
            "dropout_1 (Dropout)          (None, 12, 12, 32)        0         \n",
            "_________________________________________________________________\n",
            "flatten_1 (Flatten)          (None, 4608)              0         \n",
            "_________________________________________________________________\n",
            "dense_1 (Dense)              (None, 128)               589952    \n",
            "_________________________________________________________________\n",
            "dropout_2 (Dropout)          (None, 128)               0         \n",
            "_________________________________________________________________\n",
            "dense_2 (Dense)              (None, 5)                 645       \n",
            "=================================================================\n",
            "Total params: 600,165\n",
            "Trainable params: 600,165\n",
            "Non-trainable params: 0\n",
            "_________________________________________________________________\n"
          ],
          "name": "stdout"
        }
      ]
    },
    {
      "cell_type": "markdown",
      "metadata": {
        "id": "Lhtm4d5K5sX1",
        "colab_type": "text"
      },
      "source": [
        "## Question 8"
      ]
    },
    {
      "cell_type": "markdown",
      "metadata": {
        "id": "SmXg8EaF5sX2",
        "colab_type": "text"
      },
      "source": [
        "### Compile and fit the model\n",
        "- compile your model\n",
        "    - loss: \"categorical_crossentropy\"\n",
        "    - metrics: \"accuracy\"\n",
        "    - optimizer: \"sgd\"\n",
        "- fit your model\n",
        "    - give train data - features and labels\n",
        "    - batch size: 128\n",
        "    - epochs: 10\n",
        "    - give validation data - features and labels"
      ]
    },
    {
      "cell_type": "code",
      "metadata": {
        "id": "cgclxC8s5sX4",
        "colab_type": "code",
        "outputId": "9b11d29b-0558-4e2b-94c2-2bc4ce5a1e1f",
        "colab": {
          "base_uri": "https://localhost:8080/",
          "height": 105
        }
      },
      "source": [
        "model.compile(loss='categorical_crossentropy',\n",
        "              optimizer='sgd',\n",
        "              metrics=['accuracy'])"
      ],
      "execution_count": 15,
      "outputs": [
        {
          "output_type": "stream",
          "text": [
            "WARNING:tensorflow:From /usr/local/lib/python3.6/dist-packages/keras/optimizers.py:793: The name tf.train.Optimizer is deprecated. Please use tf.compat.v1.train.Optimizer instead.\n",
            "\n",
            "WARNING:tensorflow:From /usr/local/lib/python3.6/dist-packages/keras/backend/tensorflow_backend.py:3576: The name tf.log is deprecated. Please use tf.math.log instead.\n",
            "\n"
          ],
          "name": "stdout"
        }
      ]
    },
    {
      "cell_type": "code",
      "metadata": {
        "id": "niJoyJUNbvwb",
        "colab_type": "code",
        "outputId": "8944a17e-10d5-4677-f1f9-8c2fd2345ad4",
        "colab": {
          "base_uri": "https://localhost:8080/",
          "height": 462
        }
      },
      "source": [
        "model.fit(xtrain4, ytrain4, \n",
        "          batch_size=128, nb_epoch=10, verbose=1, validation_data=(xtest4, ytest4))"
      ],
      "execution_count": 16,
      "outputs": [
        {
          "output_type": "stream",
          "text": [
            "WARNING:tensorflow:From /usr/local/lib/python3.6/dist-packages/tensorflow/python/ops/math_grad.py:1250: add_dispatch_support.<locals>.wrapper (from tensorflow.python.ops.array_ops) is deprecated and will be removed in a future version.\n",
            "Instructions for updating:\n",
            "Use tf.where in 2.0, which has the same broadcast rule as np.where\n",
            "Train on 30596 samples, validate on 5139 samples\n",
            "Epoch 1/10\n",
            "30596/30596 [==============================] - 8s 272us/step - loss: 0.6578 - acc: 0.7872 - val_loss: 0.2490 - val_acc: 0.9191\n",
            "Epoch 2/10\n",
            "30596/30596 [==============================] - 2s 53us/step - loss: 0.2007 - acc: 0.9402 - val_loss: 0.0868 - val_acc: 0.9743\n",
            "Epoch 3/10\n",
            "30596/30596 [==============================] - 2s 52us/step - loss: 0.1538 - acc: 0.9518 - val_loss: 0.0733 - val_acc: 0.9772\n",
            "Epoch 4/10\n",
            "30596/30596 [==============================] - 2s 52us/step - loss: 0.1377 - acc: 0.9571 - val_loss: 0.0745 - val_acc: 0.9757\n",
            "Epoch 5/10\n",
            "30596/30596 [==============================] - 2s 53us/step - loss: 0.1274 - acc: 0.9597 - val_loss: 0.0564 - val_acc: 0.9833\n",
            "Epoch 6/10\n",
            "30596/30596 [==============================] - 2s 53us/step - loss: 0.1170 - acc: 0.9636 - val_loss: 0.0510 - val_acc: 0.9842\n",
            "Epoch 7/10\n",
            "30596/30596 [==============================] - 2s 52us/step - loss: 0.1089 - acc: 0.9665 - val_loss: 0.0461 - val_acc: 0.9846\n",
            "Epoch 8/10\n",
            "30596/30596 [==============================] - 2s 53us/step - loss: 0.1013 - acc: 0.9685 - val_loss: 0.0456 - val_acc: 0.9879\n",
            "Epoch 9/10\n",
            "30596/30596 [==============================] - 2s 52us/step - loss: 0.0938 - acc: 0.9719 - val_loss: 0.0421 - val_acc: 0.9854\n",
            "Epoch 10/10\n",
            "30596/30596 [==============================] - 2s 53us/step - loss: 0.0923 - acc: 0.9713 - val_loss: 0.1526 - val_acc: 0.9527\n"
          ],
          "name": "stdout"
        },
        {
          "output_type": "execute_result",
          "data": {
            "text/plain": [
              "<keras.callbacks.History at 0x7f870218eeb8>"
            ]
          },
          "metadata": {
            "tags": []
          },
          "execution_count": 16
        }
      ]
    },
    {
      "cell_type": "markdown",
      "metadata": {
        "id": "oSVZUu3p5sX5",
        "colab_type": "text"
      },
      "source": [
        "## Question 9"
      ]
    },
    {
      "cell_type": "markdown",
      "metadata": {
        "id": "Y5TQ3yLV5sX6",
        "colab_type": "text"
      },
      "source": [
        "### Evaluate model\n",
        "- evaluate your model and get accuracy\n",
        "- use test features and labels"
      ]
    },
    {
      "cell_type": "code",
      "metadata": {
        "id": "bBvuD3ba5sX7",
        "colab_type": "code",
        "outputId": "d9f034a0-07d4-4ca5-ff6f-ce38e4d1fb8d",
        "colab": {
          "base_uri": "https://localhost:8080/",
          "height": 1000
        }
      },
      "source": [
        "model.layers[0].get_weights()"
      ],
      "execution_count": 17,
      "outputs": [
        {
          "output_type": "execute_result",
          "data": {
            "text/plain": [
              "[array([[[[ 3.97460386e-02, -1.19194619e-01,  2.06626609e-01,\n",
              "            5.26079684e-02, -1.18743330e-01, -4.72056568e-02,\n",
              "            5.68893068e-02, -9.63939428e-02, -1.12259433e-01,\n",
              "           -7.68429786e-02,  8.48644897e-02,  6.82383329e-02,\n",
              "            6.20703697e-02,  1.62174448e-01, -8.12062621e-02,\n",
              "           -3.22451033e-02,  8.35639983e-02, -7.95286298e-02,\n",
              "            1.97638169e-01, -1.27312690e-01,  2.00519040e-01,\n",
              "            4.78767678e-02,  9.94928256e-02,  1.07273482e-01,\n",
              "           -5.25314957e-02, -1.41336948e-01, -7.72112235e-02,\n",
              "           -6.91819638e-02,  2.19360128e-01, -6.92789704e-02,\n",
              "            1.63184837e-01, -9.15941503e-03]],\n",
              " \n",
              "         [[ 8.90387744e-02,  5.43829836e-02,  2.52213985e-01,\n",
              "            1.32905364e-01, -1.34591401e-01,  1.23933200e-02,\n",
              "            7.25945234e-02,  7.73403123e-02,  1.71652529e-02,\n",
              "           -5.64056216e-03,  1.35160178e-01, -9.41021442e-02,\n",
              "            1.23332128e-01,  9.57906991e-03, -7.46356323e-02,\n",
              "            9.39128548e-02,  1.50594220e-01,  1.16814338e-01,\n",
              "           -1.56922918e-02, -1.31011494e-02,  2.40511671e-01,\n",
              "            2.34594688e-01,  1.04734354e-01,  1.78052709e-01,\n",
              "            5.63240936e-03, -1.40171517e-02,  6.68720454e-02,\n",
              "            1.25903130e-01,  9.23237652e-02,  1.08687408e-01,\n",
              "            1.07811000e-02, -3.53895612e-02]],\n",
              " \n",
              "         [[ 5.46402186e-02,  8.36175680e-02,  2.97090292e-01,\n",
              "           -1.15031563e-02,  2.01043431e-02,  7.87807032e-02,\n",
              "           -1.23205982e-01, -9.68563836e-03, -5.18872514e-02,\n",
              "           -9.69439447e-02,  2.31404766e-01, -7.38348439e-02,\n",
              "            4.81769592e-02, -9.90604758e-02, -5.57704382e-02,\n",
              "            6.68996423e-02, -1.20696969e-01,  9.73095894e-02,\n",
              "            1.11470409e-01, -3.24151432e-03,  1.32217199e-01,\n",
              "           -2.25548334e-02, -9.92884338e-02,  1.56166747e-01,\n",
              "            7.41455778e-02,  6.20161705e-02, -3.72952335e-02,\n",
              "            3.50102633e-02,  2.33276293e-01, -1.12314306e-01,\n",
              "            8.21350589e-02,  7.03301579e-02]]],\n",
              " \n",
              " \n",
              "        [[[-4.52404767e-02, -5.79971075e-02,  1.42838180e-01,\n",
              "            2.32446373e-01,  5.29738106e-02,  9.09670070e-02,\n",
              "           -8.75487700e-02, -1.40074342e-02, -5.57974316e-02,\n",
              "           -8.38875473e-02,  3.77555192e-02, -1.01222999e-01,\n",
              "            3.98386605e-02,  1.28546774e-01,  5.43608218e-02,\n",
              "            1.28958762e-01,  1.14608921e-01, -5.60843460e-02,\n",
              "            2.69271940e-01, -9.31631774e-02,  1.23645954e-01,\n",
              "            8.80782828e-02,  1.31403372e-01,  1.40335098e-01,\n",
              "           -1.21221831e-02, -1.11878151e-02, -7.38908276e-02,\n",
              "            6.99927062e-02,  2.12295145e-01,  1.21454157e-01,\n",
              "            5.96270002e-02,  1.22047057e-02]],\n",
              " \n",
              "         [[ 4.42595221e-02, -1.30084738e-01,  3.16234410e-01,\n",
              "            5.47588505e-02,  2.04745289e-02,  1.60841912e-01,\n",
              "            5.63836470e-02,  1.65806904e-01, -2.06809957e-02,\n",
              "            1.25869691e-01,  2.81123340e-01, -5.33422194e-02,\n",
              "            1.20090328e-01,  1.64743271e-02, -6.59669191e-02,\n",
              "            1.54244885e-01,  5.37583604e-02, -4.09479104e-02,\n",
              "            1.34207979e-01, -5.45699932e-02,  1.18736267e-01,\n",
              "            9.10832211e-02, -9.20043439e-02,  1.46551400e-01,\n",
              "            6.02364205e-02, -7.41567754e-04,  1.42594308e-01,\n",
              "           -5.80517873e-02,  9.68027487e-02, -8.65208805e-02,\n",
              "           -1.26948833e-01,  6.98591694e-02]],\n",
              " \n",
              "         [[ 5.73599860e-02, -1.03182085e-01,  3.10782164e-01,\n",
              "            1.72928989e-01,  7.88698569e-02,  5.89076132e-02,\n",
              "           -2.69900709e-02,  2.06724375e-01,  3.20854771e-04,\n",
              "            8.95309895e-02,  9.47214738e-02, -1.14038132e-01,\n",
              "           -9.21251923e-02, -4.64548878e-02,  2.96718534e-02,\n",
              "            1.64805740e-01,  6.50886521e-02, -2.51958650e-02,\n",
              "           -1.72455329e-02,  1.24853134e-01,  4.55897525e-02,\n",
              "            2.32965976e-01,  9.66810621e-03,  1.67899802e-01,\n",
              "           -4.71706241e-02, -9.94599462e-02, -7.10104257e-02,\n",
              "            9.44661647e-02,  1.18929394e-01, -2.38355640e-02,\n",
              "            4.97626401e-02, -5.06573804e-02]]],\n",
              " \n",
              " \n",
              "        [[[-3.78704183e-02, -9.42815989e-02,  1.67244345e-01,\n",
              "           -6.08179942e-02, -4.39885668e-02, -5.44556417e-02,\n",
              "            1.15055285e-01,  8.62694308e-02, -6.79880455e-02,\n",
              "           -5.19876927e-02,  1.83739796e-01, -5.72759993e-02,\n",
              "            1.15122043e-01,  1.15936562e-01, -4.21947092e-02,\n",
              "           -1.91953732e-05,  6.24359846e-02, -1.38612464e-01,\n",
              "            1.63197115e-01,  7.65906200e-02,  5.00888564e-02,\n",
              "            9.66578722e-02,  1.01046577e-01,  1.25549510e-01,\n",
              "           -1.24907292e-01,  8.14535469e-02, -1.08024977e-01,\n",
              "            8.37544352e-03, -2.20091939e-02,  2.41811611e-02,\n",
              "            9.15008858e-02, -7.33992606e-02]],\n",
              " \n",
              "         [[-6.71180338e-02, -9.76762995e-02,  2.61138648e-01,\n",
              "            1.63193613e-01, -2.80263107e-02,  1.84519142e-01,\n",
              "           -6.77658804e-03,  7.73068815e-02, -3.29080969e-02,\n",
              "            9.79005545e-02, -1.43579580e-02,  1.44436359e-01,\n",
              "            1.25938356e-01,  1.71889469e-01,  5.90282567e-02,\n",
              "            1.84542328e-01, -9.43418816e-02,  1.14100963e-01,\n",
              "            1.47235185e-01,  1.00486234e-01,  1.06860146e-01,\n",
              "            2.34759018e-01,  5.32799691e-04, -2.48581935e-02,\n",
              "           -3.15154456e-02, -1.49505258e-01,  5.34437038e-02,\n",
              "           -1.16862513e-01,  8.16892013e-02, -3.18531296e-03,\n",
              "           -4.73737568e-02, -1.12876557e-02]],\n",
              " \n",
              "         [[ 1.34766772e-01,  3.38513516e-02,  1.11018918e-01,\n",
              "            9.94959567e-03, -1.24116451e-01,  6.16097748e-02,\n",
              "           -1.22432783e-01,  1.34479702e-01, -4.68955226e-02,\n",
              "            1.47851799e-02,  1.62550256e-01, -7.61509463e-02,\n",
              "           -1.50675373e-03,  4.50067781e-02,  4.74022701e-02,\n",
              "            6.34805635e-02, -7.03350455e-02, -6.43518381e-03,\n",
              "           -7.09084272e-02, -1.26870289e-01, -6.51501343e-02,\n",
              "            1.34553105e-01,  1.22946188e-01,  1.28128722e-01,\n",
              "            4.10920903e-02,  7.50596076e-02,  1.15047112e-01,\n",
              "           -5.67507595e-02,  1.42322034e-01, -5.65971844e-02,\n",
              "           -1.30596772e-01, -4.75164205e-02]]]], dtype=float32),\n",
              " array([ 6.5130177e-03,  6.7041661e-03,  4.0959218e-03,  1.7382966e-02,\n",
              "        -4.6406967e-07,  1.9706856e-03,  1.3656594e-03,  3.7418059e-03,\n",
              "         7.0893981e-02,  9.1032889e-03,  2.1560027e-03,  2.6896195e-02,\n",
              "        -1.5622553e-04,  5.8386330e-03,  9.5007624e-03,  2.3625705e-03,\n",
              "         1.5635801e-02, -9.2601422e-03,  2.6997069e-03, -3.8219620e-03,\n",
              "         3.9469362e-03,  3.8540708e-03,  1.0535609e-03,  4.6495348e-03,\n",
              "         2.1662593e-03,  1.9475536e-02,  1.3476399e-02,  1.7642917e-02,\n",
              "         2.3060779e-03,  3.4913652e-02,  2.4915498e-02,  1.8069763e-02],\n",
              "       dtype=float32)]"
            ]
          },
          "metadata": {
            "tags": []
          },
          "execution_count": 17
        }
      ]
    },
    {
      "cell_type": "code",
      "metadata": {
        "id": "HIdALokRcKOR",
        "colab_type": "code",
        "outputId": "98d17b8a-a429-4c94-a092-7bae6f13af18",
        "colab": {
          "base_uri": "https://localhost:8080/",
          "height": 1000
        }
      },
      "source": [
        "model.layers[1].get_weights()"
      ],
      "execution_count": 18,
      "outputs": [
        {
          "output_type": "execute_result",
          "data": {
            "text/plain": [
              "[array([[[[ 5.55287190e-02,  3.48284543e-02,  3.51869576e-02, ...,\n",
              "           -9.00657550e-02, -5.37172109e-02,  1.17532378e-02],\n",
              "          [ 6.04265705e-02, -4.50377055e-02, -6.63374830e-03, ...,\n",
              "            2.35534683e-02, -2.09905971e-02, -2.12565884e-02],\n",
              "          [ 1.14204716e-02,  4.71382355e-03,  2.73805596e-02, ...,\n",
              "           -2.52535231e-02,  3.68148088e-02, -5.87993562e-02],\n",
              "          ...,\n",
              "          [ 5.79495989e-02,  3.52394357e-02,  6.50964156e-02, ...,\n",
              "           -4.89166342e-02, -9.81659144e-02, -6.70390651e-02],\n",
              "          [-5.85872680e-02,  1.40910810e-02, -9.01149586e-02, ...,\n",
              "           -1.95412692e-02, -8.35201070e-02, -3.23209390e-02],\n",
              "          [-2.24547740e-02, -7.49644339e-02,  9.34295505e-02, ...,\n",
              "           -6.75697774e-02, -6.13490753e-02, -2.72846967e-02]],\n",
              " \n",
              "         [[ 1.54304318e-04,  3.69544514e-02,  2.11974382e-02, ...,\n",
              "            7.31101707e-02, -9.09726918e-02, -7.42632374e-02],\n",
              "          [-2.19010487e-02, -6.08504862e-02, -8.89690444e-02, ...,\n",
              "           -7.81915039e-02, -4.87767644e-02,  1.76313818e-02],\n",
              "          [ 9.39122960e-03,  1.20585598e-01,  1.11238711e-01, ...,\n",
              "           -3.71700712e-02,  2.97714025e-02, -3.52653745e-03],\n",
              "          ...,\n",
              "          [ 3.93705592e-02, -6.55053705e-02, -7.39064962e-02, ...,\n",
              "           -1.00283355e-01, -2.47446038e-02,  3.96126546e-02],\n",
              "          [-3.36985365e-02, -5.41610308e-02,  9.82927755e-02, ...,\n",
              "            3.75574641e-02, -1.75116006e-02, -9.60763544e-02],\n",
              "          [-3.94577160e-02,  8.99895057e-02,  9.57689062e-02, ...,\n",
              "           -7.55485743e-02, -4.46559936e-02,  8.93917307e-03]],\n",
              " \n",
              "         [[-9.53808278e-02,  2.49119140e-02, -4.38598320e-02, ...,\n",
              "           -8.80098715e-02, -1.30070094e-02, -1.72821507e-02],\n",
              "          [-4.14827466e-02,  9.89032760e-02,  2.03405265e-02, ...,\n",
              "           -5.69384173e-02, -5.16261160e-02,  4.68099490e-02],\n",
              "          [ 1.09659746e-01,  1.21751569e-01,  1.17898442e-01, ...,\n",
              "            4.12808470e-02,  1.04568452e-01, -9.79684144e-02],\n",
              "          ...,\n",
              "          [-4.49921899e-02,  4.23719138e-02, -2.36220919e-02, ...,\n",
              "            1.70596801e-02, -6.04266524e-02, -9.49480087e-02],\n",
              "          [-5.80010377e-02, -9.56624597e-02, -1.17503107e-02, ...,\n",
              "            9.91283283e-02,  5.64141273e-02,  9.46579203e-02],\n",
              "          [ 5.68466187e-02, -6.17489554e-02, -2.79346500e-02, ...,\n",
              "           -4.95535024e-02,  2.74542682e-02,  2.61397548e-02]]],\n",
              " \n",
              " \n",
              "        [[[-2.64422819e-02,  9.51171666e-02, -7.60739520e-02, ...,\n",
              "            9.49649587e-02, -6.41709715e-02,  6.06291555e-02],\n",
              "          [ 9.66511741e-02, -5.07954182e-03,  5.92046082e-02, ...,\n",
              "            1.05273239e-02,  2.02046204e-02,  4.37953472e-02],\n",
              "          [ 1.32185385e-01,  1.07306473e-01, -3.97298150e-02, ...,\n",
              "           -2.12702490e-02,  9.33544338e-02, -1.20449923e-02],\n",
              "          ...,\n",
              "          [ 9.87050310e-03, -9.37401652e-02,  7.01217055e-02, ...,\n",
              "           -7.75077939e-02, -5.75411431e-02,  5.75757101e-02],\n",
              "          [-1.22130373e-02, -1.00359298e-01, -9.50954407e-02, ...,\n",
              "           -1.74696390e-02,  3.47723477e-02,  3.29203829e-02],\n",
              "          [-5.75794354e-02, -3.03234067e-02, -3.75477001e-02, ...,\n",
              "            5.06470241e-02,  3.39421928e-02, -9.54947993e-02]],\n",
              " \n",
              "         [[ 6.67821020e-02, -3.99576547e-03, -5.23007326e-02, ...,\n",
              "           -9.32856929e-03, -4.81167920e-02,  7.74100646e-02],\n",
              "          [ 5.59073873e-02,  4.53048535e-02,  1.26681998e-02, ...,\n",
              "            2.61387532e-03,  1.54766012e-02,  4.21418548e-02],\n",
              "          [-2.50654630e-02,  5.29582351e-02,  1.20516837e-01, ...,\n",
              "            1.85096841e-02,  1.10232785e-01,  4.22834158e-02],\n",
              "          ...,\n",
              "          [-8.72385651e-02, -2.87643410e-02, -1.61378067e-02, ...,\n",
              "           -2.50508897e-02, -3.84730436e-02, -8.83820876e-02],\n",
              "          [ 8.40939134e-02,  3.46656702e-02,  5.18101528e-02, ...,\n",
              "            3.84743847e-02, -8.35300311e-02, -5.56208827e-02],\n",
              "          [-6.20786771e-02, -5.61901890e-02, -9.61780027e-02, ...,\n",
              "            5.16792648e-02, -6.72270060e-02,  4.47971001e-02]],\n",
              " \n",
              "         [[-1.84044112e-02, -9.65715125e-02,  7.94649497e-03, ...,\n",
              "           -8.74653310e-02,  3.61771509e-02, -6.53263927e-02],\n",
              "          [ 4.82284874e-02, -4.11911532e-02,  1.14575196e-02, ...,\n",
              "            1.70172611e-03, -9.41559970e-02, -9.42819789e-02],\n",
              "          [ 2.56373230e-02,  8.91051963e-02,  9.05510038e-02, ...,\n",
              "            3.32180560e-02,  1.31584555e-01,  3.15022394e-02],\n",
              "          ...,\n",
              "          [ 2.88879760e-02, -8.75375941e-02, -9.85104144e-02, ...,\n",
              "           -9.44111198e-02, -9.61803496e-02,  7.10740462e-02],\n",
              "          [-3.24879698e-02,  5.86422011e-02,  1.00573733e-01, ...,\n",
              "           -3.76451723e-02,  7.24153891e-02, -5.50007224e-02],\n",
              "          [ 7.51851648e-02, -7.37268329e-02, -7.12535605e-02, ...,\n",
              "            6.29998222e-02, -7.39031360e-02,  2.10203268e-02]]],\n",
              " \n",
              " \n",
              "        [[[ 6.27961159e-02,  4.58604507e-02,  6.25854805e-02, ...,\n",
              "            1.24244485e-02,  1.42543633e-02, -1.26139866e-02],\n",
              "          [-6.64314926e-02,  3.53312003e-03, -4.90886495e-02, ...,\n",
              "            8.22373852e-02, -7.49251992e-02, -5.74727505e-02],\n",
              "          [ 5.72652891e-02,  2.39202026e-02, -2.68010497e-02, ...,\n",
              "            8.02683979e-02, -1.59899064e-03,  4.61813584e-02],\n",
              "          ...,\n",
              "          [ 2.23297384e-02, -9.51269791e-02, -9.38761700e-03, ...,\n",
              "           -2.96476223e-02, -6.67575449e-02, -8.56313184e-02],\n",
              "          [ 1.34327132e-02,  7.56987417e-03,  8.23742822e-02, ...,\n",
              "           -7.10208714e-02,  5.19493259e-02,  7.56023228e-02],\n",
              "          [ 5.80843277e-02, -4.81764786e-02, -8.93324465e-02, ...,\n",
              "           -6.08474649e-02, -4.93877195e-02, -9.31472033e-02]],\n",
              " \n",
              "         [[ 9.69996899e-02,  3.05953994e-02, -8.84199664e-02, ...,\n",
              "           -5.80124091e-04,  3.43133174e-02, -9.83031318e-02],\n",
              "          [-9.15718526e-02, -5.17192222e-02,  9.63895693e-02, ...,\n",
              "            2.48876540e-03, -8.81389752e-02,  4.02355529e-02],\n",
              "          [ 5.05663529e-02,  5.33266589e-02, -5.55666955e-03, ...,\n",
              "            4.86350022e-02,  1.39171526e-01, -3.58829424e-02],\n",
              "          ...,\n",
              "          [ 3.82910818e-02,  2.69148033e-02,  6.31670952e-02, ...,\n",
              "           -6.37973920e-02,  7.00550079e-02,  5.15983924e-02],\n",
              "          [-8.71825442e-02,  7.40714148e-02,  5.52064646e-03, ...,\n",
              "           -1.02201082e-01,  4.49181572e-02, -7.53054097e-02],\n",
              "          [ 4.97577712e-02,  3.42209935e-02, -4.28834632e-02, ...,\n",
              "            4.17850316e-02,  2.74694315e-03, -6.64171726e-02]],\n",
              " \n",
              "         [[-3.24959680e-02, -4.83788960e-02, -9.40405503e-02, ...,\n",
              "           -5.29584959e-02, -7.20179975e-02,  4.81362827e-02],\n",
              "          [ 5.15364371e-02, -9.15100276e-02,  8.53198543e-02, ...,\n",
              "            9.40408558e-03,  1.02232834e-02,  6.67224173e-03],\n",
              "          [ 8.97556171e-02,  2.50103381e-02,  8.77737552e-02, ...,\n",
              "           -4.61792201e-02,  1.60537288e-01,  7.08896518e-02],\n",
              "          ...,\n",
              "          [-4.32137810e-02,  5.67790717e-02, -7.64545798e-02, ...,\n",
              "           -5.48011847e-02, -2.20811926e-02, -1.61814075e-02],\n",
              "          [ 8.31123069e-02,  9.01972726e-02, -9.14521590e-02, ...,\n",
              "            3.34103629e-02, -3.24619859e-02, -8.22260529e-02],\n",
              "          [-8.19466934e-02, -6.31412938e-02, -8.37964490e-02, ...,\n",
              "           -2.98718158e-02, -1.84709262e-02,  5.62370159e-02]]]],\n",
              "       dtype=float32),\n",
              " array([-0.00947204,  0.01803615,  0.00811426,  0.06258959,  0.01794746,\n",
              "         0.01564693,  0.0076715 , -0.02192511, -0.01320518,  0.00261297,\n",
              "         0.0296029 ,  0.01110807, -0.0097915 ,  0.01556232, -0.00774424,\n",
              "        -0.00224158,  0.00528977, -0.01482505,  0.01678166,  0.0189058 ,\n",
              "        -0.01664349,  0.05451795,  0.00913913,  0.01340148, -0.03257499,\n",
              "        -0.00763447, -0.01958285,  0.00043475, -0.02114245,  0.00734463,\n",
              "         0.02746685, -0.0019932 ], dtype=float32)]"
            ]
          },
          "metadata": {
            "tags": []
          },
          "execution_count": 18
        }
      ]
    },
    {
      "cell_type": "code",
      "metadata": {
        "id": "1k8txtU_c73E",
        "colab_type": "code",
        "outputId": "29f44e6a-4357-46b5-a818-3d39dc997d81",
        "colab": {
          "base_uri": "https://localhost:8080/",
          "height": 799
        }
      },
      "source": [
        "model.layers[5].get_weights()"
      ],
      "execution_count": 19,
      "outputs": [
        {
          "output_type": "execute_result",
          "data": {
            "text/plain": [
              "[array([[ 2.06126627e-02, -3.31024788e-02, -2.31883880e-02, ...,\n",
              "          3.41266952e-02,  5.30437194e-03, -1.80103704e-02],\n",
              "        [-5.77015430e-03, -1.52519513e-02,  1.43850995e-02, ...,\n",
              "         -2.84536984e-02,  3.13043073e-02,  4.73575341e-03],\n",
              "        [-1.13623943e-02,  2.59357579e-02,  8.73691402e-03, ...,\n",
              "          1.16552506e-03,  2.63791364e-02, -3.51752155e-02],\n",
              "        ...,\n",
              "        [-2.04134174e-02,  1.49399415e-02,  3.13267745e-02, ...,\n",
              "         -2.47916467e-02,  2.73446199e-02,  2.77374126e-02],\n",
              "        [-3.22617143e-02, -8.59689247e-03,  2.18781773e-02, ...,\n",
              "          2.11436804e-02, -3.24340574e-02, -7.81136769e-05],\n",
              "        [ 6.80707069e-03,  2.21307520e-02,  3.14564630e-02, ...,\n",
              "          2.66954508e-02, -2.11057980e-02,  3.30905095e-02]], dtype=float32),\n",
              " array([-3.2179616e-03, -1.3912983e-03, -1.0965334e-05, -2.7844968e-04,\n",
              "        -9.0716965e-04,  6.4292569e-03,  3.4653521e-03,  1.0547253e-03,\n",
              "        -5.4715360e-03,  9.1351653e-03,  3.4767506e-03,  2.9483647e-03,\n",
              "        -6.4419648e-03,  3.6411982e-03,  5.1419744e-03,  7.0736196e-04,\n",
              "        -4.7042137e-03, -1.4667129e-03, -3.1208936e-03,  5.8982065e-03,\n",
              "         7.5747930e-03,  4.8483773e-03,  1.9418707e-02, -1.6355618e-03,\n",
              "         1.1929953e-02, -2.1413335e-04, -8.5105943e-03, -3.6170203e-04,\n",
              "        -1.6832614e-03,  9.9836543e-05,  5.5028307e-03,  6.5650176e-03,\n",
              "         4.0141209e-03, -6.8594404e-03,  7.3569426e-03, -1.5165193e-03,\n",
              "         3.4104767e-03,  1.7343322e-05, -5.5912249e-03,  1.1252001e-02,\n",
              "         2.4690891e-03,  4.2656353e-03, -5.3033340e-03, -1.5250869e-03,\n",
              "         2.8370672e-03, -1.6639426e-03,  6.9830408e-03, -2.8558909e-03,\n",
              "         4.4753478e-04, -2.8091036e-03,  7.2813337e-03,  6.1082062e-03,\n",
              "         8.3254622e-03,  6.5364520e-04,  9.7491704e-03,  2.2519699e-03,\n",
              "         5.0077029e-03,  2.7139587e-03,  1.2898130e-02, -1.8511824e-03,\n",
              "        -1.0101835e-03,  1.1731628e-02,  3.3855652e-03,  3.8125908e-03,\n",
              "         1.5800751e-03, -4.4400566e-03, -7.3742564e-03,  6.6431722e-04,\n",
              "        -7.3716738e-03,  3.7407945e-04,  2.6563294e-03, -7.5675566e-03,\n",
              "        -9.4914241e-03,  1.4203347e-03, -9.8551833e-04,  6.3118003e-03,\n",
              "         1.3049211e-02, -3.3367530e-03, -4.0016030e-03,  4.0858299e-03,\n",
              "         2.4622744e-03, -3.9070128e-03,  5.6886869e-03, -5.3481278e-03,\n",
              "         1.5642315e-03,  7.3932903e-03,  5.1848628e-03, -3.2161823e-03,\n",
              "        -1.3858733e-03, -4.9836463e-03,  7.3304195e-03,  5.2139345e-03,\n",
              "        -6.3153086e-03, -5.3870324e-03, -9.7464153e-04,  6.2403677e-04,\n",
              "         9.8714978e-03,  2.1512604e-04,  6.0497746e-03,  1.1832935e-03,\n",
              "         1.3901154e-02,  9.7698309e-03,  3.2518469e-04,  7.3321955e-03,\n",
              "        -8.0119679e-03, -1.4891133e-04, -3.7620582e-03, -1.8667023e-03,\n",
              "        -2.8383520e-03, -9.0092905e-03,  1.4254750e-03, -5.7677501e-03,\n",
              "        -2.2001439e-03, -6.2019690e-03,  1.6082080e-02,  7.7122409e-04,\n",
              "        -1.1553930e-02,  5.8431341e-03, -2.1300202e-03, -4.6226582e-03,\n",
              "        -5.0921985e-03, -7.8777963e-04, -1.3342657e-03, -1.7127725e-03,\n",
              "         5.1956973e-03, -1.5480922e-03,  4.0527536e-03,  2.0445522e-03],\n",
              "       dtype=float32)]"
            ]
          },
          "metadata": {
            "tags": []
          },
          "execution_count": 19
        }
      ]
    },
    {
      "cell_type": "code",
      "metadata": {
        "id": "-tqvafGidFjS",
        "colab_type": "code",
        "outputId": "35e7ba7b-1cf5-43ab-fd45-f13e34b50952",
        "colab": {
          "base_uri": "https://localhost:8080/",
          "height": 1000
        }
      },
      "source": [
        "model.layers[0].get_weights()"
      ],
      "execution_count": 20,
      "outputs": [
        {
          "output_type": "execute_result",
          "data": {
            "text/plain": [
              "[array([[[[ 3.97460386e-02, -1.19194619e-01,  2.06626609e-01,\n",
              "            5.26079684e-02, -1.18743330e-01, -4.72056568e-02,\n",
              "            5.68893068e-02, -9.63939428e-02, -1.12259433e-01,\n",
              "           -7.68429786e-02,  8.48644897e-02,  6.82383329e-02,\n",
              "            6.20703697e-02,  1.62174448e-01, -8.12062621e-02,\n",
              "           -3.22451033e-02,  8.35639983e-02, -7.95286298e-02,\n",
              "            1.97638169e-01, -1.27312690e-01,  2.00519040e-01,\n",
              "            4.78767678e-02,  9.94928256e-02,  1.07273482e-01,\n",
              "           -5.25314957e-02, -1.41336948e-01, -7.72112235e-02,\n",
              "           -6.91819638e-02,  2.19360128e-01, -6.92789704e-02,\n",
              "            1.63184837e-01, -9.15941503e-03]],\n",
              " \n",
              "         [[ 8.90387744e-02,  5.43829836e-02,  2.52213985e-01,\n",
              "            1.32905364e-01, -1.34591401e-01,  1.23933200e-02,\n",
              "            7.25945234e-02,  7.73403123e-02,  1.71652529e-02,\n",
              "           -5.64056216e-03,  1.35160178e-01, -9.41021442e-02,\n",
              "            1.23332128e-01,  9.57906991e-03, -7.46356323e-02,\n",
              "            9.39128548e-02,  1.50594220e-01,  1.16814338e-01,\n",
              "           -1.56922918e-02, -1.31011494e-02,  2.40511671e-01,\n",
              "            2.34594688e-01,  1.04734354e-01,  1.78052709e-01,\n",
              "            5.63240936e-03, -1.40171517e-02,  6.68720454e-02,\n",
              "            1.25903130e-01,  9.23237652e-02,  1.08687408e-01,\n",
              "            1.07811000e-02, -3.53895612e-02]],\n",
              " \n",
              "         [[ 5.46402186e-02,  8.36175680e-02,  2.97090292e-01,\n",
              "           -1.15031563e-02,  2.01043431e-02,  7.87807032e-02,\n",
              "           -1.23205982e-01, -9.68563836e-03, -5.18872514e-02,\n",
              "           -9.69439447e-02,  2.31404766e-01, -7.38348439e-02,\n",
              "            4.81769592e-02, -9.90604758e-02, -5.57704382e-02,\n",
              "            6.68996423e-02, -1.20696969e-01,  9.73095894e-02,\n",
              "            1.11470409e-01, -3.24151432e-03,  1.32217199e-01,\n",
              "           -2.25548334e-02, -9.92884338e-02,  1.56166747e-01,\n",
              "            7.41455778e-02,  6.20161705e-02, -3.72952335e-02,\n",
              "            3.50102633e-02,  2.33276293e-01, -1.12314306e-01,\n",
              "            8.21350589e-02,  7.03301579e-02]]],\n",
              " \n",
              " \n",
              "        [[[-4.52404767e-02, -5.79971075e-02,  1.42838180e-01,\n",
              "            2.32446373e-01,  5.29738106e-02,  9.09670070e-02,\n",
              "           -8.75487700e-02, -1.40074342e-02, -5.57974316e-02,\n",
              "           -8.38875473e-02,  3.77555192e-02, -1.01222999e-01,\n",
              "            3.98386605e-02,  1.28546774e-01,  5.43608218e-02,\n",
              "            1.28958762e-01,  1.14608921e-01, -5.60843460e-02,\n",
              "            2.69271940e-01, -9.31631774e-02,  1.23645954e-01,\n",
              "            8.80782828e-02,  1.31403372e-01,  1.40335098e-01,\n",
              "           -1.21221831e-02, -1.11878151e-02, -7.38908276e-02,\n",
              "            6.99927062e-02,  2.12295145e-01,  1.21454157e-01,\n",
              "            5.96270002e-02,  1.22047057e-02]],\n",
              " \n",
              "         [[ 4.42595221e-02, -1.30084738e-01,  3.16234410e-01,\n",
              "            5.47588505e-02,  2.04745289e-02,  1.60841912e-01,\n",
              "            5.63836470e-02,  1.65806904e-01, -2.06809957e-02,\n",
              "            1.25869691e-01,  2.81123340e-01, -5.33422194e-02,\n",
              "            1.20090328e-01,  1.64743271e-02, -6.59669191e-02,\n",
              "            1.54244885e-01,  5.37583604e-02, -4.09479104e-02,\n",
              "            1.34207979e-01, -5.45699932e-02,  1.18736267e-01,\n",
              "            9.10832211e-02, -9.20043439e-02,  1.46551400e-01,\n",
              "            6.02364205e-02, -7.41567754e-04,  1.42594308e-01,\n",
              "           -5.80517873e-02,  9.68027487e-02, -8.65208805e-02,\n",
              "           -1.26948833e-01,  6.98591694e-02]],\n",
              " \n",
              "         [[ 5.73599860e-02, -1.03182085e-01,  3.10782164e-01,\n",
              "            1.72928989e-01,  7.88698569e-02,  5.89076132e-02,\n",
              "           -2.69900709e-02,  2.06724375e-01,  3.20854771e-04,\n",
              "            8.95309895e-02,  9.47214738e-02, -1.14038132e-01,\n",
              "           -9.21251923e-02, -4.64548878e-02,  2.96718534e-02,\n",
              "            1.64805740e-01,  6.50886521e-02, -2.51958650e-02,\n",
              "           -1.72455329e-02,  1.24853134e-01,  4.55897525e-02,\n",
              "            2.32965976e-01,  9.66810621e-03,  1.67899802e-01,\n",
              "           -4.71706241e-02, -9.94599462e-02, -7.10104257e-02,\n",
              "            9.44661647e-02,  1.18929394e-01, -2.38355640e-02,\n",
              "            4.97626401e-02, -5.06573804e-02]]],\n",
              " \n",
              " \n",
              "        [[[-3.78704183e-02, -9.42815989e-02,  1.67244345e-01,\n",
              "           -6.08179942e-02, -4.39885668e-02, -5.44556417e-02,\n",
              "            1.15055285e-01,  8.62694308e-02, -6.79880455e-02,\n",
              "           -5.19876927e-02,  1.83739796e-01, -5.72759993e-02,\n",
              "            1.15122043e-01,  1.15936562e-01, -4.21947092e-02,\n",
              "           -1.91953732e-05,  6.24359846e-02, -1.38612464e-01,\n",
              "            1.63197115e-01,  7.65906200e-02,  5.00888564e-02,\n",
              "            9.66578722e-02,  1.01046577e-01,  1.25549510e-01,\n",
              "           -1.24907292e-01,  8.14535469e-02, -1.08024977e-01,\n",
              "            8.37544352e-03, -2.20091939e-02,  2.41811611e-02,\n",
              "            9.15008858e-02, -7.33992606e-02]],\n",
              " \n",
              "         [[-6.71180338e-02, -9.76762995e-02,  2.61138648e-01,\n",
              "            1.63193613e-01, -2.80263107e-02,  1.84519142e-01,\n",
              "           -6.77658804e-03,  7.73068815e-02, -3.29080969e-02,\n",
              "            9.79005545e-02, -1.43579580e-02,  1.44436359e-01,\n",
              "            1.25938356e-01,  1.71889469e-01,  5.90282567e-02,\n",
              "            1.84542328e-01, -9.43418816e-02,  1.14100963e-01,\n",
              "            1.47235185e-01,  1.00486234e-01,  1.06860146e-01,\n",
              "            2.34759018e-01,  5.32799691e-04, -2.48581935e-02,\n",
              "           -3.15154456e-02, -1.49505258e-01,  5.34437038e-02,\n",
              "           -1.16862513e-01,  8.16892013e-02, -3.18531296e-03,\n",
              "           -4.73737568e-02, -1.12876557e-02]],\n",
              " \n",
              "         [[ 1.34766772e-01,  3.38513516e-02,  1.11018918e-01,\n",
              "            9.94959567e-03, -1.24116451e-01,  6.16097748e-02,\n",
              "           -1.22432783e-01,  1.34479702e-01, -4.68955226e-02,\n",
              "            1.47851799e-02,  1.62550256e-01, -7.61509463e-02,\n",
              "           -1.50675373e-03,  4.50067781e-02,  4.74022701e-02,\n",
              "            6.34805635e-02, -7.03350455e-02, -6.43518381e-03,\n",
              "           -7.09084272e-02, -1.26870289e-01, -6.51501343e-02,\n",
              "            1.34553105e-01,  1.22946188e-01,  1.28128722e-01,\n",
              "            4.10920903e-02,  7.50596076e-02,  1.15047112e-01,\n",
              "           -5.67507595e-02,  1.42322034e-01, -5.65971844e-02,\n",
              "           -1.30596772e-01, -4.75164205e-02]]]], dtype=float32),\n",
              " array([ 6.5130177e-03,  6.7041661e-03,  4.0959218e-03,  1.7382966e-02,\n",
              "        -4.6406967e-07,  1.9706856e-03,  1.3656594e-03,  3.7418059e-03,\n",
              "         7.0893981e-02,  9.1032889e-03,  2.1560027e-03,  2.6896195e-02,\n",
              "        -1.5622553e-04,  5.8386330e-03,  9.5007624e-03,  2.3625705e-03,\n",
              "         1.5635801e-02, -9.2601422e-03,  2.6997069e-03, -3.8219620e-03,\n",
              "         3.9469362e-03,  3.8540708e-03,  1.0535609e-03,  4.6495348e-03,\n",
              "         2.1662593e-03,  1.9475536e-02,  1.3476399e-02,  1.7642917e-02,\n",
              "         2.3060779e-03,  3.4913652e-02,  2.4915498e-02,  1.8069763e-02],\n",
              "       dtype=float32)]"
            ]
          },
          "metadata": {
            "tags": []
          },
          "execution_count": 20
        }
      ]
    },
    {
      "cell_type": "markdown",
      "metadata": {
        "id": "8aUzOh9m5sX-",
        "colab_type": "text"
      },
      "source": [
        "## Question 10"
      ]
    },
    {
      "cell_type": "markdown",
      "metadata": {
        "id": "srd-YYNH5sX-",
        "colab_type": "text"
      },
      "source": [
        "## Transfer learning\n",
        "Now we will apply this model on second dataset (5-9 digits)\n",
        "\n",
        "- fix the first convolution layers so that the weights in the convolution layers dont get updated in the process of training\n",
        "- get the second dataset\n",
        "- train the last 2 dense layers\n",
        "- predict the accuracy and loss"
      ]
    },
    {
      "cell_type": "markdown",
      "metadata": {
        "id": "KvhdH7D55sYA",
        "colab_type": "text"
      },
      "source": [
        "### Make only dense layers trainable\n",
        "- set trainalble = False for all layers other than Dense layers"
      ]
    },
    {
      "cell_type": "code",
      "metadata": {
        "colab_type": "code",
        "id": "brN7VZHFaEJ4",
        "outputId": "73b9885c-172b-4e53-ea46-8ca8189ab09f",
        "colab": {
          "base_uri": "https://localhost:8080/",
          "height": 425
        }
      },
      "source": [
        "model.summary()"
      ],
      "execution_count": 21,
      "outputs": [
        {
          "output_type": "stream",
          "text": [
            "Model: \"sequential_1\"\n",
            "_________________________________________________________________\n",
            "Layer (type)                 Output Shape              Param #   \n",
            "=================================================================\n",
            "conv2d_1 (Conv2D)            (None, 26, 26, 32)        320       \n",
            "_________________________________________________________________\n",
            "conv2d_2 (Conv2D)            (None, 24, 24, 32)        9248      \n",
            "_________________________________________________________________\n",
            "max_pooling2d_1 (MaxPooling2 (None, 12, 12, 32)        0         \n",
            "_________________________________________________________________\n",
            "dropout_1 (Dropout)          (None, 12, 12, 32)        0         \n",
            "_________________________________________________________________\n",
            "flatten_1 (Flatten)          (None, 4608)              0         \n",
            "_________________________________________________________________\n",
            "dense_1 (Dense)              (None, 128)               589952    \n",
            "_________________________________________________________________\n",
            "dropout_2 (Dropout)          (None, 128)               0         \n",
            "_________________________________________________________________\n",
            "dense_2 (Dense)              (None, 5)                 645       \n",
            "=================================================================\n",
            "Total params: 600,165\n",
            "Trainable params: 600,165\n",
            "Non-trainable params: 0\n",
            "_________________________________________________________________\n"
          ],
          "name": "stdout"
        }
      ]
    },
    {
      "cell_type": "markdown",
      "metadata": {
        "id": "FYR9VGzO5sYE",
        "colab_type": "text"
      },
      "source": [
        "### Modify data\n",
        "- in your second data, class labels will start from 5 to 9 but for keras.utils.to_categorical the labels should start from 0\n",
        "- so you need to subtract 5 from train and test labels"
      ]
    },
    {
      "cell_type": "code",
      "metadata": {
        "id": "lC5W75L35sYF",
        "colab_type": "code",
        "colab": {}
      },
      "source": [
        "ytrain9 = ytrain9 - 5\n",
        "ytest9 = ytest9 - 5 "
      ],
      "execution_count": 0,
      "outputs": []
    },
    {
      "cell_type": "markdown",
      "metadata": {
        "id": "YGY3OTBt5sYG",
        "colab_type": "text"
      },
      "source": [
        "### Reshape data\n",
        "- reshape second dataset\n",
        "- To be able to use the dataset in Keras, we need 4-dims numpy arrays. \n",
        "- reshape features to pass it to a Conv2D layer\n",
        "- channel = 1\n",
        "- reshape features of first dataset only\n",
        "- do not reshape labels"
      ]
    },
    {
      "cell_type": "markdown",
      "metadata": {
        "id": "GQ3OZr2aHqUN",
        "colab_type": "text"
      },
      "source": [
        "##### Reshaping the array to 4-dimensions, so that it can work with the Keras API:"
      ]
    },
    {
      "cell_type": "code",
      "metadata": {
        "id": "0V7RUlRD5sYH",
        "colab_type": "code",
        "colab": {}
      },
      "source": [
        "xtrain9 = X_train_5_9.reshape(xtrain9.shape[0], 28, 28, 1)\n",
        "xtest9 = X_test_5_9.reshape(xtest9.shape[0], 28, 28, 1)"
      ],
      "execution_count": 0,
      "outputs": []
    },
    {
      "cell_type": "markdown",
      "metadata": {
        "id": "c7omqMQH5sYJ",
        "colab_type": "text"
      },
      "source": [
        "### Normalize data\n",
        "- normalize second data\n",
        "- we must normalize our data as it is always required in neural network models\n",
        "- we can achieve this by dividing the RGB codes to 255 (which is the maximum RGB code minus the minimum RGB code)\n",
        "- normalize X_train and X_test\n",
        "- make sure that the values are float so that we can get decimal points after division"
      ]
    },
    {
      "cell_type": "markdown",
      "metadata": {
        "id": "ZyH01JyLH5dX",
        "colab_type": "text"
      },
      "source": [
        "##### Making sure that the values are float so that we can get decimal points after division"
      ]
    },
    {
      "cell_type": "code",
      "metadata": {
        "id": "PEFYNHRp5sYJ",
        "colab_type": "code",
        "colab": {}
      },
      "source": [
        "xtrain9 = xtrain9.astype('float32')\n",
        "xtest9 = xtest9.astype('float32')"
      ],
      "execution_count": 0,
      "outputs": []
    },
    {
      "cell_type": "markdown",
      "metadata": {
        "id": "MqZeZXxPIA2z",
        "colab_type": "text"
      },
      "source": [
        "##### Normalizing the RGB codes by dividing it to the max RGB value:"
      ]
    },
    {
      "cell_type": "code",
      "metadata": {
        "id": "CoXAh_T2IIsM",
        "colab_type": "code",
        "colab": {}
      },
      "source": [
        "xtrain9 /= 255\n",
        "xtest9 /= 255"
      ],
      "execution_count": 0,
      "outputs": []
    },
    {
      "cell_type": "markdown",
      "metadata": {
        "id": "0OfdlF655sYM",
        "colab_type": "text"
      },
      "source": [
        "### Print shape of data and number of images\n",
        "- print shape of X_train\n",
        "- print number of images in X_train\n",
        "- print number of images in X_test"
      ]
    },
    {
      "cell_type": "code",
      "metadata": {
        "id": "bZEkCQ-P5sYO",
        "colab_type": "code",
        "outputId": "dbf1772c-45de-4e9c-89b0-f2cebb7e24d2",
        "colab": {
          "base_uri": "https://localhost:8080/",
          "height": 153
        }
      },
      "source": [
        "print('xtrain4:', xtrain4.shape)\n",
        "print('ytrain4:', ytrain4.shape)\n",
        "print('xtest4:', xtest4.shape)\n",
        "print('ytest4:', ytest4.shape)\n",
        "print('xtrain9:', xtrain9.shape)\n",
        "print('ytrain9:', ytrain9.shape)\n",
        "print('xtest9:', xtest9.shape)\n",
        "print('ytest9:', ytest9.shape)"
      ],
      "execution_count": 25,
      "outputs": [
        {
          "output_type": "stream",
          "text": [
            "xtrain4: (30596, 28, 28, 1)\n",
            "ytrain4: (30596, 5)\n",
            "xtest4: (5139, 28, 28, 1)\n",
            "ytest4: (5139, 5)\n",
            "xtrain9: (29404, 28, 28, 1)\n",
            "ytrain9: (29404,)\n",
            "xtest9: (4861, 28, 28, 1)\n",
            "ytest9: (4861,)\n"
          ],
          "name": "stdout"
        }
      ]
    },
    {
      "cell_type": "markdown",
      "metadata": {
        "id": "c_3-0Qwo5sYQ",
        "colab_type": "text"
      },
      "source": [
        "### One-hot encode the class vector\n",
        "- convert class vectors (integers) to binary class matrix\n",
        "- convert y_train and y_test\n",
        "- number of classes: 5\n",
        "- we are doing this to use categorical_crossentropy as loss\n",
        "\n",
        "Hint: you can use keras.utils.to_categorical"
      ]
    },
    {
      "cell_type": "code",
      "metadata": {
        "id": "k46Me5Re5sYR",
        "colab_type": "code",
        "colab": {}
      },
      "source": [
        "ytrain9 = keras.utils.to_categorical(ytrain9, num_classes)\n",
        "ytest9 = keras.utils.to_categorical(ytest9, num_classes)"
      ],
      "execution_count": 0,
      "outputs": []
    },
    {
      "cell_type": "markdown",
      "metadata": {
        "id": "D9xEoW515sYS",
        "colab_type": "text"
      },
      "source": [
        "### Fit the model\n",
        "- give train data - features and labels\n",
        "- batch size: 128\n",
        "- epochs: 10\n",
        "- give validation data - features and labels"
      ]
    },
    {
      "cell_type": "markdown",
      "metadata": {
        "id": "IyDa-FkRIOiF",
        "colab_type": "text"
      },
      "source": [
        "##### Setting pre-trained model layers to not trainable:"
      ]
    },
    {
      "cell_type": "code",
      "metadata": {
        "id": "B6f-XAc-5sYT",
        "colab_type": "code",
        "colab": {}
      },
      "source": [
        "for layer in model.layers[:5:]:\n",
        "    layer.trainable = False"
      ],
      "execution_count": 0,
      "outputs": []
    },
    {
      "cell_type": "code",
      "metadata": {
        "id": "GW_u0mi9gWy_",
        "colab_type": "code",
        "outputId": "f8ddd22a-eae2-46fe-f707-92b9149d0552",
        "colab": {
          "base_uri": "https://localhost:8080/",
          "height": 391
        }
      },
      "source": [
        "model.fit(xtrain9, ytrain9, \n",
        "          batch_size=128, nb_epoch=10, verbose=1, validation_data=(xtest9, ytest9))"
      ],
      "execution_count": 28,
      "outputs": [
        {
          "output_type": "stream",
          "text": [
            "Train on 29404 samples, validate on 4861 samples\n",
            "Epoch 1/10\n",
            "29404/29404 [==============================] - 2s 54us/step - loss: 0.5817 - acc: 0.8061 - val_loss: 0.2242 - val_acc: 0.9282\n",
            "Epoch 2/10\n",
            "29404/29404 [==============================] - 1s 51us/step - loss: 0.3162 - acc: 0.8974 - val_loss: 0.1696 - val_acc: 0.9422\n",
            "Epoch 3/10\n",
            "29404/29404 [==============================] - 2s 52us/step - loss: 0.2554 - acc: 0.9176 - val_loss: 0.1462 - val_acc: 0.9496\n",
            "Epoch 4/10\n",
            "29404/29404 [==============================] - 2s 52us/step - loss: 0.2246 - acc: 0.9274 - val_loss: 0.1227 - val_acc: 0.9597\n",
            "Epoch 5/10\n",
            "29404/29404 [==============================] - 2s 52us/step - loss: 0.2107 - acc: 0.9313 - val_loss: 0.1107 - val_acc: 0.9648\n",
            "Epoch 6/10\n",
            "29404/29404 [==============================] - 2s 52us/step - loss: 0.1934 - acc: 0.9381 - val_loss: 0.1057 - val_acc: 0.9650\n",
            "Epoch 7/10\n",
            "29404/29404 [==============================] - 2s 51us/step - loss: 0.1809 - acc: 0.9414 - val_loss: 0.0984 - val_acc: 0.9663\n",
            "Epoch 8/10\n",
            "29404/29404 [==============================] - 1s 51us/step - loss: 0.1713 - acc: 0.9444 - val_loss: 0.0934 - val_acc: 0.9698\n",
            "Epoch 9/10\n",
            "29404/29404 [==============================] - 2s 52us/step - loss: 0.1643 - acc: 0.9460 - val_loss: 0.0874 - val_acc: 0.9714\n",
            "Epoch 10/10\n",
            "29404/29404 [==============================] - 2s 53us/step - loss: 0.1607 - acc: 0.9489 - val_loss: 0.0847 - val_acc: 0.9720\n"
          ],
          "name": "stdout"
        },
        {
          "output_type": "execute_result",
          "data": {
            "text/plain": [
              "<keras.callbacks.History at 0x7f86f414b550>"
            ]
          },
          "metadata": {
            "tags": []
          },
          "execution_count": 28
        }
      ]
    },
    {
      "cell_type": "markdown",
      "metadata": {
        "id": "85ginrII5sYV",
        "colab_type": "text"
      },
      "source": [
        "### Evaluate model\n",
        "- evaluate your model and get accuracy\n",
        "- use test features and labels"
      ]
    },
    {
      "cell_type": "code",
      "metadata": {
        "id": "k11-vrsm5sYW",
        "colab_type": "code",
        "outputId": "b7d8bd9c-04e6-4717-88ba-676fb6f8d2f1",
        "colab": {
          "base_uri": "https://localhost:8080/",
          "height": 1000
        }
      },
      "source": [
        "model.layers[0].get_weights()"
      ],
      "execution_count": 29,
      "outputs": [
        {
          "output_type": "execute_result",
          "data": {
            "text/plain": [
              "[array([[[[ 3.47323865e-02, -1.14489451e-01,  2.05175221e-01,\n",
              "            5.95076308e-02, -1.17891781e-01, -4.86241989e-02,\n",
              "            5.15645109e-02, -9.80258659e-02, -1.08972698e-01,\n",
              "           -8.63013864e-02,  8.89168531e-02,  6.84225112e-02,\n",
              "            5.79895526e-02,  1.46420836e-01, -8.10737833e-02,\n",
              "           -4.03344631e-02,  1.00594029e-01, -7.87255839e-02,\n",
              "            2.03568041e-01, -1.26627892e-01,  2.17707708e-01,\n",
              "            3.29660773e-02,  9.80670750e-02,  1.18199535e-01,\n",
              "           -2.77417619e-02, -1.41061038e-01, -8.13823715e-02,\n",
              "           -5.62811084e-02,  2.35323101e-01, -6.39717653e-02,\n",
              "            1.91732883e-01,  1.24329962e-02]],\n",
              " \n",
              "         [[ 8.94493088e-02,  6.21047392e-02,  2.92801112e-01,\n",
              "            1.52734131e-01, -1.32647559e-01,  1.17673138e-02,\n",
              "            7.07741901e-02,  9.52667147e-02,  2.08780915e-02,\n",
              "           -4.35284805e-03,  1.65182710e-01, -9.43109170e-02,\n",
              "            1.31512344e-01,  4.38886927e-03, -7.47969449e-02,\n",
              "            1.10107504e-01,  1.68784738e-01,  1.24351889e-01,\n",
              "           -1.69548451e-03, -1.35517195e-02,  2.76819885e-01,\n",
              "            2.52903551e-01,  1.07483812e-01,  2.13793769e-01,\n",
              "            2.46115867e-02, -1.38575872e-02,  6.40353039e-02,\n",
              "            1.30867437e-01,  1.27375543e-01,  1.14274219e-01,\n",
              "            3.64908874e-02, -2.45995186e-02]],\n",
              " \n",
              "         [[ 5.87124564e-02,  9.20065790e-02,  3.42762828e-01,\n",
              "            1.20293507e-02,  2.66202167e-02,  8.11117515e-02,\n",
              "           -1.22754723e-01,  1.39320083e-02, -5.11973910e-02,\n",
              "           -8.32095072e-02,  2.69415855e-01, -7.40601197e-02,\n",
              "            5.40493056e-02, -1.09403200e-01, -5.40103838e-02,\n",
              "            8.35327134e-02, -1.06006607e-01,  1.09624065e-01,\n",
              "            1.21868312e-01, -6.08559791e-03,  1.74395964e-01,\n",
              "            1.23964027e-02, -1.00617461e-01,  1.95406169e-01,\n",
              "            8.64051431e-02,  5.90814278e-02, -3.55772488e-02,\n",
              "            4.16146889e-02,  2.71076977e-01, -1.05314061e-01,\n",
              "            1.08768255e-01,  7.41088390e-02]]],\n",
              " \n",
              " \n",
              "        [[[-5.00012524e-02, -5.79152778e-02,  1.96787924e-01,\n",
              "            2.63777256e-01,  5.86480163e-02,  1.01523124e-01,\n",
              "           -9.34456885e-02,  4.53039625e-04, -5.65457977e-02,\n",
              "           -8.43272060e-02,  6.60033524e-02, -9.96506885e-02,\n",
              "            5.91882505e-02,  1.39583230e-01,  5.41459881e-02,\n",
              "            1.47402450e-01,  1.36034712e-01, -5.44974618e-02,\n",
              "            3.09707254e-01, -8.91794115e-02,  1.55271858e-01,\n",
              "            1.17255442e-01,  1.36083812e-01,  1.81185097e-01,\n",
              "           -3.65884975e-04, -1.20476438e-02, -7.42189139e-02,\n",
              "            7.77804330e-02,  2.45694682e-01,  1.28470704e-01,\n",
              "            7.30976462e-02,  1.51602365e-02]],\n",
              " \n",
              "         [[ 4.20183465e-02, -1.29623711e-01,  4.05330837e-01,\n",
              "            9.51766521e-02,  2.69792695e-02,  1.79484516e-01,\n",
              "            5.56813963e-02,  1.96544886e-01, -2.29353737e-02,\n",
              "            1.33754551e-01,  3.34084064e-01, -5.21867834e-02,\n",
              "            1.49079144e-01,  2.90434994e-02, -6.81120381e-02,\n",
              "            1.93758652e-01,  7.27270693e-02, -2.91959569e-02,\n",
              "            1.77444339e-01, -5.28278537e-02,  1.63344949e-01,\n",
              "            1.46777675e-01, -8.79420713e-02,  1.97413206e-01,\n",
              "            6.21659867e-02, -1.88411935e-03,  1.44648358e-01,\n",
              "           -5.35821877e-02,  1.46294951e-01, -8.17156136e-02,\n",
              "           -1.19814701e-01,  6.18104562e-02]],\n",
              " \n",
              "         [[ 5.71074672e-02, -1.02126576e-01,  3.87654901e-01,\n",
              "            2.08139330e-01,  8.69031996e-02,  7.96432346e-02,\n",
              "           -2.65109073e-02,  2.39678830e-01, -3.95096885e-03,\n",
              "            1.06226131e-01,  1.48537323e-01, -1.13992684e-01,\n",
              "           -7.61838034e-02, -4.65633981e-02,  2.81231850e-02,\n",
              "            1.96907401e-01,  8.08224007e-02, -7.82411732e-03,\n",
              "            1.46341417e-02,  1.25394508e-01,  8.72910544e-02,\n",
              "            2.94199169e-01,  6.88896887e-03,  2.10372001e-01,\n",
              "           -5.07010594e-02, -1.03158429e-01, -6.49971366e-02,\n",
              "            9.86151025e-02,  1.62275240e-01, -2.09945496e-02,\n",
              "            6.02977313e-02, -6.09785095e-02]]],\n",
              " \n",
              " \n",
              "        [[[-4.02138308e-02, -9.42845419e-02,  2.05942571e-01,\n",
              "           -4.21008691e-02, -4.02139872e-02, -4.06251438e-02,\n",
              "            1.09632850e-01,  1.01608761e-01, -6.11961707e-02,\n",
              "           -3.71922217e-02,  1.97809279e-01, -5.25819734e-02,\n",
              "            1.36195958e-01,  1.45725355e-01, -3.98077033e-02,\n",
              "            2.30848100e-02,  6.64744303e-02, -1.39004573e-01,\n",
              "            1.90831736e-01,  8.46802518e-02,  5.47721349e-02,\n",
              "            1.23576045e-01,  1.05750039e-01,  1.40189409e-01,\n",
              "           -1.27405316e-01,  8.34837556e-02, -1.11482717e-01,\n",
              "            3.77159170e-03, -6.02857396e-03,  2.98533179e-02,\n",
              "            7.83041343e-02, -7.74318427e-02]],\n",
              " \n",
              "         [[-6.57309890e-02, -9.77073312e-02,  3.13680708e-01,\n",
              "            1.81060344e-01, -2.56842691e-02,  2.05309764e-01,\n",
              "           -9.02643986e-03,  1.03502423e-01, -3.08076125e-02,\n",
              "            1.17722034e-01,  1.64079666e-02,  1.46735847e-01,\n",
              "            1.48300663e-01,  1.93747774e-01,  6.03908263e-02,\n",
              "            2.21395254e-01, -9.03853327e-02,  1.23718135e-01,\n",
              "            1.73829719e-01,  1.05752274e-01,  1.12432860e-01,\n",
              "            2.75570571e-01, -1.78771804e-03, -1.17364237e-02,\n",
              "           -4.50618379e-02, -1.47292599e-01,  5.25893532e-02,\n",
              "           -1.20432712e-01,  1.00172937e-01, -3.18903418e-04,\n",
              "           -6.42724186e-02, -2.59212051e-02]],\n",
              " \n",
              "         [[ 1.31033912e-01,  3.60483937e-02,  1.39890805e-01,\n",
              "            1.86493844e-02, -1.22401811e-01,  8.06776658e-02,\n",
              "           -1.23185016e-01,  1.56059042e-01, -4.66786548e-02,\n",
              "            3.18007171e-02,  1.83735564e-01, -7.64194354e-02,\n",
              "            6.85838098e-03,  5.21579906e-02,  4.74806130e-02,\n",
              "            8.76122266e-02, -6.73549399e-02,  9.81566124e-03,\n",
              "           -5.37047982e-02, -1.23441413e-01, -6.06778003e-02,\n",
              "            1.71177015e-01,  1.16131902e-01,  1.28226474e-01,\n",
              "            2.28248537e-02,  7.41555169e-02,  1.15823768e-01,\n",
              "           -6.13359436e-02,  1.49147317e-01, -5.45253754e-02,\n",
              "           -1.40130818e-01, -5.86650930e-02]]]], dtype=float32),\n",
              " array([ 5.42834052e-04,  1.43704750e-02, -2.87200380e-02, -3.99446161e-03,\n",
              "        -5.13944215e-05, -8.47311516e-04, -1.68389233e-03, -5.63587388e-03,\n",
              "         1.18156120e-01,  1.56185878e-02, -1.66729148e-02,  4.08380590e-02,\n",
              "        -1.51277315e-02, -5.38323680e-03,  5.96918445e-03, -1.02786310e-02,\n",
              "         1.48631027e-02, -9.10248375e-04, -3.66913062e-03, -6.77672506e-05,\n",
              "        -1.85242423e-03, -7.72018451e-03, -1.82180312e-02, -1.23137673e-02,\n",
              "         6.51063863e-03,  2.00722553e-02,  1.43638803e-02,  2.36010253e-02,\n",
              "        -1.00454530e-02,  3.78369428e-02,  4.60149236e-02,  4.02791798e-02],\n",
              "       dtype=float32)]"
            ]
          },
          "metadata": {
            "tags": []
          },
          "execution_count": 29
        }
      ]
    },
    {
      "cell_type": "code",
      "metadata": {
        "id": "M4pjijx3hJ4R",
        "colab_type": "code",
        "outputId": "eca65145-7d68-482b-d2a4-a46a277be243",
        "colab": {
          "base_uri": "https://localhost:8080/",
          "height": 1000
        }
      },
      "source": [
        "model.layers[0].get_weights()"
      ],
      "execution_count": 30,
      "outputs": [
        {
          "output_type": "execute_result",
          "data": {
            "text/plain": [
              "[array([[[[ 3.47323865e-02, -1.14489451e-01,  2.05175221e-01,\n",
              "            5.95076308e-02, -1.17891781e-01, -4.86241989e-02,\n",
              "            5.15645109e-02, -9.80258659e-02, -1.08972698e-01,\n",
              "           -8.63013864e-02,  8.89168531e-02,  6.84225112e-02,\n",
              "            5.79895526e-02,  1.46420836e-01, -8.10737833e-02,\n",
              "           -4.03344631e-02,  1.00594029e-01, -7.87255839e-02,\n",
              "            2.03568041e-01, -1.26627892e-01,  2.17707708e-01,\n",
              "            3.29660773e-02,  9.80670750e-02,  1.18199535e-01,\n",
              "           -2.77417619e-02, -1.41061038e-01, -8.13823715e-02,\n",
              "           -5.62811084e-02,  2.35323101e-01, -6.39717653e-02,\n",
              "            1.91732883e-01,  1.24329962e-02]],\n",
              " \n",
              "         [[ 8.94493088e-02,  6.21047392e-02,  2.92801112e-01,\n",
              "            1.52734131e-01, -1.32647559e-01,  1.17673138e-02,\n",
              "            7.07741901e-02,  9.52667147e-02,  2.08780915e-02,\n",
              "           -4.35284805e-03,  1.65182710e-01, -9.43109170e-02,\n",
              "            1.31512344e-01,  4.38886927e-03, -7.47969449e-02,\n",
              "            1.10107504e-01,  1.68784738e-01,  1.24351889e-01,\n",
              "           -1.69548451e-03, -1.35517195e-02,  2.76819885e-01,\n",
              "            2.52903551e-01,  1.07483812e-01,  2.13793769e-01,\n",
              "            2.46115867e-02, -1.38575872e-02,  6.40353039e-02,\n",
              "            1.30867437e-01,  1.27375543e-01,  1.14274219e-01,\n",
              "            3.64908874e-02, -2.45995186e-02]],\n",
              " \n",
              "         [[ 5.87124564e-02,  9.20065790e-02,  3.42762828e-01,\n",
              "            1.20293507e-02,  2.66202167e-02,  8.11117515e-02,\n",
              "           -1.22754723e-01,  1.39320083e-02, -5.11973910e-02,\n",
              "           -8.32095072e-02,  2.69415855e-01, -7.40601197e-02,\n",
              "            5.40493056e-02, -1.09403200e-01, -5.40103838e-02,\n",
              "            8.35327134e-02, -1.06006607e-01,  1.09624065e-01,\n",
              "            1.21868312e-01, -6.08559791e-03,  1.74395964e-01,\n",
              "            1.23964027e-02, -1.00617461e-01,  1.95406169e-01,\n",
              "            8.64051431e-02,  5.90814278e-02, -3.55772488e-02,\n",
              "            4.16146889e-02,  2.71076977e-01, -1.05314061e-01,\n",
              "            1.08768255e-01,  7.41088390e-02]]],\n",
              " \n",
              " \n",
              "        [[[-5.00012524e-02, -5.79152778e-02,  1.96787924e-01,\n",
              "            2.63777256e-01,  5.86480163e-02,  1.01523124e-01,\n",
              "           -9.34456885e-02,  4.53039625e-04, -5.65457977e-02,\n",
              "           -8.43272060e-02,  6.60033524e-02, -9.96506885e-02,\n",
              "            5.91882505e-02,  1.39583230e-01,  5.41459881e-02,\n",
              "            1.47402450e-01,  1.36034712e-01, -5.44974618e-02,\n",
              "            3.09707254e-01, -8.91794115e-02,  1.55271858e-01,\n",
              "            1.17255442e-01,  1.36083812e-01,  1.81185097e-01,\n",
              "           -3.65884975e-04, -1.20476438e-02, -7.42189139e-02,\n",
              "            7.77804330e-02,  2.45694682e-01,  1.28470704e-01,\n",
              "            7.30976462e-02,  1.51602365e-02]],\n",
              " \n",
              "         [[ 4.20183465e-02, -1.29623711e-01,  4.05330837e-01,\n",
              "            9.51766521e-02,  2.69792695e-02,  1.79484516e-01,\n",
              "            5.56813963e-02,  1.96544886e-01, -2.29353737e-02,\n",
              "            1.33754551e-01,  3.34084064e-01, -5.21867834e-02,\n",
              "            1.49079144e-01,  2.90434994e-02, -6.81120381e-02,\n",
              "            1.93758652e-01,  7.27270693e-02, -2.91959569e-02,\n",
              "            1.77444339e-01, -5.28278537e-02,  1.63344949e-01,\n",
              "            1.46777675e-01, -8.79420713e-02,  1.97413206e-01,\n",
              "            6.21659867e-02, -1.88411935e-03,  1.44648358e-01,\n",
              "           -5.35821877e-02,  1.46294951e-01, -8.17156136e-02,\n",
              "           -1.19814701e-01,  6.18104562e-02]],\n",
              " \n",
              "         [[ 5.71074672e-02, -1.02126576e-01,  3.87654901e-01,\n",
              "            2.08139330e-01,  8.69031996e-02,  7.96432346e-02,\n",
              "           -2.65109073e-02,  2.39678830e-01, -3.95096885e-03,\n",
              "            1.06226131e-01,  1.48537323e-01, -1.13992684e-01,\n",
              "           -7.61838034e-02, -4.65633981e-02,  2.81231850e-02,\n",
              "            1.96907401e-01,  8.08224007e-02, -7.82411732e-03,\n",
              "            1.46341417e-02,  1.25394508e-01,  8.72910544e-02,\n",
              "            2.94199169e-01,  6.88896887e-03,  2.10372001e-01,\n",
              "           -5.07010594e-02, -1.03158429e-01, -6.49971366e-02,\n",
              "            9.86151025e-02,  1.62275240e-01, -2.09945496e-02,\n",
              "            6.02977313e-02, -6.09785095e-02]]],\n",
              " \n",
              " \n",
              "        [[[-4.02138308e-02, -9.42845419e-02,  2.05942571e-01,\n",
              "           -4.21008691e-02, -4.02139872e-02, -4.06251438e-02,\n",
              "            1.09632850e-01,  1.01608761e-01, -6.11961707e-02,\n",
              "           -3.71922217e-02,  1.97809279e-01, -5.25819734e-02,\n",
              "            1.36195958e-01,  1.45725355e-01, -3.98077033e-02,\n",
              "            2.30848100e-02,  6.64744303e-02, -1.39004573e-01,\n",
              "            1.90831736e-01,  8.46802518e-02,  5.47721349e-02,\n",
              "            1.23576045e-01,  1.05750039e-01,  1.40189409e-01,\n",
              "           -1.27405316e-01,  8.34837556e-02, -1.11482717e-01,\n",
              "            3.77159170e-03, -6.02857396e-03,  2.98533179e-02,\n",
              "            7.83041343e-02, -7.74318427e-02]],\n",
              " \n",
              "         [[-6.57309890e-02, -9.77073312e-02,  3.13680708e-01,\n",
              "            1.81060344e-01, -2.56842691e-02,  2.05309764e-01,\n",
              "           -9.02643986e-03,  1.03502423e-01, -3.08076125e-02,\n",
              "            1.17722034e-01,  1.64079666e-02,  1.46735847e-01,\n",
              "            1.48300663e-01,  1.93747774e-01,  6.03908263e-02,\n",
              "            2.21395254e-01, -9.03853327e-02,  1.23718135e-01,\n",
              "            1.73829719e-01,  1.05752274e-01,  1.12432860e-01,\n",
              "            2.75570571e-01, -1.78771804e-03, -1.17364237e-02,\n",
              "           -4.50618379e-02, -1.47292599e-01,  5.25893532e-02,\n",
              "           -1.20432712e-01,  1.00172937e-01, -3.18903418e-04,\n",
              "           -6.42724186e-02, -2.59212051e-02]],\n",
              " \n",
              "         [[ 1.31033912e-01,  3.60483937e-02,  1.39890805e-01,\n",
              "            1.86493844e-02, -1.22401811e-01,  8.06776658e-02,\n",
              "           -1.23185016e-01,  1.56059042e-01, -4.66786548e-02,\n",
              "            3.18007171e-02,  1.83735564e-01, -7.64194354e-02,\n",
              "            6.85838098e-03,  5.21579906e-02,  4.74806130e-02,\n",
              "            8.76122266e-02, -6.73549399e-02,  9.81566124e-03,\n",
              "           -5.37047982e-02, -1.23441413e-01, -6.06778003e-02,\n",
              "            1.71177015e-01,  1.16131902e-01,  1.28226474e-01,\n",
              "            2.28248537e-02,  7.41555169e-02,  1.15823768e-01,\n",
              "           -6.13359436e-02,  1.49147317e-01, -5.45253754e-02,\n",
              "           -1.40130818e-01, -5.86650930e-02]]]], dtype=float32),\n",
              " array([ 5.42834052e-04,  1.43704750e-02, -2.87200380e-02, -3.99446161e-03,\n",
              "        -5.13944215e-05, -8.47311516e-04, -1.68389233e-03, -5.63587388e-03,\n",
              "         1.18156120e-01,  1.56185878e-02, -1.66729148e-02,  4.08380590e-02,\n",
              "        -1.51277315e-02, -5.38323680e-03,  5.96918445e-03, -1.02786310e-02,\n",
              "         1.48631027e-02, -9.10248375e-04, -3.66913062e-03, -6.77672506e-05,\n",
              "        -1.85242423e-03, -7.72018451e-03, -1.82180312e-02, -1.23137673e-02,\n",
              "         6.51063863e-03,  2.00722553e-02,  1.43638803e-02,  2.36010253e-02,\n",
              "        -1.00454530e-02,  3.78369428e-02,  4.60149236e-02,  4.02791798e-02],\n",
              "       dtype=float32)]"
            ]
          },
          "metadata": {
            "tags": []
          },
          "execution_count": 30
        }
      ]
    },
    {
      "cell_type": "markdown",
      "metadata": {
        "id": "ZzOzTQ3cIgX2",
        "colab_type": "text"
      },
      "source": [
        "##### Final evaluation of the model."
      ]
    },
    {
      "cell_type": "code",
      "metadata": {
        "id": "FOvMkMWyhSUe",
        "colab_type": "code",
        "outputId": "265a2c63-b6f3-4b3a-a89e-e8eb96e29b8a",
        "colab": {
          "base_uri": "https://localhost:8080/",
          "height": 34
        }
      },
      "source": [
        "scores = model.evaluate(xtest9, ytest9, verbose=0)\n",
        "print(\"scores: \", scores, \" Baseline Error: %.2f%%\" % (100-scores[1]*100))"
      ],
      "execution_count": 31,
      "outputs": [
        {
          "output_type": "stream",
          "text": [
            "scores:  [0.0847136354170827, 0.9720222175403329]  Baseline Error: 2.80%\n"
          ],
          "name": "stdout"
        }
      ]
    },
    {
      "cell_type": "markdown",
      "metadata": {
        "id": "dTNhSDqn5sYY",
        "colab_type": "text"
      },
      "source": [
        "-----------------------------------------------------------------------------"
      ]
    },
    {
      "cell_type": "markdown",
      "metadata": {
        "colab_type": "text",
        "id": "FU-HwvIdH0M-"
      },
      "source": [
        "# Sentiment analysis \n",
        "\n",
        "The objective of the second problem is to perform Sentiment analysis from the tweets collected from the users targeted at various mobile devices.\n",
        "Based on the tweet posted by a user (text), we will classify if the sentiment of the user targeted at a particular mobile device is positive or not."
      ]
    },
    {
      "cell_type": "markdown",
      "metadata": {
        "id": "aIWWfNks5sYa",
        "colab_type": "text"
      },
      "source": [
        "## Question 1"
      ]
    },
    {
      "cell_type": "markdown",
      "metadata": {
        "colab_type": "text",
        "id": "nAQDiZHRH0M_"
      },
      "source": [
        "### Read the data\n",
        "- read tweets.csv\n",
        "- use latin encoding if it gives encoding error while loading"
      ]
    },
    {
      "cell_type": "code",
      "metadata": {
        "colab_type": "code",
        "id": "3eXGIe-SH0NA",
        "outputId": "250f3641-9704-4dd8-d036-cbdf58983242",
        "colab": {
          "base_uri": "https://localhost:8080/",
          "height": 122
        }
      },
      "source": [
        "from google.colab import drive\n",
        "drive.mount('/content/drive')\n",
        "\n",
        "import pandas as pd\n",
        "\n",
        "data = pd.read_csv('/content/drive/My Drive/AIML/8thResidency/InternalLab/tweets.csv',encoding ='latin1')"
      ],
      "execution_count": 32,
      "outputs": [
        {
          "output_type": "stream",
          "text": [
            "Go to this URL in a browser: https://accounts.google.com/o/oauth2/auth?client_id=947318989803-6bn6qk8qdgf4n4g3pfee6491hc0brc4i.apps.googleusercontent.com&redirect_uri=urn%3Aietf%3Awg%3Aoauth%3A2.0%3Aoob&scope=email%20https%3A%2F%2Fwww.googleapis.com%2Fauth%2Fdocs.test%20https%3A%2F%2Fwww.googleapis.com%2Fauth%2Fdrive%20https%3A%2F%2Fwww.googleapis.com%2Fauth%2Fdrive.photos.readonly%20https%3A%2F%2Fwww.googleapis.com%2Fauth%2Fpeopleapi.readonly&response_type=code\n",
            "\n",
            "Enter your authorization code:\n",
            "··········\n",
            "Mounted at /content/drive\n"
          ],
          "name": "stdout"
        }
      ]
    },
    {
      "cell_type": "markdown",
      "metadata": {
        "id": "39pqw0aE5sYe",
        "colab_type": "text"
      },
      "source": [
        "### Drop null values\n",
        "- drop all the rows with null values"
      ]
    },
    {
      "cell_type": "code",
      "metadata": {
        "id": "BF_69oyI5sYf",
        "colab_type": "code",
        "outputId": "6adf28bc-0b71-4dda-ab88-8172e708d955",
        "colab": {
          "base_uri": "https://localhost:8080/",
          "height": 34
        }
      },
      "source": [
        "data.isnull().values.any()"
      ],
      "execution_count": 33,
      "outputs": [
        {
          "output_type": "execute_result",
          "data": {
            "text/plain": [
              "True"
            ]
          },
          "metadata": {
            "tags": []
          },
          "execution_count": 33
        }
      ]
    },
    {
      "cell_type": "code",
      "metadata": {
        "id": "5Cs0QdkMjIMj",
        "colab_type": "code",
        "outputId": "7dfe5ea4-f135-4130-85b7-944a3cf90c56",
        "colab": {
          "base_uri": "https://localhost:8080/",
          "height": 34
        }
      },
      "source": [
        "data.isna().values.any()"
      ],
      "execution_count": 34,
      "outputs": [
        {
          "output_type": "execute_result",
          "data": {
            "text/plain": [
              "True"
            ]
          },
          "metadata": {
            "tags": []
          },
          "execution_count": 34
        }
      ]
    },
    {
      "cell_type": "code",
      "metadata": {
        "id": "qpfZyWiqjL48",
        "colab_type": "code",
        "colab": {}
      },
      "source": [
        "data = data.dropna()"
      ],
      "execution_count": 0,
      "outputs": []
    },
    {
      "cell_type": "code",
      "metadata": {
        "id": "AK-4dRUIjQGn",
        "colab_type": "code",
        "outputId": "5633498d-583d-44ef-9ef7-29927d29cb0d",
        "colab": {
          "base_uri": "https://localhost:8080/",
          "height": 34
        }
      },
      "source": [
        "data.isnull().values.any()"
      ],
      "execution_count": 36,
      "outputs": [
        {
          "output_type": "execute_result",
          "data": {
            "text/plain": [
              "False"
            ]
          },
          "metadata": {
            "tags": []
          },
          "execution_count": 36
        }
      ]
    },
    {
      "cell_type": "markdown",
      "metadata": {
        "id": "0bm4bDiy5sYg",
        "colab_type": "text"
      },
      "source": [
        "### Print the dataframe\n",
        "- print initial 5 rows of the data\n",
        "- use df.head()"
      ]
    },
    {
      "cell_type": "code",
      "metadata": {
        "scrolled": true,
        "id": "ceSlvAVa5sYh",
        "colab_type": "code",
        "outputId": "973e6c0f-05b5-4083-ea11-c8bf1ee5b9ac",
        "colab": {
          "base_uri": "https://localhost:8080/",
          "height": 204
        }
      },
      "source": [
        "data.head(5)"
      ],
      "execution_count": 37,
      "outputs": [
        {
          "output_type": "execute_result",
          "data": {
            "text/html": [
              "<div>\n",
              "<style scoped>\n",
              "    .dataframe tbody tr th:only-of-type {\n",
              "        vertical-align: middle;\n",
              "    }\n",
              "\n",
              "    .dataframe tbody tr th {\n",
              "        vertical-align: top;\n",
              "    }\n",
              "\n",
              "    .dataframe thead th {\n",
              "        text-align: right;\n",
              "    }\n",
              "</style>\n",
              "<table border=\"1\" class=\"dataframe\">\n",
              "  <thead>\n",
              "    <tr style=\"text-align: right;\">\n",
              "      <th></th>\n",
              "      <th>tweet_text</th>\n",
              "      <th>emotion_in_tweet_is_directed_at</th>\n",
              "      <th>is_there_an_emotion_directed_at_a_brand_or_product</th>\n",
              "    </tr>\n",
              "  </thead>\n",
              "  <tbody>\n",
              "    <tr>\n",
              "      <th>0</th>\n",
              "      <td>.@wesley83 I have a 3G iPhone. After 3 hrs twe...</td>\n",
              "      <td>iPhone</td>\n",
              "      <td>Negative emotion</td>\n",
              "    </tr>\n",
              "    <tr>\n",
              "      <th>1</th>\n",
              "      <td>@jessedee Know about @fludapp ? Awesome iPad/i...</td>\n",
              "      <td>iPad or iPhone App</td>\n",
              "      <td>Positive emotion</td>\n",
              "    </tr>\n",
              "    <tr>\n",
              "      <th>2</th>\n",
              "      <td>@swonderlin Can not wait for #iPad 2 also. The...</td>\n",
              "      <td>iPad</td>\n",
              "      <td>Positive emotion</td>\n",
              "    </tr>\n",
              "    <tr>\n",
              "      <th>3</th>\n",
              "      <td>@sxsw I hope this year's festival isn't as cra...</td>\n",
              "      <td>iPad or iPhone App</td>\n",
              "      <td>Negative emotion</td>\n",
              "    </tr>\n",
              "    <tr>\n",
              "      <th>4</th>\n",
              "      <td>@sxtxstate great stuff on Fri #SXSW: Marissa M...</td>\n",
              "      <td>Google</td>\n",
              "      <td>Positive emotion</td>\n",
              "    </tr>\n",
              "  </tbody>\n",
              "</table>\n",
              "</div>"
            ],
            "text/plain": [
              "                                          tweet_text  ... is_there_an_emotion_directed_at_a_brand_or_product\n",
              "0  .@wesley83 I have a 3G iPhone. After 3 hrs twe...  ...                                   Negative emotion\n",
              "1  @jessedee Know about @fludapp ? Awesome iPad/i...  ...                                   Positive emotion\n",
              "2  @swonderlin Can not wait for #iPad 2 also. The...  ...                                   Positive emotion\n",
              "3  @sxsw I hope this year's festival isn't as cra...  ...                                   Negative emotion\n",
              "4  @sxtxstate great stuff on Fri #SXSW: Marissa M...  ...                                   Positive emotion\n",
              "\n",
              "[5 rows x 3 columns]"
            ]
          },
          "metadata": {
            "tags": []
          },
          "execution_count": 37
        }
      ]
    },
    {
      "cell_type": "markdown",
      "metadata": {
        "id": "jcWfPVqG5sYi",
        "colab_type": "text"
      },
      "source": [
        "## Question 2"
      ]
    },
    {
      "cell_type": "markdown",
      "metadata": {
        "id": "JBbAeip_5sYj",
        "colab_type": "text"
      },
      "source": [
        "### Preprocess data\n",
        "- convert all text to lowercase - use .lower()\n",
        "- select only numbers, alphabets, and #+_ from text - use re.sub()\n",
        "- strip all the text - use .strip()\n",
        "    - this is for removing extra spaces"
      ]
    },
    {
      "cell_type": "code",
      "metadata": {
        "id": "PE4Bn_YT5sYj",
        "colab_type": "code",
        "colab": {}
      },
      "source": [
        "data['tweet_text'] = data['tweet_text'].str.lower()"
      ],
      "execution_count": 0,
      "outputs": []
    },
    {
      "cell_type": "markdown",
      "metadata": {
        "id": "QlMvbtrK5sYl",
        "colab_type": "text"
      },
      "source": [
        "print dataframe"
      ]
    },
    {
      "cell_type": "code",
      "metadata": {
        "id": "afocjaUn5sYm",
        "colab_type": "code",
        "outputId": "c40c7a80-bcf9-4717-e32c-14673756fc68",
        "colab": {
          "base_uri": "https://localhost:8080/",
          "height": 204
        }
      },
      "source": [
        "data.head(5)"
      ],
      "execution_count": 39,
      "outputs": [
        {
          "output_type": "execute_result",
          "data": {
            "text/html": [
              "<div>\n",
              "<style scoped>\n",
              "    .dataframe tbody tr th:only-of-type {\n",
              "        vertical-align: middle;\n",
              "    }\n",
              "\n",
              "    .dataframe tbody tr th {\n",
              "        vertical-align: top;\n",
              "    }\n",
              "\n",
              "    .dataframe thead th {\n",
              "        text-align: right;\n",
              "    }\n",
              "</style>\n",
              "<table border=\"1\" class=\"dataframe\">\n",
              "  <thead>\n",
              "    <tr style=\"text-align: right;\">\n",
              "      <th></th>\n",
              "      <th>tweet_text</th>\n",
              "      <th>emotion_in_tweet_is_directed_at</th>\n",
              "      <th>is_there_an_emotion_directed_at_a_brand_or_product</th>\n",
              "    </tr>\n",
              "  </thead>\n",
              "  <tbody>\n",
              "    <tr>\n",
              "      <th>0</th>\n",
              "      <td>.@wesley83 i have a 3g iphone. after 3 hrs twe...</td>\n",
              "      <td>iPhone</td>\n",
              "      <td>Negative emotion</td>\n",
              "    </tr>\n",
              "    <tr>\n",
              "      <th>1</th>\n",
              "      <td>@jessedee know about @fludapp ? awesome ipad/i...</td>\n",
              "      <td>iPad or iPhone App</td>\n",
              "      <td>Positive emotion</td>\n",
              "    </tr>\n",
              "    <tr>\n",
              "      <th>2</th>\n",
              "      <td>@swonderlin can not wait for #ipad 2 also. the...</td>\n",
              "      <td>iPad</td>\n",
              "      <td>Positive emotion</td>\n",
              "    </tr>\n",
              "    <tr>\n",
              "      <th>3</th>\n",
              "      <td>@sxsw i hope this year's festival isn't as cra...</td>\n",
              "      <td>iPad or iPhone App</td>\n",
              "      <td>Negative emotion</td>\n",
              "    </tr>\n",
              "    <tr>\n",
              "      <th>4</th>\n",
              "      <td>@sxtxstate great stuff on fri #sxsw: marissa m...</td>\n",
              "      <td>Google</td>\n",
              "      <td>Positive emotion</td>\n",
              "    </tr>\n",
              "  </tbody>\n",
              "</table>\n",
              "</div>"
            ],
            "text/plain": [
              "                                          tweet_text  ... is_there_an_emotion_directed_at_a_brand_or_product\n",
              "0  .@wesley83 i have a 3g iphone. after 3 hrs twe...  ...                                   Negative emotion\n",
              "1  @jessedee know about @fludapp ? awesome ipad/i...  ...                                   Positive emotion\n",
              "2  @swonderlin can not wait for #ipad 2 also. the...  ...                                   Positive emotion\n",
              "3  @sxsw i hope this year's festival isn't as cra...  ...                                   Negative emotion\n",
              "4  @sxtxstate great stuff on fri #sxsw: marissa m...  ...                                   Positive emotion\n",
              "\n",
              "[5 rows x 3 columns]"
            ]
          },
          "metadata": {
            "tags": []
          },
          "execution_count": 39
        }
      ]
    },
    {
      "cell_type": "code",
      "metadata": {
        "id": "3g_OccgqkKT7",
        "colab_type": "code",
        "outputId": "6600813c-6fd8-4ccf-c2a1-650ef4a6adfd",
        "colab": {
          "base_uri": "https://localhost:8080/",
          "height": 204
        }
      },
      "source": [
        "import re\n",
        "data = data.applymap(lambda x: re.sub(r\"[^0-9A-Za-z#+_ ]+\",\"\",x))\n",
        "data.head(5)"
      ],
      "execution_count": 40,
      "outputs": [
        {
          "output_type": "execute_result",
          "data": {
            "text/html": [
              "<div>\n",
              "<style scoped>\n",
              "    .dataframe tbody tr th:only-of-type {\n",
              "        vertical-align: middle;\n",
              "    }\n",
              "\n",
              "    .dataframe tbody tr th {\n",
              "        vertical-align: top;\n",
              "    }\n",
              "\n",
              "    .dataframe thead th {\n",
              "        text-align: right;\n",
              "    }\n",
              "</style>\n",
              "<table border=\"1\" class=\"dataframe\">\n",
              "  <thead>\n",
              "    <tr style=\"text-align: right;\">\n",
              "      <th></th>\n",
              "      <th>tweet_text</th>\n",
              "      <th>emotion_in_tweet_is_directed_at</th>\n",
              "      <th>is_there_an_emotion_directed_at_a_brand_or_product</th>\n",
              "    </tr>\n",
              "  </thead>\n",
              "  <tbody>\n",
              "    <tr>\n",
              "      <th>0</th>\n",
              "      <td>wesley83 i have a 3g iphone after 3 hrs tweeti...</td>\n",
              "      <td>iPhone</td>\n",
              "      <td>Negative emotion</td>\n",
              "    </tr>\n",
              "    <tr>\n",
              "      <th>1</th>\n",
              "      <td>jessedee know about fludapp  awesome ipadiphon...</td>\n",
              "      <td>iPad or iPhone App</td>\n",
              "      <td>Positive emotion</td>\n",
              "    </tr>\n",
              "    <tr>\n",
              "      <th>2</th>\n",
              "      <td>swonderlin can not wait for #ipad 2 also they ...</td>\n",
              "      <td>iPad</td>\n",
              "      <td>Positive emotion</td>\n",
              "    </tr>\n",
              "    <tr>\n",
              "      <th>3</th>\n",
              "      <td>sxsw i hope this years festival isnt as crashy...</td>\n",
              "      <td>iPad or iPhone App</td>\n",
              "      <td>Negative emotion</td>\n",
              "    </tr>\n",
              "    <tr>\n",
              "      <th>4</th>\n",
              "      <td>sxtxstate great stuff on fri #sxsw marissa may...</td>\n",
              "      <td>Google</td>\n",
              "      <td>Positive emotion</td>\n",
              "    </tr>\n",
              "  </tbody>\n",
              "</table>\n",
              "</div>"
            ],
            "text/plain": [
              "                                          tweet_text  ... is_there_an_emotion_directed_at_a_brand_or_product\n",
              "0  wesley83 i have a 3g iphone after 3 hrs tweeti...  ...                                   Negative emotion\n",
              "1  jessedee know about fludapp  awesome ipadiphon...  ...                                   Positive emotion\n",
              "2  swonderlin can not wait for #ipad 2 also they ...  ...                                   Positive emotion\n",
              "3  sxsw i hope this years festival isnt as crashy...  ...                                   Negative emotion\n",
              "4  sxtxstate great stuff on fri #sxsw marissa may...  ...                                   Positive emotion\n",
              "\n",
              "[5 rows x 3 columns]"
            ]
          },
          "metadata": {
            "tags": []
          },
          "execution_count": 40
        }
      ]
    },
    {
      "cell_type": "code",
      "metadata": {
        "id": "9OBM04mWk6Ep",
        "colab_type": "code",
        "outputId": "1ff5402d-6540-4557-b025-78c0d87eeb14",
        "colab": {
          "base_uri": "https://localhost:8080/",
          "height": 204
        }
      },
      "source": [
        "data.tweet_text = data.tweet_text.str.strip()\n",
        "data.head(5)"
      ],
      "execution_count": 41,
      "outputs": [
        {
          "output_type": "execute_result",
          "data": {
            "text/html": [
              "<div>\n",
              "<style scoped>\n",
              "    .dataframe tbody tr th:only-of-type {\n",
              "        vertical-align: middle;\n",
              "    }\n",
              "\n",
              "    .dataframe tbody tr th {\n",
              "        vertical-align: top;\n",
              "    }\n",
              "\n",
              "    .dataframe thead th {\n",
              "        text-align: right;\n",
              "    }\n",
              "</style>\n",
              "<table border=\"1\" class=\"dataframe\">\n",
              "  <thead>\n",
              "    <tr style=\"text-align: right;\">\n",
              "      <th></th>\n",
              "      <th>tweet_text</th>\n",
              "      <th>emotion_in_tweet_is_directed_at</th>\n",
              "      <th>is_there_an_emotion_directed_at_a_brand_or_product</th>\n",
              "    </tr>\n",
              "  </thead>\n",
              "  <tbody>\n",
              "    <tr>\n",
              "      <th>0</th>\n",
              "      <td>wesley83 i have a 3g iphone after 3 hrs tweeti...</td>\n",
              "      <td>iPhone</td>\n",
              "      <td>Negative emotion</td>\n",
              "    </tr>\n",
              "    <tr>\n",
              "      <th>1</th>\n",
              "      <td>jessedee know about fludapp  awesome ipadiphon...</td>\n",
              "      <td>iPad or iPhone App</td>\n",
              "      <td>Positive emotion</td>\n",
              "    </tr>\n",
              "    <tr>\n",
              "      <th>2</th>\n",
              "      <td>swonderlin can not wait for #ipad 2 also they ...</td>\n",
              "      <td>iPad</td>\n",
              "      <td>Positive emotion</td>\n",
              "    </tr>\n",
              "    <tr>\n",
              "      <th>3</th>\n",
              "      <td>sxsw i hope this years festival isnt as crashy...</td>\n",
              "      <td>iPad or iPhone App</td>\n",
              "      <td>Negative emotion</td>\n",
              "    </tr>\n",
              "    <tr>\n",
              "      <th>4</th>\n",
              "      <td>sxtxstate great stuff on fri #sxsw marissa may...</td>\n",
              "      <td>Google</td>\n",
              "      <td>Positive emotion</td>\n",
              "    </tr>\n",
              "  </tbody>\n",
              "</table>\n",
              "</div>"
            ],
            "text/plain": [
              "                                          tweet_text  ... is_there_an_emotion_directed_at_a_brand_or_product\n",
              "0  wesley83 i have a 3g iphone after 3 hrs tweeti...  ...                                   Negative emotion\n",
              "1  jessedee know about fludapp  awesome ipadiphon...  ...                                   Positive emotion\n",
              "2  swonderlin can not wait for #ipad 2 also they ...  ...                                   Positive emotion\n",
              "3  sxsw i hope this years festival isnt as crashy...  ...                                   Negative emotion\n",
              "4  sxtxstate great stuff on fri #sxsw marissa may...  ...                                   Positive emotion\n",
              "\n",
              "[5 rows x 3 columns]"
            ]
          },
          "metadata": {
            "tags": []
          },
          "execution_count": 41
        }
      ]
    },
    {
      "cell_type": "markdown",
      "metadata": {
        "id": "bcTUnvtg5sYn",
        "colab_type": "text"
      },
      "source": [
        "## Question 3"
      ]
    },
    {
      "cell_type": "markdown",
      "metadata": {
        "id": "4gnaeSXZ5sYo",
        "colab_type": "text"
      },
      "source": [
        "### Preprocess data\n",
        "- in column \"is_there_an_emotion_directed_at_a_brand_or_product\"\n",
        "    - select only those rows where value equal to \"positive emotion\" or \"negative emotion\"\n",
        "- find the value counts of \"positive emotion\" and \"negative emotion\""
      ]
    },
    {
      "cell_type": "code",
      "metadata": {
        "id": "nLewJh_35sYp",
        "colab_type": "code",
        "colab": {}
      },
      "source": [
        "col = 'is_there_an_emotion_directed_at_a_brand_or_product'"
      ],
      "execution_count": 0,
      "outputs": []
    },
    {
      "cell_type": "code",
      "metadata": {
        "id": "3VFYB4eh5sYr",
        "colab_type": "code",
        "colab": {}
      },
      "source": [
        "data = data[(data[col] == 'Negative emotion') | (data[col] == 'Positive emotion')]"
      ],
      "execution_count": 0,
      "outputs": []
    },
    {
      "cell_type": "code",
      "metadata": {
        "id": "Zn5X46bslpr3",
        "colab_type": "code",
        "outputId": "86a25e15-f811-456f-b462-7abae8906832",
        "colab": {
          "base_uri": "https://localhost:8080/",
          "height": 204
        }
      },
      "source": [
        "data.head()"
      ],
      "execution_count": 44,
      "outputs": [
        {
          "output_type": "execute_result",
          "data": {
            "text/html": [
              "<div>\n",
              "<style scoped>\n",
              "    .dataframe tbody tr th:only-of-type {\n",
              "        vertical-align: middle;\n",
              "    }\n",
              "\n",
              "    .dataframe tbody tr th {\n",
              "        vertical-align: top;\n",
              "    }\n",
              "\n",
              "    .dataframe thead th {\n",
              "        text-align: right;\n",
              "    }\n",
              "</style>\n",
              "<table border=\"1\" class=\"dataframe\">\n",
              "  <thead>\n",
              "    <tr style=\"text-align: right;\">\n",
              "      <th></th>\n",
              "      <th>tweet_text</th>\n",
              "      <th>emotion_in_tweet_is_directed_at</th>\n",
              "      <th>is_there_an_emotion_directed_at_a_brand_or_product</th>\n",
              "    </tr>\n",
              "  </thead>\n",
              "  <tbody>\n",
              "    <tr>\n",
              "      <th>0</th>\n",
              "      <td>wesley83 i have a 3g iphone after 3 hrs tweeti...</td>\n",
              "      <td>iPhone</td>\n",
              "      <td>Negative emotion</td>\n",
              "    </tr>\n",
              "    <tr>\n",
              "      <th>1</th>\n",
              "      <td>jessedee know about fludapp  awesome ipadiphon...</td>\n",
              "      <td>iPad or iPhone App</td>\n",
              "      <td>Positive emotion</td>\n",
              "    </tr>\n",
              "    <tr>\n",
              "      <th>2</th>\n",
              "      <td>swonderlin can not wait for #ipad 2 also they ...</td>\n",
              "      <td>iPad</td>\n",
              "      <td>Positive emotion</td>\n",
              "    </tr>\n",
              "    <tr>\n",
              "      <th>3</th>\n",
              "      <td>sxsw i hope this years festival isnt as crashy...</td>\n",
              "      <td>iPad or iPhone App</td>\n",
              "      <td>Negative emotion</td>\n",
              "    </tr>\n",
              "    <tr>\n",
              "      <th>4</th>\n",
              "      <td>sxtxstate great stuff on fri #sxsw marissa may...</td>\n",
              "      <td>Google</td>\n",
              "      <td>Positive emotion</td>\n",
              "    </tr>\n",
              "  </tbody>\n",
              "</table>\n",
              "</div>"
            ],
            "text/plain": [
              "                                          tweet_text  ... is_there_an_emotion_directed_at_a_brand_or_product\n",
              "0  wesley83 i have a 3g iphone after 3 hrs tweeti...  ...                                   Negative emotion\n",
              "1  jessedee know about fludapp  awesome ipadiphon...  ...                                   Positive emotion\n",
              "2  swonderlin can not wait for #ipad 2 also they ...  ...                                   Positive emotion\n",
              "3  sxsw i hope this years festival isnt as crashy...  ...                                   Negative emotion\n",
              "4  sxtxstate great stuff on fri #sxsw marissa may...  ...                                   Positive emotion\n",
              "\n",
              "[5 rows x 3 columns]"
            ]
          },
          "metadata": {
            "tags": []
          },
          "execution_count": 44
        }
      ]
    },
    {
      "cell_type": "code",
      "metadata": {
        "id": "FVWFO1k6l-sz",
        "colab_type": "code",
        "outputId": "64713b01-a3dc-4e6b-addc-44d914a86bdd",
        "colab": {
          "base_uri": "https://localhost:8080/",
          "height": 68
        }
      },
      "source": [
        "data[col].value_counts()"
      ],
      "execution_count": 45,
      "outputs": [
        {
          "output_type": "execute_result",
          "data": {
            "text/plain": [
              "Positive emotion    2672\n",
              "Negative emotion     519\n",
              "Name: is_there_an_emotion_directed_at_a_brand_or_product, dtype: int64"
            ]
          },
          "metadata": {
            "tags": []
          },
          "execution_count": 45
        }
      ]
    },
    {
      "cell_type": "markdown",
      "metadata": {
        "id": "6icGcVTE5sYz",
        "colab_type": "text"
      },
      "source": [
        "## Question 4"
      ]
    },
    {
      "cell_type": "markdown",
      "metadata": {
        "id": "Rg0rSepj5sYz",
        "colab_type": "text"
      },
      "source": [
        "### Encode labels\n",
        "- in column \"is_there_an_emotion_directed_at_a_brand_or_product\"\n",
        "    - change \"positive emotion\" to 1\n",
        "    - change \"negative emotion\" to 0\n",
        "- use map function to replace values"
      ]
    },
    {
      "cell_type": "code",
      "metadata": {
        "colab_type": "code",
        "id": "YftKwFv7H0N9",
        "colab": {}
      },
      "source": [
        "def emotion_code(x):\n",
        "  if x == 'Positive emotion':\n",
        "    return 1\n",
        "  else:\n",
        "    return 0\n",
        "  \n",
        "data[col] = data[col]"
      ],
      "execution_count": 0,
      "outputs": []
    },
    {
      "cell_type": "code",
      "metadata": {
        "id": "IHOATSn4mpaT",
        "colab_type": "code",
        "outputId": "b5398246-3ae6-43aa-9c84-8d14129f53e7",
        "colab": {
          "base_uri": "https://localhost:8080/",
          "height": 204
        }
      },
      "source": [
        "data.head(5)"
      ],
      "execution_count": 47,
      "outputs": [
        {
          "output_type": "execute_result",
          "data": {
            "text/html": [
              "<div>\n",
              "<style scoped>\n",
              "    .dataframe tbody tr th:only-of-type {\n",
              "        vertical-align: middle;\n",
              "    }\n",
              "\n",
              "    .dataframe tbody tr th {\n",
              "        vertical-align: top;\n",
              "    }\n",
              "\n",
              "    .dataframe thead th {\n",
              "        text-align: right;\n",
              "    }\n",
              "</style>\n",
              "<table border=\"1\" class=\"dataframe\">\n",
              "  <thead>\n",
              "    <tr style=\"text-align: right;\">\n",
              "      <th></th>\n",
              "      <th>tweet_text</th>\n",
              "      <th>emotion_in_tweet_is_directed_at</th>\n",
              "      <th>is_there_an_emotion_directed_at_a_brand_or_product</th>\n",
              "    </tr>\n",
              "  </thead>\n",
              "  <tbody>\n",
              "    <tr>\n",
              "      <th>0</th>\n",
              "      <td>wesley83 i have a 3g iphone after 3 hrs tweeti...</td>\n",
              "      <td>iPhone</td>\n",
              "      <td>Negative emotion</td>\n",
              "    </tr>\n",
              "    <tr>\n",
              "      <th>1</th>\n",
              "      <td>jessedee know about fludapp  awesome ipadiphon...</td>\n",
              "      <td>iPad or iPhone App</td>\n",
              "      <td>Positive emotion</td>\n",
              "    </tr>\n",
              "    <tr>\n",
              "      <th>2</th>\n",
              "      <td>swonderlin can not wait for #ipad 2 also they ...</td>\n",
              "      <td>iPad</td>\n",
              "      <td>Positive emotion</td>\n",
              "    </tr>\n",
              "    <tr>\n",
              "      <th>3</th>\n",
              "      <td>sxsw i hope this years festival isnt as crashy...</td>\n",
              "      <td>iPad or iPhone App</td>\n",
              "      <td>Negative emotion</td>\n",
              "    </tr>\n",
              "    <tr>\n",
              "      <th>4</th>\n",
              "      <td>sxtxstate great stuff on fri #sxsw marissa may...</td>\n",
              "      <td>Google</td>\n",
              "      <td>Positive emotion</td>\n",
              "    </tr>\n",
              "  </tbody>\n",
              "</table>\n",
              "</div>"
            ],
            "text/plain": [
              "                                          tweet_text  ... is_there_an_emotion_directed_at_a_brand_or_product\n",
              "0  wesley83 i have a 3g iphone after 3 hrs tweeti...  ...                                   Negative emotion\n",
              "1  jessedee know about fludapp  awesome ipadiphon...  ...                                   Positive emotion\n",
              "2  swonderlin can not wait for #ipad 2 also they ...  ...                                   Positive emotion\n",
              "3  sxsw i hope this years festival isnt as crashy...  ...                                   Negative emotion\n",
              "4  sxtxstate great stuff on fri #sxsw marissa may...  ...                                   Positive emotion\n",
              "\n",
              "[5 rows x 3 columns]"
            ]
          },
          "metadata": {
            "tags": []
          },
          "execution_count": 47
        }
      ]
    },
    {
      "cell_type": "markdown",
      "metadata": {
        "id": "sC1qSe3h5sY2",
        "colab_type": "text"
      },
      "source": [
        "## Question 5"
      ]
    },
    {
      "cell_type": "markdown",
      "metadata": {
        "id": "aWlAN_Ts5sY2",
        "colab_type": "text"
      },
      "source": [
        "### Get feature and label\n",
        "- get column \"tweet_text\" as feature\n",
        "- get column \"is_there_an_emotion_directed_at_a_brand_or_product\" as label"
      ]
    },
    {
      "cell_type": "code",
      "metadata": {
        "id": "9A3sOZzR5sY4",
        "colab_type": "code",
        "colab": {}
      },
      "source": [
        "X = data['tweet_text']\n",
        "Y = data['is_there_an_emotion_directed_at_a_brand_or_product']"
      ],
      "execution_count": 0,
      "outputs": []
    },
    {
      "cell_type": "markdown",
      "metadata": {
        "colab_type": "text",
        "id": "3YErwYLCH0N_"
      },
      "source": [
        "### Create train and test data\n",
        "- use train_test_split to get train and test set\n",
        "- set a random_state\n",
        "- test_size: 0.25"
      ]
    },
    {
      "cell_type": "code",
      "metadata": {
        "colab_type": "code",
        "id": "lNkwrGgEH0OA",
        "colab": {}
      },
      "source": [
        "import pandas as pd\n",
        "import numpy as np\n",
        "import scipy as sp\n",
        "from sklearn.model_selection import train_test_split\n",
        "from sklearn.feature_extraction.text import CountVectorizer, TfidfVectorizer\n",
        "from sklearn.naive_bayes import MultinomialNB\n",
        "from sklearn.linear_model import LogisticRegression\n",
        "from sklearn import metrics\n",
        "from textblob import TextBlob, Word\n",
        "from nltk.stem.snowball import SnowballStemmer\n",
        "%matplotlib inline\n",
        "\n",
        "# split the the data into training and testing sets\n",
        "X_train, X_test, y_train, y_test = train_test_split(X, Y, random_state=1, test_size=0.25)"
      ],
      "execution_count": 0,
      "outputs": []
    },
    {
      "cell_type": "markdown",
      "metadata": {
        "id": "gMok2IX35sY8",
        "colab_type": "text"
      },
      "source": [
        "## Question 6"
      ]
    },
    {
      "cell_type": "markdown",
      "metadata": {
        "id": "dSqYjPuT5sY8",
        "colab_type": "text"
      },
      "source": [
        "### Vectorize data\n",
        "- create document-term matrix\n",
        "- use CountVectorizer()\n",
        "    - ngram_range: (1, 2)\n",
        "    - stop_words: 'english'\n",
        "    - min_df: 2   \n",
        "- do fit_transform on X_train\n",
        "- do transform on X_test"
      ]
    },
    {
      "cell_type": "markdown",
      "metadata": {
        "id": "_79og5s7IqE1",
        "colab_type": "text"
      },
      "source": [
        "##### Using CountVectorizer to create document-term matrices from X_train and X_test:"
      ]
    },
    {
      "cell_type": "code",
      "metadata": {
        "id": "bb9PnnqT5sY8",
        "colab_type": "code",
        "outputId": "01b92b7c-6924-413f-adb4-4a2291dfa745",
        "colab": {
          "base_uri": "https://localhost:8080/",
          "height": 34
        }
      },
      "source": [
        "vect = CountVectorizer(ngram_range = (1, 2), stop_words = 'english', min_df = 2)\n",
        "\n",
        "# creating document-term matrices:\n",
        "X_train_dtm = vect.fit_transform(X_train)\n",
        "X_test_dtm = vect.transform(X_test)\n",
        "X_train_dtm.shape"
      ],
      "execution_count": 50,
      "outputs": [
        {
          "output_type": "execute_result",
          "data": {
            "text/plain": [
              "(2393, 5434)"
            ]
          },
          "metadata": {
            "tags": []
          },
          "execution_count": 50
        }
      ]
    },
    {
      "cell_type": "markdown",
      "metadata": {
        "id": "PfnARAGlI4B9",
        "colab_type": "text"
      },
      "source": [
        "##### create document-term matrices:"
      ]
    },
    {
      "cell_type": "markdown",
      "metadata": {
        "id": "qanDXve15sY_",
        "colab_type": "text"
      },
      "source": [
        "## Question 7"
      ]
    },
    {
      "cell_type": "markdown",
      "metadata": {
        "id": "uMaRNFkV5sY_",
        "colab_type": "text"
      },
      "source": [
        "### Select classifier logistic regression\n",
        "- use logistic regression for predicting sentiment of the given tweet\n",
        "- initialize classifier"
      ]
    },
    {
      "cell_type": "code",
      "metadata": {
        "id": "GT3dNgB55sZA",
        "colab_type": "code",
        "colab": {}
      },
      "source": [
        "from sklearn.linear_model import LogisticRegression\n",
        "\n",
        "lr = LogisticRegression()"
      ],
      "execution_count": 0,
      "outputs": []
    },
    {
      "cell_type": "markdown",
      "metadata": {
        "id": "pqQ6_HX35sZD",
        "colab_type": "text"
      },
      "source": [
        "### Fit the classifer\n",
        "- fit logistic regression classifier"
      ]
    },
    {
      "cell_type": "code",
      "metadata": {
        "id": "EIzvnNkq5sZD",
        "colab_type": "code",
        "outputId": "36110350-a965-46c3-84be-618d3fc705d6",
        "colab": {
          "base_uri": "https://localhost:8080/",
          "height": 102
        }
      },
      "source": [
        "lr.fit(X_train_dtm, y_train)"
      ],
      "execution_count": 52,
      "outputs": [
        {
          "output_type": "execute_result",
          "data": {
            "text/plain": [
              "LogisticRegression(C=1.0, class_weight=None, dual=False, fit_intercept=True,\n",
              "                   intercept_scaling=1, l1_ratio=None, max_iter=100,\n",
              "                   multi_class='warn', n_jobs=None, penalty='l2',\n",
              "                   random_state=None, solver='warn', tol=0.0001, verbose=0,\n",
              "                   warm_start=False)"
            ]
          },
          "metadata": {
            "tags": []
          },
          "execution_count": 52
        }
      ]
    },
    {
      "cell_type": "markdown",
      "metadata": {
        "id": "SZpMsYQF5sZF",
        "colab_type": "text"
      },
      "source": [
        "## Question 8"
      ]
    },
    {
      "cell_type": "markdown",
      "metadata": {
        "id": "KGnQnUww5sZF",
        "colab_type": "text"
      },
      "source": [
        "### Select classifier naive bayes\n",
        "- use naive bayes for predicting sentiment of the given tweet\n",
        "- initialize classifier\n",
        "- use MultinomialNB"
      ]
    },
    {
      "cell_type": "code",
      "metadata": {
        "colab_type": "code",
        "id": "2AbVYssaH0OE",
        "colab": {}
      },
      "source": [
        "from sklearn.naive_bayes import MultinomialNB\n",
        "\n",
        "nb = MultinomialNB()"
      ],
      "execution_count": 0,
      "outputs": []
    },
    {
      "cell_type": "markdown",
      "metadata": {
        "id": "QEaG942m5sZI",
        "colab_type": "text"
      },
      "source": [
        "### Fit the classifer\n",
        "- fit naive bayes classifier"
      ]
    },
    {
      "cell_type": "code",
      "metadata": {
        "id": "rLwRBj1R5sZI",
        "colab_type": "code",
        "outputId": "d380368c-216e-44f3-c515-bb6271a20b29",
        "colab": {
          "base_uri": "https://localhost:8080/",
          "height": 34
        }
      },
      "source": [
        "nb.fit(X_train_dtm, y_train)"
      ],
      "execution_count": 54,
      "outputs": [
        {
          "output_type": "execute_result",
          "data": {
            "text/plain": [
              "MultinomialNB(alpha=1.0, class_prior=None, fit_prior=True)"
            ]
          },
          "metadata": {
            "tags": []
          },
          "execution_count": 54
        }
      ]
    },
    {
      "cell_type": "markdown",
      "metadata": {
        "id": "A7mgwYDJ5sZM",
        "colab_type": "text"
      },
      "source": [
        "## Question 9"
      ]
    },
    {
      "cell_type": "markdown",
      "metadata": {
        "id": "sZkA3tce5sZN",
        "colab_type": "text"
      },
      "source": [
        "### Make predictions on logistic regression\n",
        "- use your trained logistic regression model to make predictions on X_test"
      ]
    },
    {
      "cell_type": "code",
      "metadata": {
        "id": "l3f0M1ch5sZO",
        "colab_type": "code",
        "colab": {}
      },
      "source": [
        "y_lrpred_class = lr.predict(X_test_dtm)"
      ],
      "execution_count": 0,
      "outputs": []
    },
    {
      "cell_type": "markdown",
      "metadata": {
        "id": "lrIxjMUB5sZQ",
        "colab_type": "text"
      },
      "source": [
        "### Make predictions on naive bayes\n",
        "- use your trained naive bayes model to make predictions on X_test\n",
        "- use a different variable name to store predictions so that they are kept separately"
      ]
    },
    {
      "cell_type": "code",
      "metadata": {
        "id": "ZSQnwyLU5sZQ",
        "colab_type": "code",
        "colab": {}
      },
      "source": [
        "y_nbpred_class = nb.predict(X_test_dtm)"
      ],
      "execution_count": 0,
      "outputs": []
    },
    {
      "cell_type": "markdown",
      "metadata": {
        "id": "rwXQUE7b5sZS",
        "colab_type": "text"
      },
      "source": [
        "## Question 10"
      ]
    },
    {
      "cell_type": "markdown",
      "metadata": {
        "id": "E6SITIE75sZT",
        "colab_type": "text"
      },
      "source": [
        "### Calculate accuracy of logistic regression\n",
        "- check accuracy of logistic regression classifer\n",
        "- use sklearn.metrics.accuracy_score"
      ]
    },
    {
      "cell_type": "code",
      "metadata": {
        "colab_type": "code",
        "id": "clv2X0kKH0Ok",
        "outputId": "06755c1c-a89a-4a4f-ecae-f1d236c91f3d",
        "colab": {
          "base_uri": "https://localhost:8080/",
          "height": 34
        }
      },
      "source": [
        "print (metrics.accuracy_score(y_test, y_lrpred_class))"
      ],
      "execution_count": 57,
      "outputs": [
        {
          "output_type": "stream",
          "text": [
            "0.8659147869674185\n"
          ],
          "name": "stdout"
        }
      ]
    },
    {
      "cell_type": "markdown",
      "metadata": {
        "id": "1Fd_Gnd05sZV",
        "colab_type": "text"
      },
      "source": [
        "### Calculate accuracy of naive bayes\n",
        "- check accuracy of naive bayes classifer\n",
        "- use sklearn.metrics.accuracy_score"
      ]
    },
    {
      "cell_type": "code",
      "metadata": {
        "colab_type": "code",
        "id": "d32uBpHi5sZW",
        "outputId": "e8ac49ea-2ce1-4602-f815-6bbbdda90801",
        "colab": {
          "base_uri": "https://localhost:8080/",
          "height": 34
        }
      },
      "source": [
        "print ('Accuracy: ', metrics.accuracy_score(y_test, y_nbpred_class))"
      ],
      "execution_count": 58,
      "outputs": [
        {
          "output_type": "stream",
          "text": [
            "Accuracy:  0.8571428571428571\n"
          ],
          "name": "stdout"
        }
      ]
    },
    {
      "cell_type": "code",
      "metadata": {
        "id": "eXf1NZHon9lS",
        "colab_type": "code",
        "colab": {}
      },
      "source": [
        ""
      ],
      "execution_count": 0,
      "outputs": []
    }
  ]
}