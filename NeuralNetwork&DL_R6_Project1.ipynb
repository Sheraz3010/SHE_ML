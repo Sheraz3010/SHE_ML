{
  "nbformat": 4,
  "nbformat_minor": 0,
  "metadata": {
    "colab": {
      "name": "NeuralNetwork&DL_R6_Project1.ipynb",
      "version": "0.3.2",
      "provenance": [],
      "collapsed_sections": []
    },
    "kernelspec": {
      "name": "python3",
      "display_name": "Python 3"
    }
  },
  "cells": [
    {
      "cell_type": "code",
      "metadata": {
        "id": "3tHdK0W9Nb3q",
        "colab_type": "code",
        "outputId": "cfef81e0-b3f7-461d-9b5e-f72b08c4e511",
        "colab": {
          "base_uri": "https://localhost:8080/",
          "height": 122
        }
      },
      "source": [
        "from google.colab import drive\n",
        "drive.mount(\"/content/drive\")"
      ],
      "execution_count": 0,
      "outputs": [
        {
          "output_type": "stream",
          "text": [
            "Go to this URL in a browser: https://accounts.google.com/o/oauth2/auth?client_id=947318989803-6bn6qk8qdgf4n4g3pfee6491hc0brc4i.apps.googleusercontent.com&redirect_uri=urn%3Aietf%3Awg%3Aoauth%3A2.0%3Aoob&scope=email%20https%3A%2F%2Fwww.googleapis.com%2Fauth%2Fdocs.test%20https%3A%2F%2Fwww.googleapis.com%2Fauth%2Fdrive%20https%3A%2F%2Fwww.googleapis.com%2Fauth%2Fdrive.photos.readonly%20https%3A%2F%2Fwww.googleapis.com%2Fauth%2Fpeopleapi.readonly&response_type=code\n",
            "\n",
            "Enter your authorization code:\n",
            "··········\n",
            "Mounted at /content/drive\n"
          ],
          "name": "stdout"
        }
      ]
    },
    {
      "cell_type": "code",
      "metadata": {
        "id": "qUaF5N2ZO83S",
        "colab_type": "code",
        "colab": {}
      },
      "source": [
        "import numpy as np\n",
        "import pandas as pd"
      ],
      "execution_count": 0,
      "outputs": []
    },
    {
      "cell_type": "markdown",
      "metadata": {
        "id": "fxIMW1h8W1oS",
        "colab_type": "text"
      },
      "source": [
        "####Reading the bank dataset."
      ]
    },
    {
      "cell_type": "code",
      "metadata": {
        "id": "K23oS34BTtuB",
        "colab_type": "code",
        "colab": {}
      },
      "source": [
        "bank_df = pd.read_csv(\"/content/drive/My Drive/AIML/Residency7th/Lab/ExternalLab2/bank.csv\")"
      ],
      "execution_count": 0,
      "outputs": []
    },
    {
      "cell_type": "code",
      "metadata": {
        "id": "rBQ7euSmcMiY",
        "colab_type": "code",
        "outputId": "d7b545ef-8fde-4632-fc3c-7c065b01afe3",
        "colab": {
          "base_uri": "https://localhost:8080/",
          "height": 340
        }
      },
      "source": [
        "bank_df.info()"
      ],
      "execution_count": 0,
      "outputs": [
        {
          "output_type": "stream",
          "text": [
            "<class 'pandas.core.frame.DataFrame'>\n",
            "RangeIndex: 10000 entries, 0 to 9999\n",
            "Data columns (total 14 columns):\n",
            "RowNumber          10000 non-null int64\n",
            "CustomerId         10000 non-null int64\n",
            "Surname            10000 non-null object\n",
            "CreditScore        10000 non-null int64\n",
            "Geography          10000 non-null object\n",
            "Gender             10000 non-null object\n",
            "Age                10000 non-null int64\n",
            "Tenure             10000 non-null int64\n",
            "Balance            10000 non-null float64\n",
            "NumOfProducts      10000 non-null int64\n",
            "HasCrCard          10000 non-null int64\n",
            "IsActiveMember     10000 non-null int64\n",
            "EstimatedSalary    10000 non-null float64\n",
            "Exited             10000 non-null int64\n",
            "dtypes: float64(2), int64(9), object(3)\n",
            "memory usage: 1.1+ MB\n"
          ],
          "name": "stdout"
        }
      ]
    },
    {
      "cell_type": "markdown",
      "metadata": {
        "id": "7O4m--f6W8eb",
        "colab_type": "text"
      },
      "source": [
        "####Dropping the columns which are unique for all users like IDs."
      ]
    },
    {
      "cell_type": "code",
      "metadata": {
        "id": "J1YoYs6ocOjf",
        "colab_type": "code",
        "colab": {}
      },
      "source": [
        "bank_df = bank_df.drop(columns = ['RowNumber','CustomerId','Surname'],axis =1)"
      ],
      "execution_count": 0,
      "outputs": []
    },
    {
      "cell_type": "code",
      "metadata": {
        "id": "dAaUi9eIeZ7L",
        "colab_type": "code",
        "outputId": "0fab907f-d54f-4828-da9c-5ae8131447a4",
        "colab": {
          "base_uri": "https://localhost:8080/",
          "height": 204
        }
      },
      "source": [
        "bank_df.head()"
      ],
      "execution_count": 0,
      "outputs": [
        {
          "output_type": "execute_result",
          "data": {
            "text/html": [
              "<div>\n",
              "<style scoped>\n",
              "    .dataframe tbody tr th:only-of-type {\n",
              "        vertical-align: middle;\n",
              "    }\n",
              "\n",
              "    .dataframe tbody tr th {\n",
              "        vertical-align: top;\n",
              "    }\n",
              "\n",
              "    .dataframe thead th {\n",
              "        text-align: right;\n",
              "    }\n",
              "</style>\n",
              "<table border=\"1\" class=\"dataframe\">\n",
              "  <thead>\n",
              "    <tr style=\"text-align: right;\">\n",
              "      <th></th>\n",
              "      <th>CreditScore</th>\n",
              "      <th>Geography</th>\n",
              "      <th>Gender</th>\n",
              "      <th>Age</th>\n",
              "      <th>Tenure</th>\n",
              "      <th>Balance</th>\n",
              "      <th>NumOfProducts</th>\n",
              "      <th>HasCrCard</th>\n",
              "      <th>IsActiveMember</th>\n",
              "      <th>EstimatedSalary</th>\n",
              "      <th>Exited</th>\n",
              "    </tr>\n",
              "  </thead>\n",
              "  <tbody>\n",
              "    <tr>\n",
              "      <th>0</th>\n",
              "      <td>619</td>\n",
              "      <td>France</td>\n",
              "      <td>Female</td>\n",
              "      <td>42</td>\n",
              "      <td>2</td>\n",
              "      <td>0.00</td>\n",
              "      <td>1</td>\n",
              "      <td>1</td>\n",
              "      <td>1</td>\n",
              "      <td>101348.88</td>\n",
              "      <td>1</td>\n",
              "    </tr>\n",
              "    <tr>\n",
              "      <th>1</th>\n",
              "      <td>608</td>\n",
              "      <td>Spain</td>\n",
              "      <td>Female</td>\n",
              "      <td>41</td>\n",
              "      <td>1</td>\n",
              "      <td>83807.86</td>\n",
              "      <td>1</td>\n",
              "      <td>0</td>\n",
              "      <td>1</td>\n",
              "      <td>112542.58</td>\n",
              "      <td>0</td>\n",
              "    </tr>\n",
              "    <tr>\n",
              "      <th>2</th>\n",
              "      <td>502</td>\n",
              "      <td>France</td>\n",
              "      <td>Female</td>\n",
              "      <td>42</td>\n",
              "      <td>8</td>\n",
              "      <td>159660.80</td>\n",
              "      <td>3</td>\n",
              "      <td>1</td>\n",
              "      <td>0</td>\n",
              "      <td>113931.57</td>\n",
              "      <td>1</td>\n",
              "    </tr>\n",
              "    <tr>\n",
              "      <th>3</th>\n",
              "      <td>699</td>\n",
              "      <td>France</td>\n",
              "      <td>Female</td>\n",
              "      <td>39</td>\n",
              "      <td>1</td>\n",
              "      <td>0.00</td>\n",
              "      <td>2</td>\n",
              "      <td>0</td>\n",
              "      <td>0</td>\n",
              "      <td>93826.63</td>\n",
              "      <td>0</td>\n",
              "    </tr>\n",
              "    <tr>\n",
              "      <th>4</th>\n",
              "      <td>850</td>\n",
              "      <td>Spain</td>\n",
              "      <td>Female</td>\n",
              "      <td>43</td>\n",
              "      <td>2</td>\n",
              "      <td>125510.82</td>\n",
              "      <td>1</td>\n",
              "      <td>1</td>\n",
              "      <td>1</td>\n",
              "      <td>79084.10</td>\n",
              "      <td>0</td>\n",
              "    </tr>\n",
              "  </tbody>\n",
              "</table>\n",
              "</div>"
            ],
            "text/plain": [
              "   CreditScore Geography  Gender  ...  IsActiveMember  EstimatedSalary  Exited\n",
              "0          619    France  Female  ...               1        101348.88       1\n",
              "1          608     Spain  Female  ...               1        112542.58       0\n",
              "2          502    France  Female  ...               0        113931.57       1\n",
              "3          699    France  Female  ...               0         93826.63       0\n",
              "4          850     Spain  Female  ...               1         79084.10       0\n",
              "\n",
              "[5 rows x 11 columns]"
            ]
          },
          "metadata": {
            "tags": []
          },
          "execution_count": 41
        }
      ]
    },
    {
      "cell_type": "markdown",
      "metadata": {
        "id": "dXJ3LiukXLzC",
        "colab_type": "text"
      },
      "source": [
        "####Distinguishing the feature and target set:"
      ]
    },
    {
      "cell_type": "code",
      "metadata": {
        "id": "fN7giezAebil",
        "colab_type": "code",
        "colab": {}
      },
      "source": [
        "bank_df =  pd.get_dummies(bank_df,drop_first=True)"
      ],
      "execution_count": 0,
      "outputs": []
    },
    {
      "cell_type": "code",
      "metadata": {
        "id": "rZp0IfG0fUux",
        "colab_type": "code",
        "colab": {}
      },
      "source": [
        "X = bank_df.drop(columns=['Exited'],axis=1)\n",
        "y =  bank_df[['Exited']]"
      ],
      "execution_count": 0,
      "outputs": []
    },
    {
      "cell_type": "markdown",
      "metadata": {
        "id": "lwGimowfXSGK",
        "colab_type": "text"
      },
      "source": [
        "####Splitting the data set into Train and test sets:"
      ]
    },
    {
      "cell_type": "code",
      "metadata": {
        "id": "7Yrx_YTrvVgY",
        "colab_type": "code",
        "colab": {}
      },
      "source": [
        "from sklearn.model_selection import train_test_split\n",
        "X_train, X_test, y_train, y_test = train_test_split(X, y, test_size = 0.30, random_state = 0)"
      ],
      "execution_count": 0,
      "outputs": []
    },
    {
      "cell_type": "code",
      "metadata": {
        "id": "WN8ihBCwv0bc",
        "colab_type": "code",
        "outputId": "d743d5b3-7ea3-4b0e-a4d6-9517dd8796de",
        "colab": {
          "base_uri": "https://localhost:8080/",
          "height": 204
        }
      },
      "source": [
        "X_train.head()"
      ],
      "execution_count": 0,
      "outputs": [
        {
          "output_type": "execute_result",
          "data": {
            "text/html": [
              "<div>\n",
              "<style scoped>\n",
              "    .dataframe tbody tr th:only-of-type {\n",
              "        vertical-align: middle;\n",
              "    }\n",
              "\n",
              "    .dataframe tbody tr th {\n",
              "        vertical-align: top;\n",
              "    }\n",
              "\n",
              "    .dataframe thead th {\n",
              "        text-align: right;\n",
              "    }\n",
              "</style>\n",
              "<table border=\"1\" class=\"dataframe\">\n",
              "  <thead>\n",
              "    <tr style=\"text-align: right;\">\n",
              "      <th></th>\n",
              "      <th>CreditScore</th>\n",
              "      <th>Age</th>\n",
              "      <th>Tenure</th>\n",
              "      <th>Balance</th>\n",
              "      <th>NumOfProducts</th>\n",
              "      <th>HasCrCard</th>\n",
              "      <th>IsActiveMember</th>\n",
              "      <th>EstimatedSalary</th>\n",
              "      <th>Geography_Germany</th>\n",
              "      <th>Geography_Spain</th>\n",
              "      <th>Gender_Male</th>\n",
              "    </tr>\n",
              "  </thead>\n",
              "  <tbody>\n",
              "    <tr>\n",
              "      <th>7681</th>\n",
              "      <td>641</td>\n",
              "      <td>33</td>\n",
              "      <td>2</td>\n",
              "      <td>146193.60</td>\n",
              "      <td>2</td>\n",
              "      <td>1</td>\n",
              "      <td>1</td>\n",
              "      <td>55796.83</td>\n",
              "      <td>0</td>\n",
              "      <td>0</td>\n",
              "      <td>1</td>\n",
              "    </tr>\n",
              "    <tr>\n",
              "      <th>9031</th>\n",
              "      <td>541</td>\n",
              "      <td>39</td>\n",
              "      <td>7</td>\n",
              "      <td>0.00</td>\n",
              "      <td>2</td>\n",
              "      <td>1</td>\n",
              "      <td>0</td>\n",
              "      <td>19823.02</td>\n",
              "      <td>0</td>\n",
              "      <td>0</td>\n",
              "      <td>1</td>\n",
              "    </tr>\n",
              "    <tr>\n",
              "      <th>3691</th>\n",
              "      <td>590</td>\n",
              "      <td>76</td>\n",
              "      <td>5</td>\n",
              "      <td>160979.68</td>\n",
              "      <td>1</td>\n",
              "      <td>0</td>\n",
              "      <td>1</td>\n",
              "      <td>13848.58</td>\n",
              "      <td>0</td>\n",
              "      <td>0</td>\n",
              "      <td>0</td>\n",
              "    </tr>\n",
              "    <tr>\n",
              "      <th>202</th>\n",
              "      <td>516</td>\n",
              "      <td>50</td>\n",
              "      <td>5</td>\n",
              "      <td>0.00</td>\n",
              "      <td>1</td>\n",
              "      <td>0</td>\n",
              "      <td>1</td>\n",
              "      <td>146145.93</td>\n",
              "      <td>0</td>\n",
              "      <td>1</td>\n",
              "      <td>1</td>\n",
              "    </tr>\n",
              "    <tr>\n",
              "      <th>5625</th>\n",
              "      <td>508</td>\n",
              "      <td>60</td>\n",
              "      <td>7</td>\n",
              "      <td>143262.04</td>\n",
              "      <td>1</td>\n",
              "      <td>1</td>\n",
              "      <td>1</td>\n",
              "      <td>129562.74</td>\n",
              "      <td>0</td>\n",
              "      <td>0</td>\n",
              "      <td>0</td>\n",
              "    </tr>\n",
              "  </tbody>\n",
              "</table>\n",
              "</div>"
            ],
            "text/plain": [
              "      CreditScore  Age  Tenure  ...  Geography_Germany  Geography_Spain  Gender_Male\n",
              "7681          641   33       2  ...                  0                0            1\n",
              "9031          541   39       7  ...                  0                0            1\n",
              "3691          590   76       5  ...                  0                0            0\n",
              "202           516   50       5  ...                  0                1            1\n",
              "5625          508   60       7  ...                  0                0            0\n",
              "\n",
              "[5 rows x 11 columns]"
            ]
          },
          "metadata": {
            "tags": []
          },
          "execution_count": 45
        }
      ]
    },
    {
      "cell_type": "markdown",
      "metadata": {
        "id": "46RmXdf_XfcJ",
        "colab_type": "text"
      },
      "source": [
        "####Normalizing the train and test data:"
      ]
    },
    {
      "cell_type": "code",
      "metadata": {
        "id": "UCW3o7pI7DpN",
        "colab_type": "code",
        "colab": {}
      },
      "source": [
        "#feature Scaling\n",
        "from sklearn.preprocessing import StandardScaler\n",
        "sc = StandardScaler()"
      ],
      "execution_count": 0,
      "outputs": []
    },
    {
      "cell_type": "code",
      "metadata": {
        "id": "2-DjZ__oKSuQ",
        "colab_type": "code",
        "colab": {}
      },
      "source": [
        "X_train = sc.fit_transform(X_train)\n",
        "X_test = sc.fit_transform(X_test)"
      ],
      "execution_count": 0,
      "outputs": []
    },
    {
      "cell_type": "code",
      "metadata": {
        "id": "F6O3ltRxKgCE",
        "colab_type": "code",
        "colab": {}
      },
      "source": [
        "import keras\n",
        "from keras.models import Sequential\n",
        "from keras.layers import Dense,Dropout"
      ],
      "execution_count": 0,
      "outputs": []
    },
    {
      "cell_type": "markdown",
      "metadata": {
        "id": "Pz-K7K11Xt0l",
        "colab_type": "text"
      },
      "source": [
        "####Initializing & building the model "
      ]
    },
    {
      "cell_type": "code",
      "metadata": {
        "id": "Q0BCdthnMKyf",
        "colab_type": "code",
        "colab": {}
      },
      "source": [
        "#initialize ANN\n",
        "classifier = Sequential()\n",
        "\n",
        "\n",
        "#Adding Input layer and hidden layer\n",
        "classifier.add(Dense(units= 8, kernel_initializer='uniform',activation='relu', input_dim= 11))\n",
        "classifier.add(Dropout(0.3))\n",
        "\n",
        "#Addeding Second hidden layer \n",
        "classifier.add(Dense(units=6,kernel_initializer='uniform', activation='relu'))\n",
        "classifier.add(Dropout(0.5))\n",
        "\n",
        "#adding output layer\n",
        "classifier.add(Dense(units=1, kernel_initializer='uniform', activation='sigmoid'))\n"
      ],
      "execution_count": 0,
      "outputs": []
    },
    {
      "cell_type": "markdown",
      "metadata": {
        "id": "uCAGoHwLYFhO",
        "colab_type": "text"
      },
      "source": [
        "####Optimizing the model using 'adam' optimizer:"
      ]
    },
    {
      "cell_type": "code",
      "metadata": {
        "id": "fMSQSBy-NmRb",
        "colab_type": "code",
        "colab": {}
      },
      "source": [
        "classifier.compile(optimizer='adam',loss='binary_crossentropy', metrics=['accuracy'])"
      ],
      "execution_count": 0,
      "outputs": []
    },
    {
      "cell_type": "code",
      "metadata": {
        "id": "_ne_F4BBOB1e",
        "colab_type": "code",
        "outputId": "e7bc81f9-ed92-4c79-992f-2c167088f1d3",
        "colab": {
          "base_uri": "https://localhost:8080/",
          "height": 1000
        }
      },
      "source": [
        "classifier.fit(X_train,y_train, batch_size=30, epochs= 100)"
      ],
      "execution_count": 0,
      "outputs": [
        {
          "output_type": "stream",
          "text": [
            "Epoch 1/100\n",
            "7000/7000 [==============================] - 1s 208us/step - loss: 0.6211 - acc: 0.7961\n",
            "Epoch 2/100\n",
            "7000/7000 [==============================] - 0s 50us/step - loss: 0.4773 - acc: 0.7977\n",
            "Epoch 3/100\n",
            "7000/7000 [==============================] - 0s 51us/step - loss: 0.4614 - acc: 0.7977\n",
            "Epoch 4/100\n",
            "7000/7000 [==============================] - 0s 48us/step - loss: 0.4530 - acc: 0.8063\n",
            "Epoch 5/100\n",
            "7000/7000 [==============================] - 0s 48us/step - loss: 0.4511 - acc: 0.8067\n",
            "Epoch 6/100\n",
            "7000/7000 [==============================] - 0s 48us/step - loss: 0.4547 - acc: 0.8041\n",
            "Epoch 7/100\n",
            "7000/7000 [==============================] - 0s 50us/step - loss: 0.4475 - acc: 0.8064\n",
            "Epoch 8/100\n",
            "7000/7000 [==============================] - 0s 50us/step - loss: 0.4529 - acc: 0.8039\n",
            "Epoch 9/100\n",
            "7000/7000 [==============================] - 0s 48us/step - loss: 0.4460 - acc: 0.8089\n",
            "Epoch 10/100\n",
            "7000/7000 [==============================] - 0s 50us/step - loss: 0.4394 - acc: 0.8119\n",
            "Epoch 11/100\n",
            "7000/7000 [==============================] - 0s 49us/step - loss: 0.4468 - acc: 0.8099\n",
            "Epoch 12/100\n",
            "7000/7000 [==============================] - 0s 51us/step - loss: 0.4367 - acc: 0.8097\n",
            "Epoch 13/100\n",
            "7000/7000 [==============================] - 0s 49us/step - loss: 0.4432 - acc: 0.8067\n",
            "Epoch 14/100\n",
            "7000/7000 [==============================] - 0s 51us/step - loss: 0.4413 - acc: 0.8069\n",
            "Epoch 15/100\n",
            "7000/7000 [==============================] - 0s 53us/step - loss: 0.4376 - acc: 0.8097\n",
            "Epoch 16/100\n",
            "7000/7000 [==============================] - 0s 47us/step - loss: 0.4412 - acc: 0.8067\n",
            "Epoch 17/100\n",
            "7000/7000 [==============================] - 0s 48us/step - loss: 0.4378 - acc: 0.8077\n",
            "Epoch 18/100\n",
            "7000/7000 [==============================] - 0s 48us/step - loss: 0.4426 - acc: 0.8073\n",
            "Epoch 19/100\n",
            "7000/7000 [==============================] - 0s 50us/step - loss: 0.4327 - acc: 0.8109\n",
            "Epoch 20/100\n",
            "7000/7000 [==============================] - 0s 54us/step - loss: 0.4366 - acc: 0.8081\n",
            "Epoch 21/100\n",
            "7000/7000 [==============================] - 0s 54us/step - loss: 0.4370 - acc: 0.8071\n",
            "Epoch 22/100\n",
            "7000/7000 [==============================] - 0s 47us/step - loss: 0.4335 - acc: 0.8071\n",
            "Epoch 23/100\n",
            "7000/7000 [==============================] - 0s 48us/step - loss: 0.4395 - acc: 0.8061\n",
            "Epoch 24/100\n",
            "7000/7000 [==============================] - 0s 48us/step - loss: 0.4385 - acc: 0.8087\n",
            "Epoch 25/100\n",
            "7000/7000 [==============================] - 0s 48us/step - loss: 0.4344 - acc: 0.8099\n",
            "Epoch 26/100\n",
            "7000/7000 [==============================] - 0s 47us/step - loss: 0.4409 - acc: 0.8080\n",
            "Epoch 27/100\n",
            "7000/7000 [==============================] - 0s 46us/step - loss: 0.4390 - acc: 0.8063\n",
            "Epoch 28/100\n",
            "7000/7000 [==============================] - 0s 48us/step - loss: 0.4366 - acc: 0.8077\n",
            "Epoch 29/100\n",
            "7000/7000 [==============================] - 0s 46us/step - loss: 0.4306 - acc: 0.8061\n",
            "Epoch 30/100\n",
            "7000/7000 [==============================] - 0s 46us/step - loss: 0.4339 - acc: 0.8090\n",
            "Epoch 31/100\n",
            "7000/7000 [==============================] - 0s 45us/step - loss: 0.4351 - acc: 0.8089\n",
            "Epoch 32/100\n",
            "7000/7000 [==============================] - 0s 46us/step - loss: 0.4332 - acc: 0.8081\n",
            "Epoch 33/100\n",
            "7000/7000 [==============================] - 0s 45us/step - loss: 0.4335 - acc: 0.8093\n",
            "Epoch 34/100\n",
            "7000/7000 [==============================] - 0s 46us/step - loss: 0.4357 - acc: 0.8091\n",
            "Epoch 35/100\n",
            "7000/7000 [==============================] - 0s 46us/step - loss: 0.4322 - acc: 0.8099\n",
            "Epoch 36/100\n",
            "7000/7000 [==============================] - 0s 47us/step - loss: 0.4369 - acc: 0.8066\n",
            "Epoch 37/100\n",
            "7000/7000 [==============================] - 0s 46us/step - loss: 0.4303 - acc: 0.8084\n",
            "Epoch 38/100\n",
            "7000/7000 [==============================] - 0s 46us/step - loss: 0.4326 - acc: 0.8091\n",
            "Epoch 39/100\n",
            "7000/7000 [==============================] - 0s 44us/step - loss: 0.4321 - acc: 0.8104\n",
            "Epoch 40/100\n",
            "7000/7000 [==============================] - 0s 46us/step - loss: 0.4322 - acc: 0.8126\n",
            "Epoch 41/100\n",
            "7000/7000 [==============================] - 0s 52us/step - loss: 0.4317 - acc: 0.8121\n",
            "Epoch 42/100\n",
            "7000/7000 [==============================] - 0s 48us/step - loss: 0.4340 - acc: 0.8100\n",
            "Epoch 43/100\n",
            "7000/7000 [==============================] - 0s 46us/step - loss: 0.4354 - acc: 0.8096\n",
            "Epoch 44/100\n",
            "7000/7000 [==============================] - 0s 48us/step - loss: 0.4319 - acc: 0.8157\n",
            "Epoch 45/100\n",
            "7000/7000 [==============================] - 0s 49us/step - loss: 0.4290 - acc: 0.8104\n",
            "Epoch 46/100\n",
            "7000/7000 [==============================] - 0s 47us/step - loss: 0.4289 - acc: 0.8121\n",
            "Epoch 47/100\n",
            "7000/7000 [==============================] - 0s 48us/step - loss: 0.4411 - acc: 0.8123\n",
            "Epoch 48/100\n",
            "7000/7000 [==============================] - 0s 48us/step - loss: 0.4267 - acc: 0.8157\n",
            "Epoch 49/100\n",
            "7000/7000 [==============================] - 0s 50us/step - loss: 0.4379 - acc: 0.8113\n",
            "Epoch 50/100\n",
            "7000/7000 [==============================] - 0s 50us/step - loss: 0.4346 - acc: 0.8133\n",
            "Epoch 51/100\n",
            "7000/7000 [==============================] - 0s 49us/step - loss: 0.4402 - acc: 0.8096\n",
            "Epoch 52/100\n",
            "7000/7000 [==============================] - 0s 50us/step - loss: 0.4337 - acc: 0.8127\n",
            "Epoch 53/100\n",
            "7000/7000 [==============================] - 0s 57us/step - loss: 0.4347 - acc: 0.8131\n",
            "Epoch 54/100\n",
            "7000/7000 [==============================] - 0s 48us/step - loss: 0.4342 - acc: 0.8153\n",
            "Epoch 55/100\n",
            "7000/7000 [==============================] - 0s 48us/step - loss: 0.4340 - acc: 0.8160\n",
            "Epoch 56/100\n",
            "7000/7000 [==============================] - 0s 48us/step - loss: 0.4328 - acc: 0.8133\n",
            "Epoch 57/100\n",
            "7000/7000 [==============================] - 0s 48us/step - loss: 0.4357 - acc: 0.8159\n",
            "Epoch 58/100\n",
            "7000/7000 [==============================] - 0s 48us/step - loss: 0.4321 - acc: 0.8100\n",
            "Epoch 59/100\n",
            "7000/7000 [==============================] - 0s 47us/step - loss: 0.4323 - acc: 0.8167\n",
            "Epoch 60/100\n",
            "7000/7000 [==============================] - 0s 48us/step - loss: 0.4304 - acc: 0.8119\n",
            "Epoch 61/100\n",
            "7000/7000 [==============================] - 0s 47us/step - loss: 0.4329 - acc: 0.8141\n",
            "Epoch 62/100\n",
            "7000/7000 [==============================] - 0s 46us/step - loss: 0.4307 - acc: 0.8091\n",
            "Epoch 63/100\n",
            "7000/7000 [==============================] - 0s 46us/step - loss: 0.4322 - acc: 0.8131\n",
            "Epoch 64/100\n",
            "7000/7000 [==============================] - 0s 49us/step - loss: 0.4322 - acc: 0.8160\n",
            "Epoch 65/100\n",
            "7000/7000 [==============================] - 0s 53us/step - loss: 0.4320 - acc: 0.8116\n",
            "Epoch 66/100\n",
            "7000/7000 [==============================] - 0s 49us/step - loss: 0.4294 - acc: 0.8117\n",
            "Epoch 67/100\n",
            "7000/7000 [==============================] - 0s 47us/step - loss: 0.4335 - acc: 0.8129\n",
            "Epoch 68/100\n",
            "7000/7000 [==============================] - 0s 46us/step - loss: 0.4318 - acc: 0.8123\n",
            "Epoch 69/100\n",
            "7000/7000 [==============================] - 0s 47us/step - loss: 0.4298 - acc: 0.8164\n",
            "Epoch 70/100\n",
            "7000/7000 [==============================] - 0s 45us/step - loss: 0.4324 - acc: 0.8157\n",
            "Epoch 71/100\n",
            "7000/7000 [==============================] - 0s 50us/step - loss: 0.4302 - acc: 0.8127\n",
            "Epoch 72/100\n",
            "7000/7000 [==============================] - 0s 54us/step - loss: 0.4322 - acc: 0.8153\n",
            "Epoch 73/100\n",
            "7000/7000 [==============================] - 0s 48us/step - loss: 0.4375 - acc: 0.8133\n",
            "Epoch 74/100\n",
            "7000/7000 [==============================] - 0s 50us/step - loss: 0.4348 - acc: 0.8127\n",
            "Epoch 75/100\n",
            "7000/7000 [==============================] - 0s 48us/step - loss: 0.4350 - acc: 0.8116\n",
            "Epoch 76/100\n",
            "7000/7000 [==============================] - 0s 47us/step - loss: 0.4334 - acc: 0.8104\n",
            "Epoch 77/100\n",
            "7000/7000 [==============================] - 0s 47us/step - loss: 0.4351 - acc: 0.8140\n",
            "Epoch 78/100\n",
            "7000/7000 [==============================] - 0s 46us/step - loss: 0.4355 - acc: 0.8097\n",
            "Epoch 79/100\n",
            "7000/7000 [==============================] - 0s 46us/step - loss: 0.4330 - acc: 0.8127\n",
            "Epoch 80/100\n",
            "7000/7000 [==============================] - 0s 47us/step - loss: 0.4253 - acc: 0.8154\n",
            "Epoch 81/100\n",
            "7000/7000 [==============================] - 0s 48us/step - loss: 0.4286 - acc: 0.8147\n",
            "Epoch 82/100\n",
            "7000/7000 [==============================] - 0s 47us/step - loss: 0.4331 - acc: 0.8184\n",
            "Epoch 83/100\n",
            "7000/7000 [==============================] - 0s 46us/step - loss: 0.4299 - acc: 0.8163\n",
            "Epoch 84/100\n",
            "7000/7000 [==============================] - 0s 48us/step - loss: 0.4314 - acc: 0.8077\n",
            "Epoch 85/100\n",
            "7000/7000 [==============================] - 0s 49us/step - loss: 0.4340 - acc: 0.8133\n",
            "Epoch 86/100\n",
            "7000/7000 [==============================] - 0s 46us/step - loss: 0.4367 - acc: 0.8119\n",
            "Epoch 87/100\n",
            "7000/7000 [==============================] - 0s 46us/step - loss: 0.4310 - acc: 0.8121\n",
            "Epoch 88/100\n",
            "7000/7000 [==============================] - 0s 45us/step - loss: 0.4258 - acc: 0.8146\n",
            "Epoch 89/100\n",
            "7000/7000 [==============================] - 0s 45us/step - loss: 0.4370 - acc: 0.8121\n",
            "Epoch 90/100\n",
            "7000/7000 [==============================] - 0s 46us/step - loss: 0.4408 - acc: 0.8124\n",
            "Epoch 91/100\n",
            "7000/7000 [==============================] - 0s 46us/step - loss: 0.4369 - acc: 0.8150\n",
            "Epoch 92/100\n",
            "7000/7000 [==============================] - 0s 44us/step - loss: 0.4291 - acc: 0.8139\n",
            "Epoch 93/100\n",
            "7000/7000 [==============================] - 0s 45us/step - loss: 0.4316 - acc: 0.8130\n",
            "Epoch 94/100\n",
            "7000/7000 [==============================] - 0s 48us/step - loss: 0.4405 - acc: 0.8131\n",
            "Epoch 95/100\n",
            "7000/7000 [==============================] - 0s 47us/step - loss: 0.4282 - acc: 0.8139\n",
            "Epoch 96/100\n",
            "7000/7000 [==============================] - 0s 48us/step - loss: 0.4327 - acc: 0.8127\n",
            "Epoch 97/100\n",
            "7000/7000 [==============================] - 0s 47us/step - loss: 0.4359 - acc: 0.8123\n",
            "Epoch 98/100\n",
            "7000/7000 [==============================] - 0s 51us/step - loss: 0.4315 - acc: 0.8154\n",
            "Epoch 99/100\n",
            "7000/7000 [==============================] - 0s 49us/step - loss: 0.4304 - acc: 0.8153\n",
            "Epoch 100/100\n",
            "7000/7000 [==============================] - 0s 46us/step - loss: 0.4272 - acc: 0.8164\n"
          ],
          "name": "stdout"
        },
        {
          "output_type": "execute_result",
          "data": {
            "text/plain": [
              "<keras.callbacks.History at 0x7fba42193e10>"
            ]
          },
          "metadata": {
            "tags": []
          },
          "execution_count": 83
        }
      ]
    },
    {
      "cell_type": "markdown",
      "metadata": {
        "id": "KJKRcfZPYS51",
        "colab_type": "text"
      },
      "source": [
        "####Predicting the results using 0.5 as a threshold: "
      ]
    },
    {
      "cell_type": "code",
      "metadata": {
        "id": "bvieTLEAOXRg",
        "colab_type": "code",
        "colab": {}
      },
      "source": [
        "y_pred = classifier.predict(X_test)\n",
        "y_pred = (y_pred > 0.5)"
      ],
      "execution_count": 0,
      "outputs": []
    },
    {
      "cell_type": "markdown",
      "metadata": {
        "id": "AjhztcD7Yfxa",
        "colab_type": "text"
      },
      "source": [
        "####Preparing the confusion matrix and calculating the Accuracy score:"
      ]
    },
    {
      "cell_type": "code",
      "metadata": {
        "id": "fHonepuLQN99",
        "colab_type": "code",
        "colab": {}
      },
      "source": [
        "from sklearn.metrics import confusion_matrix,accuracy_score\n",
        "cm = confusion_matrix(y_test, y_pred)\n",
        "acc = accuracy_score(y_test,y_pred)"
      ],
      "execution_count": 0,
      "outputs": []
    },
    {
      "cell_type": "markdown",
      "metadata": {
        "id": "HONdUEbrY3J_",
        "colab_type": "text"
      },
      "source": [
        "####The model has provided 81% of accuracy."
      ]
    },
    {
      "cell_type": "code",
      "metadata": {
        "id": "DiQa2SJ6Qptx",
        "colab_type": "code",
        "outputId": "8073efba-fe1c-44f3-95b2-1a2e47a3d8fa",
        "colab": {
          "base_uri": "https://localhost:8080/",
          "height": 34
        }
      },
      "source": [
        "acc"
      ],
      "execution_count": 0,
      "outputs": [
        {
          "output_type": "execute_result",
          "data": {
            "text/plain": [
              "0.8113333333333334"
            ]
          },
          "metadata": {
            "tags": []
          },
          "execution_count": 86
        }
      ]
    },
    {
      "cell_type": "code",
      "metadata": {
        "id": "JlxjcqbuQyeZ",
        "colab_type": "code",
        "outputId": "597f0d52-011b-40b7-870a-fb6070d17f31",
        "colab": {
          "base_uri": "https://localhost:8080/",
          "height": 51
        }
      },
      "source": [
        "cm"
      ],
      "execution_count": 0,
      "outputs": [
        {
          "output_type": "execute_result",
          "data": {
            "text/plain": [
              "array([[2376,    3],\n",
              "       [ 563,   58]])"
            ]
          },
          "metadata": {
            "tags": []
          },
          "execution_count": 87
        }
      ]
    },
    {
      "cell_type": "markdown",
      "metadata": {
        "id": "_q2AsgWnAWD4",
        "colab_type": "text"
      },
      "source": [
        "####The confusion matrix indicates the following, \n",
        "a. The model corectly predicted 2376 employee will leave bank(TP). \n",
        "\n",
        "b. 58 employees are idenitified as they will leave the bank, but they won't(TN). \n",
        "\n",
        "c. 563 employees are wrongly identified that they will leave the bank(FP).\n",
        "\n",
        "d. 3 employees are identified as they will not leave the bank, but they will leave the bank(FN)"
      ]
    },
    {
      "cell_type": "code",
      "metadata": {
        "id": "o1OuPw3CQz12",
        "colab_type": "code",
        "colab": {}
      },
      "source": [
        ""
      ],
      "execution_count": 0,
      "outputs": []
    }
  ]
}