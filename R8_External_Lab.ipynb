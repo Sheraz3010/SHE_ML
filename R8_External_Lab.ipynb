{
  "nbformat": 4,
  "nbformat_minor": 0,
  "metadata": {
    "colab": {
      "name": "R8_External_Lab.ipynb",
      "provenance": [],
      "collapsed_sections": []
    },
    "language_info": {
      "codemirror_mode": {
        "name": "ipython",
        "version": 3
      },
      "file_extension": ".py",
      "mimetype": "text/x-python",
      "name": "python",
      "nbconvert_exporter": "python",
      "pygments_lexer": "ipython3",
      "version": "3.7.1"
    },
    "kernelspec": {
      "display_name": "Python 3",
      "language": "python",
      "name": "python3"
    },
    "accelerator": "GPU"
  },
  "cells": [
    {
      "cell_type": "markdown",
      "metadata": {
        "colab_type": "text",
        "id": "QGIsF1ADyJ58"
      },
      "source": [
        "# Transfer Learning CIFAR10"
      ]
    },
    {
      "cell_type": "markdown",
      "metadata": {
        "colab_type": "text",
        "id": "E-n6tVFayGBe"
      },
      "source": [
        "* Train a simple convnet on the CIFAR dataset the first 5 output classes [0..4].\n",
        "* Freeze convolutional layers and fine-tune dense layers for the last 5 ouput classes [5..9].\n"
      ]
    },
    {
      "cell_type": "markdown",
      "metadata": {
        "colab_type": "text",
        "id": "Cq8ejXHJyGYq"
      },
      "source": [
        "### 1. Import CIFAR10 data and create 2 datasets with one dataset having classes from 0 to 4 and other having classes from 5 to 9 "
      ]
    },
    {
      "cell_type": "markdown",
      "metadata": {
        "id": "CBks34UWhjRk",
        "colab_type": "text"
      },
      "source": [
        "#####Importing Tensprflow and Keras libraries:"
      ]
    },
    {
      "cell_type": "code",
      "metadata": {
        "colab_type": "code",
        "id": "uWYbxnBayFUP",
        "outputId": "d936df7a-6a75-4f14-dbb1-3c9dcb87f81c",
        "colab": {
          "base_uri": "https://localhost:8080/",
          "height": 35
        }
      },
      "source": [
        "import numpy as np\n",
        "import pandas as pd\n",
        "import keras"
      ],
      "execution_count": 0,
      "outputs": [
        {
          "output_type": "stream",
          "text": [
            "Using TensorFlow backend.\n"
          ],
          "name": "stderr"
        }
      ]
    },
    {
      "cell_type": "markdown",
      "metadata": {
        "id": "i9HYiqYwiGM4",
        "colab_type": "text"
      },
      "source": [
        "#####Importing Cifar10 library:"
      ]
    },
    {
      "cell_type": "code",
      "metadata": {
        "colab_type": "code",
        "id": "PX4EshqIx9Ps",
        "outputId": "dcacbd85-ce8c-48a3-830e-cfe0ebee1e3b",
        "colab": {
          "base_uri": "https://localhost:8080/",
          "height": 52
        }
      },
      "source": [
        "(x_train,y_train),(x_test,y_test)=keras.datasets.cifar10.load_data()"
      ],
      "execution_count": 0,
      "outputs": [
        {
          "output_type": "stream",
          "text": [
            "Downloading data from https://www.cs.toronto.edu/~kriz/cifar-10-python.tar.gz\n",
            "170500096/170498071 [==============================] - 2s 0us/step\n"
          ],
          "name": "stdout"
        }
      ]
    },
    {
      "cell_type": "code",
      "metadata": {
        "colab_type": "code",
        "id": "SMu043ySyZKf",
        "outputId": "853a5320-0624-4753-fe94-22814687b721",
        "colab": {
          "base_uri": "https://localhost:8080/",
          "height": 35
        }
      },
      "source": [
        "index_0to4 = np.where(y_train<5)[0]\n",
        "x_train_0to4 = x_train[index_0to4]\n",
        "y_train_0to4 = y_train[index_0to4]\n",
        "print(x_train_0to4.shape,y_train_0to4.shape)"
      ],
      "execution_count": 0,
      "outputs": [
        {
          "output_type": "stream",
          "text": [
            "(25000, 32, 32, 3) (25000, 1)\n"
          ],
          "name": "stdout"
        }
      ]
    },
    {
      "cell_type": "code",
      "metadata": {
        "colab_type": "code",
        "id": "DMOFBqg839gj",
        "outputId": "96200a28-8efc-45ea-ab50-09509580f2bc",
        "colab": {
          "base_uri": "https://localhost:8080/",
          "height": 35
        }
      },
      "source": [
        "index_5to9 = np.where(y_train>4)[0]\n",
        "x_train_5to9 = x_train[index_5to9]\n",
        "y_train_5to9 = y_train[index_5to9]\n",
        "print(x_train_5to9.shape,y_train_5to9.shape)"
      ],
      "execution_count": 0,
      "outputs": [
        {
          "output_type": "stream",
          "text": [
            "(25000, 32, 32, 3) (25000, 1)\n"
          ],
          "name": "stdout"
        }
      ]
    },
    {
      "cell_type": "code",
      "metadata": {
        "colab_type": "code",
        "id": "7Hx5xzjxC8Qa",
        "outputId": "f791a419-d36d-4507-f739-e0b49ae40c7f",
        "colab": {
          "base_uri": "https://localhost:8080/",
          "height": 35
        }
      },
      "source": [
        "index_test_0to4 = np.where(y_test<5)[0]\n",
        "x_test_0to4 = x_test[index_test_0to4]\n",
        "y_test_0to4 = y_test[index_test_0to4]\n",
        "print(x_test_0to4.shape,y_test_0to4.shape)"
      ],
      "execution_count": 0,
      "outputs": [
        {
          "output_type": "stream",
          "text": [
            "(5000, 32, 32, 3) (5000, 1)\n"
          ],
          "name": "stdout"
        }
      ]
    },
    {
      "cell_type": "code",
      "metadata": {
        "colab_type": "code",
        "id": "B8JsUoAoEydK",
        "outputId": "fa61888c-0df6-4c81-9e0d-db4340217c1f",
        "colab": {
          "base_uri": "https://localhost:8080/",
          "height": 35
        }
      },
      "source": [
        "index_test_5to9 = np.where(y_test>4)[0]\n",
        "x_test_5to9 = x_test[index_test_5to9]\n",
        "y_test_5to9 = y_test[index_test_5to9]\n",
        "print(x_test_5to9.shape,y_test_5to9.shape)"
      ],
      "execution_count": 0,
      "outputs": [
        {
          "output_type": "stream",
          "text": [
            "(5000, 32, 32, 3) (5000, 1)\n"
          ],
          "name": "stdout"
        }
      ]
    },
    {
      "cell_type": "markdown",
      "metadata": {
        "colab_type": "text",
        "id": "xtCKmQh4yXhT"
      },
      "source": [
        "### 2. Use One-hot encoding to divide y_train and y_test into required no of output classes"
      ]
    },
    {
      "cell_type": "markdown",
      "metadata": {
        "id": "YH7KEwD-ibHB",
        "colab_type": "text"
      },
      "source": [
        "#####Dividing given data into Train and Test data to apply One-hot encoding:"
      ]
    },
    {
      "cell_type": "code",
      "metadata": {
        "colab_type": "code",
        "id": "uN5O2kJ3yYa6",
        "colab": {}
      },
      "source": [
        "y_train_0to4_enc = keras.utils.to_categorical(y_train_0to4)\n",
        "y_train_5to9_enc = keras.utils.to_categorical(y_train_5to9)[:,5:]\n",
        "y_test_0to4_enc = keras.utils.to_categorical(y_test_0to4)\n",
        "y_test_5to9_enc = keras.utils.to_categorical(y_test_5to9)[:,5:]"
      ],
      "execution_count": 0,
      "outputs": []
    },
    {
      "cell_type": "code",
      "metadata": {
        "id": "cNsFR1FB_Xon",
        "colab_type": "code",
        "outputId": "65f1c77e-0904-4f7a-d35e-f203d06f4d19",
        "colab": {
          "base_uri": "https://localhost:8080/",
          "height": 52
        }
      },
      "source": [
        "print(y_train_0to4_enc.shape,y_train_5to9_enc.shape)\n",
        "print(y_test_0to4_enc.shape,y_test_5to9_enc.shape)"
      ],
      "execution_count": 0,
      "outputs": [
        {
          "output_type": "stream",
          "text": [
            "(25000, 5) (25000, 5)\n",
            "(5000, 5) (5000, 5)\n"
          ],
          "name": "stdout"
        }
      ]
    },
    {
      "cell_type": "markdown",
      "metadata": {
        "colab_type": "text",
        "id": "cuOiKWfeybAl"
      },
      "source": [
        "### 3. Build a sequential neural network model which can classify the classes 0 to 4 of CIFAR10 dataset with at least 80% accuracy on test data"
      ]
    },
    {
      "cell_type": "code",
      "metadata": {
        "colab_type": "code",
        "id": "5HzxNbiiyoBD",
        "colab": {}
      },
      "source": [
        "from keras.models import Sequential\n",
        "from keras.layers import Dense,Conv2D,Flatten,MaxPool2D,Dropout\n",
        "from keras import callbacks"
      ],
      "execution_count": 0,
      "outputs": []
    },
    {
      "cell_type": "markdown",
      "metadata": {
        "id": "QOm7yQbljJ47",
        "colab_type": "text"
      },
      "source": [
        "#####Normalizing the inputs from 0-255 to 0.0-1.0"
      ]
    },
    {
      "cell_type": "markdown",
      "metadata": {
        "id": "s58lV8Nd3bpR",
        "colab_type": "text"
      },
      "source": [
        "##### Initializing Sequential Model:"
      ]
    },
    {
      "cell_type": "code",
      "metadata": {
        "id": "xLvu8QS33fcI",
        "colab_type": "code",
        "colab": {}
      },
      "source": [
        "model_0to4 = Sequential()"
      ],
      "execution_count": 0,
      "outputs": []
    },
    {
      "cell_type": "markdown",
      "metadata": {
        "id": "-JtaDV333iXC",
        "colab_type": "text"
      },
      "source": [
        "##### Additing 1st convolution layer:"
      ]
    },
    {
      "cell_type": "code",
      "metadata": {
        "id": "zwyTl6TU3tHl",
        "colab_type": "code",
        "colab": {}
      },
      "source": [
        "model_0to4.add(Conv2D(24,(3,3),input_shape=(32,32,3),activation='relu'))"
      ],
      "execution_count": 0,
      "outputs": []
    },
    {
      "cell_type": "markdown",
      "metadata": {
        "id": "hdX5TSHL4S8E",
        "colab_type": "text"
      },
      "source": [
        "##### Additing MaxPooling layer:"
      ]
    },
    {
      "cell_type": "code",
      "metadata": {
        "id": "OqI7-53c4W5I",
        "colab_type": "code",
        "colab": {}
      },
      "source": [
        "model_0to4.add(MaxPool2D(pool_size=(2,2)))"
      ],
      "execution_count": 0,
      "outputs": []
    },
    {
      "cell_type": "markdown",
      "metadata": {
        "id": "_HBiWT824cfK",
        "colab_type": "text"
      },
      "source": [
        "##### Additing 2nd convolution layer:"
      ]
    },
    {
      "cell_type": "code",
      "metadata": {
        "id": "aLRpM-VS4mBe",
        "colab_type": "code",
        "colab": {}
      },
      "source": [
        "model_0to4.add(Conv2D(256,(3,3),activation='relu'))"
      ],
      "execution_count": 0,
      "outputs": []
    },
    {
      "cell_type": "markdown",
      "metadata": {
        "id": "jYeztq4_4qxl",
        "colab_type": "text"
      },
      "source": [
        "##### Addition of 3rd Covolution layer:"
      ]
    },
    {
      "cell_type": "code",
      "metadata": {
        "id": "YEHbpVX24uZf",
        "colab_type": "code",
        "colab": {}
      },
      "source": [
        "model_0to4.add(Conv2D(512,(3,3),activation = 'relu'))"
      ],
      "execution_count": 0,
      "outputs": []
    },
    {
      "cell_type": "markdown",
      "metadata": {
        "id": "GFUinvTp4yRn",
        "colab_type": "text"
      },
      "source": [
        "##### Addition of MaxPooling layer"
      ]
    },
    {
      "cell_type": "code",
      "metadata": {
        "id": "DGnDV3DH4263",
        "colab_type": "code",
        "colab": {}
      },
      "source": [
        "model_0to4.add(MaxPool2D(pool_size=(2,2)))"
      ],
      "execution_count": 0,
      "outputs": []
    },
    {
      "cell_type": "markdown",
      "metadata": {
        "id": "X-8c705l45x_",
        "colab_type": "text"
      },
      "source": [
        "##### Flatten the results for dense layer"
      ]
    },
    {
      "cell_type": "code",
      "metadata": {
        "id": "LIKlYKiN49JZ",
        "colab_type": "code",
        "colab": {}
      },
      "source": [
        "model_0to4.add(Flatten())"
      ],
      "execution_count": 0,
      "outputs": []
    },
    {
      "cell_type": "markdown",
      "metadata": {
        "id": "OjITo9gF5CBd",
        "colab_type": "text"
      },
      "source": [
        "##### Adding 1st Dense layer:"
      ]
    },
    {
      "cell_type": "code",
      "metadata": {
        "id": "HFnJV59Z5F_i",
        "colab_type": "code",
        "colab": {}
      },
      "source": [
        "model_0to4.add(Dense(500,activation='sigmoid'))"
      ],
      "execution_count": 0,
      "outputs": []
    },
    {
      "cell_type": "markdown",
      "metadata": {
        "id": "9yHLwBsh52Hr",
        "colab_type": "text"
      },
      "source": [
        "##### Adding 15% dropout layer:"
      ]
    },
    {
      "cell_type": "code",
      "metadata": {
        "id": "0kBBuEID55nn",
        "colab_type": "code",
        "colab": {}
      },
      "source": [
        "model_0to4.add(Dropout(0.35))"
      ],
      "execution_count": 0,
      "outputs": []
    },
    {
      "cell_type": "markdown",
      "metadata": {
        "id": "UFrf37Vh58mP",
        "colab_type": "text"
      },
      "source": [
        "##### Adding 3rd Dense layer:"
      ]
    },
    {
      "cell_type": "code",
      "metadata": {
        "id": "llMWMI3h6AYO",
        "colab_type": "code",
        "colab": {}
      },
      "source": [
        "model_0to4.add(Dense(150,activation='sigmoid'))"
      ],
      "execution_count": 0,
      "outputs": []
    },
    {
      "cell_type": "markdown",
      "metadata": {
        "id": "KQyUPy3w6DRi",
        "colab_type": "text"
      },
      "source": [
        "##### Adding 4th Dense layer:"
      ]
    },
    {
      "cell_type": "code",
      "metadata": {
        "id": "UbPTFVNC6LAH",
        "colab_type": "code",
        "colab": {}
      },
      "source": [
        "model_0to4.add(Dense(50,activation='sigmoid'))"
      ],
      "execution_count": 0,
      "outputs": []
    },
    {
      "cell_type": "markdown",
      "metadata": {
        "id": "CwhpeoRY6OEd",
        "colab_type": "text"
      },
      "source": [
        "#####Adding output layer:"
      ]
    },
    {
      "cell_type": "code",
      "metadata": {
        "id": "BU04Y0Dp_Xox",
        "colab_type": "code",
        "colab": {}
      },
      "source": [
        "model_0to4.add(Dense(5,activation='softmax'))"
      ],
      "execution_count": 0,
      "outputs": []
    },
    {
      "cell_type": "code",
      "metadata": {
        "id": "8x6iVllY_Xo1",
        "colab_type": "code",
        "colab": {}
      },
      "source": [
        "sgd_opt = keras.optimizers.SGD(lr=0.02)\n",
        "model_0to4.compile(loss='categorical_crossentropy',optimizer=sgd_opt,metrics=['accuracy'])"
      ],
      "execution_count": 0,
      "outputs": []
    },
    {
      "cell_type": "markdown",
      "metadata": {
        "id": "dXNku57c6c3U",
        "colab_type": "text"
      },
      "source": [
        "##### Monitoring val_acc and stop training when it stops improving:"
      ]
    },
    {
      "cell_type": "code",
      "metadata": {
        "id": "-v99pTDC_Xo4",
        "colab_type": "code",
        "outputId": "e0cbe599-c6bd-4058-e487-2243678a12e4",
        "colab": {
          "base_uri": "https://localhost:8080/",
          "height": 959
        }
      },
      "source": [
        "callback_list = [callbacks.EarlyStopping(monitor='val_acc',patience=5,verbose=1,mode='auto')]\n",
        "\n",
        "model_0to4.fit(x_train_0to4,y_train_0to4_enc,batch_size=32,epochs=50,callbacks=callback_list,\n",
        "               validation_data=(x_test_0to4,y_test_0to4_enc))"
      ],
      "execution_count": 0,
      "outputs": [
        {
          "output_type": "stream",
          "text": [
            "Train on 25000 samples, validate on 5000 samples\n",
            "Epoch 1/50\n",
            "25000/25000 [==============================] - 14s 579us/step - loss: 1.4662 - acc: 0.3778 - val_loss: 1.4126 - val_acc: 0.3890\n",
            "Epoch 2/50\n",
            "25000/25000 [==============================] - 11s 438us/step - loss: 1.1503 - acc: 0.5436 - val_loss: 0.9941 - val_acc: 0.5996\n",
            "Epoch 3/50\n",
            "25000/25000 [==============================] - 11s 437us/step - loss: 0.9563 - acc: 0.6264 - val_loss: 0.9961 - val_acc: 0.6142\n",
            "Epoch 4/50\n",
            "25000/25000 [==============================] - 11s 435us/step - loss: 0.8368 - acc: 0.6727 - val_loss: 1.0025 - val_acc: 0.5912\n",
            "Epoch 5/50\n",
            "25000/25000 [==============================] - 11s 434us/step - loss: 0.7406 - acc: 0.7188 - val_loss: 1.0965 - val_acc: 0.5546\n",
            "Epoch 6/50\n",
            "25000/25000 [==============================] - 11s 430us/step - loss: 0.6507 - acc: 0.7591 - val_loss: 0.7362 - val_acc: 0.7112\n",
            "Epoch 7/50\n",
            "25000/25000 [==============================] - 11s 429us/step - loss: 0.5783 - acc: 0.7844 - val_loss: 0.6628 - val_acc: 0.7470\n",
            "Epoch 8/50\n",
            "25000/25000 [==============================] - 11s 435us/step - loss: 0.5062 - acc: 0.8162 - val_loss: 0.6881 - val_acc: 0.7396\n",
            "Epoch 9/50\n",
            "25000/25000 [==============================] - 11s 432us/step - loss: 0.4368 - acc: 0.8429 - val_loss: 0.5833 - val_acc: 0.7892\n",
            "Epoch 10/50\n",
            "25000/25000 [==============================] - 11s 427us/step - loss: 0.3644 - acc: 0.8707 - val_loss: 0.8472 - val_acc: 0.6926\n",
            "Epoch 11/50\n",
            "25000/25000 [==============================] - 11s 434us/step - loss: 0.2987 - acc: 0.8970 - val_loss: 0.9222 - val_acc: 0.7014\n",
            "Epoch 12/50\n",
            "25000/25000 [==============================] - 11s 428us/step - loss: 0.2411 - acc: 0.9169 - val_loss: 0.7646 - val_acc: 0.7490\n",
            "Epoch 13/50\n",
            "25000/25000 [==============================] - 11s 428us/step - loss: 0.1805 - acc: 0.9414 - val_loss: 0.5733 - val_acc: 0.8062\n",
            "Epoch 14/50\n",
            "25000/25000 [==============================] - 11s 429us/step - loss: 0.1257 - acc: 0.9620 - val_loss: 0.6346 - val_acc: 0.7954\n",
            "Epoch 15/50\n",
            "25000/25000 [==============================] - 11s 429us/step - loss: 0.0826 - acc: 0.9776 - val_loss: 0.8800 - val_acc: 0.7422\n",
            "Epoch 16/50\n",
            "25000/25000 [==============================] - 11s 429us/step - loss: 0.0516 - acc: 0.9882 - val_loss: 0.6662 - val_acc: 0.8042\n",
            "Epoch 17/50\n",
            "25000/25000 [==============================] - 11s 428us/step - loss: 0.0331 - acc: 0.9942 - val_loss: 0.7042 - val_acc: 0.8018\n",
            "Epoch 18/50\n",
            "25000/25000 [==============================] - 11s 428us/step - loss: 0.0167 - acc: 0.9982 - val_loss: 0.6640 - val_acc: 0.8166\n",
            "Epoch 19/50\n",
            "25000/25000 [==============================] - 11s 428us/step - loss: 0.0099 - acc: 0.9995 - val_loss: 0.6739 - val_acc: 0.8238\n",
            "Epoch 20/50\n",
            "25000/25000 [==============================] - 11s 429us/step - loss: 0.0068 - acc: 0.9998 - val_loss: 0.6812 - val_acc: 0.8258\n",
            "Epoch 21/50\n",
            "25000/25000 [==============================] - 11s 428us/step - loss: 0.0054 - acc: 0.9999 - val_loss: 0.6899 - val_acc: 0.8218\n",
            "Epoch 22/50\n",
            "25000/25000 [==============================] - 11s 432us/step - loss: 0.0043 - acc: 1.0000 - val_loss: 0.6943 - val_acc: 0.8246\n",
            "Epoch 23/50\n",
            "25000/25000 [==============================] - 11s 429us/step - loss: 0.0035 - acc: 1.0000 - val_loss: 0.6999 - val_acc: 0.8240\n",
            "Epoch 24/50\n",
            "25000/25000 [==============================] - 11s 429us/step - loss: 0.0031 - acc: 1.0000 - val_loss: 0.7111 - val_acc: 0.8258\n",
            "Epoch 25/50\n",
            "25000/25000 [==============================] - 11s 429us/step - loss: 0.0027 - acc: 1.0000 - val_loss: 0.7208 - val_acc: 0.8250\n",
            "Epoch 00025: early stopping\n"
          ],
          "name": "stdout"
        },
        {
          "output_type": "execute_result",
          "data": {
            "text/plain": [
              "<keras.callbacks.History at 0x7fe5d3916b70>"
            ]
          },
          "metadata": {
            "tags": []
          },
          "execution_count": 135
        }
      ]
    },
    {
      "cell_type": "markdown",
      "metadata": {
        "colab_type": "text",
        "id": "woTfNst_ynRG"
      },
      "source": [
        "### 4. In the model which was built above (for classification of classes 0-4 in CIFAR10), make only the dense layers to be trainable and conv layers to be non-trainable"
      ]
    },
    {
      "cell_type": "code",
      "metadata": {
        "colab_type": "code",
        "id": "o_VCDB3Byb1a",
        "outputId": "963251f5-5883-490a-aded-8dc74ffa50e9",
        "colab": {
          "base_uri": "https://localhost:8080/",
          "height": 532
        }
      },
      "source": [
        "model_0to4.summary()"
      ],
      "execution_count": 0,
      "outputs": [
        {
          "output_type": "stream",
          "text": [
            "_________________________________________________________________\n",
            "Layer (type)                 Output Shape              Param #   \n",
            "=================================================================\n",
            "conv2d_118 (Conv2D)          (None, 30, 30, 24)        672       \n",
            "_________________________________________________________________\n",
            "max_pooling2d_59 (MaxPooling (None, 15, 15, 24)        0         \n",
            "_________________________________________________________________\n",
            "conv2d_119 (Conv2D)          (None, 13, 13, 256)       55552     \n",
            "_________________________________________________________________\n",
            "conv2d_120 (Conv2D)          (None, 11, 11, 512)       1180160   \n",
            "_________________________________________________________________\n",
            "max_pooling2d_60 (MaxPooling (None, 5, 5, 512)         0         \n",
            "_________________________________________________________________\n",
            "flatten_42 (Flatten)         (None, 12800)             0         \n",
            "_________________________________________________________________\n",
            "dense_168 (Dense)            (None, 500)               6400500   \n",
            "_________________________________________________________________\n",
            "dropout_42 (Dropout)         (None, 500)               0         \n",
            "_________________________________________________________________\n",
            "dense_169 (Dense)            (None, 150)               75150     \n",
            "_________________________________________________________________\n",
            "dense_170 (Dense)            (None, 50)                7550      \n",
            "_________________________________________________________________\n",
            "dense_171 (Dense)            (None, 5)                 255       \n",
            "=================================================================\n",
            "Total params: 7,719,839\n",
            "Trainable params: 7,719,839\n",
            "Non-trainable params: 0\n",
            "_________________________________________________________________\n"
          ],
          "name": "stdout"
        }
      ]
    },
    {
      "cell_type": "code",
      "metadata": {
        "id": "Zothb_Xc8fE7",
        "colab_type": "code",
        "colab": {}
      },
      "source": [
        "for layer in model_0to4.layers:\n",
        "  if(type(layer) == Conv2D) :\n",
        "    layer.trainable=False"
      ],
      "execution_count": 0,
      "outputs": []
    },
    {
      "cell_type": "code",
      "metadata": {
        "id": "p3edUZo4_8NI",
        "colab_type": "code",
        "outputId": "ad11b60c-f5c4-46bc-bd67-260092e67c24",
        "colab": {
          "base_uri": "https://localhost:8080/",
          "height": 588
        }
      },
      "source": [
        "model_0to4.summary()"
      ],
      "execution_count": 0,
      "outputs": [
        {
          "output_type": "stream",
          "text": [
            "_________________________________________________________________\n",
            "Layer (type)                 Output Shape              Param #   \n",
            "=================================================================\n",
            "conv2d_118 (Conv2D)          (None, 30, 30, 24)        672       \n",
            "_________________________________________________________________\n",
            "max_pooling2d_59 (MaxPooling (None, 15, 15, 24)        0         \n",
            "_________________________________________________________________\n",
            "conv2d_119 (Conv2D)          (None, 13, 13, 256)       55552     \n",
            "_________________________________________________________________\n",
            "conv2d_120 (Conv2D)          (None, 11, 11, 512)       1180160   \n",
            "_________________________________________________________________\n",
            "max_pooling2d_60 (MaxPooling (None, 5, 5, 512)         0         \n",
            "_________________________________________________________________\n",
            "flatten_42 (Flatten)         (None, 12800)             0         \n",
            "_________________________________________________________________\n",
            "dense_168 (Dense)            (None, 500)               6400500   \n",
            "_________________________________________________________________\n",
            "dropout_42 (Dropout)         (None, 500)               0         \n",
            "_________________________________________________________________\n",
            "dense_169 (Dense)            (None, 150)               75150     \n",
            "_________________________________________________________________\n",
            "dense_170 (Dense)            (None, 50)                7550      \n",
            "_________________________________________________________________\n",
            "dense_171 (Dense)            (None, 5)                 255       \n",
            "=================================================================\n",
            "Total params: 8,956,223\n",
            "Trainable params: 7,719,839\n",
            "Non-trainable params: 1,236,384\n",
            "_________________________________________________________________\n"
          ],
          "name": "stdout"
        },
        {
          "output_type": "stream",
          "text": [
            "/usr/local/lib/python3.6/dist-packages/keras/engine/training.py:490: UserWarning: Discrepancy between trainable weights and collected trainable weights, did you set `model.trainable` without calling `model.compile` after ?\n",
            "  'Discrepancy between trainable weights and collected trainable'\n"
          ],
          "name": "stderr"
        }
      ]
    },
    {
      "cell_type": "markdown",
      "metadata": {
        "colab_type": "text",
        "id": "1-uUPqWpyeyX"
      },
      "source": [
        "### 5. Utilize the the model trained on CIFAR 10 (classes 0 to 4) to classify the classes 5 to 9 of CIFAR 10  (Use Transfer Learning) <br>\n",
        "Achieve an accuracy of more than 85% on test data"
      ]
    },
    {
      "cell_type": "markdown",
      "metadata": {
        "id": "fB1C5L926uWs",
        "colab_type": "text"
      },
      "source": [
        "##### Monitoring val_acc and stop training when it stops improving:"
      ]
    },
    {
      "cell_type": "code",
      "metadata": {
        "colab_type": "code",
        "id": "szHjJgDvyfCt",
        "outputId": "80964abc-b942-474a-ec1e-c9a0e637b126",
        "colab": {
          "base_uri": "https://localhost:8080/",
          "height": 1228
        }
      },
      "source": [
        "callback_list = [callbacks.EarlyStopping(monitor='val_acc',patience=5,verbose=1,mode='auto')]\n",
        "\n",
        "model_0to4.fit(x_train_5to9,y_train_5to9_enc,batch_size=32,epochs=50,callbacks=callback_list,\n",
        "               validation_data=(x_test_5to9,y_test_5to9_enc))"
      ],
      "execution_count": 0,
      "outputs": [
        {
          "output_type": "stream",
          "text": [
            "Train on 25000 samples, validate on 5000 samples\n",
            "Epoch 1/50\n",
            "  320/25000 [..............................] - ETA: 14s - loss: 4.7552 - acc: 0.2469"
          ],
          "name": "stdout"
        },
        {
          "output_type": "stream",
          "text": [
            "/usr/local/lib/python3.6/dist-packages/keras/engine/training.py:490: UserWarning: Discrepancy between trainable weights and collected trainable weights, did you set `model.trainable` without calling `model.compile` after ?\n",
            "  'Discrepancy between trainable weights and collected trainable'\n"
          ],
          "name": "stderr"
        },
        {
          "output_type": "stream",
          "text": [
            "25000/25000 [==============================] - 11s 442us/step - loss: 0.8763 - acc: 0.6837 - val_loss: 0.6756 - val_acc: 0.7480\n",
            "Epoch 2/50\n",
            "25000/25000 [==============================] - 11s 434us/step - loss: 0.5387 - acc: 0.7997 - val_loss: 0.5640 - val_acc: 0.7896\n",
            "Epoch 3/50\n",
            "25000/25000 [==============================] - 11s 437us/step - loss: 0.4237 - acc: 0.8475 - val_loss: 0.4839 - val_acc: 0.8238\n",
            "Epoch 4/50\n",
            "25000/25000 [==============================] - 11s 437us/step - loss: 0.3324 - acc: 0.8806 - val_loss: 1.3546 - val_acc: 0.6158\n",
            "Epoch 5/50\n",
            "25000/25000 [==============================] - 11s 431us/step - loss: 0.2681 - acc: 0.9036 - val_loss: 0.6287 - val_acc: 0.7900\n",
            "Epoch 6/50\n",
            "25000/25000 [==============================] - 11s 432us/step - loss: 0.1926 - acc: 0.9332 - val_loss: 0.4909 - val_acc: 0.8332\n",
            "Epoch 7/50\n",
            "25000/25000 [==============================] - 11s 430us/step - loss: 0.1364 - acc: 0.9533 - val_loss: 0.5284 - val_acc: 0.8290\n",
            "Epoch 8/50\n",
            "25000/25000 [==============================] - 11s 431us/step - loss: 0.0864 - acc: 0.9732 - val_loss: 0.4048 - val_acc: 0.8746\n",
            "Epoch 9/50\n",
            "25000/25000 [==============================] - 11s 434us/step - loss: 0.0549 - acc: 0.9850 - val_loss: 0.5501 - val_acc: 0.8420\n",
            "Epoch 10/50\n",
            "25000/25000 [==============================] - 11s 446us/step - loss: 0.0288 - acc: 0.9937 - val_loss: 0.4276 - val_acc: 0.8790\n",
            "Epoch 11/50\n",
            "25000/25000 [==============================] - 11s 437us/step - loss: 0.0158 - acc: 0.9975 - val_loss: 0.4077 - val_acc: 0.8856\n",
            "Epoch 12/50\n",
            "25000/25000 [==============================] - 11s 437us/step - loss: 0.0087 - acc: 0.9993 - val_loss: 0.4068 - val_acc: 0.8920\n",
            "Epoch 13/50\n",
            "25000/25000 [==============================] - 11s 432us/step - loss: 0.0055 - acc: 0.9998 - val_loss: 0.4104 - val_acc: 0.8922\n",
            "Epoch 14/50\n",
            "25000/25000 [==============================] - 11s 431us/step - loss: 0.0042 - acc: 0.9998 - val_loss: 0.4148 - val_acc: 0.8930\n",
            "Epoch 15/50\n",
            "25000/25000 [==============================] - 11s 433us/step - loss: 0.0033 - acc: 1.0000 - val_loss: 0.4245 - val_acc: 0.8894\n",
            "Epoch 16/50\n",
            "25000/25000 [==============================] - 11s 432us/step - loss: 0.0028 - acc: 0.9999 - val_loss: 0.4201 - val_acc: 0.8932\n",
            "Epoch 17/50\n",
            "25000/25000 [==============================] - 11s 432us/step - loss: 0.0025 - acc: 1.0000 - val_loss: 0.4166 - val_acc: 0.8936\n",
            "Epoch 18/50\n",
            "25000/25000 [==============================] - 11s 434us/step - loss: 0.0021 - acc: 1.0000 - val_loss: 0.4201 - val_acc: 0.8952\n",
            "Epoch 19/50\n",
            "25000/25000 [==============================] - 11s 434us/step - loss: 0.0020 - acc: 1.0000 - val_loss: 0.4231 - val_acc: 0.8950\n",
            "Epoch 20/50\n",
            "25000/25000 [==============================] - 11s 433us/step - loss: 0.0017 - acc: 1.0000 - val_loss: 0.4279 - val_acc: 0.8938\n",
            "Epoch 21/50\n",
            "25000/25000 [==============================] - 11s 433us/step - loss: 0.0016 - acc: 1.0000 - val_loss: 0.4285 - val_acc: 0.8956\n",
            "Epoch 22/50\n",
            "25000/25000 [==============================] - 11s 433us/step - loss: 0.0014 - acc: 1.0000 - val_loss: 0.4321 - val_acc: 0.8950\n",
            "Epoch 23/50\n",
            "25000/25000 [==============================] - 11s 434us/step - loss: 0.0013 - acc: 1.0000 - val_loss: 0.4326 - val_acc: 0.8946\n",
            "Epoch 24/50\n",
            "25000/25000 [==============================] - 11s 432us/step - loss: 0.0012 - acc: 1.0000 - val_loss: 0.4360 - val_acc: 0.8952\n",
            "Epoch 25/50\n",
            "25000/25000 [==============================] - 11s 431us/step - loss: 0.0012 - acc: 1.0000 - val_loss: 0.4355 - val_acc: 0.8940\n",
            "Epoch 26/50\n",
            "25000/25000 [==============================] - 11s 437us/step - loss: 0.0012 - acc: 1.0000 - val_loss: 0.4377 - val_acc: 0.8974\n",
            "Epoch 27/50\n",
            "25000/25000 [==============================] - 11s 431us/step - loss: 0.0011 - acc: 1.0000 - val_loss: 0.4408 - val_acc: 0.8958\n",
            "Epoch 28/50\n",
            "25000/25000 [==============================] - 11s 431us/step - loss: 0.0010 - acc: 1.0000 - val_loss: 0.4428 - val_acc: 0.8962\n",
            "Epoch 29/50\n",
            "25000/25000 [==============================] - 11s 437us/step - loss: 9.8403e-04 - acc: 1.0000 - val_loss: 0.4433 - val_acc: 0.8958\n",
            "Epoch 30/50\n",
            "25000/25000 [==============================] - 11s 430us/step - loss: 8.9124e-04 - acc: 1.0000 - val_loss: 0.4467 - val_acc: 0.8944\n",
            "Epoch 31/50\n",
            "25000/25000 [==============================] - 11s 431us/step - loss: 9.1245e-04 - acc: 1.0000 - val_loss: 0.4446 - val_acc: 0.8960\n",
            "Epoch 00031: early stopping\n"
          ],
          "name": "stdout"
        },
        {
          "output_type": "execute_result",
          "data": {
            "text/plain": [
              "<keras.callbacks.History at 0x7fe5d35d6828>"
            ]
          },
          "metadata": {
            "tags": []
          },
          "execution_count": 148
        }
      ]
    },
    {
      "cell_type": "markdown",
      "metadata": {
        "colab_type": "text",
        "id": "0zDuRecXzEtr"
      },
      "source": [
        "# Text classification using TF-IDF"
      ]
    },
    {
      "cell_type": "markdown",
      "metadata": {
        "colab_type": "text",
        "id": "xMPlEJhHzb6P"
      },
      "source": [
        "### 6. Load the dataset from sklearn.datasets"
      ]
    },
    {
      "cell_type": "code",
      "metadata": {
        "colab_type": "code",
        "id": "Fe-B59u3zHNb",
        "colab": {}
      },
      "source": [
        "from sklearn.datasets import fetch_20newsgroups"
      ],
      "execution_count": 0,
      "outputs": []
    },
    {
      "cell_type": "code",
      "metadata": {
        "colab_type": "code",
        "id": "PRrMemVQzbHU",
        "colab": {}
      },
      "source": [
        "categories = ['alt.atheism', 'soc.religion.christian', 'comp.graphics', 'sci.med']"
      ],
      "execution_count": 0,
      "outputs": []
    },
    {
      "cell_type": "markdown",
      "metadata": {
        "colab_type": "text",
        "id": "-sZX0UbJzmg5"
      },
      "source": [
        "### 7. Training data"
      ]
    },
    {
      "cell_type": "code",
      "metadata": {
        "colab_type": "code",
        "id": "CITr_5aXziJ2",
        "outputId": "f6ced325-e346-42e0-ddae-08000b214c6f",
        "colab": {
          "base_uri": "https://localhost:8080/",
          "height": 88
        }
      },
      "source": [
        "twenty_train = fetch_20newsgroups(subset='train', categories=categories, shuffle=True, random_state=42)"
      ],
      "execution_count": 0,
      "outputs": [
        {
          "output_type": "stream",
          "text": [
            "Downloading 20news dataset. This may take a few minutes.\n",
            "I0622 16:34:20.375514 140637328041856 twenty_newsgroups.py:247] Downloading 20news dataset. This may take a few minutes.\n",
            "Downloading dataset from https://ndownloader.figshare.com/files/5975967 (14 MB)\n",
            "I0622 16:34:20.378869 140637328041856 twenty_newsgroups.py:80] Downloading dataset from https://ndownloader.figshare.com/files/5975967 (14 MB)\n"
          ],
          "name": "stderr"
        }
      ]
    },
    {
      "cell_type": "markdown",
      "metadata": {
        "colab_type": "text",
        "id": "xcESc5QXzr6p"
      },
      "source": [
        "### 8. Test data"
      ]
    },
    {
      "cell_type": "code",
      "metadata": {
        "colab_type": "code",
        "id": "ysInblUMzpvl",
        "colab": {}
      },
      "source": [
        "twenty_test = fetch_20newsgroups(subset='test', categories=categories, shuffle=True, random_state=42)"
      ],
      "execution_count": 0,
      "outputs": []
    },
    {
      "cell_type": "markdown",
      "metadata": {
        "colab_type": "text",
        "id": "DriL2yZ50DQq"
      },
      "source": [
        "###  a.  You can access the values for the target variable using .target attribute \n",
        "###  b. You can access the name of the class in the target variable with .target_names\n"
      ]
    },
    {
      "cell_type": "code",
      "metadata": {
        "colab_type": "code",
        "id": "vlUuai99z1hX",
        "outputId": "822aba5e-2c2a-494e-ad33-fa5db9dc3a29",
        "colab": {
          "base_uri": "https://localhost:8080/",
          "height": 35
        }
      },
      "source": [
        "twenty_train.target"
      ],
      "execution_count": 0,
      "outputs": [
        {
          "output_type": "execute_result",
          "data": {
            "text/plain": [
              "array([1, 1, 3, ..., 2, 2, 2])"
            ]
          },
          "metadata": {
            "tags": []
          },
          "execution_count": 153
        }
      ]
    },
    {
      "cell_type": "code",
      "metadata": {
        "colab_type": "code",
        "id": "VEKzaDfSz5E-",
        "outputId": "12236e31-ab2c-49a9-8527-0e67e374114f",
        "colab": {
          "base_uri": "https://localhost:8080/",
          "height": 35
        }
      },
      "source": [
        "twenty_train.target_names"
      ],
      "execution_count": 0,
      "outputs": [
        {
          "output_type": "execute_result",
          "data": {
            "text/plain": [
              "['alt.atheism', 'comp.graphics', 'sci.med', 'soc.religion.christian']"
            ]
          },
          "metadata": {
            "tags": []
          },
          "execution_count": 154
        }
      ]
    },
    {
      "cell_type": "code",
      "metadata": {
        "colab_type": "code",
        "id": "clBMKHzC0_N1",
        "outputId": "ecba6b57-33fa-4dfd-827b-f9c2283d1aad",
        "colab": {
          "base_uri": "https://localhost:8080/",
          "height": 126
        }
      },
      "source": [
        "twenty_train.data[0:5]"
      ],
      "execution_count": 0,
      "outputs": [
        {
          "output_type": "execute_result",
          "data": {
            "text/plain": [
              "['From: sd345@city.ac.uk (Michael Collier)\\nSubject: Converting images to HP LaserJet III?\\nNntp-Posting-Host: hampton\\nOrganization: The City University\\nLines: 14\\n\\nDoes anyone know of a good way (standard PC application/PD utility) to\\nconvert tif/img/tga files into LaserJet III format.  We would also like to\\ndo the same, converting to HPGL (HP plotter) files.\\n\\nPlease email any response.\\n\\nIs this the correct group?\\n\\nThanks in advance.  Michael.\\n-- \\nMichael Collier (Programmer)                 The Computer Unit,\\nEmail: M.P.Collier@uk.ac.city                The City University,\\nTel: 071 477-8000 x3769                      London,\\nFax: 071 477-8565                            EC1V 0HB.\\n',\n",
              " \"From: ani@ms.uky.edu (Aniruddha B. Deglurkar)\\nSubject: help: Splitting a trimming region along a mesh \\nOrganization: University Of Kentucky, Dept. of Math Sciences\\nLines: 28\\n\\n\\n\\n\\tHi,\\n\\n\\tI have a problem, I hope some of the 'gurus' can help me solve.\\n\\n\\tBackground of the problem:\\n\\tI have a rectangular mesh in the uv domain, i.e  the mesh is a \\n\\tmapping of a 3d Bezier patch into 2d. The area in this domain\\n\\twhich is inside a trimming loop had to be rendered. The trimming\\n\\tloop is a set of 2d Bezier curve segments.\\n\\tFor the sake of notation: the mesh is made up of cells.\\n\\n\\tMy problem is this :\\n\\tThe trimming area has to be split up into individual smaller\\n\\tcells bounded by the trimming curve segments. If a cell\\n\\tis wholly inside the area...then it is output as a whole ,\\n\\telse it is trivially rejected. \\n\\n\\tDoes any body know how thiss can be done, or is there any algo. \\n\\tsomewhere for doing this.\\n\\n\\tAny help would be appreciated.\\n\\n\\tThanks, \\n\\tAni.\\n-- \\nTo get irritated is human, to stay cool, divine.\\n\",\n",
              " \"From: djohnson@cs.ucsd.edu (Darin Johnson)\\nSubject: Re: harrassed at work, could use some prayers\\nOrganization: =CSE Dept., U.C. San Diego\\nLines: 63\\n\\n(Well, I'll email also, but this may apply to other people, so\\nI'll post also.)\\n\\n>I've been working at this company for eight years in various\\n>engineering jobs.  I'm female.  Yesterday I counted and realized that\\n>on seven different occasions I've been sexually harrassed at this\\n>company.\\n\\n>I dreaded coming back to work today.  What if my boss comes in to ask\\n>me some kind of question...\\n\\nYour boss should be the person bring these problems to.  If he/she\\ndoes not seem to take any action, keep going up higher and higher.\\nSexual harrassment does not need to be tolerated, and it can be an\\nenormous emotional support to discuss this with someone and know that\\nthey are trying to do something about it.  If you feel you can not\\ndiscuss this with your boss, perhaps your company has a personnel\\ndepartment that can work for you while preserving your privacy.  Most\\ncompanies will want to deal with this problem because constant anxiety\\ndoes seriously affect how effectively employees do their jobs.\\n\\nIt is unclear from your letter if you have done this or not.  It is\\nnot inconceivable that management remains ignorant of employee\\nproblems/strife even after eight years (it's a miracle if they do\\nnotice).  Perhaps your manager did not bring to the attention of\\nhigher ups?  If the company indeed does seem to want to ignore the\\nentire problem, there may be a state agency willing to fight with\\nyou.  (check with a lawyer, a women's resource center, etc to find out)\\n\\nYou may also want to discuss this with your paster, priest, husband,\\netc.  That is, someone you know will not be judgemental and that is\\nsupportive, comforting, etc.  This will bring a lot of healing.\\n\\n>So I returned at 11:25, only to find that ever single\\n>person had already left for lunch.  They left at 11:15 or so.  No one\\n>could be bothered to call me at the other building, even though my\\n>number was posted.\\n\\nThis happens to a lot of people.  Honest.  I believe it may seem\\nto be due to gross insensitivity because of the feelings you are\\ngoing through.  People in offices tend to be more insensitive while\\nworking than they normally are (maybe it's the hustle or stress or...)\\nI've had this happen to me a lot, often because they didn't realize\\nmy car was broken, etc.  Then they will come back and wonder why I\\ndidn't want to go (this would tend to make me stop being angry at\\nbeing ignored and make me laugh).  Once, we went off without our\\nboss, who was paying for the lunch :-)\\n\\n>For this\\n>reason I hope good Mr. Moderator allows me this latest indulgence.\\n\\nWell, if you can't turn to the computer for support, what would\\nwe do?  (signs of the computer age :-)\\n\\nIn closing, please don't let the hateful actions of a single person\\nharm you.  They are doing it because they are still the playground\\nbully and enjoy seeing the hurt they cause.  And you should not\\naccept the opinions of an imbecile that you are worthless - much\\nwiser people hold you in great esteem.\\n-- \\nDarin Johnson\\ndjohnson@ucsd.edu\\n  - Luxury!  In MY day, we had to make do with 5 bytes of swap...\\n\",\n",
              " 'From: s0612596@let.rug.nl (M.M. Zwart)\\nSubject: catholic church poland\\nOrganization: Faculteit der Letteren, Rijksuniversiteit Groningen, NL\\nLines: 10\\n\\nHello,\\n\\nI\\'m writing a paper on the role of the catholic church in Poland after 1989. \\nCan anyone tell me more about this, or fill me in on recent books/articles(\\nin english, german or french). Most important for me is the role of the \\nchurch concerning the abortion-law, religious education at schools,\\nbirth-control and the relation church-state(government). Thanx,\\n\\n                                                 Masja,\\n\"M.M.Zwart\"<s0612596@let.rug.nl>\\n',\n",
              " 'From: stanly@grok11.columbiasc.ncr.com (stanly)\\nSubject: Re: Elder Brother\\nOrganization: NCR Corp., Columbia SC\\nLines: 15\\n\\nIn article <Apr.8.00.57.41.1993.28246@athos.rutgers.edu> REXLEX@fnal.gov writes:\\n>In article <Apr.7.01.56.56.1993.22824@athos.rutgers.edu> shrum@hpfcso.fc.hp.com\\n>Matt. 22:9-14 \\'Go therefore to the main highways, and as many as you find\\n>there, invite to the wedding feast.\\'...\\n\\n>hmmmmmm.  Sounds like your theology and Christ\\'s are at odds. Which one am I \\n>to believe?\\n\\nIn this parable, Jesus tells the parable of the wedding feast. \"The kingdom\\nof heaven is like unto a certain king which made a marriage for his son\".\\nSo the wedding clothes were customary,  and \"given\" to those who \"chose\" to\\nattend.  This man \"refused\" to wear the clothes.  The wedding clothes are\\nequalivant to the \"clothes of righteousness\".  When Jesus died for our sins,\\nthose \"clothes\" were then provided.  Like that man, it is our decision to\\nput the clothes on.\\n']"
            ]
          },
          "metadata": {
            "tags": []
          },
          "execution_count": 155
        }
      ]
    },
    {
      "cell_type": "markdown",
      "metadata": {
        "colab_type": "text",
        "id": "hTz4EaN_1WGc"
      },
      "source": [
        "### 9.  Now with dependent and independent data available for both train and test datasets, using TfidfVectorizer fit and transform the training data and test data and get the tfidf features for both"
      ]
    },
    {
      "cell_type": "markdown",
      "metadata": {
        "id": "aVkT8GIJ7RHk",
        "colab_type": "text"
      },
      "source": [
        "##### Using the TfIDFVectorizer to create document-term matrices:"
      ]
    },
    {
      "cell_type": "code",
      "metadata": {
        "colab_type": "code",
        "id": "H5G477f81C0Z",
        "colab": {}
      },
      "source": [
        "from sklearn.feature_extraction.text import TfidfVectorizer"
      ],
      "execution_count": 0,
      "outputs": []
    },
    {
      "cell_type": "code",
      "metadata": {
        "id": "cKf9DkjBErdx",
        "colab_type": "code",
        "colab": {}
      },
      "source": [
        "vectorizer = TfidfVectorizer()\n",
        "train_X = vectorizer.fit_transform(twenty_train.data).toarray()\n",
        "train_Y = twenty_train.target\n",
        "test_X = vectorizer.transform(twenty_test.data).toarray()\n",
        "test_Y = twenty_test.target"
      ],
      "execution_count": 0,
      "outputs": []
    },
    {
      "cell_type": "markdown",
      "metadata": {
        "colab_type": "text",
        "id": "tp_fDINJ1t4L"
      },
      "source": [
        "### 10. Use logisticRegression with tfidf features as input and targets as output and train the model and report the train and test accuracy score"
      ]
    },
    {
      "cell_type": "markdown",
      "metadata": {
        "id": "U5O6AHyO7bQe",
        "colab_type": "text"
      },
      "source": [
        "##### importing and instantiating a logistic regression model:"
      ]
    },
    {
      "cell_type": "code",
      "metadata": {
        "colab_type": "code",
        "id": "THlN2b5d1yQp",
        "colab": {}
      },
      "source": [
        "from sklearn.linear_model import LogisticRegression"
      ],
      "execution_count": 0,
      "outputs": []
    },
    {
      "cell_type": "code",
      "metadata": {
        "id": "R5imOw31H8pq",
        "colab_type": "code",
        "outputId": "8b8cc4f5-7916-4f81-f761-40448d77795e",
        "colab": {
          "base_uri": "https://localhost:8080/",
          "height": 177
        }
      },
      "source": [
        "vector_model = LogisticRegression()\n",
        "vector_model.fit(train_X,train_Y)"
      ],
      "execution_count": 0,
      "outputs": [
        {
          "output_type": "stream",
          "text": [
            "/usr/local/lib/python3.6/dist-packages/sklearn/linear_model/logistic.py:432: FutureWarning: Default solver will be changed to 'lbfgs' in 0.22. Specify a solver to silence this warning.\n",
            "  FutureWarning)\n",
            "/usr/local/lib/python3.6/dist-packages/sklearn/linear_model/logistic.py:469: FutureWarning: Default multi_class will be changed to 'auto' in 0.22. Specify the multi_class option to silence this warning.\n",
            "  \"this warning.\", FutureWarning)\n"
          ],
          "name": "stderr"
        },
        {
          "output_type": "execute_result",
          "data": {
            "text/plain": [
              "LogisticRegression(C=1.0, class_weight=None, dual=False, fit_intercept=True,\n",
              "                   intercept_scaling=1, l1_ratio=None, max_iter=100,\n",
              "                   multi_class='warn', n_jobs=None, penalty='l2',\n",
              "                   random_state=None, solver='warn', tol=0.0001, verbose=0,\n",
              "                   warm_start=False)"
            ]
          },
          "metadata": {
            "tags": []
          },
          "execution_count": 165
        }
      ]
    },
    {
      "cell_type": "code",
      "metadata": {
        "id": "e3eL-tQqJYNu",
        "colab_type": "code",
        "outputId": "66c6ee95-8ca9-45fd-b10f-55f8494bc2e9",
        "colab": {
          "base_uri": "https://localhost:8080/",
          "height": 52
        }
      },
      "source": [
        "print(\"Train accuracy score:- \",vector_model.score(train_X,train_Y))\n",
        "print(\"Test accuracy score:- \",vector_model.score(test_X,test_Y))"
      ],
      "execution_count": 0,
      "outputs": [
        {
          "output_type": "stream",
          "text": [
            "Train accuracy score:-  0.9827204253433761\n",
            "Test accuracy score:-  0.8868175765645806\n"
          ],
          "name": "stdout"
        }
      ]
    }
  ]
}