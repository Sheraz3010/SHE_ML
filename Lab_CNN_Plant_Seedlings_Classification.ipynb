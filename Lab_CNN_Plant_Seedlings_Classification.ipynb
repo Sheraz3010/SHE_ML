{
  "nbformat": 4,
  "nbformat_minor": 0,
  "metadata": {
    "kernelspec": {
      "display_name": "Python 3",
      "language": "python",
      "name": "python3"
    },
    "language_info": {
      "codemirror_mode": {
        "name": "ipython",
        "version": 3
      },
      "file_extension": ".py",
      "mimetype": "text/x-python",
      "name": "python",
      "nbconvert_exporter": "python",
      "pygments_lexer": "ipython3",
      "version": "3.7.3"
    },
    "colab": {
      "name": "R7_CNN_PlantSeedingClassification_Abdul.ipynb",
      "provenance": [],
      "collapsed_sections": []
    }
  },
  "cells": [
    {
      "cell_type": "markdown",
      "metadata": {
        "id": "MNcsFw1VDScm",
        "colab_type": "text"
      },
      "source": [
        "### CNN-Plant Seeding Classification Project"
      ]
    },
    {
      "cell_type": "markdown",
      "metadata": {
        "id": "lBqfgVbQDScw",
        "colab_type": "text"
      },
      "source": [
        "The case study is from a dataset from Kaggle. \n",
        "\n",
        "Link to the Kaggle project site:\n",
        "\n",
        "https://www.kaggle.com/c/plant-seedlings-classification (Links to an external site.)Links to an external site.\n",
        "\n",
        "The dataset has to be downloaded from the above Kaggle web site.\n",
        "\n",
        "\n",
        "Can you differentiate a weed from a crop seedling?\n",
        "\n",
        "The ability to do so effectively can mean better crop yields and better stewardship of the environment.\n",
        "\n",
        "The Aarhus University Signal Processing group, in collaboration with the University of Southern Denmark, has recently released a dataset containing images of approximately 960 unique plants belonging to 12 species at several growth stages."
      ]
    },
    {
      "cell_type": "markdown",
      "metadata": {
        "id": "a_XYuJwgwNXI",
        "colab_type": "text"
      },
      "source": [
        "##### Importing numpy and pandas libraries:"
      ]
    },
    {
      "cell_type": "code",
      "metadata": {
        "id": "v9rOADMaDSc5",
        "colab_type": "code",
        "outputId": "ff53d719-8793-439b-b173-9de103ad8900",
        "colab": {
          "base_uri": "https://localhost:8080/",
          "height": 34
        }
      },
      "source": [
        "import numpy as np\n",
        "import pandas as pd\n",
        "import tensorflow as tf\n",
        "import keras\n"
      ],
      "execution_count": 0,
      "outputs": [
        {
          "output_type": "stream",
          "text": [
            "Using TensorFlow backend.\n"
          ],
          "name": "stderr"
        }
      ]
    },
    {
      "cell_type": "markdown",
      "metadata": {
        "id": "VJpLyQn0wbZ0",
        "colab_type": "text"
      },
      "source": [
        "##### Importing ploting libraries"
      ]
    },
    {
      "cell_type": "code",
      "metadata": {
        "id": "rtq9LUZhEFq9",
        "colab_type": "code",
        "colab": {}
      },
      "source": [
        "import matplotlib.pyplot as plt   \n",
        "# importing seaborn for statistical plots\n",
        "import seaborn as sns\n",
        "# To enable plotting graphs in Jupyter notebook\n",
        "%matplotlib inline "
      ],
      "execution_count": 0,
      "outputs": []
    },
    {
      "cell_type": "markdown",
      "metadata": {
        "id": "bPWRNZCEx4c1",
        "colab_type": "text"
      },
      "source": [
        "##### Importing Tensorflow and Keras libraries"
      ]
    },
    {
      "cell_type": "code",
      "metadata": {
        "id": "0UQ5ndpYx2-z",
        "colab_type": "code",
        "colab": {}
      },
      "source": [
        "import h5py\n",
        "import tensorflow as tf\n",
        "import keras"
      ],
      "execution_count": 0,
      "outputs": []
    },
    {
      "cell_type": "code",
      "metadata": {
        "id": "PSBa0PzgEETm",
        "colab_type": "code",
        "colab": {}
      },
      "source": [
        "import warnings \n",
        "warnings.filterwarnings('ignore')"
      ],
      "execution_count": 0,
      "outputs": []
    },
    {
      "cell_type": "code",
      "metadata": {
        "id": "rfv1mgaYEEO_",
        "colab_type": "code",
        "outputId": "c3d56a14-78c4-4f9a-8b38-71f33bdcdc7c",
        "colab": {
          "base_uri": "https://localhost:8080/",
          "height": 122
        }
      },
      "source": [
        "from google.colab import drive\n",
        "drive.mount('/content/drive')"
      ],
      "execution_count": 0,
      "outputs": [
        {
          "output_type": "stream",
          "text": [
            "Go to this URL in a browser: https://accounts.google.com/o/oauth2/auth?client_id=947318989803-6bn6qk8qdgf4n4g3pfee6491hc0brc4i.apps.googleusercontent.com&redirect_uri=urn%3Aietf%3Awg%3Aoauth%3A2.0%3Aoob&scope=email%20https%3A%2F%2Fwww.googleapis.com%2Fauth%2Fdocs.test%20https%3A%2F%2Fwww.googleapis.com%2Fauth%2Fdrive%20https%3A%2F%2Fwww.googleapis.com%2Fauth%2Fdrive.photos.readonly%20https%3A%2F%2Fwww.googleapis.com%2Fauth%2Fpeopleapi.readonly&response_type=code\n",
            "\n",
            "Enter your authorization code:\n",
            "··········\n",
            "Mounted at /content/drive\n"
          ],
          "name": "stdout"
        }
      ]
    },
    {
      "cell_type": "code",
      "metadata": {
        "id": "QiQARAxbEkgD",
        "colab_type": "code",
        "colab": {}
      },
      "source": [
        "filePath=\"/content/drive/My Drive/Project/R7_CNN_PlantSeedingClassification/Data/plant-seedlings-classification.zip\""
      ],
      "execution_count": 0,
      "outputs": []
    },
    {
      "cell_type": "code",
      "metadata": {
        "id": "5EpZsTkGGBGM",
        "colab_type": "code",
        "colab": {}
      },
      "source": [
        "!unzip -q \"/content/drive/My Drive/Project/R7_CNN_PlantSeedingClassification/Data/plant-seedlings-classification.zip\" -d \"/content/drive/My Drive/Project/R7_CNN_PlantSeedingClassification/Data\""
      ],
      "execution_count": 0,
      "outputs": []
    },
    {
      "cell_type": "code",
      "metadata": {
        "id": "gBNfcnW3Hkfl",
        "colab_type": "code",
        "colab": {}
      },
      "source": [
        "#Unzip Train Data\n",
        "!unzip -q \"/content/drive/My Drive/Project/R7_CNN_PlantSeedingClassification/Data/train.zip\" -d \"/content/drive/My Drive/Project/R7_CNN_PlantSeedingClassification/Data\""
      ],
      "execution_count": 0,
      "outputs": []
    },
    {
      "cell_type": "code",
      "metadata": {
        "id": "pkqaZjIRIMcM",
        "colab_type": "code",
        "colab": {}
      },
      "source": [
        "!unzip -q \"/content/drive/My Drive/Project/R7_CNN_PlantSeedingClassification/Data/test.zip\" -d \"/content/drive/My Drive/Project/R7_CNN_PlantSeedingClassification/Data\""
      ],
      "execution_count": 0,
      "outputs": []
    },
    {
      "cell_type": "markdown",
      "metadata": {
        "id": "QoQcykdHHmnL",
        "colab_type": "text"
      },
      "source": [
        "### 1. Read the images and generate the train and test dataset (10 points)"
      ]
    },
    {
      "cell_type": "markdown",
      "metadata": {
        "id": "Wokrq0u9yIYE",
        "colab_type": "text"
      },
      "source": [
        "##### Reading the images and dividing it into Train and Test datasets:"
      ]
    },
    {
      "cell_type": "code",
      "metadata": {
        "id": "i_lLacAHItwh",
        "colab_type": "code",
        "colab": {}
      },
      "source": [
        "trainDataPath=\"/content/drive/My Drive/Project/R7_CNN_PlantSeedingClassification/Data/train\"\n",
        "testDataPath=\"/content/drive/My Drive/Project/R7_CNN_PlantSeedingClassification/Data/test\""
      ],
      "execution_count": 0,
      "outputs": []
    },
    {
      "cell_type": "code",
      "metadata": {
        "id": "mhM0EXxVJuDS",
        "colab_type": "code",
        "colab": {}
      },
      "source": [
        "import os\n",
        "from glob import glob\n",
        "import cv2"
      ],
      "execution_count": 0,
      "outputs": []
    },
    {
      "cell_type": "code",
      "metadata": {
        "id": "gRqtLv397nZ6",
        "colab_type": "code",
        "colab": {}
      },
      "source": [
        "lblDictionary = {'Loose Silky-bent':0, 'Charlock':1, 'Sugar beet':2, 'Small-flowered Cranesbill':3,\n",
        "             'Common Chickweed':4, 'Common wheat':5, 'Maize':6, 'Cleavers':7, 'Scentless Mayweed':8,\n",
        "             'Fat Hen':9, 'Black-grass':10, 'Shepherds Purse':11}"
      ],
      "execution_count": 0,
      "outputs": []
    },
    {
      "cell_type": "code",
      "metadata": {
        "id": "3WqSVOPzM3bw",
        "colab_type": "code",
        "colab": {}
      },
      "source": [
        "def getLabelClassFromFolderName(path):\n",
        "  lbl_Dict=dict()\n",
        "  i=0\n",
        "  for class_folder_name in os.listdir(path):\n",
        "    lbl_Dict[class_folder_name]=i\n",
        "    i=i+1\n",
        "  \n",
        "  return lbl_Dict\n",
        "    \n",
        "  "
      ],
      "execution_count": 0,
      "outputs": []
    },
    {
      "cell_type": "code",
      "metadata": {
        "id": "iomg-C638BfG",
        "colab_type": "code",
        "colab": {}
      },
      "source": [
        "def getImageDataFromLabelFolder(path,label_Class_Dictionary=None,img_w=128,img_h=128,isTrain_Data=False):\n",
        "  images = []\n",
        "  classes=[]\n",
        "  \n",
        "  if(isTrain_Data):\n",
        "    for class_folder_name in os.listdir(path):\n",
        "        class_folder_path = os.path.join(path, class_folder_name)\n",
        "        class_label = class_folder_name\n",
        "    \n",
        "        for image_path in glob(os.path.join(class_folder_path, \"*.png\")):\n",
        "            temp_img=tf.keras.preprocessing.image.load_img(image_path,target_size=(img_w,img_h))\n",
        "            temp_img = tf.keras.preprocessing.image.img_to_array(temp_img)\n",
        "            images.append(temp_img)\n",
        "            classes.append(label_Class_Dictionary[class_label])\n",
        "        \n",
        "    classes = np.array(classes)\n",
        "  else:\n",
        "    \n",
        "     for image_path in glob(os.path.join(path, \"*.png\")):\n",
        "        test_img=tf.keras.preprocessing.image.load_img(image_path,target_size=(img_w,img_h))\n",
        "        test_img = tf.keras.preprocessing.image.img_to_array(test_img)\n",
        "        images.append(test_img)\n",
        "        \n",
        "      \n",
        "  images = np.array(images)\n",
        "  \n",
        "  if(isTrain_Data):\n",
        "    return images, classes\n",
        "  else:\n",
        "    return images\n",
        "  "
      ],
      "execution_count": 0,
      "outputs": []
    },
    {
      "cell_type": "markdown",
      "metadata": {
        "id": "ZSwqC5lhyY-v",
        "colab_type": "text"
      },
      "source": [
        "##### Creating Labels name  as dictionary format which help for modeling.\n",
        "##### Here Label name will be get it from train data for each sub-folder name"
      ]
    },
    {
      "cell_type": "code",
      "metadata": {
        "id": "B3E855B3Nw5G",
        "colab_type": "code",
        "outputId": "cf7eedba-94ad-4cc0-eb4e-edeb89c7fe5b",
        "colab": {
          "base_uri": "https://localhost:8080/",
          "height": 71
        }
      },
      "source": [
        "lbl_Class=getLabelClassFromFolderName(trainDataPath)\n",
        "print(\"Label Classes : \\n {0}\".format(lbl_Class))"
      ],
      "execution_count": 0,
      "outputs": [
        {
          "output_type": "stream",
          "text": [
            "Label Classes : \n",
            " {'Common Chickweed': 0, 'Maize': 1, 'Charlock': 2, 'Common wheat': 3, 'Scentless Mayweed': 4, 'Loose Silky-bent': 5, 'Fat Hen': 6, 'Small-flowered Cranesbill': 7, 'Cleavers': 8, 'Black-grass': 9, 'Sugar beet': 10, 'Shepherds Purse': 11}\n"
          ],
          "name": "stdout"
        }
      ]
    },
    {
      "cell_type": "code",
      "metadata": {
        "id": "UuIQx7lUIBHB",
        "colab_type": "code",
        "colab": {}
      },
      "source": [
        "X,y=getImageDataFromLabelFolder(trainDataPath,lbl_Class,isTrain_Data=True)"
      ],
      "execution_count": 0,
      "outputs": []
    },
    {
      "cell_type": "code",
      "metadata": {
        "id": "XSTGcg8mIx18",
        "colab_type": "code",
        "outputId": "8f19fb80-2d37-4b77-a4ae-846502c07aa4",
        "colab": {
          "base_uri": "https://localhost:8080/",
          "height": 34
        }
      },
      "source": [
        "X.shape"
      ],
      "execution_count": 0,
      "outputs": [
        {
          "output_type": "execute_result",
          "data": {
            "text/plain": [
              "(4750, 128, 128, 3)"
            ]
          },
          "metadata": {
            "tags": []
          },
          "execution_count": 11
        }
      ]
    },
    {
      "cell_type": "code",
      "metadata": {
        "id": "FAb1v1_zI1z-",
        "colab_type": "code",
        "outputId": "9f9ec6d1-d93a-462a-f6de-e18ddc5bf2a3",
        "colab": {
          "base_uri": "https://localhost:8080/",
          "height": 34
        }
      },
      "source": [
        "y.shape"
      ],
      "execution_count": 0,
      "outputs": [
        {
          "output_type": "execute_result",
          "data": {
            "text/plain": [
              "(4750,)"
            ]
          },
          "metadata": {
            "tags": []
          },
          "execution_count": 12
        }
      ]
    },
    {
      "cell_type": "code",
      "metadata": {
        "id": "skZx35bJKHja",
        "colab_type": "code",
        "colab": {}
      },
      "source": [
        "X_test=getImageDataFromLabelFolder(testDataPath)"
      ],
      "execution_count": 0,
      "outputs": []
    },
    {
      "cell_type": "code",
      "metadata": {
        "id": "JO7xdo_IK5kQ",
        "colab_type": "code",
        "outputId": "e16f0804-1570-41ec-ba86-7543e91053a5",
        "colab": {
          "base_uri": "https://localhost:8080/",
          "height": 34
        }
      },
      "source": [
        "X_test.shape"
      ],
      "execution_count": 0,
      "outputs": [
        {
          "output_type": "execute_result",
          "data": {
            "text/plain": [
              "(794, 128, 128, 3)"
            ]
          },
          "metadata": {
            "tags": []
          },
          "execution_count": 14
        }
      ]
    },
    {
      "cell_type": "markdown",
      "metadata": {
        "id": "5OiIaQZG83Pa",
        "colab_type": "text"
      },
      "source": [
        "### Divide the data set into Train and validation data sets\n",
        "\n",
        "1. training set : 70%\n",
        "2. validation set: 30%"
      ]
    },
    {
      "cell_type": "code",
      "metadata": {
        "id": "CUV0myUd84CX",
        "colab_type": "code",
        "colab": {}
      },
      "source": [
        "from sklearn.model_selection import train_test_split\n",
        "X_train, X_val, y_train, y_val = train_test_split(X, y, test_size=0.3, random_state=50)"
      ],
      "execution_count": 0,
      "outputs": []
    },
    {
      "cell_type": "code",
      "metadata": {
        "id": "VHzVoqvd-kgv",
        "colab_type": "code",
        "outputId": "f5f86988-fdf4-4cb9-c9ad-37c31f577299",
        "colab": {
          "base_uri": "https://localhost:8080/",
          "height": 68
        }
      },
      "source": [
        "print(\"Training Set\",X_train.shape )\n",
        "print(\"Validation Set\",X_val.shape )\n",
        "print(\"Test Set\",X_test.shape )"
      ],
      "execution_count": 0,
      "outputs": [
        {
          "output_type": "stream",
          "text": [
            "Training Set (3325, 128, 128, 3)\n",
            "Validation Set (1425, 128, 128, 3)\n",
            "Test Set (794, 128, 128, 3)\n"
          ],
          "name": "stdout"
        }
      ]
    },
    {
      "cell_type": "markdown",
      "metadata": {
        "id": "5fuJ4Yoq_WmJ",
        "colab_type": "text"
      },
      "source": [
        "### Convert train and validation data labels to one hot vectors"
      ]
    },
    {
      "cell_type": "code",
      "metadata": {
        "id": "6gm4xFi__m11",
        "colab_type": "code",
        "colab": {}
      },
      "source": [
        "num_classes = 12 # No. of unique Label in the dataset (From 1 to 10)\n",
        "# Convert class vectors to binary class matrices\n",
        "y_train = keras.utils.to_categorical(y_train, num_classes)\n",
        "y_val = keras.utils.to_categorical(y_val, num_classes)"
      ],
      "execution_count": 0,
      "outputs": []
    },
    {
      "cell_type": "code",
      "metadata": {
        "id": "QVayq4oUADIg",
        "colab_type": "code",
        "outputId": "7ca4434b-d2db-4efe-9689-9e6a1534dbc4",
        "colab": {
          "base_uri": "https://localhost:8080/",
          "height": 136
        }
      },
      "source": [
        "print(y_train.shape)\n",
        "print('First 5 examples now are: \\n', y_train[0:5])"
      ],
      "execution_count": 0,
      "outputs": [
        {
          "output_type": "stream",
          "text": [
            "(3325, 12)\n",
            "First 5 examples now are: \n",
            " [[0. 0. 0. 1. 0. 0. 0. 0. 0. 0. 0. 0.]\n",
            " [0. 0. 0. 0. 1. 0. 0. 0. 0. 0. 0. 0.]\n",
            " [0. 0. 1. 0. 0. 0. 0. 0. 0. 0. 0. 0.]\n",
            " [0. 0. 0. 0. 0. 0. 0. 0. 0. 1. 0. 0.]\n",
            " [0. 0. 0. 0. 0. 0. 1. 0. 0. 0. 0. 0.]]\n"
          ],
          "name": "stdout"
        }
      ]
    },
    {
      "cell_type": "markdown",
      "metadata": {
        "id": "3Xwjs1mCB4cv",
        "colab_type": "text"
      },
      "source": [
        "### Normalize the Train, Test and Validation image data from 0-255 to 0-1"
      ]
    },
    {
      "cell_type": "code",
      "metadata": {
        "id": "1MUpqa9hB1P0",
        "colab_type": "code",
        "colab": {}
      },
      "source": [
        "X_train = X_train.astype('float32') / 255\n",
        "X_test = X_test.astype('float32') / 255\n",
        "X_val = X_val.astype('float32') / 255"
      ],
      "execution_count": 0,
      "outputs": []
    },
    {
      "cell_type": "markdown",
      "metadata": {
        "id": "rzBo3N71BDu7",
        "colab_type": "text"
      },
      "source": [
        "### Initialize & build the model (20 points)"
      ]
    },
    {
      "cell_type": "markdown",
      "metadata": {
        "id": "C0sW9fZfy78k",
        "colab_type": "text"
      },
      "source": [
        "##### Initializing model, reshaping & normalizing data:"
      ]
    },
    {
      "cell_type": "code",
      "metadata": {
        "id": "FzuDaM0QBKnz",
        "colab_type": "code",
        "colab": {}
      },
      "source": [
        "model1 = tf.keras.models.Sequential()"
      ],
      "execution_count": 0,
      "outputs": []
    },
    {
      "cell_type": "code",
      "metadata": {
        "id": "7zcdovwlBLba",
        "colab_type": "code",
        "colab": {}
      },
      "source": [
        "model1.add(tf.keras.layers.Conv2D(filters=64, kernel_size=3,  activation='relu', input_shape=(128,128,3)))\n",
        "#model1.add(tf.keras.layers.Conv2D(filters=32, kernel_size=3,  activation='relu'))\n",
        "model1.add(tf.keras.layers.MaxPooling2D(pool_size=2))\n",
        "model1.add(tf.keras.layers.Dropout(0.2))"
      ],
      "execution_count": 0,
      "outputs": []
    },
    {
      "cell_type": "code",
      "metadata": {
        "id": "P5bu4y8xDIgU",
        "colab_type": "code",
        "colab": {}
      },
      "source": [
        "#Add Flatten Layer\n",
        "model1.add(tf.keras.layers.Flatten())"
      ],
      "execution_count": 0,
      "outputs": []
    },
    {
      "cell_type": "code",
      "metadata": {
        "id": "P0nWLQYLDLlA",
        "colab_type": "code",
        "colab": {}
      },
      "source": [
        "#Add - Dense Layer - 128 Nurons with Relu\n",
        "model1.add(tf.keras.layers.Dense(64, activation='relu'))\n",
        "#Add - Dense Layer - 128 Nurons with Relu\n",
        "model1.add(tf.keras.layers.Dense(64, activation='relu'))\n",
        "#Add - Dense Layer/output layer - 12 Nurons with Softmax\n",
        "model1.add(tf.keras.layers.Dense(12, activation='softmax'))"
      ],
      "execution_count": 0,
      "outputs": []
    },
    {
      "cell_type": "code",
      "metadata": {
        "id": "s2QaMIEDDTO_",
        "colab_type": "code",
        "colab": {}
      },
      "source": [
        "# compile model\n",
        "model1.compile(optimizer='adam', loss='categorical_crossentropy', metrics=['accuracy'])"
      ],
      "execution_count": 0,
      "outputs": []
    },
    {
      "cell_type": "code",
      "metadata": {
        "id": "gpQOfjSNDUJJ",
        "colab_type": "code",
        "outputId": "4f09ab55-0c32-4e74-a8c0-20e566831126",
        "colab": {
          "base_uri": "https://localhost:8080/",
          "height": 1000
        }
      },
      "source": [
        "# Fit the model1 with 30 epochs and batch size 128 for train and validation data\n",
        "m1_history=model1.fit(X_train, y_train, \n",
        "          validation_data=(X_val, y_val), \n",
        "          epochs=30,\n",
        "          batch_size=128)"
      ],
      "execution_count": 0,
      "outputs": [
        {
          "output_type": "stream",
          "text": [
            "Train on 3325 samples, validate on 1425 samples\n",
            "Epoch 1/30\n",
            "3325/3325 [==============================] - 72s 22ms/sample - loss: 2.9491 - acc: 0.1299 - val_loss: 2.3542 - val_acc: 0.1916\n",
            "Epoch 2/30\n",
            "3325/3325 [==============================] - 69s 21ms/sample - loss: 2.1859 - acc: 0.2785 - val_loss: 2.0483 - val_acc: 0.3354\n",
            "Epoch 3/30\n",
            "3325/3325 [==============================] - 71s 21ms/sample - loss: 1.8727 - acc: 0.3765 - val_loss: 1.7947 - val_acc: 0.3796\n",
            "Epoch 4/30\n",
            "3325/3325 [==============================] - 71s 21ms/sample - loss: 1.6308 - acc: 0.4493 - val_loss: 1.6596 - val_acc: 0.4091\n",
            "Epoch 5/30\n",
            "3325/3325 [==============================] - 71s 21ms/sample - loss: 1.4353 - acc: 0.5002 - val_loss: 1.4804 - val_acc: 0.4821\n",
            "Epoch 6/30\n",
            "3325/3325 [==============================] - 72s 22ms/sample - loss: 1.2275 - acc: 0.5919 - val_loss: 1.3468 - val_acc: 0.5698\n",
            "Epoch 7/30\n",
            "3325/3325 [==============================] - 72s 22ms/sample - loss: 1.0812 - acc: 0.6421 - val_loss: 1.3048 - val_acc: 0.5733\n",
            "Epoch 8/30\n",
            "3325/3325 [==============================] - 72s 22ms/sample - loss: 0.9544 - acc: 0.7014 - val_loss: 1.2144 - val_acc: 0.5902\n",
            "Epoch 9/30\n",
            "3325/3325 [==============================] - 72s 22ms/sample - loss: 0.8761 - acc: 0.7173 - val_loss: 1.2082 - val_acc: 0.5789\n",
            "Epoch 10/30\n",
            "3325/3325 [==============================] - 71s 21ms/sample - loss: 0.8124 - acc: 0.7477 - val_loss: 1.1818 - val_acc: 0.6014\n",
            "Epoch 11/30\n",
            "3325/3325 [==============================] - 71s 21ms/sample - loss: 0.6731 - acc: 0.8120 - val_loss: 1.2456 - val_acc: 0.5775\n",
            "Epoch 12/30\n",
            "3325/3325 [==============================] - 72s 22ms/sample - loss: 0.6106 - acc: 0.8271 - val_loss: 1.0887 - val_acc: 0.6309\n",
            "Epoch 13/30\n",
            "3325/3325 [==============================] - 73s 22ms/sample - loss: 0.4936 - acc: 0.8737 - val_loss: 1.1352 - val_acc: 0.6140\n",
            "Epoch 14/30\n",
            "3325/3325 [==============================] - 73s 22ms/sample - loss: 0.4589 - acc: 0.8806 - val_loss: 1.1316 - val_acc: 0.6189\n",
            "Epoch 15/30\n",
            "3325/3325 [==============================] - 73s 22ms/sample - loss: 0.3799 - acc: 0.9143 - val_loss: 1.1290 - val_acc: 0.6225\n",
            "Epoch 16/30\n",
            "3325/3325 [==============================] - 73s 22ms/sample - loss: 0.3484 - acc: 0.9173 - val_loss: 1.1772 - val_acc: 0.6077\n",
            "Epoch 17/30\n",
            "3325/3325 [==============================] - 73s 22ms/sample - loss: 0.2953 - acc: 0.9347 - val_loss: 1.1359 - val_acc: 0.6386\n",
            "Epoch 18/30\n",
            "3325/3325 [==============================] - 73s 22ms/sample - loss: 0.2536 - acc: 0.9483 - val_loss: 1.1748 - val_acc: 0.6351\n",
            "Epoch 19/30\n",
            "3325/3325 [==============================] - 73s 22ms/sample - loss: 0.2230 - acc: 0.9555 - val_loss: 1.1614 - val_acc: 0.6400\n",
            "Epoch 20/30\n",
            "3325/3325 [==============================] - 72s 22ms/sample - loss: 0.1946 - acc: 0.9618 - val_loss: 1.1939 - val_acc: 0.6323\n",
            "Epoch 21/30\n",
            "3325/3325 [==============================] - 72s 22ms/sample - loss: 0.1666 - acc: 0.9672 - val_loss: 1.2832 - val_acc: 0.6140\n",
            "Epoch 22/30\n",
            "3325/3325 [==============================] - 72s 22ms/sample - loss: 0.1553 - acc: 0.9714 - val_loss: 1.2267 - val_acc: 0.6274\n",
            "Epoch 23/30\n",
            "3325/3325 [==============================] - 72s 22ms/sample - loss: 0.1335 - acc: 0.9771 - val_loss: 1.2887 - val_acc: 0.6147\n",
            "Epoch 24/30\n",
            "3325/3325 [==============================] - 72s 22ms/sample - loss: 0.1170 - acc: 0.9835 - val_loss: 1.3032 - val_acc: 0.6211\n",
            "Epoch 25/30\n",
            "3325/3325 [==============================] - 72s 22ms/sample - loss: 0.0865 - acc: 0.9898 - val_loss: 1.3451 - val_acc: 0.6211\n",
            "Epoch 26/30\n",
            "3325/3325 [==============================] - 72s 22ms/sample - loss: 0.0736 - acc: 0.9937 - val_loss: 1.3907 - val_acc: 0.6154\n",
            "Epoch 27/30\n",
            "3325/3325 [==============================] - 72s 22ms/sample - loss: 0.0734 - acc: 0.9916 - val_loss: 1.3779 - val_acc: 0.6309\n",
            "Epoch 28/30\n",
            "3325/3325 [==============================] - 71s 21ms/sample - loss: 0.0539 - acc: 0.9952 - val_loss: 1.3916 - val_acc: 0.6337\n",
            "Epoch 29/30\n",
            "3325/3325 [==============================] - 71s 21ms/sample - loss: 0.0445 - acc: 0.9964 - val_loss: 1.4494 - val_acc: 0.6182\n",
            "Epoch 30/30\n",
            "3325/3325 [==============================] - 72s 22ms/sample - loss: 0.0388 - acc: 0.9970 - val_loss: 1.5172 - val_acc: 0.6182\n"
          ],
          "name": "stdout"
        }
      ]
    },
    {
      "cell_type": "code",
      "metadata": {
        "id": "6DmpLbKBIo9f",
        "colab_type": "code",
        "outputId": "ca422c71-4471-4083-d207-6bb212a96bc2",
        "colab": {
          "base_uri": "https://localhost:8080/",
          "height": 573
        }
      },
      "source": [
        "# summarize history for accuracy\n",
        "plt.plot(m1_history.history['acc'])\n",
        "plt.plot(m1_history.history['val_acc'])\n",
        "plt.title('Model1 Accuracy')\n",
        "plt.ylabel('accuracy')\n",
        "plt.xlabel('epoch')\n",
        "plt.legend(['Train', 'Validation'], loc='upper left')\n",
        "plt.show()\n",
        "# summarize history for loss\n",
        "plt.plot(m1_history.history['loss'])\n",
        "plt.plot(m1_history.history['val_loss'])\n",
        "plt.title('Model1 Loss')\n",
        "plt.ylabel('loss')\n",
        "plt.xlabel('epoch')\n",
        "plt.legend(['Train', 'Validation'], loc='upper left')\n",
        "plt.show()"
      ],
      "execution_count": 0,
      "outputs": [
        {
          "output_type": "display_data",
          "data": {
            "image/png": "[encoded data removed]",
            "text/plain": [
              "<Figure size 432x288 with 1 Axes>"
            ]
          },
          "metadata": {
            "tags": []
          }
        },
        {
          "output_type": "display_data",
          "data": {
            "image/png": "[encoded data removed]",
            "text/plain": [
              "<Figure size 432x288 with 1 Axes>"
            ]
          },
          "metadata": {
            "tags": []
          }
        }
      ]
    },
    {
      "cell_type": "markdown",
      "metadata": {
        "id": "UrVWbiKDMRvN",
        "colab_type": "text"
      },
      "source": [
        "### Summary Model 1:\n",
        "\n",
        "Model 1 is highly over-fit. This not a good model.Lets try to optimize and will improve model performance"
      ]
    },
    {
      "cell_type": "code",
      "metadata": {
        "id": "Sq9Ob1jgMlH5",
        "colab_type": "code",
        "outputId": "8f41e09a-cec3-4cb8-de88-59910434abe8",
        "colab": {
          "base_uri": "https://localhost:8080/",
          "height": 391
        }
      },
      "source": [
        "model1.summary()"
      ],
      "execution_count": 0,
      "outputs": [
        {
          "output_type": "stream",
          "text": [
            "Model: \"sequential_2\"\n",
            "_________________________________________________________________\n",
            "Layer (type)                 Output Shape              Param #   \n",
            "=================================================================\n",
            "conv2d_1 (Conv2D)            (None, 126, 126, 64)      1792      \n",
            "_________________________________________________________________\n",
            "max_pooling2d_1 (MaxPooling2 (None, 63, 63, 64)        0         \n",
            "_________________________________________________________________\n",
            "dropout_1 (Dropout)          (None, 63, 63, 64)        0         \n",
            "_________________________________________________________________\n",
            "flatten_1 (Flatten)          (None, 254016)            0         \n",
            "_________________________________________________________________\n",
            "dense_3 (Dense)              (None, 64)                16257088  \n",
            "_________________________________________________________________\n",
            "dense_4 (Dense)              (None, 64)                4160      \n",
            "_________________________________________________________________\n",
            "dense_5 (Dense)              (None, 12)                780       \n",
            "=================================================================\n",
            "Total params: 16,263,820\n",
            "Trainable params: 16,263,820\n",
            "Non-trainable params: 0\n",
            "_________________________________________________________________\n"
          ],
          "name": "stdout"
        }
      ]
    },
    {
      "cell_type": "markdown",
      "metadata": {
        "id": "xCY5u4YCFo7E",
        "colab_type": "text"
      },
      "source": [
        "### Optimize the model (16 points)"
      ]
    },
    {
      "cell_type": "markdown",
      "metadata": {
        "id": "IUUnbFJHJ7I3",
        "colab_type": "text"
      },
      "source": [
        "#### 1. Data Augmentation - Optimization technique"
      ]
    },
    {
      "cell_type": "markdown",
      "metadata": {
        "id": "pKx21khwzOlW",
        "colab_type": "text"
      },
      "source": [
        "##### Constructing the training image generator for data augmentation"
      ]
    },
    {
      "cell_type": "code",
      "metadata": {
        "id": "UwYjaMt_F3DZ",
        "colab_type": "code",
        "colab": {}
      },
      "source": [
        "datagen = keras.preprocessing.image.ImageDataGenerator(rotation_range=20, zoom_range=0.15,\n",
        "\twidth_shift_range=0.2, height_shift_range=0.2, shear_range=0.15,\n",
        "\thorizontal_flip=True)"
      ],
      "execution_count": 0,
      "outputs": []
    },
    {
      "cell_type": "code",
      "metadata": {
        "id": "Ph8qaejsQJ43",
        "colab_type": "code",
        "colab": {}
      },
      "source": [
        "datagen.fit(X_train)\n",
        "datagen.fit(X_val)"
      ],
      "execution_count": 0,
      "outputs": []
    },
    {
      "cell_type": "code",
      "metadata": {
        "id": "Vhn8JnZBPokQ",
        "colab_type": "code",
        "colab": {}
      },
      "source": [
        "#Create train and test generator\n",
        "batchsize = 64\n",
        "train_generator = datagen.flow(X_train, y_train, batch_size=batchsize) #batchsize can be changed\n",
        "test_generator = datagen.flow(X_val, y_val, batch_size=batchsize)"
      ],
      "execution_count": 0,
      "outputs": []
    },
    {
      "cell_type": "code",
      "metadata": {
        "id": "hL7e4bJnLJFl",
        "colab_type": "code",
        "colab": {}
      },
      "source": [
        "#Initialize model, reshape & normalize data\n",
        "model2 = tf.keras.models.Sequential()"
      ],
      "execution_count": 0,
      "outputs": []
    },
    {
      "cell_type": "code",
      "metadata": {
        "id": "33oJHol0P6ez",
        "colab_type": "code",
        "colab": {}
      },
      "source": [
        "model2.add(tf.keras.layers.Conv2D(filters=64, kernel_size=3,  activation='relu', input_shape=(128,128,3)))\n",
        "#model1.add(tf.keras.layers.Conv2D(filters=32, kernel_size=3,  activation='relu'))\n",
        "model2.add(tf.keras.layers.MaxPooling2D(pool_size=2))\n",
        "model2.add(tf.keras.layers.Dropout(0.2))"
      ],
      "execution_count": 0,
      "outputs": []
    },
    {
      "cell_type": "code",
      "metadata": {
        "id": "9T-dEM5yRD6f",
        "colab_type": "code",
        "colab": {}
      },
      "source": [
        "#Add Flatten Layer\n",
        "model2.add(tf.keras.layers.Flatten())\n",
        "#Add - Dense Layer - 128 Nurons with Relu\n",
        "model2.add(tf.keras.layers.Dense(64, activation='relu'))\n",
        "#Add - Dense Layer - 128 Nurons with Relu\n",
        "model2.add(tf.keras.layers.Dense(64, activation='relu'))\n",
        "#Add - Dense Layer/output layer - 12 Nurons with Softmax\n",
        "model2.add(tf.keras.layers.Dense(12, activation='softmax'))"
      ],
      "execution_count": 0,
      "outputs": []
    },
    {
      "cell_type": "code",
      "metadata": {
        "id": "z-mad8ZhRawd",
        "colab_type": "code",
        "colab": {}
      },
      "source": [
        "# compile model\n",
        "model2.compile(optimizer='adam', loss='categorical_crossentropy', metrics=['accuracy'])"
      ],
      "execution_count": 0,
      "outputs": []
    },
    {
      "cell_type": "code",
      "metadata": {
        "id": "hMl6tyIqP7GU",
        "colab_type": "code",
        "outputId": "87ad3402-bcab-4ebb-e262-aace1a2f6507",
        "colab": {
          "base_uri": "https://localhost:8080/",
          "height": 1000
        }
      },
      "source": [
        "# Fit the model1 with 30 epochs and batch size 128 for train and validation data\n",
        "m2_history=model2.fit_generator(train_generator, \n",
        "          validation_data=test_generator, \n",
        "          epochs=30)"
      ],
      "execution_count": 0,
      "outputs": [
        {
          "output_type": "stream",
          "text": [
            "Epoch 1/30\n",
            "52/52 [==============================] - 82s 2s/step - loss: 2.7879 - acc: 0.1642 - val_loss: 2.3669 - val_acc: 0.2512\n",
            "Epoch 2/30\n",
            "52/52 [==============================] - 78s 2s/step - loss: 2.2541 - acc: 0.2550 - val_loss: 2.1061 - val_acc: 0.2618\n",
            "Epoch 3/30\n",
            "52/52 [==============================] - 79s 2s/step - loss: 1.9900 - acc: 0.3218 - val_loss: 1.8830 - val_acc: 0.3614\n",
            "Epoch 4/30\n",
            "52/52 [==============================] - 79s 2s/step - loss: 1.8396 - acc: 0.3609 - val_loss: 1.7679 - val_acc: 0.3804\n",
            "Epoch 5/30\n",
            "52/52 [==============================] - 79s 2s/step - loss: 1.7555 - acc: 0.3808 - val_loss: 1.7423 - val_acc: 0.3656\n",
            "Epoch 6/30\n",
            "52/52 [==============================] - 79s 2s/step - loss: 1.7059 - acc: 0.3913 - val_loss: 1.6885 - val_acc: 0.4049\n",
            "Epoch 7/30\n",
            "52/52 [==============================] - 79s 2s/step - loss: 1.6441 - acc: 0.4144 - val_loss: 1.5863 - val_acc: 0.4253\n",
            "Epoch 8/30\n",
            "52/52 [==============================] - 79s 2s/step - loss: 1.5864 - acc: 0.4481 - val_loss: 1.5189 - val_acc: 0.4800\n",
            "Epoch 9/30\n",
            "52/52 [==============================] - 80s 2s/step - loss: 1.5111 - acc: 0.4731 - val_loss: 1.5209 - val_acc: 0.4730\n",
            "Epoch 10/30\n",
            "52/52 [==============================] - 79s 2s/step - loss: 1.4864 - acc: 0.4926 - val_loss: 1.4271 - val_acc: 0.5144\n",
            "Epoch 11/30\n",
            "52/52 [==============================] - 79s 2s/step - loss: 1.4314 - acc: 0.4920 - val_loss: 1.4356 - val_acc: 0.5116\n",
            "Epoch 12/30\n",
            "52/52 [==============================] - 79s 2s/step - loss: 1.4121 - acc: 0.5089 - val_loss: 1.4033 - val_acc: 0.5186\n",
            "Epoch 13/30\n",
            "52/52 [==============================] - 79s 2s/step - loss: 1.4195 - acc: 0.5047 - val_loss: 1.3842 - val_acc: 0.5165\n",
            "Epoch 14/30\n",
            "52/52 [==============================] - 79s 2s/step - loss: 1.3686 - acc: 0.5155 - val_loss: 1.3335 - val_acc: 0.5158\n",
            "Epoch 15/30\n",
            "52/52 [==============================] - 78s 2s/step - loss: 1.3604 - acc: 0.5185 - val_loss: 1.3860 - val_acc: 0.5263\n",
            "Epoch 16/30\n",
            "52/52 [==============================] - 78s 2s/step - loss: 1.2920 - acc: 0.5468 - val_loss: 1.3205 - val_acc: 0.5151\n",
            "Epoch 17/30\n",
            "52/52 [==============================] - 78s 2s/step - loss: 1.3099 - acc: 0.5347 - val_loss: 1.3172 - val_acc: 0.5453\n",
            "Epoch 18/30\n",
            "52/52 [==============================] - 78s 2s/step - loss: 1.2853 - acc: 0.5570 - val_loss: 1.3272 - val_acc: 0.5460\n",
            "Epoch 19/30\n",
            "52/52 [==============================] - 79s 2s/step - loss: 1.3002 - acc: 0.5323 - val_loss: 1.3320 - val_acc: 0.5502\n",
            "Epoch 20/30\n",
            "52/52 [==============================] - 78s 2s/step - loss: 1.2795 - acc: 0.5612 - val_loss: 1.2950 - val_acc: 0.5418\n",
            "Epoch 21/30\n",
            "52/52 [==============================] - 78s 2s/step - loss: 1.2488 - acc: 0.5711 - val_loss: 1.2367 - val_acc: 0.5684\n",
            "Epoch 22/30\n",
            "52/52 [==============================] - 79s 2s/step - loss: 1.2418 - acc: 0.5612 - val_loss: 1.2020 - val_acc: 0.5677\n",
            "Epoch 23/30\n",
            "52/52 [==============================] - 79s 2s/step - loss: 1.2201 - acc: 0.5705 - val_loss: 1.2016 - val_acc: 0.5747\n",
            "Epoch 24/30\n",
            "52/52 [==============================] - 79s 2s/step - loss: 1.1912 - acc: 0.5808 - val_loss: 1.2529 - val_acc: 0.5768\n",
            "Epoch 25/30\n",
            "52/52 [==============================] - 79s 2s/step - loss: 1.2031 - acc: 0.5783 - val_loss: 1.2187 - val_acc: 0.5670\n",
            "Epoch 26/30\n",
            "52/52 [==============================] - 78s 2s/step - loss: 1.1840 - acc: 0.5832 - val_loss: 1.1829 - val_acc: 0.5951\n",
            "Epoch 27/30\n",
            "52/52 [==============================] - 78s 2s/step - loss: 1.1642 - acc: 0.5868 - val_loss: 1.2219 - val_acc: 0.5789\n",
            "Epoch 28/30\n",
            "52/52 [==============================] - 78s 2s/step - loss: 1.1412 - acc: 0.5940 - val_loss: 1.1598 - val_acc: 0.5832\n",
            "Epoch 29/30\n",
            "52/52 [==============================] - 79s 2s/step - loss: 1.1552 - acc: 0.5913 - val_loss: 1.1317 - val_acc: 0.5986\n",
            "Epoch 30/30\n",
            "52/52 [==============================] - 78s 2s/step - loss: 1.1330 - acc: 0.5961 - val_loss: 1.1793 - val_acc: 0.5747\n"
          ],
          "name": "stdout"
        }
      ]
    },
    {
      "cell_type": "code",
      "metadata": {
        "id": "gpd2q1G9S2eG",
        "colab_type": "code",
        "outputId": "75512446-e9ed-4925-be1b-66a8abf8f9f4",
        "colab": {
          "base_uri": "https://localhost:8080/",
          "height": 573
        }
      },
      "source": [
        "# summarize history for accuracy\n",
        "plt.plot(m2_history.history['acc'])\n",
        "plt.plot(m2_history.history['val_acc'])\n",
        "plt.title('Model2 Accuracy')\n",
        "plt.ylabel('accuracy')\n",
        "plt.xlabel('epoch')\n",
        "plt.legend(['Train', 'Validation'], loc='upper left')\n",
        "plt.show()\n",
        "# summarize history for loss\n",
        "plt.plot(m2_history.history['loss'])\n",
        "plt.plot(m2_history.history['val_loss'])\n",
        "plt.title('Model2 Loss')\n",
        "plt.ylabel('loss')\n",
        "plt.xlabel('epoch')\n",
        "plt.legend(['Train', 'Validation'], loc='upper left')\n",
        "plt.show()"
      ],
      "execution_count": 0,
      "outputs": [
        {
          "output_type": "display_data",
          "data": {
            "image/png": "[encoded data removed]",
            "text/plain": [
              "<Figure size 432x288 with 1 Axes>"
            ]
          },
          "metadata": {
            "tags": []
          }
        },
        {
          "output_type": "display_data",
          "data": {
            "image/png": "[encoded data removed]",
            "text/plain": [
              "<Figure size 432x288 with 1 Axes>"
            ]
          },
          "metadata": {
            "tags": []
          }
        }
      ]
    },
    {
      "cell_type": "markdown",
      "metadata": {
        "id": "OCYVqMgZFreA",
        "colab_type": "text"
      },
      "source": [
        "##### Predicting the accuracy for both train and validation data (14 points)"
      ]
    },
    {
      "cell_type": "code",
      "metadata": {
        "id": "0mw4eMWrF1oz",
        "colab_type": "code",
        "outputId": "3a820cf3-f4f3-4793-80f2-dd004a58697e",
        "colab": {
          "base_uri": "https://localhost:8080/",
          "height": 34
        }
      },
      "source": [
        "model_Train_result=model2.evaluate(X_train,y_train,verbose=1)\n"
      ],
      "execution_count": 0,
      "outputs": [
        {
          "output_type": "stream",
          "text": [
            "3325/3325 [==============================] - 15s 5ms/sample - loss: 0.9904 - acc: 0.6454\n"
          ],
          "name": "stdout"
        }
      ]
    },
    {
      "cell_type": "code",
      "metadata": {
        "id": "aIewfr_obLi4",
        "colab_type": "code",
        "outputId": "113101e6-7c08-4cd8-994b-fca7707c04ac",
        "colab": {
          "base_uri": "https://localhost:8080/",
          "height": 34
        }
      },
      "source": [
        "model_val_result=model2.evaluate(X_val,y_val,verbose=1)"
      ],
      "execution_count": 0,
      "outputs": [
        {
          "output_type": "stream",
          "text": [
            "1425/1425 [==============================] - 7s 5ms/sample - loss: 0.9812 - acc: 0.6498\n"
          ],
          "name": "stdout"
        }
      ]
    },
    {
      "cell_type": "code",
      "metadata": {
        "id": "2qQUEACVTz4k",
        "colab_type": "code",
        "colab": {}
      },
      "source": [
        "model_Result=pd.DataFrame(index=[\"Data Type\",\"Accuracy\",\"Loss\"])\n",
        "model_Result[\"TrainData\"]=[\"Train Data\",(\"%0.2f\" % ((model_Train_result[1]*100))),(\"%0.2f\" % ((model_Train_result[0])))]\n",
        "model_Result[\"ValData\"]=[\"Validation Data\",(\"%0.2f\" % ((model_val_result[1]*100))),(\"%0.2f\" % ((model_val_result[0])))]\n"
      ],
      "execution_count": 0,
      "outputs": []
    },
    {
      "cell_type": "code",
      "metadata": {
        "id": "sBcqgEhPUUkB",
        "colab_type": "code",
        "outputId": "5abbfb5c-3fb6-464e-f4f6-b6bf430cd0b5",
        "colab": {
          "base_uri": "https://localhost:8080/",
          "height": 142
        }
      },
      "source": [
        "model_Result"
      ],
      "execution_count": 0,
      "outputs": [
        {
          "output_type": "execute_result",
          "data": {
            "text/html": [
              "<div>\n",
              "<style scoped>\n",
              "    .dataframe tbody tr th:only-of-type {\n",
              "        vertical-align: middle;\n",
              "    }\n",
              "\n",
              "    .dataframe tbody tr th {\n",
              "        vertical-align: top;\n",
              "    }\n",
              "\n",
              "    .dataframe thead th {\n",
              "        text-align: right;\n",
              "    }\n",
              "</style>\n",
              "<table border=\"1\" class=\"dataframe\">\n",
              "  <thead>\n",
              "    <tr style=\"text-align: right;\">\n",
              "      <th></th>\n",
              "      <th>TrainData</th>\n",
              "      <th>ValData</th>\n",
              "    </tr>\n",
              "  </thead>\n",
              "  <tbody>\n",
              "    <tr>\n",
              "      <th>Data Type</th>\n",
              "      <td>Train Data</td>\n",
              "      <td>Validation Data</td>\n",
              "    </tr>\n",
              "    <tr>\n",
              "      <th>Accuracy</th>\n",
              "      <td>64.54</td>\n",
              "      <td>64.98</td>\n",
              "    </tr>\n",
              "    <tr>\n",
              "      <th>Loss</th>\n",
              "      <td>0.99</td>\n",
              "      <td>0.98</td>\n",
              "    </tr>\n",
              "  </tbody>\n",
              "</table>\n",
              "</div>"
            ],
            "text/plain": [
              "            TrainData          ValData\n",
              "Data Type  Train Data  Validation Data\n",
              "Accuracy        64.54            64.98\n",
              "Loss             0.99             0.98"
            ]
          },
          "metadata": {
            "tags": []
          },
          "execution_count": 55
        }
      ]
    }
  ]
}