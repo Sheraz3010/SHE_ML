{
  "nbformat": 4,
  "nbformat_minor": 0,
  "metadata": {
    "colab": {
      "name": "Lab_R7_External.ipynb",
      "version": "0.3.2",
      "provenance": [],
      "collapsed_sections": []
    },
    "kernelspec": {
      "name": "python3",
      "display_name": "Python 3"
    },
    "accelerator": "GPU"
  },
  "cells": [
    {
      "cell_type": "markdown",
      "metadata": {
        "id": "4WH1Pr4KQlCh",
        "colab_type": "text"
      },
      "source": [
        "### Build a DNN using Keras with `RELU` and `ADAM`"
      ]
    },
    {
      "cell_type": "markdown",
      "metadata": {
        "id": "TbvI8LqlQlCl",
        "colab_type": "text"
      },
      "source": [
        "#### Load tensorflow"
      ]
    },
    {
      "cell_type": "markdown",
      "metadata": {
        "id": "h6ZyWtaToLHf",
        "colab_type": "text"
      },
      "source": [
        "###Loading tensorflow library."
      ]
    },
    {
      "cell_type": "code",
      "metadata": {
        "id": "SPW-a-qYQlCp",
        "colab_type": "code",
        "colab": {}
      },
      "source": [
        "import tensorflow as tf"
      ],
      "execution_count": 0,
      "outputs": []
    },
    {
      "cell_type": "markdown",
      "metadata": {
        "id": "74cQBsi5QlCw",
        "colab_type": "text"
      },
      "source": [
        "#### Collect Fashion mnist data from tf.keras.datasets "
      ]
    },
    {
      "cell_type": "markdown",
      "metadata": {
        "id": "iddh5G0OohTO",
        "colab_type": "text"
      },
      "source": [
        "###Collecting Fashion mnist data and dividing it into train and test."
      ]
    },
    {
      "cell_type": "code",
      "metadata": {
        "id": "wVWy0oDTr2Kj",
        "colab_type": "code",
        "outputId": "75a0af26-4d05-4e2b-c293-7beca9b84200",
        "colab": {
          "base_uri": "https://localhost:8080/",
          "height": 170
        }
      },
      "source": [
        "from keras.datasets import fashion_mnist\n",
        "(x_train, y_train), (x_test, y_test) = fashion_mnist.load_data()"
      ],
      "execution_count": 2,
      "outputs": [
        {
          "output_type": "stream",
          "text": [
            "Using TensorFlow backend.\n"
          ],
          "name": "stderr"
        },
        {
          "output_type": "stream",
          "text": [
            "Downloading data from http://fashion-mnist.s3-website.eu-central-1.amazonaws.com/train-labels-idx1-ubyte.gz\n",
            "32768/29515 [=================================] - 0s 9us/step\n",
            "Downloading data from http://fashion-mnist.s3-website.eu-central-1.amazonaws.com/train-images-idx3-ubyte.gz\n",
            "26427392/26421880 [==============================] - 4s 0us/step\n",
            "Downloading data from http://fashion-mnist.s3-website.eu-central-1.amazonaws.com/t10k-labels-idx1-ubyte.gz\n",
            "8192/5148 [===============================================] - 0s 0us/step\n",
            "Downloading data from http://fashion-mnist.s3-website.eu-central-1.amazonaws.com/t10k-images-idx3-ubyte.gz\n",
            "4423680/4422102 [==============================] - 2s 1us/step\n"
          ],
          "name": "stdout"
        }
      ]
    },
    {
      "cell_type": "markdown",
      "metadata": {
        "id": "no7aWYZyQlC1",
        "colab_type": "text"
      },
      "source": [
        "#### Change train and test labels into one-hot vectors"
      ]
    },
    {
      "cell_type": "markdown",
      "metadata": {
        "id": "nJWmVx56otdF",
        "colab_type": "text"
      },
      "source": [
        "###Applying one hot encoding."
      ]
    },
    {
      "cell_type": "code",
      "metadata": {
        "id": "UX6otc4wQlC2",
        "colab_type": "code",
        "colab": {}
      },
      "source": [
        "import tensorflow as tf\n",
        "y_train = tf.keras.utils.to_categorical(y_train, num_classes=10)\n",
        "y_test = tf.keras.utils.to_categorical(y_test, num_classes=10)\n"
      ],
      "execution_count": 0,
      "outputs": []
    },
    {
      "cell_type": "markdown",
      "metadata": {
        "id": "QjNrRTdoQlC5",
        "colab_type": "text"
      },
      "source": [
        "#### Build the Graph"
      ]
    },
    {
      "cell_type": "markdown",
      "metadata": {
        "id": "CDJ9DHVNQlC7",
        "colab_type": "text"
      },
      "source": [
        "#### Initialize model, reshape & normalize data"
      ]
    },
    {
      "cell_type": "markdown",
      "metadata": {
        "id": "G9DdGnYJo9Ar",
        "colab_type": "text"
      },
      "source": [
        "###Reshaping the train and test data."
      ]
    },
    {
      "cell_type": "code",
      "metadata": {
        "id": "pCDQs_g1QlC8",
        "colab_type": "code",
        "colab": {}
      },
      "source": [
        "norm_x_train = x_train.astype('float32') / 255\n",
        "norm_x_test = x_test.astype('float32') / 255"
      ],
      "execution_count": 0,
      "outputs": []
    },
    {
      "cell_type": "markdown",
      "metadata": {
        "id": "4YX68w4EpITu",
        "colab_type": "text"
      },
      "source": [
        "###Normalizing the train and test data."
      ]
    },
    {
      "cell_type": "code",
      "metadata": {
        "id": "iNY_CDXM7HWe",
        "colab_type": "code",
        "colab": {}
      },
      "source": [
        "trainX = norm_x_train.reshape((norm_x_train.shape[0], 28, 28, 1))\n",
        "testX = norm_x_test.reshape((norm_x_test.shape[0], 28, 28, 1))"
      ],
      "execution_count": 0,
      "outputs": []
    },
    {
      "cell_type": "markdown",
      "metadata": {
        "id": "kBGwTTilQlDD",
        "colab_type": "text"
      },
      "source": [
        "#### Add two fully connected layers with 200 and 100 neurons respectively with `relu` activations. Add a dropout layer with `p=0.25`"
      ]
    },
    {
      "cell_type": "markdown",
      "metadata": {
        "id": "89V_7ltGpT5d",
        "colab_type": "text"
      },
      "source": [
        "###Adding two fully connected layers with 200 and 100 neurons with relu activation function."
      ]
    },
    {
      "cell_type": "code",
      "metadata": {
        "id": "IXbfpfOzQlDF",
        "colab_type": "code",
        "outputId": "bd93f02e-9ed4-4b71-d162-22929ccaa601",
        "colab": {
          "base_uri": "https://localhost:8080/",
          "height": 105
        }
      },
      "source": [
        "from keras.models import Sequential\n",
        "from keras.layers import Dense\n",
        "\n",
        "# create model\n",
        "mymodel = tf.keras.models.Sequential()\n",
        "mymodel.add(tf.keras.layers.Conv2D(filters=64, kernel_size=2,  activation='relu', input_shape=(28,28,1)))\n",
        "mymodel.add(tf.keras.layers.MaxPooling2D(pool_size=2))\n",
        "mymodel.add(tf.keras.layers.Dropout(0.25))\n",
        "\n",
        "mymodel.add(tf.keras.layers.Flatten())\n",
        "mymodel.add(tf.keras.layers.Dense(200, activation='relu'))\n",
        "mymodel.add(tf.keras.layers.Dense(100, activation='relu'))\n"
      ],
      "execution_count": 6,
      "outputs": [
        {
          "output_type": "stream",
          "text": [
            "WARNING: Logging before flag parsing goes to stderr.\n",
            "W0825 16:32:53.913863 140145628444544 deprecation.py:506] From /usr/local/lib/python3.6/dist-packages/tensorflow/python/ops/init_ops.py:1251: calling VarianceScaling.__init__ (from tensorflow.python.ops.init_ops) with dtype is deprecated and will be removed in a future version.\n",
            "Instructions for updating:\n",
            "Call initializer instance with the dtype argument instead of passing it to the constructor\n"
          ],
          "name": "stderr"
        }
      ]
    },
    {
      "cell_type": "markdown",
      "metadata": {
        "id": "5I8f5otcQlDJ",
        "colab_type": "text"
      },
      "source": [
        "### Add the output layer with a fully connected layer with 10 neurons with `softmax` activation. Use `categorical_crossentropy` loss and `adam` optimizer and train the network. And, report the final validation."
      ]
    },
    {
      "cell_type": "markdown",
      "metadata": {
        "id": "WkUedPcfpzLf",
        "colab_type": "text"
      },
      "source": [
        "####Adding the output layer with a fully connected layer with 10 neurons with `softmax` activation function:"
      ]
    },
    {
      "cell_type": "code",
      "metadata": {
        "id": "JZkvKymSd0Sr",
        "colab_type": "code",
        "colab": {}
      },
      "source": [
        "mymodel.add(tf.keras.layers.Dense(10, activation='softmax'))\n",
        "mymodel.compile(loss='categorical_crossentropy', optimizer='adam', metrics=['accuracy'])\n"
      ],
      "execution_count": 0,
      "outputs": []
    },
    {
      "cell_type": "code",
      "metadata": {
        "id": "HmySkEGnAqpr",
        "colab_type": "code",
        "outputId": "fe9bb124-faf5-451d-aacd-5320661a0fe8",
        "colab": {
          "base_uri": "https://localhost:8080/",
          "height": 391
        }
      },
      "source": [
        "mymodel.fit(trainX, y_train, \n",
        "          validation_data=(testX, y_test), \n",
        "          epochs=10,\n",
        "          batch_size=32)"
      ],
      "execution_count": 8,
      "outputs": [
        {
          "output_type": "stream",
          "text": [
            "Train on 60000 samples, validate on 10000 samples\n",
            "Epoch 1/10\n",
            "60000/60000 [==============================] - 12s 192us/sample - loss: 0.4075 - acc: 0.8535 - val_loss: 0.3117 - val_acc: 0.8873\n",
            "Epoch 2/10\n",
            "60000/60000 [==============================] - 8s 132us/sample - loss: 0.2803 - acc: 0.8971 - val_loss: 0.2867 - val_acc: 0.8911\n",
            "Epoch 3/10\n",
            "60000/60000 [==============================] - 8s 131us/sample - loss: 0.2377 - acc: 0.9112 - val_loss: 0.2685 - val_acc: 0.9018\n",
            "Epoch 4/10\n",
            "60000/60000 [==============================] - 8s 131us/sample - loss: 0.2050 - acc: 0.9231 - val_loss: 0.2639 - val_acc: 0.9080\n",
            "Epoch 5/10\n",
            "60000/60000 [==============================] - 8s 131us/sample - loss: 0.1833 - acc: 0.9317 - val_loss: 0.2526 - val_acc: 0.9121\n",
            "Epoch 6/10\n",
            "60000/60000 [==============================] - 8s 131us/sample - loss: 0.1613 - acc: 0.9394 - val_loss: 0.2663 - val_acc: 0.9119\n",
            "Epoch 7/10\n",
            "60000/60000 [==============================] - 8s 131us/sample - loss: 0.1435 - acc: 0.9450 - val_loss: 0.2706 - val_acc: 0.9135\n",
            "Epoch 8/10\n",
            "60000/60000 [==============================] - 8s 131us/sample - loss: 0.1267 - acc: 0.9526 - val_loss: 0.2786 - val_acc: 0.9141\n",
            "Epoch 9/10\n",
            "60000/60000 [==============================] - 8s 130us/sample - loss: 0.1139 - acc: 0.9578 - val_loss: 0.2883 - val_acc: 0.9091\n",
            "Epoch 10/10\n",
            "60000/60000 [==============================] - 8s 130us/sample - loss: 0.0976 - acc: 0.9633 - val_loss: 0.3095 - val_acc: 0.9098\n"
          ],
          "name": "stdout"
        },
        {
          "output_type": "execute_result",
          "data": {
            "text/plain": [
              "<tensorflow.python.keras.callbacks.History at 0x7f75e7d6e5c0>"
            ]
          },
          "metadata": {
            "tags": []
          },
          "execution_count": 8
        }
      ]
    },
    {
      "cell_type": "markdown",
      "metadata": {
        "id": "ZzSWqJaGqErI",
        "colab_type": "text"
      },
      "source": [
        "####My model is provided 91% accuracy for train data."
      ]
    },
    {
      "cell_type": "code",
      "metadata": {
        "id": "ws9kqRUkCQnj",
        "colab_type": "code",
        "outputId": "b7fe56f3-97ac-4c81-974e-9ee4bda67784",
        "colab": {
          "base_uri": "https://localhost:8080/",
          "height": 34
        }
      },
      "source": [
        "mymodel_result=mymodel.evaluate(testX,y_test,verbose=1)"
      ],
      "execution_count": 9,
      "outputs": [
        {
          "output_type": "stream",
          "text": [
            "10000/10000 [==============================] - 1s 63us/sample - loss: 0.3095 - acc: 0.9098\n"
          ],
          "name": "stdout"
        }
      ]
    },
    {
      "cell_type": "markdown",
      "metadata": {
        "id": "G5Yq5D09quKz",
        "colab_type": "text"
      },
      "source": [
        "####My model is provided 91% accuracy with test data. Both train and test data accuracy is matching."
      ]
    },
    {
      "cell_type": "code",
      "metadata": {
        "id": "lvj0iKdlHy17",
        "colab_type": "code",
        "colab": {}
      },
      "source": [
        ""
      ],
      "execution_count": 0,
      "outputs": []
    }
  ]
}